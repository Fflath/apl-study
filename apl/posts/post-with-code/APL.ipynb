{
 "cells": [
  {
   "cell_type": "raw",
   "id": "43cf0ef8",
   "metadata": {},
   "source": [
    "---\n",
    "title: \"APL\"\n",
    "author: \"Fastai APL Study Group\"\n",
    "date: \"2022-07-05\"\n",
    "categories: [Dyalog, APL, Glyphs]\n",
    "image: \"image.jpg\"\n",
    "---"
   ]
  },
  {
   "cell_type": "markdown",
   "id": "90f48eea",
   "metadata": {},
   "source": [
    "## Numbers"
   ]
  },
  {
   "cell_type": "markdown",
   "id": "853229ce",
   "metadata": {},
   "source": [
    "### Real"
   ]
  },
  {
   "cell_type": "code",
   "execution_count": 12,
   "id": "39913487",
   "metadata": {},
   "outputs": [
    {
     "data": {
      "text/html": [
       "<span style=\"white-space:pre; font-family: monospace\">1\n",
       "</span>"
      ]
     },
     "execution_count": 12,
     "metadata": {},
     "output_type": "execute_result"
    }
   ],
   "source": [
    "1"
   ]
  },
  {
   "cell_type": "code",
   "execution_count": 13,
   "id": "8981783e",
   "metadata": {},
   "outputs": [
    {
     "data": {
      "text/html": [
       "<span style=\"white-space:pre; font-family: monospace\">¯1\n",
       "</span>"
      ]
     },
     "execution_count": 13,
     "metadata": {},
     "output_type": "execute_result"
    }
   ],
   "source": [
    "¯1"
   ]
  },
  {
   "cell_type": "code",
   "execution_count": 35,
   "id": "243fe69d",
   "metadata": {},
   "outputs": [
    {
     "data": {
      "text/html": [
       "<span style=\"white-space:pre; font-family: monospace\">1.5\n",
       "</span>"
      ]
     },
     "execution_count": 35,
     "metadata": {},
     "output_type": "execute_result"
    }
   ],
   "source": [
    "1.5"
   ]
  },
  {
   "cell_type": "markdown",
   "id": "53f2150f",
   "metadata": {},
   "source": [
    "### Complex"
   ]
  },
  {
   "cell_type": "code",
   "execution_count": 26,
   "id": "93e15ddc",
   "metadata": {},
   "outputs": [
    {
     "data": {
      "text/html": [
       "<span style=\"white-space:pre; font-family: monospace\">0J4\n",
       "</span>"
      ]
     },
     "execution_count": 26,
     "metadata": {},
     "output_type": "execute_result"
    }
   ],
   "source": [
    "0j4"
   ]
  },
  {
   "cell_type": "code",
   "execution_count": 27,
   "id": "bc2be51d",
   "metadata": {},
   "outputs": [
    {
     "data": {
      "text/html": [
       "<span style=\"white-space:pre; font-family: monospace\">¯5J¯6\n",
       "</span>"
      ]
     },
     "execution_count": 27,
     "metadata": {},
     "output_type": "execute_result"
    }
   ],
   "source": [
    "¯5j¯6"
   ]
  },
  {
   "cell_type": "markdown",
   "id": "c453d9f0",
   "metadata": {},
   "source": [
    "## Rank-1 arrays"
   ]
  },
  {
   "cell_type": "code",
   "execution_count": 4,
   "id": "0ff63a92",
   "metadata": {},
   "outputs": [
    {
     "data": {
      "text/html": [
       "<span style=\"white-space:pre; font-family: monospace\">2 3 1\n",
       "</span>"
      ]
     },
     "execution_count": 4,
     "metadata": {},
     "output_type": "execute_result"
    }
   ],
   "source": [
    "2 3 1"
   ]
  },
  {
   "cell_type": "code",
   "execution_count": 5,
   "id": "22d550cf",
   "metadata": {},
   "outputs": [
    {
     "data": {
      "text/html": [
       "<span style=\"white-space:pre; font-family: monospace\">2 ¯3 1\n",
       "</span>"
      ]
     },
     "execution_count": 5,
     "metadata": {},
     "output_type": "execute_result"
    }
   ],
   "source": [
    "2 ¯3 1"
   ]
  },
  {
   "cell_type": "code",
   "execution_count": 28,
   "id": "65ad3d13",
   "metadata": {},
   "outputs": [
    {
     "data": {
      "text/html": [
       "<span style=\"white-space:pre; font-family: monospace\">0J4 ¯5J¯6\n",
       "</span>"
      ]
     },
     "execution_count": 28,
     "metadata": {},
     "output_type": "execute_result"
    }
   ],
   "source": [
    "0j4 ¯5j¯6"
   ]
  },
  {
   "cell_type": "markdown",
   "id": "9e38b917",
   "metadata": {},
   "source": [
    "## `-` (Minus sign; Bar)"
   ]
  },
  {
   "cell_type": "markdown",
   "id": "c0f50569",
   "metadata": {},
   "source": [
    "### Monadic `-` (Negate)"
   ]
  },
  {
   "cell_type": "code",
   "execution_count": 10,
   "id": "0b5b5779",
   "metadata": {},
   "outputs": [
    {
     "data": {
      "text/html": [
       "<span style=\"white-space:pre; font-family: monospace\">¯4\n",
       "</span>"
      ]
     },
     "execution_count": 10,
     "metadata": {},
     "output_type": "execute_result"
    }
   ],
   "source": [
    "- 4"
   ]
  },
  {
   "cell_type": "code",
   "execution_count": 11,
   "id": "1cd8f993",
   "metadata": {},
   "outputs": [
    {
     "data": {
      "text/html": [
       "<span style=\"white-space:pre; font-family: monospace\">4\n",
       "</span>"
      ]
     },
     "execution_count": 11,
     "metadata": {},
     "output_type": "execute_result"
    }
   ],
   "source": [
    "- ¯4"
   ]
  },
  {
   "cell_type": "code",
   "execution_count": 8,
   "id": "9f1dab97",
   "metadata": {},
   "outputs": [
    {
     "data": {
      "text/html": [
       "<span style=\"white-space:pre; font-family: monospace\">¯4 ¯2 0 3 5\n",
       "</span>"
      ]
     },
     "execution_count": 8,
     "metadata": {},
     "output_type": "execute_result"
    }
   ],
   "source": [
    "- 4 2 0 ¯3 ¯5"
   ]
  },
  {
   "cell_type": "code",
   "execution_count": 9,
   "id": "5ef33f8c",
   "metadata": {},
   "outputs": [
    {
     "data": {
      "text/html": [
       "<span style=\"white-space:pre; font-family: monospace\">¯4 2 0 ¯3 ¯5\n",
       "</span>"
      ]
     },
     "execution_count": 9,
     "metadata": {},
     "output_type": "execute_result"
    }
   ],
   "source": [
    "¯4 2 0 ¯3 ¯5"
   ]
  },
  {
   "cell_type": "markdown",
   "id": "e98a12b7",
   "metadata": {},
   "source": [
    "### Dyadic `-` (Minus; subtract)"
   ]
  },
  {
   "cell_type": "code",
   "execution_count": 15,
   "id": "4368d52a",
   "metadata": {},
   "outputs": [
    {
     "data": {
      "text/html": [
       "<span style=\"white-space:pre; font-family: monospace\">1\n",
       "</span>"
      ]
     },
     "execution_count": 15,
     "metadata": {},
     "output_type": "execute_result"
    }
   ],
   "source": [
    "3-2"
   ]
  },
  {
   "cell_type": "code",
   "execution_count": 16,
   "id": "cebdbfa3",
   "metadata": {},
   "outputs": [
    {
     "data": {
      "text/html": [
       "<span style=\"white-space:pre; font-family: monospace\">¯1 ¯3 0\n",
       "</span>"
      ]
     },
     "execution_count": 16,
     "metadata": {},
     "output_type": "execute_result"
    }
   ],
   "source": [
    "3 2 1 - 4 5 1"
   ]
  },
  {
   "cell_type": "code",
   "execution_count": 17,
   "id": "e34464bc",
   "metadata": {},
   "outputs": [
    {
     "data": {
      "text/html": [
       "<span style=\"white-space:pre; font-family: monospace\">2 1 0\n",
       "</span>"
      ]
     },
     "execution_count": 17,
     "metadata": {},
     "output_type": "execute_result"
    }
   ],
   "source": [
    "3 2 1 - 1"
   ]
  },
  {
   "cell_type": "code",
   "execution_count": 18,
   "id": "e1eb8e2c",
   "metadata": {},
   "outputs": [
    {
     "data": {
      "text/html": [
       "<span style=\"white-space:pre; font-family: monospace\">¯2 ¯1 0\n",
       "</span>"
      ]
     },
     "execution_count": 18,
     "metadata": {},
     "output_type": "execute_result"
    }
   ],
   "source": [
    "1 - 3 2 1"
   ]
  },
  {
   "cell_type": "markdown",
   "id": "bbc0d769",
   "metadata": {},
   "source": [
    "## `+` (Plus sign)"
   ]
  },
  {
   "cell_type": "markdown",
   "id": "b436ecba",
   "metadata": {},
   "source": [
    "### Monadic `+` (Conjugate)"
   ]
  },
  {
   "cell_type": "code",
   "execution_count": 24,
   "id": "d2070eee",
   "metadata": {},
   "outputs": [
    {
     "data": {
      "text/html": [
       "<span style=\"white-space:pre; font-family: monospace\">1.2\n",
       "</span>"
      ]
     },
     "execution_count": 24,
     "metadata": {},
     "output_type": "execute_result"
    }
   ],
   "source": [
    "+ 1.2"
   ]
  },
  {
   "cell_type": "code",
   "execution_count": 25,
   "id": "2fac9bf6",
   "metadata": {},
   "outputs": [
    {
     "data": {
      "text/html": [
       "<span style=\"white-space:pre; font-family: monospace\">¯5J6\n",
       "</span>"
      ]
     },
     "execution_count": 25,
     "metadata": {},
     "output_type": "execute_result"
    }
   ],
   "source": [
    "+ ¯5j¯6"
   ]
  },
  {
   "cell_type": "code",
   "execution_count": 23,
   "id": "35f8a381",
   "metadata": {},
   "outputs": [
    {
     "data": {
      "text/html": [
       "<span style=\"white-space:pre; font-family: monospace\">1.2 0J¯4 ¯5J6\n",
       "</span>"
      ]
     },
     "execution_count": 23,
     "metadata": {},
     "output_type": "execute_result"
    }
   ],
   "source": [
    "+ 1.2 0j4 ¯5j¯6"
   ]
  },
  {
   "cell_type": "markdown",
   "id": "f8ba7fab",
   "metadata": {},
   "source": [
    "## `+` (Plus sign)"
   ]
  },
  {
   "cell_type": "markdown",
   "id": "2b0ffa9b",
   "metadata": {},
   "source": [
    "### Monadic `+` (Conjugate)"
   ]
  },
  {
   "cell_type": "code",
   "execution_count": 34,
   "id": "8ae07e1f",
   "metadata": {},
   "outputs": [
    {
     "data": {
      "text/html": [
       "<span style=\"white-space:pre; font-family: monospace\">1.2 0J¯4 ¯5J6\n",
       "</span>"
      ]
     },
     "execution_count": 34,
     "metadata": {},
     "output_type": "execute_result"
    }
   ],
   "source": [
    "+ 1.2 0j4 ¯5j¯6"
   ]
  },
  {
   "cell_type": "markdown",
   "id": "8b5267d6",
   "metadata": {},
   "source": [
    "### Dyadic `+` (Plus)"
   ]
  },
  {
   "cell_type": "code",
   "execution_count": 19,
   "id": "5ca270d2",
   "metadata": {},
   "outputs": [
    {
     "data": {
      "text/html": [
       "<span style=\"white-space:pre; font-family: monospace\">5\n",
       "</span>"
      ]
     },
     "execution_count": 19,
     "metadata": {},
     "output_type": "execute_result"
    }
   ],
   "source": [
    "3+2"
   ]
  },
  {
   "cell_type": "code",
   "execution_count": 20,
   "id": "8ef69a3e",
   "metadata": {},
   "outputs": [
    {
     "data": {
      "text/html": [
       "<span style=\"white-space:pre; font-family: monospace\">7 7 2\n",
       "</span>"
      ]
     },
     "execution_count": 20,
     "metadata": {},
     "output_type": "execute_result"
    }
   ],
   "source": [
    "3 2 1 + 4 5 1"
   ]
  },
  {
   "cell_type": "code",
   "execution_count": 21,
   "id": "a9f35af3",
   "metadata": {},
   "outputs": [
    {
     "data": {
      "text/html": [
       "<span style=\"white-space:pre; font-family: monospace\">4 3 2\n",
       "</span>"
      ]
     },
     "execution_count": 21,
     "metadata": {},
     "output_type": "execute_result"
    }
   ],
   "source": [
    "3 2 1 + 1"
   ]
  },
  {
   "cell_type": "code",
   "execution_count": 22,
   "id": "2114d041",
   "metadata": {},
   "outputs": [
    {
     "data": {
      "text/html": [
       "<span style=\"white-space:pre; font-family: monospace\">4 3 2\n",
       "</span>"
      ]
     },
     "execution_count": 22,
     "metadata": {},
     "output_type": "execute_result"
    }
   ],
   "source": [
    "1 + 3 2 1"
   ]
  },
  {
   "cell_type": "code",
   "execution_count": null,
   "id": "67ad8901",
   "metadata": {},
   "outputs": [],
   "source": []
  }
 ],
 "metadata": {
  "kernelspec": {
   "display_name": "Dyalog APL",
   "language": "apl",
   "name": "dyalog-kernel"
  },
  "language_info": {
   "file_extension": ".apl",
   "mimetype": "text/apl",
   "name": "APL"
  },
  "toc": {
   "base_numbering": 1,
   "nav_menu": {},
   "number_sections": true,
   "sideBar": true,
   "skip_h1_title": false,
   "title_cell": "Table of Contents",
   "title_sidebar": "Contents",
   "toc_cell": false,
   "toc_position": {},
   "toc_section_display": true,
   "toc_window_display": false
  }
 },
 "nbformat": 4,
 "nbformat_minor": 5
}
