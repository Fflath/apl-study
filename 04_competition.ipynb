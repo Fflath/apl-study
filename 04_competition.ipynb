{
 "cells": [
  {
   "cell_type": "raw",
   "id": "2990f581",
   "metadata": {},
   "source": [
    "---\n",
    "title: \"APL Competition 2022\"\n",
    "author: \"Jeremy Howard\"\n",
    "date: \"2022-07-05\"\n",
    "categories: [Dyalog, APL, Glyphs]\n",
    "---"
   ]
  },
  {
   "cell_type": "markdown",
   "id": "5d6af942",
   "metadata": {},
   "source": [
    "This notebook covers useful glyphs and concepts useful for the 2022 Dyalog APL competition. Be sure to read the [Basics](APL.ipynb) and [Operators](operators.ipynb) notebooks first."
   ]
  },
  {
   "cell_type": "code",
   "execution_count": 1,
   "id": "84e8fa35",
   "metadata": {},
   "outputs": [
    {
     "data": {
      "text/html": [
       "<span style=\"white-space:pre; font-family: monospace\">┌→─────────────────────────────────────┐\n",
       "│Was ON -style=max -trains=tree -fns=on│\n",
       "└──────────────────────────────────────┘\n",
       "</span>"
      ]
     },
     "execution_count": 1,
     "metadata": {},
     "output_type": "execute_result"
    }
   ],
   "source": [
    "]box on -style=max -trains=tree -fns=on"
   ]
  },
  {
   "cell_type": "markdown",
   "id": "da2674b7",
   "metadata": {},
   "source": [
    "## Glpyhs"
   ]
  },
  {
   "cell_type": "markdown",
   "id": "426ab86a",
   "metadata": {
    "heading_collapsed": true
   },
   "source": [
    "### `↑` (Up arrow)"
   ]
  },
  {
   "cell_type": "markdown",
   "id": "d7c5a6e2",
   "metadata": {
    "heading_collapsed": true,
    "hidden": true
   },
   "source": [
    "#### monadic `↑` (Mix)"
   ]
  },
  {
   "cell_type": "code",
   "execution_count": null,
   "id": "3f02ff32",
   "metadata": {
    "hidden": true
   },
   "outputs": [
    {
     "data": {
      "text/html": [
       "<pre class=\"language-APL\">┌→────────────┐\n",
       "│ ┌→──┐ ┌→──┐ │\n",
       "│ │Hip│ │Hop│ │\n",
       "│ └───┘ └───┘ │\n",
       "└∊────────────┘\n",
       "</pre>"
      ]
     },
     "execution_count": null,
     "metadata": {},
     "output_type": "execute_result"
    }
   ],
   "source": [
    "'Hip' 'Hop'"
   ]
  },
  {
   "cell_type": "code",
   "execution_count": null,
   "id": "3f4cf518",
   "metadata": {
    "hidden": true
   },
   "outputs": [
    {
     "data": {
      "text/html": [
       "<pre class=\"language-APL\">┌→──┐\n",
       "↓Hip│\n",
       "│Hop│\n",
       "└───┘\n",
       "</pre>"
      ]
     },
     "execution_count": null,
     "metadata": {},
     "output_type": "execute_result"
    }
   ],
   "source": [
    "↑ 'Hip' 'Hop'"
   ]
  },
  {
   "cell_type": "code",
   "execution_count": null,
   "id": "c8195e4a",
   "metadata": {
    "hidden": true
   },
   "outputs": [
    {
     "data": {
      "text/html": [
       "<pre class=\"language-APL\">┌→──┐\n",
       "│2 3│\n",
       "└~──┘\n",
       "</pre>"
      ]
     },
     "execution_count": null,
     "metadata": {},
     "output_type": "execute_result"
    }
   ],
   "source": [
    "⍴↑ 'Hip' 'Hop'"
   ]
  },
  {
   "cell_type": "code",
   "execution_count": null,
   "id": "cd23ab13",
   "metadata": {
    "hidden": true
   },
   "outputs": [
    {
     "data": {
      "text/html": [
       "<pre class=\"language-APL\">┌→──┐\n",
       "↓6 4│\n",
       "│5 0│\n",
       "│3 0│\n",
       "└~──┘\n",
       "</pre>"
      ]
     },
     "execution_count": null,
     "metadata": {},
     "output_type": "execute_result"
    }
   ],
   "source": [
    "↑ (6 4) 5 3"
   ]
  },
  {
   "cell_type": "code",
   "execution_count": null,
   "id": "b510d101",
   "metadata": {
    "hidden": true
   },
   "outputs": [
    {
     "data": {
      "text/html": [
       "<pre class=\"language-APL\">┌→────┐\n",
       "↓1 2 0│\n",
       "│3 0 0│\n",
       "│4 5 6│\n",
       "└~────┘\n",
       "</pre>"
      ]
     },
     "execution_count": null,
     "metadata": {},
     "output_type": "execute_result"
    }
   ],
   "source": [
    "↑(1 2) 3 (4 5 6)"
   ]
  },
  {
   "cell_type": "markdown",
   "id": "01db0c25",
   "metadata": {
    "heading_collapsed": true,
    "hidden": true
   },
   "source": [
    "#### dyadic `↑` (Take)"
   ]
  },
  {
   "cell_type": "code",
   "execution_count": null,
   "id": "b4cfe378",
   "metadata": {
    "hidden": true
   },
   "outputs": [
    {
     "data": {
      "text/html": [
       "<pre class=\"language-APL\">┌→───┐\n",
       "│Pine│\n",
       "└────┘\n",
       "</pre>"
      ]
     },
     "execution_count": null,
     "metadata": {},
     "output_type": "execute_result"
    }
   ],
   "source": [
    "4 ↑ 'Pineapple'"
   ]
  },
  {
   "cell_type": "code",
   "execution_count": null,
   "id": "032e52ce",
   "metadata": {
    "hidden": true
   },
   "outputs": [
    {
     "data": {
      "text/html": [
       "<pre class=\"language-APL\">┌→───────────┐\n",
       "│Pineapple   │\n",
       "└────────────┘\n",
       "</pre>"
      ]
     },
     "execution_count": null,
     "metadata": {},
     "output_type": "execute_result"
    }
   ],
   "source": [
    "12 ↑ 'Pineapple'"
   ]
  },
  {
   "cell_type": "code",
   "execution_count": null,
   "id": "83c4b6c7",
   "metadata": {
    "hidden": true
   },
   "outputs": [
    {
     "data": {
      "text/html": [
       "<pre class=\"language-APL\">┌→────┐\n",
       "│apple│\n",
       "└─────┘\n",
       "</pre>"
      ]
     },
     "execution_count": null,
     "metadata": {},
     "output_type": "execute_result"
    }
   ],
   "source": [
    "¯5 ↑ 'Pineapple'"
   ]
  },
  {
   "cell_type": "code",
   "execution_count": null,
   "id": "359d90ed",
   "metadata": {
    "hidden": true
   },
   "outputs": [
    {
     "data": {
      "text/html": [
       "<pre class=\"language-APL\">┌→─────────┐\n",
       "↓1  2  3  4│\n",
       "│5  6  7  8│\n",
       "│9 10 11 12│\n",
       "└~─────────┘\n",
       "</pre>"
      ]
     },
     "execution_count": null,
     "metadata": {},
     "output_type": "execute_result"
    }
   ],
   "source": [
    "⎕←mat←3 4⍴⍳12"
   ]
  },
  {
   "cell_type": "code",
   "execution_count": null,
   "id": "6f0d38ba",
   "metadata": {
    "hidden": true
   },
   "outputs": [
    {
     "data": {
      "text/html": [
       "<pre class=\"language-APL\">┌→──────┐\n",
       "↓1 2 3 4│\n",
       "│5 6 7 8│\n",
       "└~──────┘\n",
       "</pre>"
      ]
     },
     "execution_count": null,
     "metadata": {},
     "output_type": "execute_result"
    }
   ],
   "source": [
    "2 ↑ mat"
   ]
  },
  {
   "cell_type": "code",
   "execution_count": null,
   "id": "d25a75ba",
   "metadata": {
    "hidden": true
   },
   "outputs": [
    {
     "data": {
      "text/html": [
       "<pre class=\"language-APL\">┌→────┐\n",
       "↓2 3 4│\n",
       "│6 7 8│\n",
       "└~────┘\n",
       "</pre>"
      ]
     },
     "execution_count": null,
     "metadata": {},
     "output_type": "execute_result"
    }
   ],
   "source": [
    "2 ¯3 ↑ mat"
   ]
  },
  {
   "cell_type": "code",
   "execution_count": null,
   "id": "a67fd7b2",
   "metadata": {
    "hidden": true
   },
   "outputs": [
    {
     "data": {
      "text/html": [
       "<pre class=\"language-APL\">┌→─────────┐\n",
       "↓1  2  3  4│\n",
       "│5  6  7  8│\n",
       "│9 10 11 12│\n",
       "│0  0  0  0│\n",
       "│0  0  0  0│\n",
       "└~─────────┘\n",
       "</pre>"
      ]
     },
     "execution_count": null,
     "metadata": {},
     "output_type": "execute_result"
    }
   ],
   "source": [
    "5 ↑ mat"
   ]
  },
  {
   "cell_type": "markdown",
   "id": "ccce31ab",
   "metadata": {
    "heading_collapsed": true
   },
   "source": [
    "### `↓` (Down arrow)"
   ]
  },
  {
   "cell_type": "markdown",
   "id": "b13ca055",
   "metadata": {
    "heading_collapsed": true,
    "hidden": true
   },
   "source": [
    "#### monadic `↑` (Mix)"
   ]
  },
  {
   "cell_type": "code",
   "execution_count": null,
   "id": "0a82ac8d",
   "metadata": {
    "hidden": true
   },
   "outputs": [
    {
     "data": {
      "text/html": [
       "<pre class=\"language-APL\">┌→─────────┐\n",
       "↓1  2  3  4│\n",
       "│5  6  7  8│\n",
       "│9 10 11 12│\n",
       "└~─────────┘\n",
       "</pre>"
      ]
     },
     "execution_count": null,
     "metadata": {},
     "output_type": "execute_result"
    }
   ],
   "source": [
    "⎕←mat←3 4⍴⍳12"
   ]
  },
  {
   "cell_type": "code",
   "execution_count": null,
   "id": "c37f5e72",
   "metadata": {
    "hidden": true
   },
   "outputs": [
    {
     "data": {
      "text/html": [
       "<pre class=\"language-APL\">┌→─────────────────────────────────┐\n",
       "│ ┌→──────┐ ┌→──────┐ ┌→─────────┐ │\n",
       "│ │1 2 3 4│ │5 6 7 8│ │9 10 11 12│ │\n",
       "│ └~──────┘ └~──────┘ └~─────────┘ │\n",
       "└∊─────────────────────────────────┘\n",
       "</pre>"
      ]
     },
     "execution_count": null,
     "metadata": {},
     "output_type": "execute_result"
    }
   ],
   "source": [
    "↓mat"
   ]
  },
  {
   "cell_type": "markdown",
   "id": "17c9279a",
   "metadata": {
    "heading_collapsed": true,
    "hidden": true
   },
   "source": [
    "#### dyadic `↓` (Drop)"
   ]
  },
  {
   "cell_type": "code",
   "execution_count": null,
   "id": "07a1a03c",
   "metadata": {
    "hidden": true
   },
   "outputs": [
    {
     "data": {
      "text/html": [
       "<pre class=\"language-APL\">┌→────┐\n",
       "│apple│\n",
       "└─────┘\n",
       "</pre>"
      ]
     },
     "execution_count": null,
     "metadata": {},
     "output_type": "execute_result"
    }
   ],
   "source": [
    "4 ↓ 'Pineapple'"
   ]
  },
  {
   "cell_type": "code",
   "execution_count": null,
   "id": "17186dd4",
   "metadata": {
    "hidden": true
   },
   "outputs": [
    {
     "data": {
      "text/html": [
       "<pre class=\"language-APL\">┌⊖┐\n",
       "│ │\n",
       "└─┘\n",
       "</pre>"
      ]
     },
     "execution_count": null,
     "metadata": {},
     "output_type": "execute_result"
    }
   ],
   "source": [
    "12 ↓ 'Pineapple'"
   ]
  },
  {
   "cell_type": "code",
   "execution_count": null,
   "id": "bd5cbaac",
   "metadata": {
    "hidden": true
   },
   "outputs": [
    {
     "data": {
      "text/html": [
       "<pre class=\"language-APL\">┌→───┐\n",
       "│Pine│\n",
       "└────┘\n",
       "</pre>"
      ]
     },
     "execution_count": null,
     "metadata": {},
     "output_type": "execute_result"
    }
   ],
   "source": [
    "¯5 ↓ 'Pineapple'"
   ]
  },
  {
   "cell_type": "code",
   "execution_count": null,
   "id": "0bbd6fb2",
   "metadata": {
    "hidden": true
   },
   "outputs": [
    {
     "data": {
      "text/html": [
       "<pre class=\"language-APL\">┌→─────────┐\n",
       "↓1  2  3  4│\n",
       "│5  6  7  8│\n",
       "│9 10 11 12│\n",
       "└~─────────┘\n",
       "</pre>"
      ]
     },
     "execution_count": null,
     "metadata": {},
     "output_type": "execute_result"
    }
   ],
   "source": [
    "⎕←mat←3 4⍴⍳12"
   ]
  },
  {
   "cell_type": "code",
   "execution_count": null,
   "id": "74e2fbcb",
   "metadata": {
    "hidden": true
   },
   "outputs": [
    {
     "data": {
      "text/html": [
       "<pre class=\"language-APL\">┌→─────────┐\n",
       "↓9 10 11 12│\n",
       "└~─────────┘\n",
       "</pre>"
      ]
     },
     "execution_count": null,
     "metadata": {},
     "output_type": "execute_result"
    }
   ],
   "source": [
    "2 ↓ mat"
   ]
  },
  {
   "cell_type": "code",
   "execution_count": null,
   "id": "6179ae17",
   "metadata": {
    "hidden": true
   },
   "outputs": [
    {
     "data": {
      "text/html": [
       "<pre class=\"language-APL\">┌→┐\n",
       "↓9│\n",
       "└~┘\n",
       "</pre>"
      ]
     },
     "execution_count": null,
     "metadata": {},
     "output_type": "execute_result"
    }
   ],
   "source": [
    "2 ¯3 ↓ mat"
   ]
  },
  {
   "cell_type": "markdown",
   "id": "b3a82aff",
   "metadata": {
    "heading_collapsed": true
   },
   "source": [
    "### `⌸` (Quad equal)"
   ]
  },
  {
   "cell_type": "markdown",
   "id": "08eb109e",
   "metadata": {
    "heading_collapsed": true,
    "hidden": true
   },
   "source": [
    "#### monadic `⌸` (Key operator)"
   ]
  },
  {
   "cell_type": "code",
   "execution_count": null,
   "id": "2ddcb1ea",
   "metadata": {
    "hidden": true
   },
   "outputs": [],
   "source": [
    "a ← 'banana'"
   ]
  },
  {
   "cell_type": "code",
   "execution_count": null,
   "id": "d5b2cb64",
   "metadata": {
    "hidden": true
   },
   "outputs": [
    {
     "data": {
      "text/html": [
       "<pre class=\"language-APL\">┌→──────┐\n",
       "↓b 1    │\n",
       "│a 2 4 6│\n",
       "│n 3 5  │\n",
       "└+──────┘\n",
       "</pre>"
      ]
     },
     "execution_count": null,
     "metadata": {},
     "output_type": "execute_result"
    }
   ],
   "source": [
    "a ,⌸ ⍳6"
   ]
  },
  {
   "cell_type": "code",
   "execution_count": null,
   "id": "548f40f2",
   "metadata": {
    "hidden": true
   },
   "outputs": [
    {
     "data": {
      "text/html": [
       "<pre class=\"language-APL\">┌→──────┐\n",
       "↓b 1    │\n",
       "│a 2 4 6│\n",
       "│n 3 5  │\n",
       "└+──────┘\n",
       "</pre>"
      ]
     },
     "execution_count": null,
     "metadata": {},
     "output_type": "execute_result"
    }
   ],
   "source": [
    ",⌸ a"
   ]
  },
  {
   "cell_type": "code",
   "execution_count": null,
   "id": "c4293cfd",
   "metadata": {
    "hidden": true
   },
   "outputs": [
    {
     "data": {
      "text/html": [
       "<pre class=\"language-APL\">┌→───┐\n",
       "↓b  1│\n",
       "│a 12│\n",
       "│n  8│\n",
       "└+───┘\n",
       "</pre>"
      ]
     },
     "execution_count": null,
     "metadata": {},
     "output_type": "execute_result"
    }
   ],
   "source": [
    "a {⍺,+/⍵}⌸ ⍳6"
   ]
  },
  {
   "cell_type": "markdown",
   "id": "d6e4c907",
   "metadata": {
    "heading_collapsed": true
   },
   "source": [
    "### `⊂` (Left shoe)"
   ]
  },
  {
   "cell_type": "markdown",
   "id": "7148c091",
   "metadata": {
    "heading_collapsed": true,
    "hidden": true
   },
   "source": [
    "#### monadic `⊂` (Enclose)"
   ]
  },
  {
   "cell_type": "code",
   "execution_count": null,
   "id": "5973fe9f",
   "metadata": {
    "hidden": true
   },
   "outputs": [
    {
     "data": {
      "text/html": [
       "<pre class=\"language-APL\">┌→────┐\n",
       "│1 2 3│\n",
       "└~────┘\n",
       "</pre>"
      ]
     },
     "execution_count": null,
     "metadata": {},
     "output_type": "execute_result"
    }
   ],
   "source": [
    "1 2 3"
   ]
  },
  {
   "cell_type": "code",
   "execution_count": null,
   "id": "bd386b4c",
   "metadata": {
    "hidden": true
   },
   "outputs": [
    {
     "data": {
      "text/html": [
       "<pre class=\"language-APL\">┌→┐\n",
       "│3│\n",
       "└~┘\n",
       "</pre>"
      ]
     },
     "execution_count": null,
     "metadata": {},
     "output_type": "execute_result"
    }
   ],
   "source": [
    "⍴1 2 3"
   ]
  },
  {
   "cell_type": "code",
   "execution_count": null,
   "id": "c1bf4da8",
   "metadata": {
    "hidden": true
   },
   "outputs": [
    {
     "data": {
      "text/html": [
       "<pre class=\"language-APL\">┌─────────┐\n",
       "│ ┌→────┐ │\n",
       "│ │1 2 3│ │\n",
       "│ └~────┘ │\n",
       "└∊────────┘\n",
       "</pre>"
      ]
     },
     "execution_count": null,
     "metadata": {},
     "output_type": "execute_result"
    }
   ],
   "source": [
    "⊂1 2 3"
   ]
  },
  {
   "cell_type": "code",
   "execution_count": null,
   "id": "ac73f91f",
   "metadata": {
    "hidden": true
   },
   "outputs": [
    {
     "data": {
      "text/html": [
       "<pre class=\"language-APL\">┌⊖┐\n",
       "│0│\n",
       "└~┘\n",
       "</pre>"
      ]
     },
     "execution_count": null,
     "metadata": {},
     "output_type": "execute_result"
    }
   ],
   "source": [
    "⍴⊂1 2 3"
   ]
  },
  {
   "cell_type": "code",
   "execution_count": null,
   "id": "b3a8f422",
   "metadata": {
    "hidden": true
   },
   "outputs": [
    {
     "data": {
      "text/html": [
       "<pre class=\"language-APL\">┌→────────┐\n",
       "│   ┌→──┐ │\n",
       "│ 1 │2 3│ │\n",
       "│   └~──┘ │\n",
       "└∊────────┘\n",
       "</pre>"
      ]
     },
     "execution_count": null,
     "metadata": {},
     "output_type": "execute_result"
    }
   ],
   "source": [
    "1(2 3)"
   ]
  },
  {
   "cell_type": "code",
   "execution_count": null,
   "id": "5174b653",
   "metadata": {
    "hidden": true
   },
   "outputs": [
    {
     "data": {
      "text/html": [
       "<pre class=\"language-APL\">┌→┐\n",
       "│2│\n",
       "└~┘\n",
       "</pre>"
      ]
     },
     "execution_count": null,
     "metadata": {},
     "output_type": "execute_result"
    }
   ],
   "source": [
    "⍴ 1(2 3)"
   ]
  },
  {
   "cell_type": "code",
   "execution_count": null,
   "id": "2a417898",
   "metadata": {
    "hidden": true
   },
   "outputs": [
    {
     "data": {
      "text/html": [
       "<pre class=\"language-APL\">┌→────────┐\n",
       "│   ┌→──┐ │\n",
       "│ 1 │2 3│ │\n",
       "│   └~──┘ │\n",
       "└∊────────┘\n",
       "</pre>"
      ]
     },
     "execution_count": null,
     "metadata": {},
     "output_type": "execute_result"
    }
   ],
   "source": [
    "1,⊂2 3"
   ]
  },
  {
   "cell_type": "code",
   "execution_count": null,
   "id": "8430caa1",
   "metadata": {
    "hidden": true
   },
   "outputs": [
    {
     "data": {
      "text/html": [
       "<pre class=\"language-APL\">┌─────────────┐\n",
       "│ ┌→────────┐ │\n",
       "│ │   ┌→──┐ │ │\n",
       "│ │ 1 │2 3│ │ │\n",
       "│ │   └~──┘ │ │\n",
       "│ └∊────────┘ │\n",
       "└∊────────────┘\n",
       "</pre>"
      ]
     },
     "execution_count": null,
     "metadata": {},
     "output_type": "execute_result"
    }
   ],
   "source": [
    "⊂ 1(2 3)"
   ]
  },
  {
   "cell_type": "code",
   "execution_count": null,
   "id": "97f5641a",
   "metadata": {
    "hidden": true
   },
   "outputs": [
    {
     "data": {
      "text/html": [
       "<pre class=\"language-APL\">┌⊖┐\n",
       "│0│\n",
       "└~┘\n",
       "</pre>"
      ]
     },
     "execution_count": null,
     "metadata": {},
     "output_type": "execute_result"
    }
   ],
   "source": [
    "⍴⊂ 1(2 3)"
   ]
  },
  {
   "cell_type": "code",
   "execution_count": null,
   "id": "f271d213",
   "metadata": {
    "hidden": true
   },
   "outputs": [
    {
     "data": {
      "text/html": [
       "<pre class=\"language-APL\">┌─────────────────┐\n",
       "│ ┌─────────────┐ │\n",
       "│ │ ┌→────────┐ │ │\n",
       "│ │ │   ┌→──┐ │ │ │\n",
       "│ │ │ 1 │2 3│ │ │ │\n",
       "│ │ │   └~──┘ │ │ │\n",
       "│ │ └∊────────┘ │ │\n",
       "│ └∊────────────┘ │\n",
       "└∊────────────────┘\n",
       "</pre>"
      ]
     },
     "execution_count": null,
     "metadata": {},
     "output_type": "execute_result"
    }
   ],
   "source": [
    "⊂⊂ 1(2 3)"
   ]
  },
  {
   "cell_type": "code",
   "execution_count": null,
   "id": "e55cbaac",
   "metadata": {
    "hidden": true
   },
   "outputs": [
    {
     "data": {
      "text/html": [
       "<pre class=\"language-APL\"> \n",
       "1\n",
       " \n",
       "</pre>"
      ]
     },
     "execution_count": null,
     "metadata": {},
     "output_type": "execute_result"
    }
   ],
   "source": [
    "⊂1"
   ]
  },
  {
   "cell_type": "markdown",
   "id": "0510c31d",
   "metadata": {
    "hidden": true
   },
   "source": [
    "This adds `4 5 6` to each element of the LHS (1, 2, and 3):"
   ]
  },
  {
   "cell_type": "code",
   "execution_count": null,
   "id": "90e97812",
   "metadata": {
    "hidden": true
   },
   "outputs": [
    {
     "data": {
      "text/html": [
       "<pre class=\"language-APL\">┌→────────────────────────┐\n",
       "│ ┌→────┐ ┌→────┐ ┌→────┐ │\n",
       "│ │5 6 7│ │6 7 8│ │7 8 9│ │\n",
       "│ └~────┘ └~────┘ └~────┘ │\n",
       "└∊────────────────────────┘\n",
       "</pre>"
      ]
     },
     "execution_count": null,
     "metadata": {},
     "output_type": "execute_result"
    }
   ],
   "source": [
    "1 2 3+⊂4 5 6"
   ]
  },
  {
   "cell_type": "markdown",
   "id": "31548044",
   "metadata": {
    "hidden": true
   },
   "source": [
    "It's basically the same idea as this, since `(⊂ 4 5 6)` and `1` are both scalars:"
   ]
  },
  {
   "cell_type": "code",
   "execution_count": null,
   "id": "fd7c7b48",
   "metadata": {
    "hidden": true
   },
   "outputs": [
    {
     "data": {
      "text/html": [
       "<pre class=\"language-APL\">┌→────┐\n",
       "│2 3 4│\n",
       "└~────┘\n",
       "</pre>"
      ]
     },
     "execution_count": null,
     "metadata": {},
     "output_type": "execute_result"
    }
   ],
   "source": [
    "1 2 3+1"
   ]
  },
  {
   "cell_type": "markdown",
   "id": "58d72f9c",
   "metadata": {
    "heading_collapsed": true,
    "hidden": true
   },
   "source": [
    "#### dyadic `⊂` (Partitioned enclose)"
   ]
  },
  {
   "cell_type": "code",
   "execution_count": null,
   "id": "b2e43612",
   "metadata": {
    "hidden": true
   },
   "outputs": [
    {
     "data": {
      "text/html": [
       "<pre class=\"language-APL\">┌→─────────────┐\n",
       "│ ┌→─┐ ┌→────┐ │\n",
       "│ │Hi│ │Earth│ │\n",
       "│ └──┘ └─────┘ │\n",
       "└∊─────────────┘\n",
       "</pre>"
      ]
     },
     "execution_count": null,
     "metadata": {},
     "output_type": "execute_result"
    }
   ],
   "source": [
    "1 0 1 0 0 0 0⊂'HiEarth'"
   ]
  },
  {
   "cell_type": "code",
   "execution_count": null,
   "id": "24dd23a5",
   "metadata": {
    "hidden": true
   },
   "outputs": [
    {
     "data": {
      "text/html": [
       "<pre class=\"language-APL\">┌→─────────────────────────┐\n",
       "│ ┌⊖┐ ┌→─┐ ┌⊖┐ ┌⊖┐ ┌→────┐ │\n",
       "│ │ │ │Hi│ │ │ │ │ │Earth│ │\n",
       "│ └─┘ └──┘ └─┘ └─┘ └─────┘ │\n",
       "└∊─────────────────────────┘\n",
       "</pre>"
      ]
     },
     "execution_count": null,
     "metadata": {},
     "output_type": "execute_result"
    }
   ],
   "source": [
    "2 0 3 0 0 0 0⊂'HiEarth'"
   ]
  },
  {
   "cell_type": "markdown",
   "id": "129ede39",
   "metadata": {},
   "source": [
    "### `⊆` (Left shoe underbar)"
   ]
  },
  {
   "cell_type": "markdown",
   "id": "83bd3a74",
   "metadata": {},
   "source": [
    "#### monadic `⊆` (Nest)"
   ]
  },
  {
   "cell_type": "code",
   "execution_count": null,
   "id": "e05aaf18",
   "metadata": {},
   "outputs": [
    {
     "data": {
      "text/html": [
       "<pre class=\"language-APL\"> \n",
       "1\n",
       " \n",
       "</pre>"
      ]
     },
     "execution_count": null,
     "metadata": {},
     "output_type": "execute_result"
    }
   ],
   "source": [
    "(⊆1) ≡ ⊂1"
   ]
  },
  {
   "cell_type": "code",
   "execution_count": null,
   "id": "63181909",
   "metadata": {},
   "outputs": [
    {
     "data": {
      "text/html": [
       "<pre class=\"language-APL\"> \n",
       "1\n",
       " \n",
       "</pre>"
      ]
     },
     "execution_count": null,
     "metadata": {},
     "output_type": "execute_result"
    }
   ],
   "source": [
    "(⊆1 2 3) ≡ ⊂1 2 3"
   ]
  },
  {
   "cell_type": "code",
   "execution_count": null,
   "id": "f63a328c",
   "metadata": {},
   "outputs": [
    {
     "data": {
      "text/html": [
       "<pre class=\"language-APL\">┌→──────────┐\n",
       "│   ┌→────┐ │\n",
       "│ 1 │1 2 3│ │\n",
       "│   └~────┘ │\n",
       "└∊──────────┘\n",
       "</pre>"
      ]
     },
     "execution_count": null,
     "metadata": {},
     "output_type": "execute_result"
    }
   ],
   "source": [
    "⊆1 (1 2 3)"
   ]
  },
  {
   "cell_type": "code",
   "execution_count": null,
   "id": "47b45de8",
   "metadata": {},
   "outputs": [
    {
     "data": {
      "text/html": [
       "<pre class=\"language-APL\">┌───────────────┐\n",
       "│ ┌→──────────┐ │\n",
       "│ │   ┌→────┐ │ │\n",
       "│ │ 1 │1 2 3│ │ │\n",
       "│ │   └~────┘ │ │\n",
       "│ └∊──────────┘ │\n",
       "└∊──────────────┘\n",
       "</pre>"
      ]
     },
     "execution_count": null,
     "metadata": {},
     "output_type": "execute_result"
    }
   ],
   "source": [
    "⊂ 1 (1 2 3)"
   ]
  },
  {
   "cell_type": "markdown",
   "id": "620edc7a",
   "metadata": {},
   "source": [
    "#### dyadic `⊆` (Partition)"
   ]
  },
  {
   "cell_type": "code",
   "execution_count": null,
   "id": "adfd2d1e",
   "metadata": {},
   "outputs": [
    {
     "data": {
      "text/html": [
       "<pre class=\"language-APL\">┌→─────────────┐\n",
       "│ ┌→─┐ ┌→────┐ │\n",
       "│ │Hi│ │Earth│ │\n",
       "│ └──┘ └─────┘ │\n",
       "└∊─────────────┘\n",
       "</pre>"
      ]
     },
     "execution_count": null,
     "metadata": {},
     "output_type": "execute_result"
    }
   ],
   "source": [
    "1 1 2 2 2 2 2⊆'HiEarth'"
   ]
  },
  {
   "cell_type": "code",
   "execution_count": null,
   "id": "ef923d85",
   "metadata": {},
   "outputs": [
    {
     "data": {
      "text/html": [
       "<pre class=\"language-APL\">┌→───────────┐\n",
       "│ ┌→─┐ ┌→──┐ │\n",
       "│ │Hi│ │Ear│ │\n",
       "│ └──┘ └───┘ │\n",
       "└∊───────────┘\n",
       "</pre>"
      ]
     },
     "execution_count": null,
     "metadata": {},
     "output_type": "execute_result"
    }
   ],
   "source": [
    "1 1 2 2 2 0 0⊆'HiEarth'"
   ]
  },
  {
   "cell_type": "code",
   "execution_count": null,
   "id": "feca5be8",
   "metadata": {},
   "outputs": [
    {
     "data": {
      "text/html": [
       "<pre class=\"language-APL\">┌→───────────────────┐\n",
       "│ ┌→──┐ ┌→──┐ ┌→───┐ │\n",
       "│ │How│ │are│ │you?│ │\n",
       "│ └───┘ └───┘ └────┘ │\n",
       "└∊───────────────────┘\n",
       "</pre>"
      ]
     },
     "execution_count": null,
     "metadata": {},
     "output_type": "execute_result"
    }
   ],
   "source": [
    "1 1 1 0 1 1 1 0 1 1 1 1⊆'How are you?'"
   ]
  },
  {
   "cell_type": "markdown",
   "id": "f15d3d80",
   "metadata": {},
   "source": [
    "### `⊃` (Right shoe)"
   ]
  },
  {
   "cell_type": "markdown",
   "id": "e288df04",
   "metadata": {},
   "source": [
    "#### monadic `⊃` (Disclose;First)"
   ]
  },
  {
   "cell_type": "code",
   "execution_count": 9,
   "id": "bec34bd9",
   "metadata": {},
   "outputs": [],
   "source": [
    "a←1 2"
   ]
  },
  {
   "cell_type": "code",
   "execution_count": 12,
   "id": "ab4fc081",
   "metadata": {},
   "outputs": [
    {
     "data": {
      "text/html": [
       "<span style=\"white-space:pre; font-family: monospace\">┌───────┐\n",
       "│ ┌→──┐ │\n",
       "│ │1 2│ │\n",
       "│ └~──┘ │\n",
       "└∊──────┘\n",
       "</span>"
      ]
     },
     "execution_count": 12,
     "metadata": {},
     "output_type": "execute_result"
    }
   ],
   "source": [
    "⊂a"
   ]
  },
  {
   "cell_type": "code",
   "execution_count": 11,
   "id": "fd538116",
   "metadata": {},
   "outputs": [
    {
     "data": {
      "text/html": [
       "<span style=\"white-space:pre; font-family: monospace\"> \n",
       "1\n",
       " \n",
       "</span>"
      ]
     },
     "execution_count": 11,
     "metadata": {},
     "output_type": "execute_result"
    }
   ],
   "source": [
    "a ≡ ⊃⊂1 2"
   ]
  },
  {
   "cell_type": "code",
   "execution_count": 3,
   "id": "4b3c0639",
   "metadata": {},
   "outputs": [
    {
     "data": {
      "text/html": [
       "<span style=\"white-space:pre; font-family: monospace\"> \n",
       "W\n",
       "-\n",
       "</span>"
      ]
     },
     "execution_count": 3,
     "metadata": {},
     "output_type": "execute_result"
    }
   ],
   "source": [
    "⊃ 'Word'"
   ]
  },
  {
   "cell_type": "code",
   "execution_count": 4,
   "id": "38f38a51",
   "metadata": {},
   "outputs": [
    {
     "data": {
      "text/html": [
       "<span style=\"white-space:pre; font-family: monospace\">┌→──┐\n",
       "│1 2│\n",
       "└~──┘\n",
       "</span>"
      ]
     },
     "execution_count": 4,
     "metadata": {},
     "output_type": "execute_result"
    }
   ],
   "source": [
    "⊃ (1 2)(3 4 5)"
   ]
  },
  {
   "cell_type": "markdown",
   "id": "1fd8817b",
   "metadata": {
    "heading_collapsed": true
   },
   "source": [
    "#### dyadic `⊃` (Pick)"
   ]
  },
  {
   "cell_type": "code",
   "execution_count": 13,
   "id": "37075d37",
   "metadata": {
    "hidden": true
   },
   "outputs": [
    {
     "data": {
      "text/html": [
       "<span style=\"white-space:pre; font-family: monospace\"> \n",
       "r\n",
       "-\n",
       "</span>"
      ]
     },
     "execution_count": 13,
     "metadata": {},
     "output_type": "execute_result"
    }
   ],
   "source": [
    "3 ⊃ 'Word'"
   ]
  },
  {
   "cell_type": "code",
   "execution_count": 14,
   "id": "e36eafb9",
   "metadata": {
    "hidden": true
   },
   "outputs": [
    {
     "data": {
      "text/html": [
       "<span style=\"white-space:pre; font-family: monospace\">┌→────┐\n",
       "│3 4 5│\n",
       "└~────┘\n",
       "</span>"
      ]
     },
     "execution_count": 14,
     "metadata": {},
     "output_type": "execute_result"
    }
   ],
   "source": [
    "2 ⊃ (1 2)(3 4 5)"
   ]
  },
  {
   "cell_type": "code",
   "execution_count": 15,
   "id": "092ff790",
   "metadata": {
    "hidden": true
   },
   "outputs": [
    {
     "data": {
      "text/html": [
       "<span style=\"white-space:pre; font-family: monospace\"> \n",
       "3\n",
       " \n",
       "</span>"
      ]
     },
     "execution_count": 15,
     "metadata": {},
     "output_type": "execute_result"
    }
   ],
   "source": [
    "2 1 ⊃ (1 2)(3 4 5)"
   ]
  },
  {
   "cell_type": "code",
   "execution_count": 26,
   "id": "deae5a82",
   "metadata": {
    "hidden": true
   },
   "outputs": [
    {
     "data": {
      "text/html": [
       "<span style=\"white-space:pre; font-family: monospace\">┌→────┐\n",
       "↓1 2 3│\n",
       "│4 5 6│\n",
       "└~────┘\n",
       "</span>"
      ]
     },
     "execution_count": 26,
     "metadata": {},
     "output_type": "execute_result"
    }
   ],
   "source": [
    "⎕←mat ← 2 3⍴⍳6"
   ]
  },
  {
   "cell_type": "code",
   "execution_count": 27,
   "id": "267aa753",
   "metadata": {
    "hidden": true
   },
   "outputs": [
    {
     "data": {
      "text/html": [
       "<span style=\"white-space:pre; font-family: monospace\"> \n",
       "4\n",
       " \n",
       "</span>"
      ]
     },
     "execution_count": 27,
     "metadata": {},
     "output_type": "execute_result"
    }
   ],
   "source": [
    "(⊂2 1) ⊃ 2 3⍴⍳6"
   ]
  },
  {
   "cell_type": "code",
   "execution_count": 18,
   "id": "a9e0b49e",
   "metadata": {
    "hidden": true
   },
   "outputs": [
    {
     "data": {
      "text/html": [
       "<span style=\"white-space:pre; font-family: monospace\">┌→────────────────────────────────────┐\n",
       "↓ ┌→────────┐ ┌→────────┐ ┌→────────┐ │\n",
       "│ │ ┌→──┐   │ │ ┌→──┐   │ │ ┌→──┐   │ │\n",
       "│ │ │ABC│ 1 │ │ │DEF│ 2 │ │ │GHI│ 3 │ │\n",
       "│ │ └───┘   │ │ └───┘   │ │ └───┘   │ │\n",
       "│ └∊────────┘ └∊────────┘ └∊────────┘ │\n",
       "│ ┌→────────┐ ┌→────────┐ ┌→────────┐ │\n",
       "│ │ ┌→──┐   │ │ ┌→──┐   │ │ ┌→──┐   │ │\n",
       "│ │ │JKL│ 4 │ │ │MNO│ 5 │ │ │PQR│ 6 │ │\n",
       "│ │ └───┘   │ │ └───┘   │ │ └───┘   │ │\n",
       "│ └∊────────┘ └∊────────┘ └∊────────┘ │\n",
       "└∊────────────────────────────────────┘\n",
       "</span>"
      ]
     },
     "execution_count": 18,
     "metadata": {},
     "output_type": "execute_result"
    }
   ],
   "source": [
    "G←2 3⍴('ABC' 1)('DEF' 2)('GHI' 3)('JKL' 4),('MNO' 5)('PQR' 6)\n",
    "G"
   ]
  },
  {
   "cell_type": "code",
   "execution_count": 19,
   "id": "67b8a341",
   "metadata": {
    "hidden": true
   },
   "outputs": [
    {
     "data": {
      "text/html": [
       "<span style=\"white-space:pre; font-family: monospace\">┌→──┐\n",
       "│JKL│\n",
       "└───┘\n",
       "</span>"
      ]
     },
     "execution_count": 19,
     "metadata": {},
     "output_type": "execute_result"
    }
   ],
   "source": [
    "((⊂2 1),1) ⊃ G"
   ]
  },
  {
   "cell_type": "markdown",
   "id": "8b0326cf",
   "metadata": {
    "heading_collapsed": true
   },
   "source": [
    "### `⊢` (Right tack)"
   ]
  },
  {
   "cell_type": "markdown",
   "id": "0a34369a",
   "metadata": {
    "heading_collapsed": true,
    "hidden": true
   },
   "source": [
    "#### monadic `⊢` (Same)"
   ]
  },
  {
   "cell_type": "code",
   "execution_count": null,
   "id": "b81b6d0f",
   "metadata": {
    "hidden": true
   },
   "outputs": [
    {
     "data": {
      "text/html": [
       "<pre class=\"language-APL\"> \n",
       "1\n",
       " \n",
       "</pre>"
      ]
     },
     "execution_count": null,
     "metadata": {},
     "output_type": "execute_result"
    }
   ],
   "source": [
    "⊢1"
   ]
  },
  {
   "cell_type": "code",
   "execution_count": null,
   "id": "00691415",
   "metadata": {
    "hidden": true
   },
   "outputs": [
    {
     "data": {
      "text/html": [
       "<pre class=\"language-APL\">┌→──┐\n",
       "│abc│\n",
       "└───┘\n",
       "</pre>"
      ]
     },
     "execution_count": null,
     "metadata": {},
     "output_type": "execute_result"
    }
   ],
   "source": [
    "⊢'abc'"
   ]
  },
  {
   "cell_type": "markdown",
   "id": "97d0971d",
   "metadata": {
    "heading_collapsed": true,
    "hidden": true
   },
   "source": [
    "#### dyadic `⊢` (Right)"
   ]
  },
  {
   "cell_type": "code",
   "execution_count": null,
   "id": "461ac21e",
   "metadata": {
    "hidden": true
   },
   "outputs": [
    {
     "data": {
      "text/html": [
       "<pre class=\"language-APL\"> \n",
       "1\n",
       " \n",
       "</pre>"
      ]
     },
     "execution_count": null,
     "metadata": {},
     "output_type": "execute_result"
    }
   ],
   "source": [
    "'abc'⊢1"
   ]
  },
  {
   "cell_type": "code",
   "execution_count": null,
   "id": "bfe47293",
   "metadata": {
    "hidden": true
   },
   "outputs": [
    {
     "data": {
      "text/html": [
       "<pre class=\"language-APL\">┌→──┐\n",
       "│abc│\n",
       "└───┘\n",
       "</pre>"
      ]
     },
     "execution_count": null,
     "metadata": {},
     "output_type": "execute_result"
    }
   ],
   "source": [
    "1⊢'abc'"
   ]
  },
  {
   "cell_type": "markdown",
   "id": "0c0ad5b4",
   "metadata": {},
   "source": [
    "### `⊣` (Left tack)"
   ]
  },
  {
   "cell_type": "markdown",
   "id": "9813f4e1",
   "metadata": {},
   "source": [
    "#### monadic `⊣` (Same)"
   ]
  },
  {
   "cell_type": "code",
   "execution_count": null,
   "id": "de77f334",
   "metadata": {},
   "outputs": [
    {
     "data": {
      "text/html": [
       "<pre class=\"language-APL\">┌→──┐\n",
       "│abc│\n",
       "└───┘\n",
       "</pre>"
      ]
     },
     "execution_count": null,
     "metadata": {},
     "output_type": "execute_result"
    }
   ],
   "source": [
    "⊣'abc'"
   ]
  },
  {
   "cell_type": "markdown",
   "id": "dff7a3c9",
   "metadata": {},
   "source": [
    "#### dyadic `⊣` (Left)"
   ]
  },
  {
   "cell_type": "code",
   "execution_count": null,
   "id": "89558f1d",
   "metadata": {},
   "outputs": [
    {
     "data": {
      "text/html": [
       "<pre class=\"language-APL\">┌→──┐\n",
       "│abc│\n",
       "└───┘\n",
       "</pre>"
      ]
     },
     "execution_count": null,
     "metadata": {},
     "output_type": "execute_result"
    }
   ],
   "source": [
    "'abc'⊣1"
   ]
  },
  {
   "cell_type": "code",
   "execution_count": null,
   "id": "2d004ac1",
   "metadata": {},
   "outputs": [
    {
     "data": {
      "text/html": [
       "<pre class=\"language-APL\"> \n",
       "1\n",
       " \n",
       "</pre>"
      ]
     },
     "execution_count": null,
     "metadata": {},
     "output_type": "execute_result"
    }
   ],
   "source": [
    "1⊣'abc'"
   ]
  },
  {
   "cell_type": "markdown",
   "id": "a44cd73e",
   "metadata": {},
   "source": [
    "### `⊥` (Up tack)"
   ]
  },
  {
   "cell_type": "markdown",
   "id": "d51a72f8",
   "metadata": {},
   "source": [
    "#### dyadic `⊥` (Decode)"
   ]
  },
  {
   "cell_type": "code",
   "execution_count": 48,
   "id": "c018adfc",
   "metadata": {},
   "outputs": [
    {
     "data": {
      "text/html": [
       "<span style=\"white-space:pre; font-family: monospace\">  \n",
       "13\n",
       "  \n",
       "</span>"
      ]
     },
     "execution_count": 48,
     "metadata": {},
     "output_type": "execute_result"
    }
   ],
   "source": [
    "2 2 2 2 ⊥ 1 1 0 1   ⍝ binary decode"
   ]
  },
  {
   "cell_type": "code",
   "execution_count": 31,
   "id": "d9b3afe1",
   "metadata": {},
   "outputs": [
    {
     "data": {
      "text/html": [
       "<span style=\"white-space:pre; font-family: monospace\">     \n",
       "10000\n",
       "     \n",
       "</span>"
      ]
     },
     "execution_count": 31,
     "metadata": {},
     "output_type": "execute_result"
    }
   ],
   "source": [
    "⍝ mixed radix: conversion of hours,\n",
    "⍝ minutes and seconds to seconds:\n",
    "24 60 60 ⊥ 2 46 40"
   ]
  },
  {
   "cell_type": "code",
   "execution_count": 38,
   "id": "2c76d681",
   "metadata": {},
   "outputs": [
    {
     "data": {
      "text/html": [
       "<span style=\"white-space:pre; font-family: monospace\">     \n",
       "10000\n",
       "     \n",
       "</span>"
      ]
     },
     "execution_count": 38,
     "metadata": {},
     "output_type": "execute_result"
    }
   ],
   "source": [
    "(2×60×60) + (46×60) + 40"
   ]
  },
  {
   "cell_type": "code",
   "execution_count": 49,
   "id": "69935907",
   "metadata": {},
   "outputs": [
    {
     "data": {
      "text/html": [
       "<span style=\"white-space:pre; font-family: monospace\">  \n",
       "13\n",
       "  \n",
       "</span>"
      ]
     },
     "execution_count": 49,
     "metadata": {},
     "output_type": "execute_result"
    }
   ],
   "source": [
    "2 ⊥ 1 1 0 1   ⍝ binary decode"
   ]
  },
  {
   "cell_type": "code",
   "execution_count": 34,
   "id": "2bce48db",
   "metadata": {},
   "outputs": [
    {
     "data": {
      "text/html": [
       "<span style=\"white-space:pre; font-family: monospace\">    \n",
       "1101\n",
       "    \n",
       "</span>"
      ]
     },
     "execution_count": 34,
     "metadata": {},
     "output_type": "execute_result"
    }
   ],
   "source": [
    "10 ⊥ 1 1 0 1   ⍝ decimal decode"
   ]
  },
  {
   "cell_type": "code",
   "execution_count": 35,
   "id": "6463996b",
   "metadata": {},
   "outputs": [
    {
     "data": {
      "text/html": [
       "<span style=\"white-space:pre; font-family: monospace\">    \n",
       "3416\n",
       "    \n",
       "</span>"
      ]
     },
     "execution_count": 35,
     "metadata": {},
     "output_type": "execute_result"
    }
   ],
   "source": [
    "10 ⊥ 3 4 1 6   ⍝ decimal decode"
   ]
  },
  {
   "cell_type": "code",
   "execution_count": 39,
   "id": "d5b1df93",
   "metadata": {},
   "outputs": [
    {
     "data": {
      "text/html": [
       "<span style=\"white-space:pre; font-family: monospace\">   \n",
       "5J9\n",
       "   \n",
       "</span>"
      ]
     },
     "execution_count": 39,
     "metadata": {},
     "output_type": "execute_result"
    }
   ],
   "source": [
    "1j1⊥1 2 3 4"
   ]
  },
  {
   "cell_type": "code",
   "execution_count": 44,
   "id": "d75ca7b1",
   "metadata": {},
   "outputs": [
    {
     "data": {
      "text/html": [
       "<span style=\"white-space:pre; font-family: monospace\">  \n",
       "23\n",
       "  \n",
       "</span>"
      ]
     },
     "execution_count": 44,
     "metadata": {},
     "output_type": "execute_result"
    }
   ],
   "source": [
    "⍝ 1⊥ is sum over the first axis (+⌿)\n",
    "1⊥3 1 4 1 5 9"
   ]
  },
  {
   "cell_type": "code",
   "execution_count": 45,
   "id": "6ca32a66",
   "metadata": {},
   "outputs": [
    {
     "data": {
      "text/html": [
       "<span style=\"white-space:pre; font-family: monospace\">┌→─────────┐\n",
       "↓1  2  3  4│\n",
       "│5  6  7  8│\n",
       "│9 10 11 12│\n",
       "└~─────────┘\n",
       "</span>"
      ]
     },
     "execution_count": 45,
     "metadata": {},
     "output_type": "execute_result"
    }
   ],
   "source": [
    "⎕←M←3 4⍴⍳12"
   ]
  },
  {
   "cell_type": "code",
   "execution_count": 46,
   "id": "c32aa91e",
   "metadata": {},
   "outputs": [
    {
     "data": {
      "text/html": [
       "<span style=\"white-space:pre; font-family: monospace\">┌→──────────┐\n",
       "│15 18 21 24│\n",
       "└~──────────┘\n",
       "</span>"
      ]
     },
     "execution_count": 46,
     "metadata": {},
     "output_type": "execute_result"
    }
   ],
   "source": [
    "1⊥M"
   ]
  },
  {
   "cell_type": "markdown",
   "id": "154054f8",
   "metadata": {},
   "source": [
    "### `⊤` (Down tack)"
   ]
  },
  {
   "cell_type": "markdown",
   "id": "144cf08f",
   "metadata": {},
   "source": [
    "#### dyadic `⊤` Encode)"
   ]
  },
  {
   "cell_type": "code",
   "execution_count": 64,
   "id": "e37a3491",
   "metadata": {},
   "outputs": [
    {
     "data": {
      "text/html": [
       "<span style=\"white-space:pre; font-family: monospace\">┌→────────┐\n",
       "│0 3 6 5 8│\n",
       "└~────────┘\n",
       "</span>"
      ]
     },
     "execution_count": 64,
     "metadata": {},
     "output_type": "execute_result"
    }
   ],
   "source": [
    "10 10 10 10 10 ⊤ 3658   ⍝ decimal encode"
   ]
  },
  {
   "cell_type": "code",
   "execution_count": 68,
   "id": "e38e6791",
   "metadata": {},
   "outputs": [
    {
     "data": {
      "text/html": [
       "<span style=\"white-space:pre; font-family: monospace\">┌→────┐\n",
       "│6 5 8│\n",
       "└~────┘\n",
       "</span>"
      ]
     },
     "execution_count": 68,
     "metadata": {},
     "output_type": "execute_result"
    }
   ],
   "source": [
    "10 10 10 ⊤ 3658   ⍝ truncated decimal encode"
   ]
  },
  {
   "cell_type": "code",
   "execution_count": 69,
   "id": "99af88f7",
   "metadata": {},
   "outputs": [
    {
     "data": {
      "text/html": [
       "<span style=\"white-space:pre; font-family: monospace\">┌→─────┐\n",
       "│36 5 8│\n",
       "└~─────┘\n",
       "</span>"
      ]
     },
     "execution_count": 69,
     "metadata": {},
     "output_type": "execute_result"
    }
   ],
   "source": [
    "0 10 10 ⊤ 3658"
   ]
  },
  {
   "cell_type": "code",
   "execution_count": 62,
   "id": "117dfea6",
   "metadata": {},
   "outputs": [
    {
     "data": {
      "text/html": [
       "<span style=\"white-space:pre; font-family: monospace\">┌→──────┐\n",
       "│0 1 1 1│\n",
       "└~──────┘\n",
       "</span>"
      ]
     },
     "execution_count": 62,
     "metadata": {},
     "output_type": "execute_result"
    }
   ],
   "source": [
    "2 2 2 2 ⊤ 7   ⍝ binary encode"
   ]
  },
  {
   "cell_type": "code",
   "execution_count": 72,
   "id": "8930de81",
   "metadata": {},
   "outputs": [
    {
     "data": {
      "text/html": [
       "<span style=\"white-space:pre; font-family: monospace\">┌→──┐\n",
       "│1 1│\n",
       "└~──┘\n",
       "</span>"
      ]
     },
     "execution_count": 72,
     "metadata": {},
     "output_type": "execute_result"
    }
   ],
   "source": [
    "2 2 ⊤ 7   ⍝ truncated binary encode"
   ]
  },
  {
   "cell_type": "code",
   "execution_count": 54,
   "id": "0edabb74",
   "metadata": {},
   "outputs": [
    {
     "data": {
      "text/html": [
       "<span style=\"white-space:pre; font-family: monospace\">┌→────┐\n",
       "↓0 0 1│\n",
       "│1 1 1│\n",
       "│0 1 0│\n",
       "│1 1 0│\n",
       "└~────┘\n",
       "</span>"
      ]
     },
     "execution_count": 54,
     "metadata": {},
     "output_type": "execute_result"
    }
   ],
   "source": [
    "2 2 2 2 ⊤ 5 7 12   ⍝ binary encode"
   ]
  },
  {
   "cell_type": "code",
   "execution_count": 63,
   "id": "77aac657",
   "metadata": {},
   "outputs": [
    {
     "data": {
      "text/html": [
       "<span style=\"white-space:pre; font-family: monospace\">┌→──────┐\n",
       "│2 46 40│\n",
       "└~──────┘\n",
       "</span>"
      ]
     },
     "execution_count": 63,
     "metadata": {},
     "output_type": "execute_result"
    }
   ],
   "source": [
    "⍝ mixed radix: encode of 10000 seconds\n",
    "⍝ to hours, minutes and seconds:\n",
    "24 60 60 ⊤ 10000"
   ]
  },
  {
   "cell_type": "markdown",
   "id": "a4c28485",
   "metadata": {},
   "source": [
    "## Forks"
   ]
  },
  {
   "cell_type": "markdown",
   "id": "51b3f84c",
   "metadata": {},
   "source": [
    "In traditional mathematical notation (TMN): `(f+g)(x)=f(x)+g(x)`. Forks (3-trains) are just a generalisation of this pattern to all functions (though the middle one has to be dyadic)."
   ]
  },
  {
   "cell_type": "code",
   "execution_count": null,
   "id": "520f5e4e",
   "metadata": {},
   "outputs": [
    {
     "data": {
      "text/html": [
       "<pre class=\"language-APL\">           \n",
       "20.41887026\n",
       "           \n",
       "</pre>"
      ]
     },
     "execution_count": null,
     "metadata": {},
     "output_type": "execute_result"
    }
   ],
   "source": [
    "(÷3)+(*3)"
   ]
  },
  {
   "cell_type": "code",
   "execution_count": null,
   "id": "b2245603",
   "metadata": {},
   "outputs": [
    {
     "data": {
      "text/html": [
       "<pre class=\"language-APL\">           \n",
       "20.41887026\n",
       "           \n",
       "</pre>"
      ]
     },
     "execution_count": null,
     "metadata": {},
     "output_type": "execute_result"
    }
   ],
   "source": [
    "(÷+*)3"
   ]
  },
  {
   "cell_type": "code",
   "execution_count": null,
   "id": "21fa36a1",
   "metadata": {},
   "outputs": [
    {
     "data": {
      "text/html": [
       "<pre class=\"language-APL\"> \n",
       "6\n",
       " \n",
       "</pre>"
      ]
     },
     "execution_count": null,
     "metadata": {},
     "output_type": "execute_result"
    }
   ],
   "source": [
    "(+/÷≢) 2 5 8 9"
   ]
  },
  {
   "cell_type": "code",
   "execution_count": null,
   "id": "4b012428",
   "metadata": {},
   "outputs": [],
   "source": [
    "mean ← +/÷≢"
   ]
  },
  {
   "cell_type": "code",
   "execution_count": null,
   "id": "2bf8d6db",
   "metadata": {},
   "outputs": [
    {
     "data": {
      "text/html": [
       "<pre class=\"language-APL\"> \n",
       "6\n",
       " \n",
       "</pre>"
      ]
     },
     "execution_count": null,
     "metadata": {},
     "output_type": "execute_result"
    }
   ],
   "source": [
    "mean 2 5 8 9"
   ]
  },
  {
   "cell_type": "markdown",
   "id": "0b876337",
   "metadata": {},
   "source": [
    "For a dyadic fork, each of `f` and `g` are passed the LHS and the RHS:"
   ]
  },
  {
   "cell_type": "code",
   "execution_count": null,
   "id": "7a616a6d",
   "metadata": {},
   "outputs": [
    {
     "data": {
      "text/html": [
       "<pre class=\"language-APL\">┌→──────────────────────┐\n",
       "│1 1 1 0 1 1 1 0 1 1 1 1│\n",
       "└~──────────────────────┘\n",
       "</pre>"
      ]
     },
     "execution_count": null,
     "metadata": {},
     "output_type": "execute_result"
    }
   ],
   "source": [
    "' '≠'How are you?'"
   ]
  },
  {
   "cell_type": "code",
   "execution_count": null,
   "id": "52630585",
   "metadata": {},
   "outputs": [
    {
     "data": {
      "text/html": [
       "<pre class=\"language-APL\">┌→───────────┐\n",
       "│How are you?│\n",
       "└────────────┘\n",
       "</pre>"
      ]
     },
     "execution_count": null,
     "metadata": {},
     "output_type": "execute_result"
    }
   ],
   "source": [
    "' '⊢'How are you?'"
   ]
  },
  {
   "cell_type": "code",
   "execution_count": null,
   "id": "7e788e65",
   "metadata": {},
   "outputs": [
    {
     "data": {
      "text/html": [
       "<pre class=\"language-APL\">┌→───────────────────┐\n",
       "│ ┌→──┐ ┌→──┐ ┌→───┐ │\n",
       "│ │How│ │are│ │you?│ │\n",
       "│ └───┘ └───┘ └────┘ │\n",
       "└∊───────────────────┘\n",
       "</pre>"
      ]
     },
     "execution_count": null,
     "metadata": {},
     "output_type": "execute_result"
    }
   ],
   "source": [
    "(' '≠'How are you?') ⊆ (' '⊢'How are you?')"
   ]
  },
  {
   "cell_type": "code",
   "execution_count": null,
   "id": "71bcd3d6",
   "metadata": {},
   "outputs": [
    {
     "data": {
      "text/html": [
       "<pre class=\"language-APL\">┌→───────────────────┐\n",
       "│ ┌→──┐ ┌→──┐ ┌→───┐ │\n",
       "│ │How│ │are│ │you?│ │\n",
       "│ └───┘ └───┘ └────┘ │\n",
       "└∊───────────────────┘\n",
       "</pre>"
      ]
     },
     "execution_count": null,
     "metadata": {},
     "output_type": "execute_result"
    }
   ],
   "source": [
    "' '(≠⊆⊢)'How are you?'"
   ]
  },
  {
   "cell_type": "code",
   "execution_count": null,
   "id": "8dc97773",
   "metadata": {},
   "outputs": [],
   "source": [
    "split ← {(⍺≠⍵) ⊆ (⍺⊢⍵)}"
   ]
  },
  {
   "cell_type": "code",
   "execution_count": null,
   "id": "75a14063",
   "metadata": {},
   "outputs": [
    {
     "data": {
      "text/html": [
       "<pre class=\"language-APL\">┌→───────────────────┐\n",
       "│ ┌→──┐ ┌→──┐ ┌→───┐ │\n",
       "│ │How│ │are│ │you?│ │\n",
       "│ └───┘ └───┘ └────┘ │\n",
       "└∊───────────────────┘\n",
       "</pre>"
      ]
     },
     "execution_count": null,
     "metadata": {},
     "output_type": "execute_result"
    }
   ],
   "source": [
    "' ' split 'How are you?'"
   ]
  },
  {
   "cell_type": "code",
   "execution_count": null,
   "id": "7c8db425",
   "metadata": {},
   "outputs": [],
   "source": []
  }
 ],
 "metadata": {
  "kernelspec": {
   "display_name": "Dyalog APL",
   "language": "apl",
   "name": "dyalog-kernel"
  },
  "language_info": {
   "file_extension": ".apl",
   "mimetype": "text/apl",
   "name": "APL"
  },
  "toc": {
   "base_numbering": 1,
   "nav_menu": {},
   "number_sections": false,
   "sideBar": true,
   "skip_h1_title": false,
   "title_cell": "Table of Contents",
   "title_sidebar": "Contents",
   "toc_cell": false,
   "toc_position": {},
   "toc_section_display": true,
   "toc_window_display": false
  }
 },
 "nbformat": 4,
 "nbformat_minor": 5
}
