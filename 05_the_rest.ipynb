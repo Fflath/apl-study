{
 "cells": [
  {
   "cell_type": "raw",
   "id": "2990f581",
   "metadata": {},
   "source": [
    "---\n",
    "title: \"The rest of the glyphs\"\n",
    "author: \"Jeremy Howard\"\n",
    "date: \"2022-07-05\"\n",
    "categories: [Dyalog, APL, Glyphs]\n",
    "---"
   ]
  },
  {
   "cell_type": "code",
   "execution_count": null,
   "id": "84e8fa35",
   "metadata": {},
   "outputs": [
    {
     "data": {
      "text/html": [
       "<pre class=\"language-APL\">┌→─────────────────────────────────────┐\n",
       "│Was ON -style=max -trains=tree -fns=on│\n",
       "└──────────────────────────────────────┘\n",
       "</pre>"
      ]
     },
     "execution_count": null,
     "metadata": {},
     "output_type": "execute_result"
    }
   ],
   "source": [
    "]box on -style=max -trains=tree -fns=on"
   ]
  },
  {
   "cell_type": "markdown",
   "id": "da2674b7",
   "metadata": {},
   "source": [
    "## Glpyhs"
   ]
  },
  {
   "cell_type": "markdown",
   "id": "426ab86a",
   "metadata": {},
   "source": [
    "### `∩` (Up shoe)"
   ]
  },
  {
   "cell_type": "markdown",
   "id": "01db0c25",
   "metadata": {},
   "source": [
    "#### dyadic `∩` (Intersection)"
   ]
  },
  {
   "cell_type": "code",
   "execution_count": null,
   "id": "7e4acc70",
   "metadata": {},
   "outputs": [
    {
     "data": {
      "text/html": [
       "<pre class=\"language-APL\">┌→──┐\n",
       "│ARA│\n",
       "└───┘\n",
       "</pre>"
      ]
     },
     "execution_count": null,
     "metadata": {},
     "output_type": "execute_result"
    }
   ],
   "source": [
    "'ABRA'∩'CAR'"
   ]
  },
  {
   "cell_type": "code",
   "execution_count": null,
   "id": "dc6d81d2",
   "metadata": {},
   "outputs": [
    {
     "data": {
      "text/html": [
       "<pre class=\"language-APL\">┌→────────┐\n",
       "│    ┌→─┐ │\n",
       "│ 22 │ab│ │\n",
       "│    └──┘ │\n",
       "└∊────────┘\n",
       "</pre>"
      ]
     },
     "execution_count": null,
     "metadata": {},
     "output_type": "execute_result"
    }
   ],
   "source": [
    "22 'ab' 'fg' ∩ 'a' 'ab' 22"
   ]
  },
  {
   "cell_type": "markdown",
   "id": "fb7757a4",
   "metadata": {},
   "source": [
    "### `∪` (Down shoe)"
   ]
  },
  {
   "cell_type": "markdown",
   "id": "b5515721",
   "metadata": {},
   "source": [
    "#### monadic `∪` (Unique)"
   ]
  },
  {
   "cell_type": "code",
   "execution_count": null,
   "id": "b87f55b6",
   "metadata": {},
   "outputs": [],
   "source": [
    "a ← 2 3 4 2 3 4 5"
   ]
  },
  {
   "cell_type": "code",
   "execution_count": null,
   "id": "c4d34ad5",
   "metadata": {},
   "outputs": [
    {
     "data": {
      "text/html": [
       "<pre class=\"language-APL\">┌→──────┐\n",
       "│2 3 4 5│\n",
       "└~──────┘\n",
       "</pre>"
      ]
     },
     "execution_count": null,
     "metadata": {},
     "output_type": "execute_result"
    }
   ],
   "source": [
    "∪a"
   ]
  },
  {
   "cell_type": "code",
   "execution_count": null,
   "id": "8e0bc0e8",
   "metadata": {},
   "outputs": [
    {
     "data": {
      "text/html": [
       "<pre class=\"language-APL\">┌→──────┐\n",
       "│2 3 4 5│\n",
       "└~──────┘\n",
       "</pre>"
      ]
     },
     "execution_count": null,
     "metadata": {},
     "output_type": "execute_result"
    }
   ],
   "source": [
    "(≠a)/a "
   ]
  },
  {
   "cell_type": "code",
   "execution_count": null,
   "id": "dfbbec06",
   "metadata": {},
   "outputs": [
    {
     "data": {
      "text/html": [
       "<pre class=\"language-APL\">┌→──────────────┐\n",
       "│ ┌→─┐ ┌→─┐     │\n",
       "│ │ab│ │ba│ 1 2 │\n",
       "│ └──┘ └──┘     │\n",
       "└∊──────────────┘\n",
       "</pre>"
      ]
     },
     "execution_count": null,
     "metadata": {},
     "output_type": "execute_result"
    }
   ],
   "source": [
    "∪ 'ab' 'ba' 'ab' 1 1 2"
   ]
  },
  {
   "cell_type": "markdown",
   "id": "5e5b8871",
   "metadata": {},
   "source": [
    "#### dyadic `∪` (Union)"
   ]
  },
  {
   "cell_type": "code",
   "execution_count": null,
   "id": "7fcc51fa",
   "metadata": {},
   "outputs": [
    {
     "data": {
      "text/html": [
       "<pre class=\"language-APL\">┌→────┐\n",
       "│ABRAC│\n",
       "└─────┘\n",
       "</pre>"
      ]
     },
     "execution_count": null,
     "metadata": {},
     "output_type": "execute_result"
    }
   ],
   "source": [
    "'ABRA'∪'CAR'"
   ]
  },
  {
   "cell_type": "code",
   "execution_count": null,
   "id": "1d1e7955",
   "metadata": {},
   "outputs": [
    {
     "data": {
      "text/html": [
       "<pre class=\"language-APL\">┌→───────────────┐\n",
       "│    ┌→─┐ ┌→─┐   │\n",
       "│ 22 │ab│ │fg│ a │\n",
       "│    └──┘ └──┘ - │\n",
       "└∊───────────────┘\n",
       "</pre>"
      ]
     },
     "execution_count": null,
     "metadata": {},
     "output_type": "execute_result"
    }
   ],
   "source": [
    "22 'ab' 'fg' ∪ 'a' 'ab' 22"
   ]
  },
  {
   "cell_type": "code",
   "execution_count": null,
   "id": "9786cef5",
   "metadata": {},
   "outputs": [],
   "source": []
  }
 ],
 "metadata": {
  "kernelspec": {
   "display_name": "Dyalog APL",
   "language": "apl",
   "name": "dyalog-kernel"
  }
 },
 "nbformat": 4,
 "nbformat_minor": 5
}
