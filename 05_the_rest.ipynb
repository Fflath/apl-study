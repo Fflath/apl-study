{
 "cells": [
  {
   "cell_type": "raw",
   "id": "2990f581",
   "metadata": {},
   "source": [
    "---\n",
    "title: \"The rest of the glyphs\"\n",
    "author: \"Jeremy Howard\"\n",
    "date: \"2022-07-05\"\n",
    "categories: [Dyalog, APL, Glyphs]\n",
    "---"
   ]
  },
  {
   "cell_type": "code",
   "execution_count": null,
   "id": "84e8fa35",
   "metadata": {},
   "outputs": [
    {
     "data": {
      "text/html": [
       "<pre class=\"language-APL\">┌→─────────────────────────────────────┐\n",
       "│Was ON -style=max -trains=tree -fns=on│\n",
       "└──────────────────────────────────────┘\n",
       "</pre>"
      ]
     },
     "execution_count": null,
     "metadata": {},
     "output_type": "execute_result"
    }
   ],
   "source": [
    "]box on -style=max -trains=tree -fns=on"
   ]
  },
  {
   "cell_type": "markdown",
   "id": "dd2acda1",
   "metadata": {},
   "source": [
    "`@ ⍞⎕⍠⌺⌶⍎⍕ →∇& ¯⍬∆⍙`"
   ]
  },
  {
   "cell_type": "markdown",
   "id": "da2674b7",
   "metadata": {},
   "source": [
    "## Sets and stuff"
   ]
  },
  {
   "cell_type": "markdown",
   "id": "84f5b849",
   "metadata": {},
   "source": [
    "### `∊` (Epsilon)"
   ]
  },
  {
   "cell_type": "markdown",
   "id": "1407b15c",
   "metadata": {},
   "source": [
    "#### monadic `∊` (Enlist)"
   ]
  },
  {
   "cell_type": "code",
   "execution_count": null,
   "id": "90a3cbab",
   "metadata": {},
   "outputs": [
    {
     "data": {
      "text/html": [
       "<pre class=\"language-APL\">┌→────┐\n",
       "↓1 2 3│\n",
       "│4 5 6│\n",
       "└~────┘\n",
       "</pre>"
      ]
     },
     "execution_count": null,
     "metadata": {},
     "output_type": "execute_result"
    }
   ],
   "source": [
    "⎕←mat←2 3⍴⍳6"
   ]
  },
  {
   "cell_type": "code",
   "execution_count": null,
   "id": "3c31775c",
   "metadata": {},
   "outputs": [
    {
     "data": {
      "text/html": [
       "<pre class=\"language-APL\">┌→─────────────────────┐\n",
       "│0 1 2 3 4 5 6 7 8 nine│\n",
       "└+─────────────────────┘\n",
       "</pre>"
      ]
     },
     "execution_count": null,
     "metadata": {},
     "output_type": "execute_result"
    }
   ],
   "source": [
    "∊ 0 mat (7 8) 'nine'"
   ]
  },
  {
   "cell_type": "markdown",
   "id": "36fb24f6",
   "metadata": {},
   "source": [
    "#### dyadic `∊` (Member of)"
   ]
  },
  {
   "cell_type": "code",
   "execution_count": null,
   "id": "8f66b6f4",
   "metadata": {},
   "outputs": [
    {
     "data": {
      "text/html": [
       "<pre class=\"language-APL\">┌→──┐\n",
       "│0 1│\n",
       "└~──┘\n",
       "</pre>"
      ]
     },
     "execution_count": null,
     "metadata": {},
     "output_type": "execute_result"
    }
   ],
   "source": [
    "'abc' 4 ∊ 4 'ab' 'abcd'"
   ]
  },
  {
   "cell_type": "code",
   "execution_count": null,
   "id": "42c03182",
   "metadata": {},
   "outputs": [
    {
     "data": {
      "text/html": [
       "<pre class=\"language-APL\">┌→────┐\n",
       "↓0 1 0│\n",
       "│1 0 1│\n",
       "└~────┘\n",
       "</pre>"
      ]
     },
     "execution_count": null,
     "metadata": {},
     "output_type": "execute_result"
    }
   ],
   "source": [
    "mat←2 3⍴⍳6\n",
    "mat ∊ 6 2 7 4"
   ]
  },
  {
   "cell_type": "markdown",
   "id": "567c7021",
   "metadata": {},
   "source": [
    "### `⍷` (Epsilon Underbar)"
   ]
  },
  {
   "cell_type": "markdown",
   "id": "05507611",
   "metadata": {},
   "source": [
    "#### dyadic `⍷` (Find)"
   ]
  },
  {
   "cell_type": "code",
   "execution_count": null,
   "id": "60eeabd6",
   "metadata": {},
   "outputs": [
    {
     "data": {
      "text/html": [
       "<pre class=\"language-APL\">┌→────────────┐\n",
       "│0 1 0 1 0 0 0│\n",
       "└~────────────┘\n",
       "</pre>"
      ]
     },
     "execution_count": null,
     "metadata": {},
     "output_type": "execute_result"
    }
   ],
   "source": [
    "1 ⍷ 3 1 4 1 5 9 2"
   ]
  },
  {
   "cell_type": "code",
   "execution_count": null,
   "id": "4ad69e8d",
   "metadata": {},
   "outputs": [
    {
     "data": {
      "text/html": [
       "<pre class=\"language-APL\">┌→────────────┐\n",
       "│0 1 0 0 0 0 0│\n",
       "└~────────────┘\n",
       "</pre>"
      ]
     },
     "execution_count": null,
     "metadata": {},
     "output_type": "execute_result"
    }
   ],
   "source": [
    "1 4 ⍷ 3 1 4 1 5 9 2"
   ]
  },
  {
   "cell_type": "code",
   "execution_count": null,
   "id": "210249f5",
   "metadata": {},
   "outputs": [
    {
     "data": {
      "text/html": [
       "<pre class=\"language-APL\">┌→──────────┐\n",
       "│0 1 0 1 0 0│\n",
       "└~──────────┘\n",
       "</pre>"
      ]
     },
     "execution_count": null,
     "metadata": {},
     "output_type": "execute_result"
    }
   ],
   "source": [
    "'ana' ⍷ 'Banana'"
   ]
  },
  {
   "cell_type": "code",
   "execution_count": null,
   "id": "965336e9",
   "metadata": {},
   "outputs": [
    {
     "data": {
      "text/html": [
       "<pre class=\"language-APL\">┌→────────────────┐\n",
       "│ ┌→──┐ ┌→──────┐ │\n",
       "│ ↓0 1│ ↓0 1 0 0│ │\n",
       "│ │1 0│ │1 0 0 1│ │\n",
       "│ └~──┘ │0 0 1 0│ │\n",
       "│       │0 1 0 0│ │\n",
       "│       └~──────┘ │\n",
       "└∊────────────────┘\n",
       "</pre>"
      ]
     },
     "execution_count": null,
     "metadata": {},
     "output_type": "execute_result"
    }
   ],
   "source": [
    "X ← 2 2 ⍴ 0 1 1 0\n",
    "Y ← 4 4 ⍴ 0 1 0 0 1 0 0 1 0 0 1 0 0 1 0 0\n",
    "X Y"
   ]
  },
  {
   "cell_type": "code",
   "execution_count": null,
   "id": "14467662",
   "metadata": {},
   "outputs": [
    {
     "data": {
      "text/html": [
       "<pre class=\"language-APL\">┌→──────┐\n",
       "↓1 0 0 0│\n",
       "│0 0 1 0│\n",
       "│0 1 0 0│\n",
       "│0 0 0 0│\n",
       "└~──────┘\n",
       "</pre>"
      ]
     },
     "execution_count": null,
     "metadata": {},
     "output_type": "execute_result"
    }
   ],
   "source": [
    "X ⍷ Y"
   ]
  },
  {
   "cell_type": "markdown",
   "id": "426ab86a",
   "metadata": {},
   "source": [
    "### `∩` (Up shoe)"
   ]
  },
  {
   "cell_type": "markdown",
   "id": "01db0c25",
   "metadata": {},
   "source": [
    "#### dyadic `∩` (Intersection)"
   ]
  },
  {
   "cell_type": "code",
   "execution_count": null,
   "id": "7e4acc70",
   "metadata": {},
   "outputs": [
    {
     "data": {
      "text/html": [
       "<pre class=\"language-APL\">┌→──┐\n",
       "│ARA│\n",
       "└───┘\n",
       "</pre>"
      ]
     },
     "execution_count": null,
     "metadata": {},
     "output_type": "execute_result"
    }
   ],
   "source": [
    "'ABRA'∩'CAR'"
   ]
  },
  {
   "cell_type": "code",
   "execution_count": null,
   "id": "dc6d81d2",
   "metadata": {},
   "outputs": [
    {
     "data": {
      "text/html": [
       "<pre class=\"language-APL\">┌→────────┐\n",
       "│    ┌→─┐ │\n",
       "│ 22 │ab│ │\n",
       "│    └──┘ │\n",
       "└∊────────┘\n",
       "</pre>"
      ]
     },
     "execution_count": null,
     "metadata": {},
     "output_type": "execute_result"
    }
   ],
   "source": [
    "22 'ab' 'fg' ∩ 'a' 'ab' 22"
   ]
  },
  {
   "cell_type": "markdown",
   "id": "fb7757a4",
   "metadata": {},
   "source": [
    "### `∪` (Down shoe)"
   ]
  },
  {
   "cell_type": "markdown",
   "id": "b5515721",
   "metadata": {},
   "source": [
    "#### monadic `∪` (Unique)"
   ]
  },
  {
   "cell_type": "code",
   "execution_count": null,
   "id": "b87f55b6",
   "metadata": {},
   "outputs": [],
   "source": [
    "a ← 2 3 4 2 3 4 5"
   ]
  },
  {
   "cell_type": "code",
   "execution_count": null,
   "id": "c4d34ad5",
   "metadata": {},
   "outputs": [
    {
     "data": {
      "text/html": [
       "<pre class=\"language-APL\">┌→──────┐\n",
       "│2 3 4 5│\n",
       "└~──────┘\n",
       "</pre>"
      ]
     },
     "execution_count": null,
     "metadata": {},
     "output_type": "execute_result"
    }
   ],
   "source": [
    "∪a"
   ]
  },
  {
   "cell_type": "code",
   "execution_count": null,
   "id": "8e0bc0e8",
   "metadata": {},
   "outputs": [
    {
     "data": {
      "text/html": [
       "<pre class=\"language-APL\">┌→──────┐\n",
       "│2 3 4 5│\n",
       "└~──────┘\n",
       "</pre>"
      ]
     },
     "execution_count": null,
     "metadata": {},
     "output_type": "execute_result"
    }
   ],
   "source": [
    "(≠a)/a "
   ]
  },
  {
   "cell_type": "code",
   "execution_count": null,
   "id": "dfbbec06",
   "metadata": {},
   "outputs": [
    {
     "data": {
      "text/html": [
       "<pre class=\"language-APL\">┌→──────────────┐\n",
       "│ ┌→─┐ ┌→─┐     │\n",
       "│ │ab│ │ba│ 1 2 │\n",
       "│ └──┘ └──┘     │\n",
       "└∊──────────────┘\n",
       "</pre>"
      ]
     },
     "execution_count": null,
     "metadata": {},
     "output_type": "execute_result"
    }
   ],
   "source": [
    "∪ 'ab' 'ba' 'ab' 1 1 2"
   ]
  },
  {
   "cell_type": "markdown",
   "id": "5e5b8871",
   "metadata": {},
   "source": [
    "#### dyadic `∪` (Union)"
   ]
  },
  {
   "cell_type": "code",
   "execution_count": null,
   "id": "7fcc51fa",
   "metadata": {},
   "outputs": [
    {
     "data": {
      "text/html": [
       "<pre class=\"language-APL\">┌→────┐\n",
       "│ABRAC│\n",
       "└─────┘\n",
       "</pre>"
      ]
     },
     "execution_count": null,
     "metadata": {},
     "output_type": "execute_result"
    }
   ],
   "source": [
    "'ABRA'∪'CAR'"
   ]
  },
  {
   "cell_type": "code",
   "execution_count": null,
   "id": "1d1e7955",
   "metadata": {},
   "outputs": [
    {
     "data": {
      "text/html": [
       "<pre class=\"language-APL\">┌→───────────────┐\n",
       "│    ┌→─┐ ┌→─┐   │\n",
       "│ 22 │ab│ │fg│ a │\n",
       "│    └──┘ └──┘ - │\n",
       "└∊───────────────┘\n",
       "</pre>"
      ]
     },
     "execution_count": null,
     "metadata": {},
     "output_type": "execute_result"
    }
   ],
   "source": [
    "22 'ab' 'fg' ∪ 'a' 'ab' 22"
   ]
  },
  {
   "cell_type": "markdown",
   "id": "f8056248",
   "metadata": {},
   "source": [
    "## Sort / index"
   ]
  },
  {
   "cell_type": "markdown",
   "id": "77e272c6",
   "metadata": {},
   "source": [
    "### `⌷` (Squad)"
   ]
  },
  {
   "cell_type": "markdown",
   "id": "0c816033",
   "metadata": {},
   "source": [
    "#### monadic `⌷` (Materialise)"
   ]
  },
  {
   "cell_type": "markdown",
   "id": "5ba60006",
   "metadata": {},
   "source": [
    "For `⌷ ⍵`: If ⍵ is an array, returns ⍵. For a class/COM/.Net object, it materialises the items."
   ]
  },
  {
   "cell_type": "markdown",
   "id": "d8e72637",
   "metadata": {},
   "source": [
    "#### dyadic `⌷` (Index)"
   ]
  },
  {
   "cell_type": "code",
   "execution_count": null,
   "id": "72801c8e",
   "metadata": {},
   "outputs": [
    {
     "data": {
      "text/html": [
       "<pre class=\"language-APL\"> \n",
       "6\n",
       " \n",
       "</pre>"
      ]
     },
     "execution_count": null,
     "metadata": {},
     "output_type": "execute_result"
    }
   ],
   "source": [
    "v ← 2×⍳12\n",
    "3⌷v"
   ]
  },
  {
   "cell_type": "code",
   "execution_count": null,
   "id": "b9a792d4",
   "metadata": {},
   "outputs": [
    {
     "data": {
      "text/html": [
       "<pre class=\"language-APL\">┌→───┐\n",
       "│6 10│\n",
       "└~───┘\n",
       "</pre>"
      ]
     },
     "execution_count": null,
     "metadata": {},
     "output_type": "execute_result"
    }
   ],
   "source": [
    "(⊂3 5) ⌷v"
   ]
  },
  {
   "cell_type": "code",
   "execution_count": null,
   "id": "1268fe10",
   "metadata": {},
   "outputs": [
    {
     "data": {
      "text/html": [
       "<pre class=\"language-APL\">┌→─────────┐\n",
       "↓1  2  3  4│\n",
       "│5  6  7  8│\n",
       "│9 10 11 12│\n",
       "└~─────────┘\n",
       "</pre>"
      ]
     },
     "execution_count": null,
     "metadata": {},
     "output_type": "execute_result"
    }
   ],
   "source": [
    "⎕ ← mat ← 3 4 ⍴⍳12"
   ]
  },
  {
   "cell_type": "code",
   "execution_count": null,
   "id": "137a5f5f",
   "metadata": {},
   "outputs": [
    {
     "data": {
      "text/html": [
       "<pre class=\"language-APL\"> \n",
       "7\n",
       " \n",
       "</pre>"
      ]
     },
     "execution_count": null,
     "metadata": {},
     "output_type": "execute_result"
    }
   ],
   "source": [
    "2 3 ⌷ mat"
   ]
  },
  {
   "cell_type": "markdown",
   "id": "3b2eaa84",
   "metadata": {},
   "source": [
    "### `⍒` (Grade Down)"
   ]
  },
  {
   "cell_type": "markdown",
   "id": "09ab35bf",
   "metadata": {},
   "source": [
    "#### monadic `⍒` (Grade Down)"
   ]
  },
  {
   "cell_type": "code",
   "execution_count": null,
   "id": "2e77203d",
   "metadata": {},
   "outputs": [
    {
     "data": {
      "text/html": [
       "<pre class=\"language-APL\">┌→────────┐\n",
       "│4 3 1 5 2│\n",
       "└~────────┘\n",
       "</pre>"
      ]
     },
     "execution_count": null,
     "metadata": {},
     "output_type": "execute_result"
    }
   ],
   "source": [
    "⍒ 33 11 44 66 22"
   ]
  },
  {
   "cell_type": "code",
   "execution_count": null,
   "id": "6df7fa75",
   "metadata": {},
   "outputs": [],
   "source": [
    "a ← 33 11 44 66 22"
   ]
  },
  {
   "cell_type": "code",
   "execution_count": null,
   "id": "6ca39670",
   "metadata": {},
   "outputs": [
    {
     "data": {
      "text/html": [
       "<pre class=\"language-APL\">┌→─────────────┐\n",
       "│66 44 33 22 11│\n",
       "└~─────────────┘\n",
       "</pre>"
      ]
     },
     "execution_count": null,
     "metadata": {},
     "output_type": "execute_result"
    }
   ],
   "source": [
    "a[⍒a]"
   ]
  },
  {
   "cell_type": "code",
   "execution_count": null,
   "id": "c3dd94c3",
   "metadata": {},
   "outputs": [
    {
     "data": {
      "text/html": [
       "<pre class=\"language-APL\">┌→─────────────┐\n",
       "│66 44 33 22 11│\n",
       "└~─────────────┘\n",
       "</pre>"
      ]
     },
     "execution_count": null,
     "metadata": {},
     "output_type": "execute_result"
    }
   ],
   "source": [
    "a⌷⍨⊂⍒a"
   ]
  },
  {
   "cell_type": "markdown",
   "id": "0bec4127",
   "metadata": {},
   "source": [
    "`{⍵[⍋⍵]}` and `{(⊂⍋⍵)⌷⍵}` are sort idioms (special cased for performance)"
   ]
  },
  {
   "cell_type": "code",
   "execution_count": null,
   "id": "ff298201",
   "metadata": {},
   "outputs": [],
   "source": [
    "sort ← ⌷⍨∘⊂∘⍒⍨"
   ]
  },
  {
   "cell_type": "code",
   "execution_count": null,
   "id": "710685d5",
   "metadata": {},
   "outputs": [
    {
     "data": {
      "text/html": [
       "<pre class=\"language-APL\">┌→─────────────┐\n",
       "│66 44 33 22 11│\n",
       "└~─────────────┘\n",
       "</pre>"
      ]
     },
     "execution_count": null,
     "metadata": {},
     "output_type": "execute_result"
    }
   ],
   "source": [
    "sort a"
   ]
  },
  {
   "cell_type": "code",
   "execution_count": null,
   "id": "dafc738a",
   "metadata": {},
   "outputs": [],
   "source": [
    "tsort ← (⊂∘⍒)⌷⊢  ⍝ h/t Rory Kemp"
   ]
  },
  {
   "cell_type": "code",
   "execution_count": null,
   "id": "92af3196",
   "metadata": {},
   "outputs": [
    {
     "data": {
      "text/html": [
       "<pre class=\"language-APL\">┌→─────────────┐\n",
       "│66 44 33 22 11│\n",
       "└~─────────────┘\n",
       "</pre>"
      ]
     },
     "execution_count": null,
     "metadata": {},
     "output_type": "execute_result"
    }
   ],
   "source": [
    "tsort a"
   ]
  },
  {
   "cell_type": "markdown",
   "id": "815f2ca9",
   "metadata": {},
   "source": [
    "#### dyadic `⍒` (Dyadic Grade Down)"
   ]
  },
  {
   "cell_type": "code",
   "execution_count": null,
   "id": "834b4267",
   "metadata": {},
   "outputs": [],
   "source": [
    "a ← 'abcdefgabcdefg'"
   ]
  },
  {
   "cell_type": "code",
   "execution_count": null,
   "id": "ed3d0a25",
   "metadata": {},
   "outputs": [],
   "source": [
    "b ← 'cgf' ⍒ a"
   ]
  },
  {
   "cell_type": "code",
   "execution_count": null,
   "id": "16954655",
   "metadata": {},
   "outputs": [
    {
     "data": {
      "text/html": [
       "<pre class=\"language-APL\">┌→─────────────┐\n",
       "│abdeabdeffggcc│\n",
       "└──────────────┘\n",
       "</pre>"
      ]
     },
     "execution_count": null,
     "metadata": {},
     "output_type": "execute_result"
    }
   ],
   "source": [
    "a⌷⍨⊂b"
   ]
  },
  {
   "cell_type": "markdown",
   "id": "6462e384",
   "metadata": {},
   "source": [
    "### `⍋` (Grade Up)"
   ]
  },
  {
   "cell_type": "markdown",
   "id": "325836fc",
   "metadata": {},
   "source": [
    "#### monadic `⍋` (Grade Up)"
   ]
  },
  {
   "cell_type": "code",
   "execution_count": null,
   "id": "4659cd30",
   "metadata": {},
   "outputs": [
    {
     "data": {
      "text/html": [
       "<pre class=\"language-APL\">┌→────────┐\n",
       "│2 5 1 3 4│\n",
       "└~────────┘\n",
       "</pre>"
      ]
     },
     "execution_count": null,
     "metadata": {},
     "output_type": "execute_result"
    }
   ],
   "source": [
    "⍋ 33 11 44 66 22"
   ]
  },
  {
   "cell_type": "code",
   "execution_count": null,
   "id": "6e85eeeb",
   "metadata": {},
   "outputs": [],
   "source": [
    "a ← 33 11 44 66 22"
   ]
  },
  {
   "cell_type": "code",
   "execution_count": null,
   "id": "670053ed",
   "metadata": {},
   "outputs": [
    {
     "data": {
      "text/html": [
       "<pre class=\"language-APL\">┌→─────────────┐\n",
       "│11 22 33 44 66│\n",
       "└~─────────────┘\n",
       "</pre>"
      ]
     },
     "execution_count": null,
     "metadata": {},
     "output_type": "execute_result"
    }
   ],
   "source": [
    "a[⍋a]"
   ]
  },
  {
   "cell_type": "code",
   "execution_count": null,
   "id": "8b0eb4bd",
   "metadata": {},
   "outputs": [
    {
     "data": {
      "text/html": [
       "<pre class=\"language-APL\">┌→─────────────┐\n",
       "│11 22 33 44 66│\n",
       "└~─────────────┘\n",
       "</pre>"
      ]
     },
     "execution_count": null,
     "metadata": {},
     "output_type": "execute_result"
    }
   ],
   "source": [
    "a⌷⍨⊂⍋a"
   ]
  },
  {
   "cell_type": "markdown",
   "id": "a717b1f2",
   "metadata": {},
   "source": [
    "#### dyadic `⍒` (Dyadic Grade Down)"
   ]
  },
  {
   "cell_type": "code",
   "execution_count": null,
   "id": "90ad8673",
   "metadata": {},
   "outputs": [
    {
     "data": {
      "text/html": [
       "<pre class=\"language-APL\">┌→─────────────┐\n",
       "│ccggffabdeabde│\n",
       "└──────────────┘\n",
       "</pre>"
      ]
     },
     "execution_count": null,
     "metadata": {},
     "output_type": "execute_result"
    }
   ],
   "source": [
    "a ← 'abcdefgabcdefg'\n",
    "b ← 'cgf' ⍋ a\n",
    "a⌷⍨⊂b"
   ]
  },
  {
   "cell_type": "markdown",
   "id": "484bc54f",
   "metadata": {},
   "source": [
    "## Rotate / transpose / flip"
   ]
  },
  {
   "cell_type": "markdown",
   "id": "39dcdf7b",
   "metadata": {},
   "source": [
    "### `⌽` (Circle Stile)"
   ]
  },
  {
   "cell_type": "markdown",
   "id": "9799fd42",
   "metadata": {},
   "source": [
    "#### monadic `⌽` (Reverse)"
   ]
  },
  {
   "cell_type": "code",
   "execution_count": null,
   "id": "d8cf03d6",
   "metadata": {},
   "outputs": [
    {
     "data": {
      "text/html": [
       "<pre class=\"language-APL\">┌→────┐\n",
       "│smart│\n",
       "└─────┘\n",
       "</pre>"
      ]
     },
     "execution_count": null,
     "metadata": {},
     "output_type": "execute_result"
    }
   ],
   "source": [
    "⌽ 'trams'"
   ]
  },
  {
   "cell_type": "code",
   "execution_count": null,
   "id": "c3007ccf",
   "metadata": {},
   "outputs": [
    {
     "data": {
      "text/html": [
       "<pre class=\"language-APL\">┌→─────────┐\n",
       "↓1  2  3  4│\n",
       "│5  6  7  8│\n",
       "│9 10 11 12│\n",
       "└~─────────┘\n",
       "</pre>"
      ]
     },
     "execution_count": null,
     "metadata": {},
     "output_type": "execute_result"
    }
   ],
   "source": [
    "⎕ ← mat ← 3 4 ⍴⍳12"
   ]
  },
  {
   "cell_type": "code",
   "execution_count": null,
   "id": "076ec08c",
   "metadata": {},
   "outputs": [
    {
     "data": {
      "text/html": [
       "<pre class=\"language-APL\">┌→─────────┐\n",
       "↓ 4  3  2 1│\n",
       "│ 8  7  6 5│\n",
       "│12 11 10 9│\n",
       "└~─────────┘\n",
       "</pre>"
      ]
     },
     "execution_count": null,
     "metadata": {},
     "output_type": "execute_result"
    }
   ],
   "source": [
    "⌽ mat"
   ]
  },
  {
   "cell_type": "markdown",
   "id": "8912e595",
   "metadata": {},
   "source": [
    "#### dyadic `⌽` (Rotate)"
   ]
  },
  {
   "cell_type": "code",
   "execution_count": null,
   "id": "d10daf7d",
   "metadata": {},
   "outputs": [
    {
     "data": {
      "text/html": [
       "<pre class=\"language-APL\">┌→───────┐\n",
       "│atStandH│\n",
       "└────────┘\n",
       "</pre>"
      ]
     },
     "execution_count": null,
     "metadata": {},
     "output_type": "execute_result"
    }
   ],
   "source": [
    "1 ⌽ 'HatStand'"
   ]
  },
  {
   "cell_type": "code",
   "execution_count": null,
   "id": "3c9acd25",
   "metadata": {},
   "outputs": [
    {
     "data": {
      "text/html": [
       "<pre class=\"language-APL\">┌→───────┐\n",
       "│StandHat│\n",
       "└────────┘\n",
       "</pre>"
      ]
     },
     "execution_count": null,
     "metadata": {},
     "output_type": "execute_result"
    }
   ],
   "source": [
    "3 ⌽ 'HatStand'"
   ]
  },
  {
   "cell_type": "code",
   "execution_count": null,
   "id": "5fbabe11",
   "metadata": {},
   "outputs": [
    {
     "data": {
      "text/html": [
       "<pre class=\"language-APL\">┌→──────────┐\n",
       "│5 6 1 2 3 4│\n",
       "└~──────────┘\n",
       "</pre>"
      ]
     },
     "execution_count": null,
     "metadata": {},
     "output_type": "execute_result"
    }
   ],
   "source": [
    "¯2 ⌽ 1 2 3 4 5 6"
   ]
  },
  {
   "cell_type": "code",
   "execution_count": null,
   "id": "4a5246f2",
   "metadata": {},
   "outputs": [
    {
     "data": {
      "text/html": [
       "<pre class=\"language-APL\">┌→─────────┐\n",
       "↓1  2  3  4│\n",
       "│5  6  7  8│\n",
       "│9 10 11 12│\n",
       "└~─────────┘\n",
       "</pre>"
      ]
     },
     "execution_count": null,
     "metadata": {},
     "output_type": "execute_result"
    }
   ],
   "source": [
    "⎕ ← mat ← 3 4 ⍴⍳12"
   ]
  },
  {
   "cell_type": "code",
   "execution_count": null,
   "id": "ec0be1f9",
   "metadata": {},
   "outputs": [
    {
     "data": {
      "text/html": [
       "<pre class=\"language-APL\">┌→─────────┐\n",
       "↓ 4 1  2  3│\n",
       "│ 8 5  6  7│\n",
       "│12 9 10 11│\n",
       "└~─────────┘\n",
       "</pre>"
      ]
     },
     "execution_count": null,
     "metadata": {},
     "output_type": "execute_result"
    }
   ],
   "source": [
    "¯1 ⌽ mat"
   ]
  },
  {
   "cell_type": "code",
   "execution_count": null,
   "id": "86a51ea9",
   "metadata": {},
   "outputs": [
    {
     "data": {
      "text/html": [
       "<pre class=\"language-APL\">┌→─────────┐\n",
       "↓ 2  3 4  1│\n",
       "│ 8  5 6  7│\n",
       "│11 12 9 10│\n",
       "└~─────────┘\n",
       "</pre>"
      ]
     },
     "execution_count": null,
     "metadata": {},
     "output_type": "execute_result"
    }
   ],
   "source": [
    "1 ¯1 2 ⌽ mat"
   ]
  },
  {
   "cell_type": "markdown",
   "id": "7b284ee6",
   "metadata": {},
   "source": [
    "### `⊖` (Circle Bar)"
   ]
  },
  {
   "cell_type": "markdown",
   "id": "45a8f3e7",
   "metadata": {},
   "source": [
    "#### monadic `⊖` (Reverse First)"
   ]
  },
  {
   "cell_type": "code",
   "execution_count": null,
   "id": "606bbe70",
   "metadata": {},
   "outputs": [
    {
     "data": {
      "text/html": [
       "<pre class=\"language-APL\">┌→────┐\n",
       "│smart│\n",
       "└─────┘\n",
       "</pre>"
      ]
     },
     "execution_count": null,
     "metadata": {},
     "output_type": "execute_result"
    }
   ],
   "source": [
    "⊖ 'trams'"
   ]
  },
  {
   "cell_type": "code",
   "execution_count": null,
   "id": "68ab5beb",
   "metadata": {},
   "outputs": [
    {
     "data": {
      "text/html": [
       "<pre class=\"language-APL\">┌→─────────┐\n",
       "↓9 10 11 12│\n",
       "│5  6  7  8│\n",
       "│1  2  3  4│\n",
       "└~─────────┘\n",
       "</pre>"
      ]
     },
     "execution_count": null,
     "metadata": {},
     "output_type": "execute_result"
    }
   ],
   "source": [
    "mat ← 3 4 ⍴⍳12\n",
    "⊖ mat"
   ]
  },
  {
   "cell_type": "markdown",
   "id": "ae5a17ec",
   "metadata": {},
   "source": [
    "#### dyadic `⊖` (Rotate First)"
   ]
  },
  {
   "cell_type": "code",
   "execution_count": null,
   "id": "cd078b60",
   "metadata": {},
   "outputs": [
    {
     "data": {
      "text/html": [
       "<pre class=\"language-APL\">┌→───────┐\n",
       "│StandHat│\n",
       "└────────┘\n",
       "</pre>"
      ]
     },
     "execution_count": null,
     "metadata": {},
     "output_type": "execute_result"
    }
   ],
   "source": [
    "3 ⊖ 'HatStand'"
   ]
  },
  {
   "cell_type": "code",
   "execution_count": null,
   "id": "cdf5770c",
   "metadata": {},
   "outputs": [
    {
     "data": {
      "text/html": [
       "<pre class=\"language-APL\">┌→─────────┐\n",
       "↓9 10 11 12│\n",
       "│1  2  3  4│\n",
       "│5  6  7  8│\n",
       "└~─────────┘\n",
       "</pre>"
      ]
     },
     "execution_count": null,
     "metadata": {},
     "output_type": "execute_result"
    }
   ],
   "source": [
    "mat ← 3 4 ⍴⍳12\n",
    "¯1 ⊖ mat"
   ]
  },
  {
   "cell_type": "markdown",
   "id": "db239b56",
   "metadata": {},
   "source": [
    "### `⍉` (Circle Bar)"
   ]
  },
  {
   "cell_type": "markdown",
   "id": "307d55a9",
   "metadata": {},
   "source": [
    "#### monadic `⍉` (Transpose)"
   ]
  },
  {
   "cell_type": "code",
   "execution_count": null,
   "id": "a8e58b17",
   "metadata": {},
   "outputs": [
    {
     "data": {
      "text/html": [
       "<pre class=\"language-APL\">┌→─────┐\n",
       "↓1 5  9│\n",
       "│2 6 10│\n",
       "│3 7 11│\n",
       "│4 8 12│\n",
       "└~─────┘\n",
       "</pre>"
      ]
     },
     "execution_count": null,
     "metadata": {},
     "output_type": "execute_result"
    }
   ],
   "source": [
    "mat ← 3 4 ⍴⍳12\n",
    "⍉ mat"
   ]
  },
  {
   "cell_type": "code",
   "execution_count": null,
   "id": "edde848f",
   "metadata": {},
   "outputs": [
    {
     "data": {
      "text/html": [
       "<pre class=\"language-APL\">┌┌→──────────┐\n",
       "↓↓ 1  2  3  4│\n",
       "││ 5  6  7  8│\n",
       "││ 9 10 11 12│\n",
       "││           │\n",
       "││13 14 15 16│\n",
       "││17 18 19 20│\n",
       "││21 22 23 24│\n",
       "└└~──────────┘\n",
       "</pre>"
      ]
     },
     "execution_count": null,
     "metadata": {},
     "output_type": "execute_result"
    }
   ],
   "source": [
    "⎕←cube ← 2 3 4 ⍴⍳24"
   ]
  },
  {
   "cell_type": "code",
   "execution_count": null,
   "id": "c46169dd",
   "metadata": {},
   "outputs": [
    {
     "data": {
      "text/html": [
       "<pre class=\"language-APL\">┌┌→────┐\n",
       "↓↓ 1 13│\n",
       "││ 5 17│\n",
       "││ 9 21│\n",
       "││     │\n",
       "││ 2 14│\n",
       "││ 6 18│\n",
       "││10 22│\n",
       "││     │\n",
       "││ 3 15│\n",
       "││ 7 19│\n",
       "││11 23│\n",
       "││     │\n",
       "││ 4 16│\n",
       "││ 8 20│\n",
       "││12 24│\n",
       "└└~────┘\n",
       "</pre>"
      ]
     },
     "execution_count": null,
     "metadata": {},
     "output_type": "execute_result"
    }
   ],
   "source": [
    "⍉ cube"
   ]
  },
  {
   "cell_type": "code",
   "execution_count": null,
   "id": "440ad418",
   "metadata": {},
   "outputs": [
    {
     "data": {
      "text/html": [
       "<pre class=\"language-APL\">┌→────┐\n",
       "│4 3 2│\n",
       "└~────┘\n",
       "</pre>"
      ]
     },
     "execution_count": null,
     "metadata": {},
     "output_type": "execute_result"
    }
   ],
   "source": [
    "⍴⍉ cube"
   ]
  },
  {
   "cell_type": "markdown",
   "id": "000eaa59",
   "metadata": {},
   "source": [
    "#### dyadic `⊖` (Rotate First)"
   ]
  },
  {
   "cell_type": "code",
   "execution_count": null,
   "id": "30e4a317",
   "metadata": {},
   "outputs": [
    {
     "data": {
      "text/html": [
       "<pre class=\"language-APL\">┌→─────┐\n",
       "↓1 5  9│\n",
       "│2 6 10│\n",
       "│3 7 11│\n",
       "│4 8 12│\n",
       "└~─────┘\n",
       "</pre>"
      ]
     },
     "execution_count": null,
     "metadata": {},
     "output_type": "execute_result"
    }
   ],
   "source": [
    "mat ← 3 4 ⍴⍳12\n",
    "2 1 ⍉ mat"
   ]
  },
  {
   "cell_type": "code",
   "execution_count": null,
   "id": "9dc16c94",
   "metadata": {},
   "outputs": [
    {
     "data": {
      "text/html": [
       "<pre class=\"language-APL\">┌→─────┐\n",
       "│1 6 11│\n",
       "└~─────┘\n",
       "</pre>"
      ]
     },
     "execution_count": null,
     "metadata": {},
     "output_type": "execute_result"
    }
   ],
   "source": [
    "1 1 ⍉ mat  "
   ]
  },
  {
   "cell_type": "code",
   "execution_count": null,
   "id": "b8f77a8e",
   "metadata": {},
   "outputs": [
    {
     "data": {
      "text/html": [
       "<pre class=\"language-APL\">┌┌→──────────┐\n",
       "↓↓ 1  2  3  4│\n",
       "││ 5  6  7  8│\n",
       "││ 9 10 11 12│\n",
       "││           │\n",
       "││13 14 15 16│\n",
       "││17 18 19 20│\n",
       "││21 22 23 24│\n",
       "└└~──────────┘\n",
       "</pre>"
      ]
     },
     "execution_count": null,
     "metadata": {},
     "output_type": "execute_result"
    }
   ],
   "source": [
    "⎕ ← cube ← 2 3 4 ⍴⍳24"
   ]
  },
  {
   "cell_type": "code",
   "execution_count": null,
   "id": "9035bd1e",
   "metadata": {},
   "outputs": [
    {
     "data": {
      "text/html": [
       "<pre class=\"language-APL\">┌→────┐\n",
       "│3 2 4│\n",
       "└~────┘\n",
       "</pre>"
      ]
     },
     "execution_count": null,
     "metadata": {},
     "output_type": "execute_result"
    }
   ],
   "source": [
    "⍴ 2 1 3 ⍉ cube"
   ]
  },
  {
   "cell_type": "code",
   "execution_count": null,
   "id": "80684b4c",
   "metadata": {},
   "outputs": [
    {
     "data": {
      "text/html": [
       "<pre class=\"language-APL\">┌→───┐\n",
       "│1 18│\n",
       "└~───┘\n",
       "</pre>"
      ]
     },
     "execution_count": null,
     "metadata": {},
     "output_type": "execute_result"
    }
   ],
   "source": [
    "1 1 1⍉ cube"
   ]
  },
  {
   "cell_type": "code",
   "execution_count": null,
   "id": "755c266d",
   "metadata": {},
   "outputs": [
    {
     "data": {
      "text/html": [
       "<pre class=\"language-APL\">┌→────┐\n",
       "↓ 1 13│\n",
       "│ 6 18│\n",
       "│11 23│\n",
       "└~────┘\n",
       "</pre>"
      ]
     },
     "execution_count": null,
     "metadata": {},
     "output_type": "execute_result"
    }
   ],
   "source": [
    "2 1 1⍉ cube"
   ]
  },
  {
   "cell_type": "code",
   "execution_count": null,
   "id": "4c937890",
   "metadata": {},
   "outputs": [],
   "source": []
  }
 ],
 "metadata": {
  "kernelspec": {
   "display_name": "Dyalog APL",
   "language": "apl",
   "name": "dyalog-kernel"
  }
 },
 "nbformat": 4,
 "nbformat_minor": 5
}
