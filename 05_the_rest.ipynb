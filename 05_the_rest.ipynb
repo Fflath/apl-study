{
 "cells": [
  {
   "cell_type": "raw",
   "id": "2990f581",
   "metadata": {},
   "source": [
    "---\n",
    "title: \"The rest of the glyphs\"\n",
    "author: \"Jeremy Howard\"\n",
    "date: \"2022-07-05\"\n",
    "categories: [Dyalog, APL, Glyphs]\n",
    "---"
   ]
  },
  {
   "cell_type": "code",
   "execution_count": 1,
   "id": "84e8fa35",
   "metadata": {},
   "outputs": [
    {
     "data": {
      "text/html": [
       "<span style=\"white-space:pre; font-family: monospace\">┌→─────────────────────────────────────┐\n",
       "│Was ON -style=max -trains=tree -fns=on│\n",
       "└──────────────────────────────────────┘\n",
       "</span>"
      ]
     },
     "execution_count": 1,
     "metadata": {},
     "output_type": "execute_result"
    }
   ],
   "source": [
    "]box on -style=max -trains=tree -fns=on"
   ]
  },
  {
   "cell_type": "markdown",
   "id": "da2674b7",
   "metadata": {},
   "source": [
    "## Glpyhs"
   ]
  },
  {
   "cell_type": "markdown",
   "id": "426ab86a",
   "metadata": {},
   "source": [
    "### `∩` (Up shoe)"
   ]
  },
  {
   "cell_type": "markdown",
   "id": "01db0c25",
   "metadata": {},
   "source": [
    "#### dyadic `∩` (Intersection)"
   ]
  },
  {
   "cell_type": "code",
   "execution_count": 7,
   "id": "7e4acc70",
   "metadata": {},
   "outputs": [
    {
     "data": {
      "text/html": [
       "<span style=\"white-space:pre; font-family: monospace\">┌→──┐\n",
       "│ARA│\n",
       "└───┘\n",
       "</span>"
      ]
     },
     "execution_count": 7,
     "metadata": {},
     "output_type": "execute_result"
    }
   ],
   "source": [
    "'ABRA'∩'CAR'"
   ]
  },
  {
   "cell_type": "code",
   "execution_count": 3,
   "id": "dc6d81d2",
   "metadata": {},
   "outputs": [
    {
     "data": {
      "text/html": [
       "<span style=\"white-space:pre; font-family: monospace\">┌→────────┐\n",
       "│    ┌→─┐ │\n",
       "│ 22 │ab│ │\n",
       "│    └──┘ │\n",
       "└∊────────┘\n",
       "</span>"
      ]
     },
     "execution_count": 3,
     "metadata": {},
     "output_type": "execute_result"
    }
   ],
   "source": [
    "22 'ab' 'fg' ∩ 'a' 'ab' 22"
   ]
  },
  {
   "cell_type": "markdown",
   "id": "fb7757a4",
   "metadata": {},
   "source": [
    "### `∪` (Down shoe)"
   ]
  },
  {
   "cell_type": "markdown",
   "id": "b5515721",
   "metadata": {},
   "source": [
    "#### monadic `∪` (Unique)"
   ]
  },
  {
   "cell_type": "code",
   "execution_count": 13,
   "id": "b87f55b6",
   "metadata": {},
   "outputs": [],
   "source": [
    "a ← 2 3 4 2 3 4 5"
   ]
  },
  {
   "cell_type": "code",
   "execution_count": 16,
   "id": "c4d34ad5",
   "metadata": {},
   "outputs": [
    {
     "data": {
      "text/html": [
       "<span style=\"white-space:pre; font-family: monospace\">┌→──────┐\n",
       "│2 3 4 5│\n",
       "└~──────┘\n",
       "</span>"
      ]
     },
     "execution_count": 16,
     "metadata": {},
     "output_type": "execute_result"
    }
   ],
   "source": [
    "∪a"
   ]
  },
  {
   "cell_type": "code",
   "execution_count": 20,
   "id": "8e0bc0e8",
   "metadata": {},
   "outputs": [
    {
     "data": {
      "text/html": [
       "<span style=\"white-space:pre; font-family: monospace\">┌→──────┐\n",
       "│2 3 4 5│\n",
       "└~──────┘\n",
       "</span>"
      ]
     },
     "execution_count": 20,
     "metadata": {},
     "output_type": "execute_result"
    }
   ],
   "source": [
    "(≠a)/a "
   ]
  },
  {
   "cell_type": "code",
   "execution_count": 11,
   "id": "dfbbec06",
   "metadata": {},
   "outputs": [
    {
     "data": {
      "text/html": [
       "<span style=\"white-space:pre; font-family: monospace\">┌→──────────────┐\n",
       "│ ┌→─┐ ┌→─┐     │\n",
       "│ │ab│ │ba│ 1 2 │\n",
       "│ └──┘ └──┘     │\n",
       "└∊──────────────┘\n",
       "</span>"
      ]
     },
     "execution_count": 11,
     "metadata": {},
     "output_type": "execute_result"
    }
   ],
   "source": [
    "∪ 'ab' 'ba' 'ab' 1 1 2"
   ]
  },
  {
   "cell_type": "markdown",
   "id": "5e5b8871",
   "metadata": {},
   "source": [
    "#### dyadic `∪` (Union)"
   ]
  },
  {
   "cell_type": "code",
   "execution_count": 8,
   "id": "7fcc51fa",
   "metadata": {},
   "outputs": [
    {
     "data": {
      "text/html": [
       "<span style=\"white-space:pre; font-family: monospace\">┌→────┐\n",
       "│ABRAC│\n",
       "└─────┘\n",
       "</span>"
      ]
     },
     "execution_count": 8,
     "metadata": {},
     "output_type": "execute_result"
    }
   ],
   "source": [
    "'ABRA'∪'CAR'"
   ]
  },
  {
   "cell_type": "code",
   "execution_count": 9,
   "id": "1d1e7955",
   "metadata": {},
   "outputs": [
    {
     "data": {
      "text/html": [
       "<span style=\"white-space:pre; font-family: monospace\">┌→───────────────┐\n",
       "│    ┌→─┐ ┌→─┐   │\n",
       "│ 22 │ab│ │fg│ a │\n",
       "│    └──┘ └──┘ - │\n",
       "└∊───────────────┘\n",
       "</span>"
      ]
     },
     "execution_count": 9,
     "metadata": {},
     "output_type": "execute_result"
    }
   ],
   "source": [
    "22 'ab' 'fg' ∪ 'a' 'ab' 22"
   ]
  },
  {
   "cell_type": "code",
   "execution_count": null,
   "id": "9786cef5",
   "metadata": {},
   "outputs": [],
   "source": []
  }
 ],
 "metadata": {
  "kernelspec": {
   "display_name": "Dyalog APL",
   "language": "apl",
   "name": "dyalog-kernel"
  },
  "language_info": {
   "file_extension": ".apl",
   "mimetype": "text/apl",
   "name": "APL"
  },
  "toc": {
   "base_numbering": 1,
   "nav_menu": {},
   "number_sections": false,
   "sideBar": true,
   "skip_h1_title": false,
   "title_cell": "Table of Contents",
   "title_sidebar": "Contents",
   "toc_cell": false,
   "toc_position": {},
   "toc_section_display": true,
   "toc_window_display": false
  }
 },
 "nbformat": 4,
 "nbformat_minor": 5
}
