{
 "cells": [
  {
   "cell_type": "raw",
   "id": "2990f581",
   "metadata": {},
   "source": [
    "---\n",
    "title: \"APL Competition 2022\"\n",
    "author: \"Jeremy Howard\"\n",
    "date: \"2022-07-05\"\n",
    "categories: [Dyalog, APL, Glyphs]\n",
    "---"
   ]
  },
  {
   "cell_type": "markdown",
   "id": "5d6af942",
   "metadata": {},
   "source": [
    "This notebook covers useful glyphs and concepts useful for the 2022 Dyalog APL competition. Be sure to read the [Basics](APL.ipynb) and [Operators](operators.ipynb) notebooks first."
   ]
  },
  {
   "cell_type": "code",
   "execution_count": null,
   "id": "84e8fa35",
   "metadata": {},
   "outputs": [
    {
     "data": {
      "text/html": [
       "<pre class=\"language-APL\">┌→─────────────────────────────────────┐\n",
       "│Was ON -style=max -trains=tree -fns=on│\n",
       "└──────────────────────────────────────┘\n",
       "</pre>"
      ]
     },
     "execution_count": null,
     "metadata": {},
     "output_type": "execute_result"
    }
   ],
   "source": [
    "]box on -style=max -trains=tree -fns=on"
   ]
  },
  {
   "cell_type": "markdown",
   "id": "da2674b7",
   "metadata": {},
   "source": [
    "## Glpyhs"
   ]
  },
  {
   "cell_type": "markdown",
   "id": "426ab86a",
   "metadata": {},
   "source": [
    "### `↑` (Up arrow)"
   ]
  },
  {
   "cell_type": "markdown",
   "id": "d7c5a6e2",
   "metadata": {},
   "source": [
    "#### monadic `↑` (Mix)"
   ]
  },
  {
   "cell_type": "code",
   "execution_count": null,
   "id": "3f02ff32",
   "metadata": {},
   "outputs": [
    {
     "data": {
      "text/html": [
       "<pre class=\"language-APL\">┌→────────────┐\n",
       "│ ┌→──┐ ┌→──┐ │\n",
       "│ │Hip│ │Hop│ │\n",
       "│ └───┘ └───┘ │\n",
       "└∊────────────┘\n",
       "</pre>"
      ]
     },
     "execution_count": null,
     "metadata": {},
     "output_type": "execute_result"
    }
   ],
   "source": [
    "'Hip' 'Hop'"
   ]
  },
  {
   "cell_type": "code",
   "execution_count": null,
   "id": "3f4cf518",
   "metadata": {},
   "outputs": [
    {
     "data": {
      "text/html": [
       "<pre class=\"language-APL\">┌→──┐\n",
       "↓Hip│\n",
       "│Hop│\n",
       "└───┘\n",
       "</pre>"
      ]
     },
     "execution_count": null,
     "metadata": {},
     "output_type": "execute_result"
    }
   ],
   "source": [
    "↑ 'Hip' 'Hop'"
   ]
  },
  {
   "cell_type": "code",
   "execution_count": null,
   "id": "c8195e4a",
   "metadata": {},
   "outputs": [
    {
     "data": {
      "text/html": [
       "<pre class=\"language-APL\">┌→──┐\n",
       "│2 3│\n",
       "└~──┘\n",
       "</pre>"
      ]
     },
     "execution_count": null,
     "metadata": {},
     "output_type": "execute_result"
    }
   ],
   "source": [
    "⍴↑ 'Hip' 'Hop'"
   ]
  },
  {
   "cell_type": "code",
   "execution_count": null,
   "id": "cd23ab13",
   "metadata": {},
   "outputs": [
    {
     "data": {
      "text/html": [
       "<pre class=\"language-APL\">┌→──┐\n",
       "↓6 4│\n",
       "│5 0│\n",
       "│3 0│\n",
       "└~──┘\n",
       "</pre>"
      ]
     },
     "execution_count": null,
     "metadata": {},
     "output_type": "execute_result"
    }
   ],
   "source": [
    "↑ (6 4) 5 3"
   ]
  },
  {
   "cell_type": "code",
   "execution_count": null,
   "id": "b510d101",
   "metadata": {},
   "outputs": [
    {
     "data": {
      "text/html": [
       "<pre class=\"language-APL\">┌→────┐\n",
       "↓1 2 0│\n",
       "│3 0 0│\n",
       "│4 5 6│\n",
       "└~────┘\n",
       "</pre>"
      ]
     },
     "execution_count": null,
     "metadata": {},
     "output_type": "execute_result"
    }
   ],
   "source": [
    "↑(1 2) 3 (4 5 6)"
   ]
  },
  {
   "cell_type": "markdown",
   "id": "01db0c25",
   "metadata": {},
   "source": [
    "#### dyadic `↑` (Take)"
   ]
  },
  {
   "cell_type": "code",
   "execution_count": null,
   "id": "b4cfe378",
   "metadata": {},
   "outputs": [
    {
     "data": {
      "text/html": [
       "<pre class=\"language-APL\">┌→───┐\n",
       "│Pine│\n",
       "└────┘\n",
       "</pre>"
      ]
     },
     "execution_count": null,
     "metadata": {},
     "output_type": "execute_result"
    }
   ],
   "source": [
    "4 ↑ 'Pineapple'"
   ]
  },
  {
   "cell_type": "code",
   "execution_count": null,
   "id": "032e52ce",
   "metadata": {},
   "outputs": [
    {
     "data": {
      "text/html": [
       "<pre class=\"language-APL\">┌→───────────┐\n",
       "│Pineapple   │\n",
       "└────────────┘\n",
       "</pre>"
      ]
     },
     "execution_count": null,
     "metadata": {},
     "output_type": "execute_result"
    }
   ],
   "source": [
    "12 ↑ 'Pineapple'"
   ]
  },
  {
   "cell_type": "code",
   "execution_count": null,
   "id": "83c4b6c7",
   "metadata": {},
   "outputs": [
    {
     "data": {
      "text/html": [
       "<pre class=\"language-APL\">┌→────┐\n",
       "│apple│\n",
       "└─────┘\n",
       "</pre>"
      ]
     },
     "execution_count": null,
     "metadata": {},
     "output_type": "execute_result"
    }
   ],
   "source": [
    "¯5 ↑ 'Pineapple'"
   ]
  },
  {
   "cell_type": "code",
   "execution_count": null,
   "id": "359d90ed",
   "metadata": {},
   "outputs": [
    {
     "data": {
      "text/html": [
       "<pre class=\"language-APL\">┌→─────────┐\n",
       "↓1  2  3  4│\n",
       "│5  6  7  8│\n",
       "│9 10 11 12│\n",
       "└~─────────┘\n",
       "</pre>"
      ]
     },
     "execution_count": null,
     "metadata": {},
     "output_type": "execute_result"
    }
   ],
   "source": [
    "⎕←mat←3 4⍴⍳12"
   ]
  },
  {
   "cell_type": "code",
   "execution_count": null,
   "id": "6f0d38ba",
   "metadata": {},
   "outputs": [
    {
     "data": {
      "text/html": [
       "<pre class=\"language-APL\">┌→──────┐\n",
       "↓1 2 3 4│\n",
       "│5 6 7 8│\n",
       "└~──────┘\n",
       "</pre>"
      ]
     },
     "execution_count": null,
     "metadata": {},
     "output_type": "execute_result"
    }
   ],
   "source": [
    "2 ↑ mat"
   ]
  },
  {
   "cell_type": "code",
   "execution_count": null,
   "id": "d25a75ba",
   "metadata": {},
   "outputs": [
    {
     "data": {
      "text/html": [
       "<pre class=\"language-APL\">┌→────┐\n",
       "↓2 3 4│\n",
       "│6 7 8│\n",
       "└~────┘\n",
       "</pre>"
      ]
     },
     "execution_count": null,
     "metadata": {},
     "output_type": "execute_result"
    }
   ],
   "source": [
    "2 ¯3 ↑ mat"
   ]
  },
  {
   "cell_type": "code",
   "execution_count": null,
   "id": "a67fd7b2",
   "metadata": {},
   "outputs": [
    {
     "data": {
      "text/html": [
       "<pre class=\"language-APL\">┌→─────────┐\n",
       "↓1  2  3  4│\n",
       "│5  6  7  8│\n",
       "│9 10 11 12│\n",
       "│0  0  0  0│\n",
       "│0  0  0  0│\n",
       "└~─────────┘\n",
       "</pre>"
      ]
     },
     "execution_count": null,
     "metadata": {},
     "output_type": "execute_result"
    }
   ],
   "source": [
    "5 ↑ mat"
   ]
  },
  {
   "cell_type": "markdown",
   "id": "ccce31ab",
   "metadata": {},
   "source": [
    "### `↓` (Down arrow)"
   ]
  },
  {
   "cell_type": "markdown",
   "id": "b13ca055",
   "metadata": {},
   "source": [
    "#### monadic `↑` (Mix)"
   ]
  },
  {
   "cell_type": "code",
   "execution_count": null,
   "id": "0a82ac8d",
   "metadata": {},
   "outputs": [
    {
     "data": {
      "text/html": [
       "<pre class=\"language-APL\">┌→─────────┐\n",
       "↓1  2  3  4│\n",
       "│5  6  7  8│\n",
       "│9 10 11 12│\n",
       "└~─────────┘\n",
       "</pre>"
      ]
     },
     "execution_count": null,
     "metadata": {},
     "output_type": "execute_result"
    }
   ],
   "source": [
    "⎕←mat←3 4⍴⍳12"
   ]
  },
  {
   "cell_type": "code",
   "execution_count": null,
   "id": "c37f5e72",
   "metadata": {},
   "outputs": [
    {
     "data": {
      "text/html": [
       "<pre class=\"language-APL\">┌→─────────────────────────────────┐\n",
       "│ ┌→──────┐ ┌→──────┐ ┌→─────────┐ │\n",
       "│ │1 2 3 4│ │5 6 7 8│ │9 10 11 12│ │\n",
       "│ └~──────┘ └~──────┘ └~─────────┘ │\n",
       "└∊─────────────────────────────────┘\n",
       "</pre>"
      ]
     },
     "execution_count": null,
     "metadata": {},
     "output_type": "execute_result"
    }
   ],
   "source": [
    "↓mat"
   ]
  },
  {
   "cell_type": "markdown",
   "id": "17c9279a",
   "metadata": {},
   "source": [
    "#### dyadic `↓` (Drop)"
   ]
  },
  {
   "cell_type": "code",
   "execution_count": null,
   "id": "07a1a03c",
   "metadata": {},
   "outputs": [
    {
     "data": {
      "text/html": [
       "<pre class=\"language-APL\">┌→────┐\n",
       "│apple│\n",
       "└─────┘\n",
       "</pre>"
      ]
     },
     "execution_count": null,
     "metadata": {},
     "output_type": "execute_result"
    }
   ],
   "source": [
    "4 ↓ 'Pineapple'"
   ]
  },
  {
   "cell_type": "code",
   "execution_count": null,
   "id": "17186dd4",
   "metadata": {},
   "outputs": [
    {
     "data": {
      "text/html": [
       "<pre class=\"language-APL\">┌⊖┐\n",
       "│ │\n",
       "└─┘\n",
       "</pre>"
      ]
     },
     "execution_count": null,
     "metadata": {},
     "output_type": "execute_result"
    }
   ],
   "source": [
    "12 ↓ 'Pineapple'"
   ]
  },
  {
   "cell_type": "code",
   "execution_count": null,
   "id": "bd5cbaac",
   "metadata": {},
   "outputs": [
    {
     "data": {
      "text/html": [
       "<pre class=\"language-APL\">┌→───┐\n",
       "│Pine│\n",
       "└────┘\n",
       "</pre>"
      ]
     },
     "execution_count": null,
     "metadata": {},
     "output_type": "execute_result"
    }
   ],
   "source": [
    "¯5 ↓ 'Pineapple'"
   ]
  },
  {
   "cell_type": "code",
   "execution_count": null,
   "id": "0bbd6fb2",
   "metadata": {},
   "outputs": [
    {
     "data": {
      "text/html": [
       "<pre class=\"language-APL\">┌→─────────┐\n",
       "↓1  2  3  4│\n",
       "│5  6  7  8│\n",
       "│9 10 11 12│\n",
       "└~─────────┘\n",
       "</pre>"
      ]
     },
     "execution_count": null,
     "metadata": {},
     "output_type": "execute_result"
    }
   ],
   "source": [
    "⎕←mat←3 4⍴⍳12"
   ]
  },
  {
   "cell_type": "code",
   "execution_count": null,
   "id": "74e2fbcb",
   "metadata": {},
   "outputs": [
    {
     "data": {
      "text/html": [
       "<pre class=\"language-APL\">┌→─────────┐\n",
       "↓9 10 11 12│\n",
       "└~─────────┘\n",
       "</pre>"
      ]
     },
     "execution_count": null,
     "metadata": {},
     "output_type": "execute_result"
    }
   ],
   "source": [
    "2 ↓ mat"
   ]
  },
  {
   "cell_type": "code",
   "execution_count": null,
   "id": "6179ae17",
   "metadata": {},
   "outputs": [
    {
     "data": {
      "text/html": [
       "<pre class=\"language-APL\">┌→┐\n",
       "↓9│\n",
       "└~┘\n",
       "</pre>"
      ]
     },
     "execution_count": null,
     "metadata": {},
     "output_type": "execute_result"
    }
   ],
   "source": [
    "2 ¯3 ↓ mat"
   ]
  },
  {
   "cell_type": "markdown",
   "id": "b3a82aff",
   "metadata": {},
   "source": [
    "### `⌸` (Quad equal)"
   ]
  },
  {
   "cell_type": "markdown",
   "id": "08eb109e",
   "metadata": {},
   "source": [
    "#### monadic `⌸` (Key operator)"
   ]
  },
  {
   "cell_type": "code",
   "execution_count": null,
   "id": "2ddcb1ea",
   "metadata": {},
   "outputs": [],
   "source": [
    "a ← 'banana'"
   ]
  },
  {
   "cell_type": "code",
   "execution_count": null,
   "id": "d5b2cb64",
   "metadata": {},
   "outputs": [
    {
     "data": {
      "text/html": [
       "<pre class=\"language-APL\">┌→──────┐\n",
       "↓b 1    │\n",
       "│a 2 4 6│\n",
       "│n 3 5  │\n",
       "└+──────┘\n",
       "</pre>"
      ]
     },
     "execution_count": null,
     "metadata": {},
     "output_type": "execute_result"
    }
   ],
   "source": [
    "a ,⌸ ⍳6"
   ]
  },
  {
   "cell_type": "code",
   "execution_count": null,
   "id": "548f40f2",
   "metadata": {},
   "outputs": [
    {
     "data": {
      "text/html": [
       "<pre class=\"language-APL\">┌→──────┐\n",
       "↓b 1    │\n",
       "│a 2 4 6│\n",
       "│n 3 5  │\n",
       "└+──────┘\n",
       "</pre>"
      ]
     },
     "execution_count": null,
     "metadata": {},
     "output_type": "execute_result"
    }
   ],
   "source": [
    ",⌸ a"
   ]
  },
  {
   "cell_type": "code",
   "execution_count": null,
   "id": "c4293cfd",
   "metadata": {},
   "outputs": [
    {
     "data": {
      "text/html": [
       "<pre class=\"language-APL\">┌→───┐\n",
       "↓b  1│\n",
       "│a 12│\n",
       "│n  8│\n",
       "└+───┘\n",
       "</pre>"
      ]
     },
     "execution_count": null,
     "metadata": {},
     "output_type": "execute_result"
    }
   ],
   "source": [
    "a {⍺,+/⍵}⌸ ⍳6"
   ]
  },
  {
   "cell_type": "markdown",
   "id": "d6e4c907",
   "metadata": {},
   "source": [
    "### `⊂` (Left shoe)"
   ]
  },
  {
   "cell_type": "markdown",
   "id": "7148c091",
   "metadata": {},
   "source": [
    "#### monadic `⊂` (Enclose)"
   ]
  },
  {
   "cell_type": "code",
   "execution_count": null,
   "id": "5973fe9f",
   "metadata": {},
   "outputs": [
    {
     "data": {
      "text/html": [
       "<pre class=\"language-APL\">┌→────┐\n",
       "│1 2 3│\n",
       "└~────┘\n",
       "</pre>"
      ]
     },
     "execution_count": null,
     "metadata": {},
     "output_type": "execute_result"
    }
   ],
   "source": [
    "1 2 3"
   ]
  },
  {
   "cell_type": "code",
   "execution_count": null,
   "id": "bd386b4c",
   "metadata": {},
   "outputs": [
    {
     "data": {
      "text/html": [
       "<pre class=\"language-APL\">┌→┐\n",
       "│3│\n",
       "└~┘\n",
       "</pre>"
      ]
     },
     "execution_count": null,
     "metadata": {},
     "output_type": "execute_result"
    }
   ],
   "source": [
    "⍴1 2 3"
   ]
  },
  {
   "cell_type": "code",
   "execution_count": null,
   "id": "c1bf4da8",
   "metadata": {},
   "outputs": [
    {
     "data": {
      "text/html": [
       "<pre class=\"language-APL\">┌─────────┐\n",
       "│ ┌→────┐ │\n",
       "│ │1 2 3│ │\n",
       "│ └~────┘ │\n",
       "└∊────────┘\n",
       "</pre>"
      ]
     },
     "execution_count": null,
     "metadata": {},
     "output_type": "execute_result"
    }
   ],
   "source": [
    "⊂1 2 3"
   ]
  },
  {
   "cell_type": "code",
   "execution_count": null,
   "id": "ac73f91f",
   "metadata": {},
   "outputs": [
    {
     "data": {
      "text/html": [
       "<pre class=\"language-APL\">┌⊖┐\n",
       "│0│\n",
       "└~┘\n",
       "</pre>"
      ]
     },
     "execution_count": null,
     "metadata": {},
     "output_type": "execute_result"
    }
   ],
   "source": [
    "⍴⊂1 2 3"
   ]
  },
  {
   "cell_type": "code",
   "execution_count": null,
   "id": "b3a8f422",
   "metadata": {},
   "outputs": [
    {
     "data": {
      "text/html": [
       "<pre class=\"language-APL\">┌→────────┐\n",
       "│   ┌→──┐ │\n",
       "│ 1 │2 3│ │\n",
       "│   └~──┘ │\n",
       "└∊────────┘\n",
       "</pre>"
      ]
     },
     "execution_count": null,
     "metadata": {},
     "output_type": "execute_result"
    }
   ],
   "source": [
    "1(2 3)"
   ]
  },
  {
   "cell_type": "code",
   "execution_count": null,
   "id": "5174b653",
   "metadata": {},
   "outputs": [
    {
     "data": {
      "text/html": [
       "<pre class=\"language-APL\">┌→┐\n",
       "│2│\n",
       "└~┘\n",
       "</pre>"
      ]
     },
     "execution_count": null,
     "metadata": {},
     "output_type": "execute_result"
    }
   ],
   "source": [
    "⍴ 1(2 3)"
   ]
  },
  {
   "cell_type": "code",
   "execution_count": null,
   "id": "2a417898",
   "metadata": {},
   "outputs": [
    {
     "data": {
      "text/html": [
       "<pre class=\"language-APL\">┌→────────┐\n",
       "│   ┌→──┐ │\n",
       "│ 1 │2 3│ │\n",
       "│   └~──┘ │\n",
       "└∊────────┘\n",
       "</pre>"
      ]
     },
     "execution_count": null,
     "metadata": {},
     "output_type": "execute_result"
    }
   ],
   "source": [
    "1,⊂2 3"
   ]
  },
  {
   "cell_type": "code",
   "execution_count": null,
   "id": "8430caa1",
   "metadata": {},
   "outputs": [
    {
     "data": {
      "text/html": [
       "<pre class=\"language-APL\">┌─────────────┐\n",
       "│ ┌→────────┐ │\n",
       "│ │   ┌→──┐ │ │\n",
       "│ │ 1 │2 3│ │ │\n",
       "│ │   └~──┘ │ │\n",
       "│ └∊────────┘ │\n",
       "└∊────────────┘\n",
       "</pre>"
      ]
     },
     "execution_count": null,
     "metadata": {},
     "output_type": "execute_result"
    }
   ],
   "source": [
    "⊂ 1(2 3)"
   ]
  },
  {
   "cell_type": "code",
   "execution_count": null,
   "id": "97f5641a",
   "metadata": {},
   "outputs": [
    {
     "data": {
      "text/html": [
       "<pre class=\"language-APL\">┌⊖┐\n",
       "│0│\n",
       "└~┘\n",
       "</pre>"
      ]
     },
     "execution_count": null,
     "metadata": {},
     "output_type": "execute_result"
    }
   ],
   "source": [
    "⍴⊂ 1(2 3)"
   ]
  },
  {
   "cell_type": "code",
   "execution_count": null,
   "id": "f271d213",
   "metadata": {},
   "outputs": [
    {
     "data": {
      "text/html": [
       "<pre class=\"language-APL\">┌─────────────────┐\n",
       "│ ┌─────────────┐ │\n",
       "│ │ ┌→────────┐ │ │\n",
       "│ │ │   ┌→──┐ │ │ │\n",
       "│ │ │ 1 │2 3│ │ │ │\n",
       "│ │ │   └~──┘ │ │ │\n",
       "│ │ └∊────────┘ │ │\n",
       "│ └∊────────────┘ │\n",
       "└∊────────────────┘\n",
       "</pre>"
      ]
     },
     "execution_count": null,
     "metadata": {},
     "output_type": "execute_result"
    }
   ],
   "source": [
    "⊂⊂ 1(2 3)"
   ]
  },
  {
   "cell_type": "code",
   "execution_count": null,
   "id": "e55cbaac",
   "metadata": {},
   "outputs": [
    {
     "data": {
      "text/html": [
       "<pre class=\"language-APL\"> \n",
       "1\n",
       " \n",
       "</pre>"
      ]
     },
     "execution_count": null,
     "metadata": {},
     "output_type": "execute_result"
    }
   ],
   "source": [
    "⊂1"
   ]
  },
  {
   "cell_type": "markdown",
   "id": "0510c31d",
   "metadata": {},
   "source": [
    "This adds `4 5 6` to each element of the LHS (1, 2, and 3):"
   ]
  },
  {
   "cell_type": "code",
   "execution_count": null,
   "id": "90e97812",
   "metadata": {},
   "outputs": [
    {
     "data": {
      "text/html": [
       "<pre class=\"language-APL\">┌→────────────────────────┐\n",
       "│ ┌→────┐ ┌→────┐ ┌→────┐ │\n",
       "│ │5 6 7│ │6 7 8│ │7 8 9│ │\n",
       "│ └~────┘ └~────┘ └~────┘ │\n",
       "└∊────────────────────────┘\n",
       "</pre>"
      ]
     },
     "execution_count": null,
     "metadata": {},
     "output_type": "execute_result"
    }
   ],
   "source": [
    "1 2 3+⊂4 5 6"
   ]
  },
  {
   "cell_type": "markdown",
   "id": "31548044",
   "metadata": {},
   "source": [
    "It's basically the same idea as this, since `(⊂ 4 5 6)` and `1` are both scalars:"
   ]
  },
  {
   "cell_type": "code",
   "execution_count": null,
   "id": "fd7c7b48",
   "metadata": {},
   "outputs": [
    {
     "data": {
      "text/html": [
       "<pre class=\"language-APL\">┌→────┐\n",
       "│2 3 4│\n",
       "└~────┘\n",
       "</pre>"
      ]
     },
     "execution_count": null,
     "metadata": {},
     "output_type": "execute_result"
    }
   ],
   "source": [
    "1 2 3+1"
   ]
  },
  {
   "cell_type": "markdown",
   "id": "58d72f9c",
   "metadata": {},
   "source": [
    "#### dyadic `⊂` (Partitioned enclose)"
   ]
  },
  {
   "cell_type": "code",
   "execution_count": null,
   "id": "b2e43612",
   "metadata": {},
   "outputs": [
    {
     "data": {
      "text/html": [
       "<pre class=\"language-APL\">┌→─────────────┐\n",
       "│ ┌→─┐ ┌→────┐ │\n",
       "│ │Hi│ │Earth│ │\n",
       "│ └──┘ └─────┘ │\n",
       "└∊─────────────┘\n",
       "</pre>"
      ]
     },
     "execution_count": null,
     "metadata": {},
     "output_type": "execute_result"
    }
   ],
   "source": [
    "1 0 1 0 0 0 0⊂'HiEarth'"
   ]
  },
  {
   "cell_type": "code",
   "execution_count": null,
   "id": "24dd23a5",
   "metadata": {},
   "outputs": [
    {
     "data": {
      "text/html": [
       "<pre class=\"language-APL\">┌→─────────────────────────┐\n",
       "│ ┌⊖┐ ┌→─┐ ┌⊖┐ ┌⊖┐ ┌→────┐ │\n",
       "│ │ │ │Hi│ │ │ │ │ │Earth│ │\n",
       "│ └─┘ └──┘ └─┘ └─┘ └─────┘ │\n",
       "└∊─────────────────────────┘\n",
       "</pre>"
      ]
     },
     "execution_count": null,
     "metadata": {},
     "output_type": "execute_result"
    }
   ],
   "source": [
    "2 0 3 0 0 0 0⊂'HiEarth'"
   ]
  },
  {
   "cell_type": "markdown",
   "id": "129ede39",
   "metadata": {},
   "source": [
    "### `⊆` (Left shoe underbar)"
   ]
  },
  {
   "cell_type": "markdown",
   "id": "83bd3a74",
   "metadata": {},
   "source": [
    "#### monadic `⊆` (Nest)"
   ]
  },
  {
   "cell_type": "code",
   "execution_count": null,
   "id": "e05aaf18",
   "metadata": {},
   "outputs": [
    {
     "data": {
      "text/html": [
       "<pre class=\"language-APL\"> \n",
       "1\n",
       " \n",
       "</pre>"
      ]
     },
     "execution_count": null,
     "metadata": {},
     "output_type": "execute_result"
    }
   ],
   "source": [
    "(⊆1) ≡ ⊂1"
   ]
  },
  {
   "cell_type": "code",
   "execution_count": null,
   "id": "63181909",
   "metadata": {},
   "outputs": [
    {
     "data": {
      "text/html": [
       "<pre class=\"language-APL\"> \n",
       "1\n",
       " \n",
       "</pre>"
      ]
     },
     "execution_count": null,
     "metadata": {},
     "output_type": "execute_result"
    }
   ],
   "source": [
    "(⊆1 2 3) ≡ ⊂1 2 3"
   ]
  },
  {
   "cell_type": "code",
   "execution_count": null,
   "id": "f63a328c",
   "metadata": {},
   "outputs": [
    {
     "data": {
      "text/html": [
       "<pre class=\"language-APL\">┌→──────────┐\n",
       "│   ┌→────┐ │\n",
       "│ 1 │1 2 3│ │\n",
       "│   └~────┘ │\n",
       "└∊──────────┘\n",
       "</pre>"
      ]
     },
     "execution_count": null,
     "metadata": {},
     "output_type": "execute_result"
    }
   ],
   "source": [
    "⊆1 (1 2 3)"
   ]
  },
  {
   "cell_type": "code",
   "execution_count": null,
   "id": "47b45de8",
   "metadata": {},
   "outputs": [
    {
     "data": {
      "text/html": [
       "<pre class=\"language-APL\">┌───────────────┐\n",
       "│ ┌→──────────┐ │\n",
       "│ │   ┌→────┐ │ │\n",
       "│ │ 1 │1 2 3│ │ │\n",
       "│ │   └~────┘ │ │\n",
       "│ └∊──────────┘ │\n",
       "└∊──────────────┘\n",
       "</pre>"
      ]
     },
     "execution_count": null,
     "metadata": {},
     "output_type": "execute_result"
    }
   ],
   "source": [
    "⊂ 1 (1 2 3)"
   ]
  },
  {
   "cell_type": "markdown",
   "id": "620edc7a",
   "metadata": {},
   "source": [
    "#### dyadic `⊆` (Partition)"
   ]
  },
  {
   "cell_type": "code",
   "execution_count": null,
   "id": "adfd2d1e",
   "metadata": {},
   "outputs": [
    {
     "data": {
      "text/html": [
       "<pre class=\"language-APL\">┌→─────────────┐\n",
       "│ ┌→─┐ ┌→────┐ │\n",
       "│ │Hi│ │Earth│ │\n",
       "│ └──┘ └─────┘ │\n",
       "└∊─────────────┘\n",
       "</pre>"
      ]
     },
     "execution_count": null,
     "metadata": {},
     "output_type": "execute_result"
    }
   ],
   "source": [
    "1 1 2 2 2 2 2⊆'HiEarth'"
   ]
  },
  {
   "cell_type": "code",
   "execution_count": null,
   "id": "ef923d85",
   "metadata": {},
   "outputs": [
    {
     "data": {
      "text/html": [
       "<pre class=\"language-APL\">┌→───────────┐\n",
       "│ ┌→─┐ ┌→──┐ │\n",
       "│ │Hi│ │Ear│ │\n",
       "│ └──┘ └───┘ │\n",
       "└∊───────────┘\n",
       "</pre>"
      ]
     },
     "execution_count": null,
     "metadata": {},
     "output_type": "execute_result"
    }
   ],
   "source": [
    "1 1 2 2 2 0 0⊆'HiEarth'"
   ]
  },
  {
   "cell_type": "code",
   "execution_count": null,
   "id": "feca5be8",
   "metadata": {},
   "outputs": [
    {
     "data": {
      "text/html": [
       "<pre class=\"language-APL\">┌→───────────────────┐\n",
       "│ ┌→──┐ ┌→──┐ ┌→───┐ │\n",
       "│ │How│ │are│ │you?│ │\n",
       "│ └───┘ └───┘ └────┘ │\n",
       "└∊───────────────────┘\n",
       "</pre>"
      ]
     },
     "execution_count": null,
     "metadata": {},
     "output_type": "execute_result"
    }
   ],
   "source": [
    "1 1 1 0 1 1 1 0 1 1 1 1⊆'How are you?'"
   ]
  },
  {
   "cell_type": "markdown",
   "id": "8b0326cf",
   "metadata": {},
   "source": [
    "### `⊢` (Right tack)"
   ]
  },
  {
   "cell_type": "markdown",
   "id": "0a34369a",
   "metadata": {},
   "source": [
    "#### monadic `⊢` (Same)"
   ]
  },
  {
   "cell_type": "code",
   "execution_count": null,
   "id": "b81b6d0f",
   "metadata": {},
   "outputs": [
    {
     "data": {
      "text/html": [
       "<pre class=\"language-APL\"> \n",
       "1\n",
       " \n",
       "</pre>"
      ]
     },
     "execution_count": null,
     "metadata": {},
     "output_type": "execute_result"
    }
   ],
   "source": [
    "⊢1"
   ]
  },
  {
   "cell_type": "code",
   "execution_count": null,
   "id": "00691415",
   "metadata": {},
   "outputs": [
    {
     "data": {
      "text/html": [
       "<pre class=\"language-APL\">┌→──┐\n",
       "│abc│\n",
       "└───┘\n",
       "</pre>"
      ]
     },
     "execution_count": null,
     "metadata": {},
     "output_type": "execute_result"
    }
   ],
   "source": [
    "⊢'abc'"
   ]
  },
  {
   "cell_type": "markdown",
   "id": "97d0971d",
   "metadata": {},
   "source": [
    "#### dyadic `⊢` (Right)"
   ]
  },
  {
   "cell_type": "code",
   "execution_count": null,
   "id": "461ac21e",
   "metadata": {},
   "outputs": [
    {
     "data": {
      "text/html": [
       "<pre class=\"language-APL\"> \n",
       "1\n",
       " \n",
       "</pre>"
      ]
     },
     "execution_count": null,
     "metadata": {},
     "output_type": "execute_result"
    }
   ],
   "source": [
    "'abc'⊢1"
   ]
  },
  {
   "cell_type": "code",
   "execution_count": null,
   "id": "bfe47293",
   "metadata": {},
   "outputs": [
    {
     "data": {
      "text/html": [
       "<pre class=\"language-APL\">┌→──┐\n",
       "│abc│\n",
       "└───┘\n",
       "</pre>"
      ]
     },
     "execution_count": null,
     "metadata": {},
     "output_type": "execute_result"
    }
   ],
   "source": [
    "1⊢'abc'"
   ]
  },
  {
   "cell_type": "markdown",
   "id": "0c0ad5b4",
   "metadata": {},
   "source": [
    "### `⊣` (Left tack)"
   ]
  },
  {
   "cell_type": "markdown",
   "id": "9813f4e1",
   "metadata": {},
   "source": [
    "#### monadic `⊣` (Same)"
   ]
  },
  {
   "cell_type": "code",
   "execution_count": null,
   "id": "de77f334",
   "metadata": {},
   "outputs": [
    {
     "data": {
      "text/html": [
       "<pre class=\"language-APL\">┌→──┐\n",
       "│abc│\n",
       "└───┘\n",
       "</pre>"
      ]
     },
     "execution_count": null,
     "metadata": {},
     "output_type": "execute_result"
    }
   ],
   "source": [
    "⊣'abc'"
   ]
  },
  {
   "cell_type": "markdown",
   "id": "dff7a3c9",
   "metadata": {},
   "source": [
    "#### dyadic `⊣` (Left)"
   ]
  },
  {
   "cell_type": "code",
   "execution_count": null,
   "id": "89558f1d",
   "metadata": {},
   "outputs": [
    {
     "data": {
      "text/html": [
       "<pre class=\"language-APL\">┌→──┐\n",
       "│abc│\n",
       "└───┘\n",
       "</pre>"
      ]
     },
     "execution_count": null,
     "metadata": {},
     "output_type": "execute_result"
    }
   ],
   "source": [
    "'abc'⊣1"
   ]
  },
  {
   "cell_type": "code",
   "execution_count": null,
   "id": "2d004ac1",
   "metadata": {},
   "outputs": [
    {
     "data": {
      "text/html": [
       "<pre class=\"language-APL\"> \n",
       "1\n",
       " \n",
       "</pre>"
      ]
     },
     "execution_count": null,
     "metadata": {},
     "output_type": "execute_result"
    }
   ],
   "source": [
    "1⊣'abc'"
   ]
  },
  {
   "cell_type": "markdown",
   "id": "a4c28485",
   "metadata": {},
   "source": [
    "## Forks"
   ]
  },
  {
   "cell_type": "markdown",
   "id": "51b3f84c",
   "metadata": {},
   "source": [
    "In traditional mathematical notation (TMN): `(f+g)(x)=f(x)+g(x)`. Forks (3-trains) are just a generalisation of this pattern to all functions (though the middle one has to be dyadic)."
   ]
  },
  {
   "cell_type": "code",
   "execution_count": null,
   "id": "520f5e4e",
   "metadata": {},
   "outputs": [
    {
     "data": {
      "text/html": [
       "<pre class=\"language-APL\">           \n",
       "20.41887026\n",
       "           \n",
       "</pre>"
      ]
     },
     "execution_count": null,
     "metadata": {},
     "output_type": "execute_result"
    }
   ],
   "source": [
    "(÷3)+(*3)"
   ]
  },
  {
   "cell_type": "code",
   "execution_count": null,
   "id": "b2245603",
   "metadata": {},
   "outputs": [
    {
     "data": {
      "text/html": [
       "<pre class=\"language-APL\">           \n",
       "20.41887026\n",
       "           \n",
       "</pre>"
      ]
     },
     "execution_count": null,
     "metadata": {},
     "output_type": "execute_result"
    }
   ],
   "source": [
    "(÷+*)3"
   ]
  },
  {
   "cell_type": "code",
   "execution_count": null,
   "id": "21fa36a1",
   "metadata": {},
   "outputs": [
    {
     "data": {
      "text/html": [
       "<pre class=\"language-APL\"> \n",
       "6\n",
       " \n",
       "</pre>"
      ]
     },
     "execution_count": null,
     "metadata": {},
     "output_type": "execute_result"
    }
   ],
   "source": [
    "(+/÷≢) 2 5 8 9"
   ]
  },
  {
   "cell_type": "code",
   "execution_count": null,
   "id": "4b012428",
   "metadata": {},
   "outputs": [],
   "source": [
    "mean ← +/÷≢"
   ]
  },
  {
   "cell_type": "code",
   "execution_count": null,
   "id": "2bf8d6db",
   "metadata": {},
   "outputs": [
    {
     "data": {
      "text/html": [
       "<pre class=\"language-APL\"> \n",
       "6\n",
       " \n",
       "</pre>"
      ]
     },
     "execution_count": null,
     "metadata": {},
     "output_type": "execute_result"
    }
   ],
   "source": [
    "mean 2 5 8 9"
   ]
  },
  {
   "cell_type": "markdown",
   "id": "0b876337",
   "metadata": {},
   "source": [
    "For a dyadic fork, each of `f` and `g` are passed the LHS and the RHS:"
   ]
  },
  {
   "cell_type": "code",
   "execution_count": null,
   "id": "7a616a6d",
   "metadata": {},
   "outputs": [
    {
     "data": {
      "text/html": [
       "<pre class=\"language-APL\">┌→──────────────────────┐\n",
       "│1 1 1 0 1 1 1 0 1 1 1 1│\n",
       "└~──────────────────────┘\n",
       "</pre>"
      ]
     },
     "execution_count": null,
     "metadata": {},
     "output_type": "execute_result"
    }
   ],
   "source": [
    "' '≠'How are you?'"
   ]
  },
  {
   "cell_type": "code",
   "execution_count": null,
   "id": "52630585",
   "metadata": {},
   "outputs": [
    {
     "data": {
      "text/html": [
       "<pre class=\"language-APL\">┌→───────────┐\n",
       "│How are you?│\n",
       "└────────────┘\n",
       "</pre>"
      ]
     },
     "execution_count": null,
     "metadata": {},
     "output_type": "execute_result"
    }
   ],
   "source": [
    "' '⊢'How are you?'"
   ]
  },
  {
   "cell_type": "code",
   "execution_count": null,
   "id": "7e788e65",
   "metadata": {},
   "outputs": [
    {
     "data": {
      "text/html": [
       "<pre class=\"language-APL\">┌→───────────────────┐\n",
       "│ ┌→──┐ ┌→──┐ ┌→───┐ │\n",
       "│ │How│ │are│ │you?│ │\n",
       "│ └───┘ └───┘ └────┘ │\n",
       "└∊───────────────────┘\n",
       "</pre>"
      ]
     },
     "execution_count": null,
     "metadata": {},
     "output_type": "execute_result"
    }
   ],
   "source": [
    "(' '≠'How are you?') ⊆ (' '⊢'How are you?')"
   ]
  },
  {
   "cell_type": "code",
   "execution_count": null,
   "id": "71bcd3d6",
   "metadata": {},
   "outputs": [
    {
     "data": {
      "text/html": [
       "<pre class=\"language-APL\">┌→───────────────────┐\n",
       "│ ┌→──┐ ┌→──┐ ┌→───┐ │\n",
       "│ │How│ │are│ │you?│ │\n",
       "│ └───┘ └───┘ └────┘ │\n",
       "└∊───────────────────┘\n",
       "</pre>"
      ]
     },
     "execution_count": null,
     "metadata": {},
     "output_type": "execute_result"
    }
   ],
   "source": [
    "' '(≠⊆⊢)'How are you?'"
   ]
  },
  {
   "cell_type": "code",
   "execution_count": null,
   "id": "8dc97773",
   "metadata": {},
   "outputs": [],
   "source": [
    "split ← {(⍺≠⍵) ⊆ (⍺⊢⍵)}"
   ]
  },
  {
   "cell_type": "code",
   "execution_count": null,
   "id": "75a14063",
   "metadata": {},
   "outputs": [
    {
     "data": {
      "text/html": [
       "<pre class=\"language-APL\">┌→───────────────────┐\n",
       "│ ┌→──┐ ┌→──┐ ┌→───┐ │\n",
       "│ │How│ │are│ │you?│ │\n",
       "│ └───┘ └───┘ └────┘ │\n",
       "└∊───────────────────┘\n",
       "</pre>"
      ]
     },
     "execution_count": null,
     "metadata": {},
     "output_type": "execute_result"
    }
   ],
   "source": [
    "' ' split 'How are you?'"
   ]
  },
  {
   "cell_type": "code",
   "execution_count": null,
   "id": "7c8db425",
   "metadata": {},
   "outputs": [],
   "source": []
  }
 ],
 "metadata": {
  "kernelspec": {
   "display_name": "Dyalog APL",
   "language": "apl",
   "name": "dyalog-kernel"
  }
 },
 "nbformat": 4,
 "nbformat_minor": 5
}
