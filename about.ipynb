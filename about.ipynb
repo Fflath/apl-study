{
 "cells": [
  {
   "cell_type": "raw",
   "id": "9265352a",
   "metadata": {},
   "source": [
    "---\n",
    "title: \"About\"\n",
    "image: profile.jpg\n",
    "about:\n",
    "  template: jolla\n",
    "  links:\n",
    "    - icon: twitter\n",
    "      text: Twitter\n",
    "      href: https://twitter.com/fastdotai\n",
    "    - icon: github\n",
    "      text: Github\n",
    "      href: https://github.com/fastai/apl-study\n",
    "\n",
    "---"
   ]
  },
  {
   "cell_type": "markdown",
   "id": "14bffccd",
   "metadata": {},
   "source": [
    "# About this blog\n",
    "\n",
    "This blog is a work in progress to document and share learning that the Fastai APL Study Group has as they learn Dyalog APL.  If you are interested, join us! \n",
    "\n",
    "Check out [the forum](https://forums.fast.ai/t/apl-array-programming/97188) for meeting time and resources!"
   ]
  },
  {
   "cell_type": "code",
   "execution_count": null,
   "id": "431a64ca",
   "metadata": {},
   "outputs": [],
   "source": []
  }
 ],
 "metadata": {
  "kernelspec": {
   "display_name": "Dyalog APL",
   "language": "apl",
   "name": "dyalog-kernel"
  }
 },
 "nbformat": 4,
 "nbformat_minor": 5
}
