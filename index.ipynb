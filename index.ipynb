{
 "cells": [
  {
   "cell_type": "markdown",
   "metadata": {},
   "source": [
    "# APL Study Group\n",
    "\n",
    "> This blog is a work in progress to document and share learning that the Fastai APL Study Group has as they learn Dyalog APL. If you are interested, join us!"
   ]
  },
  {
   "cell_type": "markdown",
   "metadata": {},
   "source": [
    "Check out [the forum](https://forums.fast.ai/t/apl-array-programming/97188) for meeting time and resources!\n",
    "\n",
    "You'll find here a walkthru of what will eventually be all the glyphs in Dyalog APL, in an order where no glyph is used in an example until it's been introduced. So far there's no prose -- the explanations are purely through examples for now (but we'll add prose later).\n",
    "\n",
    "There's also a [Python equivalents](python.ipynb) notebook, which has explanations using python of some APL ideas, including `bind`/`partial` and APL operators (aka higher-order functions). "
   ]
  }
 ],
 "metadata": {
  "kernelspec": {
   "display_name": "Python 3 (ipykernel)",
   "language": "python",
   "name": "python3"
  }
 },
 "nbformat": 4,
 "nbformat_minor": 4
}
