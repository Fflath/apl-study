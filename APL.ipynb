{
 "cells": [
  {
   "cell_type": "raw",
   "id": "2990f581",
   "metadata": {},
   "source": [
    "---\n",
    "title: \"Glyphs\"\n",
    "author: \"Jeremy Howard\"\n",
    "date: \"2022-07-05\"\n",
    "categories: [Dyalog, APL, Glyphs]\n",
    "image: \"image.jpg\"\n",
    "---"
   ]
  },
  {
   "cell_type": "markdown",
   "id": "5d6af942",
   "metadata": {},
   "source": [
    "This post will explore all the different glyphs in Dyalog APL.  Wherever possible examples of a glyph will exist for each glyph that do not use other glyphs.  The purpose of this post is to create documentation for glyphs that are helpful for beginners getting started.\n",
    "\n",
    "To get help on a glpyh, such as `≠`, type:\n",
    "\n",
    "    ]Help ≠"
   ]
  },
  {
   "cell_type": "markdown",
   "id": "90f48eea",
   "metadata": {},
   "source": [
    "## Some objects"
   ]
  },
  {
   "cell_type": "markdown",
   "id": "853229ce",
   "metadata": {},
   "source": [
    "### Real"
   ]
  },
  {
   "cell_type": "code",
   "execution_count": null,
   "id": "39913487",
   "metadata": {},
   "outputs": [
    {
     "data": {
      "text/html": [
       "<span style=\"white-space:pre; font-family: monospace\">1\n",
       "</span>"
      ]
     },
     "execution_count": null,
     "metadata": {},
     "output_type": "execute_result"
    }
   ],
   "source": [
    "1"
   ]
  },
  {
   "cell_type": "code",
   "execution_count": null,
   "id": "8981783e",
   "metadata": {},
   "outputs": [
    {
     "data": {
      "text/html": [
       "<span style=\"white-space:pre; font-family: monospace\">¯1\n",
       "</span>"
      ]
     },
     "execution_count": null,
     "metadata": {},
     "output_type": "execute_result"
    }
   ],
   "source": [
    "¯1"
   ]
  },
  {
   "cell_type": "code",
   "execution_count": null,
   "id": "243fe69d",
   "metadata": {},
   "outputs": [
    {
     "data": {
      "text/html": [
       "<span style=\"white-space:pre; font-family: monospace\">1.5\n",
       "</span>"
      ]
     },
     "execution_count": null,
     "metadata": {},
     "output_type": "execute_result"
    }
   ],
   "source": [
    "1.5"
   ]
  },
  {
   "cell_type": "markdown",
   "id": "53f2150f",
   "metadata": {},
   "source": [
    "### Complex"
   ]
  },
  {
   "cell_type": "code",
   "execution_count": null,
   "id": "93e15ddc",
   "metadata": {},
   "outputs": [
    {
     "data": {
      "text/html": [
       "<span style=\"white-space:pre; font-family: monospace\">0J4\n",
       "</span>"
      ]
     },
     "execution_count": null,
     "metadata": {},
     "output_type": "execute_result"
    }
   ],
   "source": [
    "0j4"
   ]
  },
  {
   "cell_type": "code",
   "execution_count": null,
   "id": "bc2be51d",
   "metadata": {},
   "outputs": [
    {
     "data": {
      "text/html": [
       "<span style=\"white-space:pre; font-family: monospace\">¯5J¯6\n",
       "</span>"
      ]
     },
     "execution_count": null,
     "metadata": {},
     "output_type": "execute_result"
    }
   ],
   "source": [
    "¯5j¯6"
   ]
  },
  {
   "cell_type": "markdown",
   "id": "c453d9f0",
   "metadata": {},
   "source": [
    "### Rank-1 arrays"
   ]
  },
  {
   "cell_type": "code",
   "execution_count": null,
   "id": "a1faf960",
   "metadata": {},
   "outputs": [
    {
     "data": {
      "text/html": [
       "<span style=\"white-space:pre; font-family: monospace\">┌→────────────────┐\n",
       "│Was ON -style=max│\n",
       "└─────────────────┘\n",
       "</span>"
      ]
     },
     "execution_count": null,
     "metadata": {},
     "output_type": "execute_result"
    }
   ],
   "source": [
    "]Boxing on -style=max"
   ]
  },
  {
   "cell_type": "code",
   "execution_count": null,
   "id": "0ff63a92",
   "metadata": {},
   "outputs": [
    {
     "data": {
      "text/html": [
       "<span style=\"white-space:pre; font-family: monospace\">┌→────┐\n",
       "│2 3 1│\n",
       "└~────┘\n",
       "</span>"
      ]
     },
     "execution_count": null,
     "metadata": {},
     "output_type": "execute_result"
    }
   ],
   "source": [
    "2 3 1"
   ]
  },
  {
   "cell_type": "code",
   "execution_count": null,
   "id": "22d550cf",
   "metadata": {},
   "outputs": [
    {
     "data": {
      "text/html": [
       "<span style=\"white-space:pre; font-family: monospace\">┌→─────┐\n",
       "│2 ¯3 1│\n",
       "└~─────┘\n",
       "</span>"
      ]
     },
     "execution_count": null,
     "metadata": {},
     "output_type": "execute_result"
    }
   ],
   "source": [
    "2 ¯3 1"
   ]
  },
  {
   "cell_type": "code",
   "execution_count": null,
   "id": "65ad3d13",
   "metadata": {},
   "outputs": [
    {
     "data": {
      "text/html": [
       "<span style=\"white-space:pre; font-family: monospace\">┌→────────┐\n",
       "│0J4 ¯5J¯6│\n",
       "└~────────┘\n",
       "</span>"
      ]
     },
     "execution_count": null,
     "metadata": {},
     "output_type": "execute_result"
    }
   ],
   "source": [
    "0j4 ¯5j¯6"
   ]
  },
  {
   "cell_type": "markdown",
   "id": "c63d1a1a",
   "metadata": {},
   "source": [
    "### Arrays in arrays"
   ]
  },
  {
   "cell_type": "code",
   "execution_count": null,
   "id": "addcad3a",
   "metadata": {},
   "outputs": [
    {
     "data": {
      "text/html": [
       "<span style=\"white-space:pre; font-family: monospace\">┌→──────────────┐\n",
       "│         ┌→──┐ │\n",
       "│ 1 2 3 4 │1 2│ │\n",
       "│         └~──┘ │\n",
       "└∊──────────────┘\n",
       "</span>"
      ]
     },
     "execution_count": null,
     "metadata": {},
     "output_type": "execute_result"
    }
   ],
   "source": [
    "1 2 3 4 (1 2)"
   ]
  },
  {
   "cell_type": "code",
   "execution_count": null,
   "id": "532355d3",
   "metadata": {},
   "outputs": [
    {
     "data": {
      "text/html": [
       "<span style=\"white-space:pre; font-family: monospace\">┌→────────────┐\n",
       "│ ┌→──┐ ┌→──┐ │\n",
       "│ │1 2│ │3 4│ │\n",
       "│ └~──┘ └~──┘ │\n",
       "└∊────────────┘\n",
       "</span>"
      ]
     },
     "execution_count": null,
     "metadata": {},
     "output_type": "execute_result"
    }
   ],
   "source": [
    "(1 2)(3 4)"
   ]
  },
  {
   "cell_type": "code",
   "execution_count": null,
   "id": "6581cfd3",
   "metadata": {},
   "outputs": [
    {
     "data": {
      "text/html": [
       "<span style=\"white-space:pre; font-family: monospace\">┌→──────────────┐\n",
       "│ ┌→──┐ ┌→──┐   │\n",
       "│ │1 2│ │3 4│ 5 │\n",
       "│ └~──┘ └~──┘   │\n",
       "└∊──────────────┘\n",
       "</span>"
      ]
     },
     "execution_count": null,
     "metadata": {},
     "output_type": "execute_result"
    }
   ],
   "source": [
    "(1 2)(3 4)5"
   ]
  },
  {
   "cell_type": "markdown",
   "id": "0cda0ea5",
   "metadata": {},
   "source": [
    "### ⍝ (Comment)"
   ]
  },
  {
   "cell_type": "code",
   "execution_count": null,
   "id": "acc283d0",
   "metadata": {},
   "outputs": [
    {
     "data": {
      "text/html": [
       "<span style=\"white-space:pre; font-family: monospace\">1 2 3\n",
       "</span>"
      ]
     },
     "execution_count": null,
     "metadata": {},
     "output_type": "execute_result"
    }
   ],
   "source": [
    "⍝ This is a comment and doesn't do anything\n",
    "1 2 3 ⍝ This is a comment after some code"
   ]
  },
  {
   "cell_type": "markdown",
   "id": "05b7c9cb",
   "metadata": {},
   "source": [
    "## Basic math operators"
   ]
  },
  {
   "cell_type": "markdown",
   "id": "9e38b917",
   "metadata": {},
   "source": [
    "### `-` (Minus sign; Bar)"
   ]
  },
  {
   "cell_type": "markdown",
   "id": "c0f50569",
   "metadata": {},
   "source": [
    "#### Monadic `-` (Negate)"
   ]
  },
  {
   "cell_type": "code",
   "execution_count": null,
   "id": "0b5b5779",
   "metadata": {},
   "outputs": [
    {
     "data": {
      "text/html": [
       "<span style=\"white-space:pre; font-family: monospace\">  \n",
       "¯4\n",
       "  \n",
       "</span>"
      ]
     },
     "execution_count": null,
     "metadata": {},
     "output_type": "execute_result"
    }
   ],
   "source": [
    "- 4"
   ]
  },
  {
   "cell_type": "code",
   "execution_count": null,
   "id": "1cd8f993",
   "metadata": {},
   "outputs": [
    {
     "data": {
      "text/html": [
       "<span style=\"white-space:pre; font-family: monospace\"> \n",
       "4\n",
       " \n",
       "</span>"
      ]
     },
     "execution_count": null,
     "metadata": {},
     "output_type": "execute_result"
    }
   ],
   "source": [
    "- ¯4"
   ]
  },
  {
   "cell_type": "code",
   "execution_count": null,
   "id": "9f1dab97",
   "metadata": {},
   "outputs": [
    {
     "data": {
      "text/html": [
       "<span style=\"white-space:pre; font-family: monospace\">┌→──────────┐\n",
       "│¯4 ¯2 0 3 5│\n",
       "└~──────────┘\n",
       "</span>"
      ]
     },
     "execution_count": null,
     "metadata": {},
     "output_type": "execute_result"
    }
   ],
   "source": [
    "- 4 2 0 ¯3 ¯5"
   ]
  },
  {
   "cell_type": "code",
   "execution_count": null,
   "id": "5ef33f8c",
   "metadata": {},
   "outputs": [
    {
     "data": {
      "text/html": [
       "<span style=\"white-space:pre; font-family: monospace\">┌→───────────┐\n",
       "│¯4 2 0 ¯3 ¯5│\n",
       "└~───────────┘\n",
       "</span>"
      ]
     },
     "execution_count": null,
     "metadata": {},
     "output_type": "execute_result"
    }
   ],
   "source": [
    "¯4 2 0 ¯3 ¯5"
   ]
  },
  {
   "cell_type": "markdown",
   "id": "e98a12b7",
   "metadata": {},
   "source": [
    "#### Dyadic `-` (Minus; subtract)"
   ]
  },
  {
   "cell_type": "code",
   "execution_count": null,
   "id": "4368d52a",
   "metadata": {},
   "outputs": [
    {
     "data": {
      "text/html": [
       "<span style=\"white-space:pre; font-family: monospace\"> \n",
       "1\n",
       " \n",
       "</span>"
      ]
     },
     "execution_count": null,
     "metadata": {},
     "output_type": "execute_result"
    }
   ],
   "source": [
    "3-2"
   ]
  },
  {
   "cell_type": "code",
   "execution_count": null,
   "id": "cebdbfa3",
   "metadata": {},
   "outputs": [
    {
     "data": {
      "text/html": [
       "<span style=\"white-space:pre; font-family: monospace\">┌→──────┐\n",
       "│¯1 ¯3 0│\n",
       "└~──────┘\n",
       "</span>"
      ]
     },
     "execution_count": null,
     "metadata": {},
     "output_type": "execute_result"
    }
   ],
   "source": [
    "3 2 1 - 4 5 1"
   ]
  },
  {
   "cell_type": "code",
   "execution_count": null,
   "id": "e34464bc",
   "metadata": {},
   "outputs": [
    {
     "data": {
      "text/html": [
       "<span style=\"white-space:pre; font-family: monospace\">┌→────┐\n",
       "│2 1 0│\n",
       "└~────┘\n",
       "</span>"
      ]
     },
     "execution_count": null,
     "metadata": {},
     "output_type": "execute_result"
    }
   ],
   "source": [
    "3 2 1 - 1"
   ]
  },
  {
   "cell_type": "code",
   "execution_count": null,
   "id": "e1eb8e2c",
   "metadata": {},
   "outputs": [
    {
     "data": {
      "text/html": [
       "<span style=\"white-space:pre; font-family: monospace\">┌→──────┐\n",
       "│¯2 ¯1 0│\n",
       "└~──────┘\n",
       "</span>"
      ]
     },
     "execution_count": null,
     "metadata": {},
     "output_type": "execute_result"
    }
   ],
   "source": [
    "1 - 3 2 1"
   ]
  },
  {
   "cell_type": "markdown",
   "id": "bbc0d769",
   "metadata": {},
   "source": [
    "### `+` (Plus sign)"
   ]
  },
  {
   "cell_type": "markdown",
   "id": "b436ecba",
   "metadata": {},
   "source": [
    "#### Monadic `+` (Conjugate)"
   ]
  },
  {
   "cell_type": "code",
   "execution_count": null,
   "id": "d2070eee",
   "metadata": {},
   "outputs": [
    {
     "data": {
      "text/html": [
       "<span style=\"white-space:pre; font-family: monospace\">   \n",
       "1.2\n",
       "   \n",
       "</span>"
      ]
     },
     "execution_count": null,
     "metadata": {},
     "output_type": "execute_result"
    }
   ],
   "source": [
    "+ 1.2"
   ]
  },
  {
   "cell_type": "code",
   "execution_count": null,
   "id": "2fac9bf6",
   "metadata": {},
   "outputs": [
    {
     "data": {
      "text/html": [
       "<span style=\"white-space:pre; font-family: monospace\">    \n",
       "¯5J6\n",
       "    \n",
       "</span>"
      ]
     },
     "execution_count": null,
     "metadata": {},
     "output_type": "execute_result"
    }
   ],
   "source": [
    "+ ¯5j¯6"
   ]
  },
  {
   "cell_type": "code",
   "execution_count": null,
   "id": "35f8a381",
   "metadata": {},
   "outputs": [
    {
     "data": {
      "text/html": [
       "<span style=\"white-space:pre; font-family: monospace\">┌→────────────┐\n",
       "│1.2 0J¯4 ¯5J6│\n",
       "└~────────────┘\n",
       "</span>"
      ]
     },
     "execution_count": null,
     "metadata": {},
     "output_type": "execute_result"
    }
   ],
   "source": [
    "+ 1.2 0j4 ¯5j¯6"
   ]
  },
  {
   "cell_type": "markdown",
   "id": "8b5267d6",
   "metadata": {},
   "source": [
    "#### Dyadic `+` (Plus)"
   ]
  },
  {
   "cell_type": "code",
   "execution_count": null,
   "id": "5ca270d2",
   "metadata": {},
   "outputs": [
    {
     "data": {
      "text/html": [
       "<span style=\"white-space:pre; font-family: monospace\"> \n",
       "5\n",
       " \n",
       "</span>"
      ]
     },
     "execution_count": null,
     "metadata": {},
     "output_type": "execute_result"
    }
   ],
   "source": [
    "3+2"
   ]
  },
  {
   "cell_type": "code",
   "execution_count": null,
   "id": "8ef69a3e",
   "metadata": {},
   "outputs": [
    {
     "data": {
      "text/html": [
       "<span style=\"white-space:pre; font-family: monospace\">┌→────┐\n",
       "│7 7 2│\n",
       "└~────┘\n",
       "</span>"
      ]
     },
     "execution_count": null,
     "metadata": {},
     "output_type": "execute_result"
    }
   ],
   "source": [
    "3 2 1 + 4 5 1"
   ]
  },
  {
   "cell_type": "code",
   "execution_count": null,
   "id": "a9f35af3",
   "metadata": {},
   "outputs": [
    {
     "data": {
      "text/html": [
       "<span style=\"white-space:pre; font-family: monospace\">┌→────┐\n",
       "│4 3 2│\n",
       "└~────┘\n",
       "</span>"
      ]
     },
     "execution_count": null,
     "metadata": {},
     "output_type": "execute_result"
    }
   ],
   "source": [
    "3 2 1 + 1"
   ]
  },
  {
   "cell_type": "code",
   "execution_count": null,
   "id": "2114d041",
   "metadata": {},
   "outputs": [
    {
     "data": {
      "text/html": [
       "<span style=\"white-space:pre; font-family: monospace\">┌→────┐\n",
       "│4 3 2│\n",
       "└~────┘\n",
       "</span>"
      ]
     },
     "execution_count": null,
     "metadata": {},
     "output_type": "execute_result"
    }
   ],
   "source": [
    "1 + 3 2 1"
   ]
  },
  {
   "cell_type": "markdown",
   "id": "e269c8df",
   "metadata": {},
   "source": [
    "### `÷` (Divide sign)"
   ]
  },
  {
   "cell_type": "markdown",
   "id": "a0256ca9",
   "metadata": {},
   "source": [
    "#### Monadic `÷` (Reciprocol)"
   ]
  },
  {
   "cell_type": "code",
   "execution_count": null,
   "id": "59c278e2",
   "metadata": {},
   "outputs": [
    {
     "data": {
      "text/html": [
       "<span style=\"white-space:pre; font-family: monospace\">┌→───────────────────────────┐\n",
       "│0.3333333333 ¯0.5 0.12J¯0.16│\n",
       "└~───────────────────────────┘\n",
       "</span>"
      ]
     },
     "execution_count": null,
     "metadata": {},
     "output_type": "execute_result"
    }
   ],
   "source": [
    "÷ 3 ¯2 3j4"
   ]
  },
  {
   "cell_type": "markdown",
   "id": "0a6dab3a",
   "metadata": {},
   "source": [
    "#### Dyadic `÷` (Divided by)"
   ]
  },
  {
   "cell_type": "code",
   "execution_count": null,
   "id": "c75a236c",
   "metadata": {},
   "outputs": [
    {
     "data": {
      "text/html": [
       "<span style=\"white-space:pre; font-family: monospace\">   \n",
       "1.5\n",
       "   \n",
       "</span>"
      ]
     },
     "execution_count": null,
     "metadata": {},
     "output_type": "execute_result"
    }
   ],
   "source": [
    "3÷2"
   ]
  },
  {
   "cell_type": "code",
   "execution_count": null,
   "id": "4e47f28d",
   "metadata": {},
   "outputs": [
    {
     "data": {
      "text/html": [
       "<span style=\"white-space:pre; font-family: monospace\">┌→─────────┐\n",
       "│1.5 1.2 ¯3│\n",
       "└~─────────┘\n",
       "</span>"
      ]
     },
     "execution_count": null,
     "metadata": {},
     "output_type": "execute_result"
    }
   ],
   "source": [
    "3÷2 2.5 ¯1"
   ]
  },
  {
   "cell_type": "code",
   "execution_count": null,
   "id": "bf954b9e",
   "metadata": {},
   "outputs": [
    {
     "data": {
      "text/html": [
       "<span style=\"white-space:pre; font-family: monospace\">┌→─────────┐\n",
       "│1.5 0.8 ¯1│\n",
       "└~─────────┘\n",
       "</span>"
      ]
     },
     "execution_count": null,
     "metadata": {},
     "output_type": "execute_result"
    }
   ],
   "source": [
    "3 2 1÷2 2.5 ¯1"
   ]
  },
  {
   "cell_type": "markdown",
   "id": "abc6bcc4",
   "metadata": {},
   "source": [
    "### `×` (Times sign)"
   ]
  },
  {
   "cell_type": "markdown",
   "id": "73b588d8",
   "metadata": {},
   "source": [
    "#### Monadic `×` (Direction)"
   ]
  },
  {
   "cell_type": "code",
   "execution_count": null,
   "id": "d43e1b27",
   "metadata": {},
   "outputs": [
    {
     "data": {
      "text/html": [
       "<span style=\"white-space:pre; font-family: monospace\">┌→─────────────┐\n",
       "│1 ¯1 0 0.6J0.8│\n",
       "└~─────────────┘\n",
       "</span>"
      ]
     },
     "execution_count": null,
     "metadata": {},
     "output_type": "execute_result"
    }
   ],
   "source": [
    "× 3.1 ¯2 0 3j4"
   ]
  },
  {
   "cell_type": "markdown",
   "id": "82f87398",
   "metadata": {},
   "source": [
    "`3j4` means `3+4i`, which has a magnitude of 5 (because (3×3)+(4×4)=(5×5)). `0.6j0.8` represents a vector in the same direction as `3j4`, but with a magnitude of 5, since it's `3j4÷5`."
   ]
  },
  {
   "cell_type": "markdown",
   "id": "c42af4dd",
   "metadata": {},
   "source": [
    "#### Dyadic `×` (Times)"
   ]
  },
  {
   "cell_type": "code",
   "execution_count": null,
   "id": "ccec4680",
   "metadata": {},
   "outputs": [
    {
     "data": {
      "text/html": [
       "<span style=\"white-space:pre; font-family: monospace\"> \n",
       "6\n",
       " \n",
       "</span>"
      ]
     },
     "execution_count": null,
     "metadata": {},
     "output_type": "execute_result"
    }
   ],
   "source": [
    "3×2"
   ]
  },
  {
   "cell_type": "code",
   "execution_count": null,
   "id": "ffabf33e",
   "metadata": {},
   "outputs": [
    {
     "data": {
      "text/html": [
       "<span style=\"white-space:pre; font-family: monospace\">┌→───────┐\n",
       "│6 7.5 ¯3│\n",
       "└~───────┘\n",
       "</span>"
      ]
     },
     "execution_count": null,
     "metadata": {},
     "output_type": "execute_result"
    }
   ],
   "source": [
    "3×2 2.5 ¯1"
   ]
  },
  {
   "cell_type": "code",
   "execution_count": null,
   "id": "34a53827",
   "metadata": {},
   "outputs": [
    {
     "data": {
      "text/html": [
       "<span style=\"white-space:pre; font-family: monospace\">┌→─────┐\n",
       "│6 5 ¯1│\n",
       "└~─────┘\n",
       "</span>"
      ]
     },
     "execution_count": null,
     "metadata": {},
     "output_type": "execute_result"
    }
   ],
   "source": [
    "3 2 1×2 2.5 ¯1"
   ]
  },
  {
   "cell_type": "markdown",
   "id": "d86eccdc",
   "metadata": {},
   "source": [
    "### `*` (Star)"
   ]
  },
  {
   "cell_type": "markdown",
   "id": "db6edb53",
   "metadata": {},
   "source": [
    "#### Monadic `*` (Exponential)"
   ]
  },
  {
   "cell_type": "code",
   "execution_count": null,
   "id": "36fec05d",
   "metadata": {},
   "outputs": [
    {
     "data": {
      "text/html": [
       "<span style=\"white-space:pre; font-family: monospace\">┌→────────────────────────┐\n",
       "│1 2.718281828 7.389056099│\n",
       "└~────────────────────────┘\n",
       "</span>"
      ]
     },
     "execution_count": null,
     "metadata": {},
     "output_type": "execute_result"
    }
   ],
   "source": [
    "* 0 1 2"
   ]
  },
  {
   "cell_type": "markdown",
   "id": "71e3e0ff",
   "metadata": {},
   "source": [
    "#### Dyadic `*` (Power)"
   ]
  },
  {
   "cell_type": "code",
   "execution_count": null,
   "id": "c182968b",
   "metadata": {},
   "outputs": [
    {
     "data": {
      "text/html": [
       "<span style=\"white-space:pre; font-family: monospace\">┌→───────┐\n",
       "│7 25 0J2│\n",
       "└~───────┘\n",
       "</span>"
      ]
     },
     "execution_count": null,
     "metadata": {},
     "output_type": "execute_result"
    }
   ],
   "source": [
    "49 5 ¯4 * 0.5 2 0.5"
   ]
  },
  {
   "cell_type": "markdown",
   "id": "9b3e3ffc",
   "metadata": {},
   "source": [
    "## Expressions"
   ]
  },
  {
   "cell_type": "markdown",
   "id": "3a516a0a",
   "metadata": {},
   "source": [
    "### Precedence"
   ]
  },
  {
   "cell_type": "code",
   "execution_count": null,
   "id": "415a629e",
   "metadata": {},
   "outputs": [
    {
     "data": {
      "text/html": [
       "<span style=\"white-space:pre; font-family: monospace\"> \n",
       "9\n",
       " \n",
       "</span>"
      ]
     },
     "execution_count": null,
     "metadata": {},
     "output_type": "execute_result"
    }
   ],
   "source": [
    "3×2+1"
   ]
  },
  {
   "cell_type": "code",
   "execution_count": null,
   "id": "333812a2",
   "metadata": {},
   "outputs": [
    {
     "data": {
      "text/html": [
       "<span style=\"white-space:pre; font-family: monospace\">┌→────┐\n",
       "│3 6 9│\n",
       "└~────┘\n",
       "</span>"
      ]
     },
     "execution_count": null,
     "metadata": {},
     "output_type": "execute_result"
    }
   ],
   "source": [
    "1 2 3×2+1"
   ]
  },
  {
   "cell_type": "code",
   "execution_count": null,
   "id": "fecc4aa4",
   "metadata": {},
   "outputs": [
    {
     "data": {
      "text/html": [
       "<span style=\"white-space:pre; font-family: monospace\">┌→──────┐\n",
       "│4 12 24│\n",
       "└~──────┘\n",
       "</span>"
      ]
     },
     "execution_count": null,
     "metadata": {},
     "output_type": "execute_result"
    }
   ],
   "source": [
    "1 2 3×2+2 4 6"
   ]
  },
  {
   "cell_type": "code",
   "execution_count": null,
   "id": "bb8463b5",
   "metadata": {},
   "outputs": [
    {
     "data": {
      "text/html": [
       "<span style=\"white-space:pre; font-family: monospace\">┌→───┐\n",
       "│7 ¯1│\n",
       "└~───┘\n",
       "</span>"
      ]
     },
     "execution_count": null,
     "metadata": {},
     "output_type": "execute_result"
    }
   ],
   "source": [
    "3 ¯5 + 4"
   ]
  },
  {
   "cell_type": "code",
   "execution_count": null,
   "id": "51986f3d",
   "metadata": {},
   "outputs": [
    {
     "data": {
      "text/html": [
       "<span style=\"white-space:pre; font-family: monospace\"> \n",
       "2\n",
       " \n",
       "</span>"
      ]
     },
     "execution_count": null,
     "metadata": {},
     "output_type": "execute_result"
    }
   ],
   "source": [
    "8*÷3"
   ]
  },
  {
   "cell_type": "markdown",
   "id": "c145bfe5",
   "metadata": {},
   "source": [
    "### Assignment"
   ]
  },
  {
   "cell_type": "code",
   "execution_count": null,
   "id": "0012af8b",
   "metadata": {},
   "outputs": [
    {
     "data": {
      "text/html": [
       "<span style=\"white-space:pre; font-family: monospace\"> \n",
       "3\n",
       " \n",
       "</span>"
      ]
     },
     "execution_count": null,
     "metadata": {},
     "output_type": "execute_result"
    }
   ],
   "source": [
    "a←3\n",
    "a"
   ]
  },
  {
   "cell_type": "code",
   "execution_count": null,
   "id": "7630f424",
   "metadata": {},
   "outputs": [
    {
     "data": {
      "text/html": [
       "<span style=\"white-space:pre; font-family: monospace\"> \n",
       "3\n",
       " \n",
       "</span>"
      ]
     },
     "execution_count": null,
     "metadata": {},
     "output_type": "execute_result"
    }
   ],
   "source": [
    "⎕←a←3"
   ]
  },
  {
   "cell_type": "code",
   "execution_count": null,
   "id": "f676beae",
   "metadata": {},
   "outputs": [
    {
     "data": {
      "text/html": [
       "<span style=\"white-space:pre; font-family: monospace\">┌→──┐\n",
       "│3 4│\n",
       "└~──┘\n",
       "</span>"
      ]
     },
     "execution_count": null,
     "metadata": {},
     "output_type": "execute_result"
    }
   ],
   "source": [
    "b←3 4\n",
    "b"
   ]
  },
  {
   "cell_type": "markdown",
   "id": "be1a4d2c",
   "metadata": {},
   "source": [
    "### Functions"
   ]
  },
  {
   "cell_type": "code",
   "execution_count": null,
   "id": "015e629e",
   "metadata": {},
   "outputs": [
    {
     "data": {
      "text/html": [
       "<span style=\"white-space:pre; font-family: monospace\"> \n",
       "8\n",
       " \n",
       "</span>"
      ]
     },
     "execution_count": null,
     "metadata": {},
     "output_type": "execute_result"
    }
   ],
   "source": [
    "{⍵×2} 4"
   ]
  },
  {
   "cell_type": "code",
   "execution_count": null,
   "id": "7b821d34",
   "metadata": {},
   "outputs": [
    {
     "data": {
      "text/html": [
       "<span style=\"white-space:pre; font-family: monospace\"> \n",
       "8\n",
       " \n",
       "</span>"
      ]
     },
     "execution_count": null,
     "metadata": {},
     "output_type": "execute_result"
    }
   ],
   "source": [
    "f ← {⍵×2}\n",
    "f 4"
   ]
  },
  {
   "cell_type": "code",
   "execution_count": null,
   "id": "26f11c52",
   "metadata": {},
   "outputs": [
    {
     "data": {
      "text/html": [
       "<span style=\"white-space:pre; font-family: monospace\">  \n",
       "20\n",
       "  \n",
       "</span>"
      ]
     },
     "execution_count": null,
     "metadata": {},
     "output_type": "execute_result"
    }
   ],
   "source": [
    "g ← {⍵×2+⍺}\n",
    "3 g 4"
   ]
  },
  {
   "cell_type": "code",
   "execution_count": null,
   "id": "baf748c8",
   "metadata": {},
   "outputs": [
    {
     "data": {
      "text/html": [
       "<span style=\"white-space:pre; font-family: monospace\">  \n",
       "10\n",
       "  \n",
       "</span>"
      ]
     },
     "execution_count": null,
     "metadata": {},
     "output_type": "execute_result"
    }
   ],
   "source": [
    "f ← {⍵×2}\n",
    "h ← {2 + f ⍵}\n",
    "h 4"
   ]
  },
  {
   "cell_type": "markdown",
   "id": "1513585f",
   "metadata": {},
   "source": [
    "### Destructuring assignment"
   ]
  },
  {
   "cell_type": "code",
   "execution_count": null,
   "id": "d05d0c59",
   "metadata": {},
   "outputs": [
    {
     "data": {
      "text/html": [
       "<span style=\"white-space:pre; font-family: monospace\"> \n",
       "3\n",
       " \n",
       "</span>"
      ]
     },
     "execution_count": null,
     "metadata": {},
     "output_type": "execute_result"
    }
   ],
   "source": [
    "a b ← 3 4\n",
    "a"
   ]
  },
  {
   "cell_type": "markdown",
   "id": "4dddc7fa",
   "metadata": {},
   "source": [
    "## Array rank"
   ]
  },
  {
   "cell_type": "markdown",
   "id": "1fd3e439",
   "metadata": {},
   "source": [
    "### `⍴` (rho)"
   ]
  },
  {
   "cell_type": "markdown",
   "id": "33002d4a",
   "metadata": {},
   "source": [
    "#### Dyadic `⍴` (reshape)"
   ]
  },
  {
   "cell_type": "code",
   "execution_count": null,
   "id": "80b4d271",
   "metadata": {},
   "outputs": [
    {
     "data": {
      "text/html": [
       "<span style=\"white-space:pre; font-family: monospace\">┌→──────────┐\n",
       "│1 2 3 4 5 6│\n",
       "└~──────────┘\n",
       "</span>"
      ]
     },
     "execution_count": null,
     "metadata": {},
     "output_type": "execute_result"
    }
   ],
   "source": [
    "⎕ ← 1 2 3 4 5 6"
   ]
  },
  {
   "cell_type": "code",
   "execution_count": null,
   "id": "73dbf073",
   "metadata": {},
   "outputs": [
    {
     "data": {
      "text/html": [
       "<span style=\"white-space:pre; font-family: monospace\">┌→────┐\n",
       "↓1 2 3│\n",
       "│4 5 6│\n",
       "└~────┘\n",
       "</span>"
      ]
     },
     "execution_count": null,
     "metadata": {},
     "output_type": "execute_result"
    }
   ],
   "source": [
    "a ← 1 2 3 4 5 6\n",
    "⎕←mat←2 3 ⍴ a"
   ]
  },
  {
   "cell_type": "code",
   "execution_count": null,
   "id": "c3a455fe",
   "metadata": {},
   "outputs": [
    {
     "data": {
      "text/html": [
       "<span style=\"white-space:pre; font-family: monospace\">┌→──┐\n",
       "↓1 2│\n",
       "│3 4│\n",
       "│5 6│\n",
       "└~──┘\n",
       "</span>"
      ]
     },
     "execution_count": null,
     "metadata": {},
     "output_type": "execute_result"
    }
   ],
   "source": [
    "a ← 1 2 3 4 5 6\n",
    "3 2 ⍴ a"
   ]
  },
  {
   "cell_type": "code",
   "execution_count": null,
   "id": "62c4c60a",
   "metadata": {},
   "outputs": [
    {
     "data": {
      "text/html": [
       "<span style=\"white-space:pre; font-family: monospace\">┌→──────────┐\n",
       "↓1 2 3 4 5 6│\n",
       "└~──────────┘\n",
       "</span>"
      ]
     },
     "execution_count": null,
     "metadata": {},
     "output_type": "execute_result"
    }
   ],
   "source": [
    "a ← 1 2 3 4 5 6\n",
    "1 6 ⍴ a"
   ]
  },
  {
   "cell_type": "code",
   "execution_count": null,
   "id": "459c8924",
   "metadata": {},
   "outputs": [
    {
     "data": {
      "text/html": [
       "<span style=\"white-space:pre; font-family: monospace\">┌┌→────┐\n",
       "↓↓1 2 3│\n",
       "││4 5 6│\n",
       "││     │\n",
       "││1 2 3│\n",
       "││4 5 6│\n",
       "└└~────┘\n",
       "</span>"
      ]
     },
     "execution_count": null,
     "metadata": {},
     "output_type": "execute_result"
    }
   ],
   "source": [
    "a ← 1 2 3 4 5 6\n",
    "⎕←c←2 2 3 ⍴ a"
   ]
  },
  {
   "cell_type": "code",
   "execution_count": null,
   "id": "7651f6ef",
   "metadata": {},
   "outputs": [
    {
     "data": {
      "text/html": [
       "<span style=\"white-space:pre; font-family: monospace\">┌→────┐\n",
       "↓1 1 1│\n",
       "│1 1 1│\n",
       "└~────┘\n",
       "</span>"
      ]
     },
     "execution_count": null,
     "metadata": {},
     "output_type": "execute_result"
    }
   ],
   "source": [
    "2 3 ⍴ 1"
   ]
  },
  {
   "cell_type": "markdown",
   "id": "95b6c2f5",
   "metadata": {},
   "source": [
    "#### Monadic `⍴` (shape of)"
   ]
  },
  {
   "cell_type": "code",
   "execution_count": null,
   "id": "4ff2def4",
   "metadata": {},
   "outputs": [
    {
     "data": {
      "text/html": [
       "<span style=\"white-space:pre; font-family: monospace\">┌→┐\n",
       "│6│\n",
       "└~┘\n",
       "</span>"
      ]
     },
     "execution_count": null,
     "metadata": {},
     "output_type": "execute_result"
    }
   ],
   "source": [
    "a ← 1 2 3 4 5 6\n",
    "⍴a"
   ]
  },
  {
   "cell_type": "code",
   "execution_count": null,
   "id": "0313a50e",
   "metadata": {},
   "outputs": [
    {
     "data": {
      "text/html": [
       "<span style=\"white-space:pre; font-family: monospace\">┌→──┐\n",
       "│2 3│\n",
       "└~──┘\n",
       "</span>"
      ]
     },
     "execution_count": null,
     "metadata": {},
     "output_type": "execute_result"
    }
   ],
   "source": [
    "mat←2 3 ⍴ a\n",
    "⍴mat"
   ]
  },
  {
   "cell_type": "code",
   "execution_count": null,
   "id": "49027e1b",
   "metadata": {},
   "outputs": [
    {
     "data": {
      "text/html": [
       "<span style=\"white-space:pre; font-family: monospace\">┌⊖┐\n",
       "│0│\n",
       "└~┘\n",
       "</span>"
      ]
     },
     "execution_count": null,
     "metadata": {},
     "output_type": "execute_result"
    }
   ],
   "source": [
    "⍴3"
   ]
  },
  {
   "cell_type": "code",
   "execution_count": null,
   "id": "4e7acf5b",
   "metadata": {},
   "outputs": [
    {
     "data": {
      "text/html": [
       "<span style=\"white-space:pre; font-family: monospace\">┌⊖┐\n",
       "│0│\n",
       "└~┘\n",
       "</span>"
      ]
     },
     "execution_count": null,
     "metadata": {},
     "output_type": "execute_result"
    }
   ],
   "source": [
    "⍬"
   ]
  },
  {
   "cell_type": "code",
   "execution_count": null,
   "id": "a99c3656",
   "metadata": {},
   "outputs": [
    {
     "data": {
      "text/html": [
       "<span style=\"white-space:pre; font-family: monospace\">┌→┐\n",
       "│0│\n",
       "└~┘\n",
       "</span>"
      ]
     },
     "execution_count": null,
     "metadata": {},
     "output_type": "execute_result"
    }
   ],
   "source": [
    "⍴⍬"
   ]
  },
  {
   "cell_type": "code",
   "execution_count": null,
   "id": "58eaa324",
   "metadata": {},
   "outputs": [
    {
     "data": {
      "text/html": [
       "<span style=\"white-space:pre; font-family: monospace\">┌→┐\n",
       "│2│\n",
       "└~┘\n",
       "</span>"
      ]
     },
     "execution_count": null,
     "metadata": {},
     "output_type": "execute_result"
    }
   ],
   "source": [
    "mat←2 3 ⍴ a\n",
    "⍴⍴mat"
   ]
  },
  {
   "cell_type": "code",
   "execution_count": null,
   "id": "46d5a389",
   "metadata": {},
   "outputs": [
    {
     "data": {
      "text/html": [
       "<span style=\"white-space:pre; font-family: monospace\">┌→┐\n",
       "│1│\n",
       "└~┘\n",
       "</span>"
      ]
     },
     "execution_count": null,
     "metadata": {},
     "output_type": "execute_result"
    }
   ],
   "source": [
    "mat←2 3 ⍴ a\n",
    "⍴⍴⍴mat"
   ]
  },
  {
   "cell_type": "code",
   "execution_count": null,
   "id": "edebb07a",
   "metadata": {},
   "outputs": [
    {
     "data": {
      "text/html": [
       "<span style=\"white-space:pre; font-family: monospace\">┌→────┐\n",
       "│2 2 3│\n",
       "└~────┘\n",
       "</span>"
      ]
     },
     "execution_count": null,
     "metadata": {},
     "output_type": "execute_result"
    }
   ],
   "source": [
    "c←2 2 3 ⍴ a\n",
    "⍴c"
   ]
  },
  {
   "cell_type": "code",
   "execution_count": null,
   "id": "d34adc21",
   "metadata": {},
   "outputs": [
    {
     "data": {
      "text/html": [
       "<span style=\"white-space:pre; font-family: monospace\">┌→┐\n",
       "│1│\n",
       "└~┘\n",
       "</span>"
      ]
     },
     "execution_count": null,
     "metadata": {},
     "output_type": "execute_result"
    }
   ],
   "source": [
    "c←2 2 3 ⍴ a\n",
    "⍴⍴⍴c"
   ]
  },
  {
   "cell_type": "markdown",
   "id": "1ca2af7b",
   "metadata": {},
   "source": [
    "## Strings (characters and character vectors)"
   ]
  },
  {
   "cell_type": "code",
   "execution_count": null,
   "id": "e2b8eae9",
   "metadata": {},
   "outputs": [
    {
     "data": {
      "text/html": [
       "<span style=\"white-space:pre; font-family: monospace\">┌→──┐\n",
       "│ACF│\n",
       "└───┘\n",
       "</span>"
      ]
     },
     "execution_count": null,
     "metadata": {},
     "output_type": "execute_result"
    }
   ],
   "source": [
    "'ACF'"
   ]
  },
  {
   "cell_type": "code",
   "execution_count": null,
   "id": "3d924a62",
   "metadata": {},
   "outputs": [
    {
     "data": {
      "text/html": [
       "<span style=\"white-space:pre; font-family: monospace\">┌→──┐\n",
       "│ACF│\n",
       "└───┘\n",
       "</span>"
      ]
     },
     "execution_count": null,
     "metadata": {},
     "output_type": "execute_result"
    }
   ],
   "source": [
    "'A' 'C' 'F'"
   ]
  },
  {
   "cell_type": "code",
   "execution_count": null,
   "id": "fecb4641",
   "metadata": {},
   "outputs": [
    {
     "data": {
      "text/html": [
       "<span style=\"white-space:pre; font-family: monospace\">┌⊖┐\n",
       "│0│\n",
       "└~┘\n",
       "</span>"
      ]
     },
     "execution_count": null,
     "metadata": {},
     "output_type": "execute_result"
    }
   ],
   "source": [
    "⍴'y'"
   ]
  },
  {
   "cell_type": "code",
   "execution_count": null,
   "id": "1d591cc4",
   "metadata": {},
   "outputs": [
    {
     "data": {
      "text/html": [
       "<span style=\"white-space:pre; font-family: monospace\">┌→┐\n",
       "│9│\n",
       "└~┘\n",
       "</span>"
      ]
     },
     "execution_count": null,
     "metadata": {},
     "output_type": "execute_result"
    }
   ],
   "source": [
    "⍴'your boat'"
   ]
  },
  {
   "cell_type": "code",
   "execution_count": null,
   "id": "91a3fd9a",
   "metadata": {},
   "outputs": [
    {
     "data": {
      "text/html": [
       "<span style=\"white-space:pre; font-family: monospace\">┌→────────┐\n",
       "│1 2 3 4 a│\n",
       "└+────────┘\n",
       "</span>"
      ]
     },
     "execution_count": null,
     "metadata": {},
     "output_type": "execute_result"
    }
   ],
   "source": [
    "1 2 3 4 'a'"
   ]
  },
  {
   "cell_type": "code",
   "execution_count": null,
   "id": "2304a301",
   "metadata": {},
   "outputs": [
    {
     "data": {
      "text/html": [
       "<span style=\"white-space:pre; font-family: monospace\">┌→─────────────┐\n",
       "│         ┌→─┐ │\n",
       "│ 1 2 3 4 │ab│ │\n",
       "│         └──┘ │\n",
       "└∊─────────────┘\n",
       "</span>"
      ]
     },
     "execution_count": null,
     "metadata": {},
     "output_type": "execute_result"
    }
   ],
   "source": [
    "1 2 3 4 'ab'"
   ]
  },
  {
   "cell_type": "code",
   "execution_count": null,
   "id": "c4207e87",
   "metadata": {},
   "outputs": [
    {
     "data": {
      "text/html": [
       "<span style=\"white-space:pre; font-family: monospace\">┌→─────────────────┐\n",
       "│ ┌→──┐ ┌→──┐ ┌→─┐ │\n",
       "│ │1 2│ │3 4│ │ab│ │\n",
       "│ └~──┘ └~──┘ └──┘ │\n",
       "└∊─────────────────┘\n",
       "</span>"
      ]
     },
     "execution_count": null,
     "metadata": {},
     "output_type": "execute_result"
    }
   ],
   "source": [
    "(1 2)(3 4)'ab'"
   ]
  },
  {
   "cell_type": "markdown",
   "id": "0b8e4e2e",
   "metadata": {},
   "source": [
    "### `⍳` (iota)"
   ]
  },
  {
   "cell_type": "markdown",
   "id": "22741dcd",
   "metadata": {},
   "source": [
    "#### monadic `⍳` (index generator)"
   ]
  },
  {
   "cell_type": "code",
   "execution_count": null,
   "id": "d0a41f99",
   "metadata": {},
   "outputs": [
    {
     "data": {
      "text/html": [
       "<span style=\"white-space:pre; font-family: monospace\">┌→──────┐\n",
       "│1 2 3 4│\n",
       "└~──────┘\n",
       "</span>"
      ]
     },
     "execution_count": null,
     "metadata": {},
     "output_type": "execute_result"
    }
   ],
   "source": [
    "⍳4"
   ]
  },
  {
   "cell_type": "code",
   "execution_count": null,
   "id": "ec010e03",
   "metadata": {},
   "outputs": [
    {
     "data": {
      "text/html": [
       "<span style=\"white-space:pre; font-family: monospace\">┌→──────────────────┐\n",
       "↓ ┌→──┐ ┌→──┐ ┌→──┐ │\n",
       "│ │1 1│ │1 2│ │1 3│ │\n",
       "│ └~──┘ └~──┘ └~──┘ │\n",
       "│ ┌→──┐ ┌→──┐ ┌→──┐ │\n",
       "│ │2 1│ │2 2│ │2 3│ │\n",
       "│ └~──┘ └~──┘ └~──┘ │\n",
       "└∊──────────────────┘\n",
       "</span>"
      ]
     },
     "execution_count": null,
     "metadata": {},
     "output_type": "execute_result"
    }
   ],
   "source": [
    "⍳2 3"
   ]
  },
  {
   "cell_type": "code",
   "execution_count": null,
   "id": "0eb9ef5d",
   "metadata": {},
   "outputs": [
    {
     "data": {
      "text/html": [
       "<span style=\"white-space:pre; font-family: monospace\">┌→────┐\n",
       "↓1 2 3│\n",
       "│4 5 6│\n",
       "└~────┘\n",
       "</span>"
      ]
     },
     "execution_count": null,
     "metadata": {},
     "output_type": "execute_result"
    }
   ],
   "source": [
    "2 3 ⍴ ⍳6"
   ]
  },
  {
   "cell_type": "code",
   "execution_count": null,
   "id": "a3ec3a82",
   "metadata": {},
   "outputs": [
    {
     "data": {
      "text/html": [
       "<span style=\"white-space:pre; font-family: monospace\">┌→────────────┐\n",
       "│3 5 7 9 11 13│\n",
       "└~────────────┘\n",
       "</span>"
      ]
     },
     "execution_count": null,
     "metadata": {},
     "output_type": "execute_result"
    }
   ],
   "source": [
    "1+2×⍳6"
   ]
  },
  {
   "cell_type": "code",
   "execution_count": null,
   "id": "750e340b",
   "metadata": {},
   "outputs": [
    {
     "data": {
      "text/html": [
       "<span style=\"white-space:pre; font-family: monospace\">┌⊖┐\n",
       "│0│\n",
       "└~┘\n",
       "</span>"
      ]
     },
     "execution_count": null,
     "metadata": {},
     "output_type": "execute_result"
    }
   ],
   "source": [
    "⍳0"
   ]
  },
  {
   "cell_type": "markdown",
   "id": "e7ffad02",
   "metadata": {},
   "source": [
    "#### dyadic `⍳` (index of)"
   ]
  },
  {
   "cell_type": "code",
   "execution_count": null,
   "id": "8e01aa27",
   "metadata": {},
   "outputs": [
    {
     "data": {
      "text/html": [
       "<span style=\"white-space:pre; font-family: monospace\"> \n",
       "2\n",
       " \n",
       "</span>"
      ]
     },
     "execution_count": null,
     "metadata": {},
     "output_type": "execute_result"
    }
   ],
   "source": [
    "1 3 6 5 4 ⍳ 3"
   ]
  },
  {
   "cell_type": "code",
   "execution_count": null,
   "id": "d98e7fed",
   "metadata": {},
   "outputs": [
    {
     "data": {
      "text/html": [
       "<span style=\"white-space:pre; font-family: monospace\">┌→────────┐\n",
       "│1 3 10 11│\n",
       "└~────────┘\n",
       "</span>"
      ]
     },
     "execution_count": null,
     "metadata": {},
     "output_type": "execute_result"
    }
   ],
   "source": [
    "'ABCDABCDEF' ⍳ 'ACFG'"
   ]
  },
  {
   "cell_type": "code",
   "execution_count": null,
   "id": "79676379",
   "metadata": {},
   "outputs": [
    {
     "data": {
      "text/html": [
       "<span style=\"white-space:pre; font-family: monospace\">┌→──┐\n",
       "↓1 2│\n",
       "│3 4│\n",
       "│5 6│\n",
       "└~──┘\n",
       "</span>"
      ]
     },
     "execution_count": null,
     "metadata": {},
     "output_type": "execute_result"
    }
   ],
   "source": [
    "⎕←mat←3 2 ⍴ ⍳6"
   ]
  },
  {
   "cell_type": "code",
   "execution_count": null,
   "id": "08f0f54b",
   "metadata": {},
   "outputs": [
    {
     "data": {
      "text/html": [
       "<span style=\"white-space:pre; font-family: monospace\"> \n",
       "3\n",
       " \n",
       "</span>"
      ]
     },
     "execution_count": null,
     "metadata": {},
     "output_type": "execute_result"
    }
   ],
   "source": [
    "mat←3 2 ⍴ ⍳6\n",
    "mat ⍳ 5 6"
   ]
  },
  {
   "cell_type": "markdown",
   "id": "2dbbce67",
   "metadata": {},
   "source": [
    "## Boolean"
   ]
  },
  {
   "cell_type": "markdown",
   "id": "71f403e7",
   "metadata": {},
   "source": [
    "### `=` (Equal sign)"
   ]
  },
  {
   "cell_type": "markdown",
   "id": "2df02fe7",
   "metadata": {},
   "source": [
    "#### dyadic `=` (Equal to)"
   ]
  },
  {
   "cell_type": "code",
   "execution_count": null,
   "id": "f9a1f4c0",
   "metadata": {},
   "outputs": [
    {
     "data": {
      "text/html": [
       "<span style=\"white-space:pre; font-family: monospace\"> \n",
       "1\n",
       " \n",
       "</span>"
      ]
     },
     "execution_count": null,
     "metadata": {},
     "output_type": "execute_result"
    }
   ],
   "source": [
    "1 = 1"
   ]
  },
  {
   "cell_type": "code",
   "execution_count": null,
   "id": "e494be50",
   "metadata": {},
   "outputs": [
    {
     "data": {
      "text/html": [
       "<span style=\"white-space:pre; font-family: monospace\">┌→──┐\n",
       "│1 0│\n",
       "└~──┘\n",
       "</span>"
      ]
     },
     "execution_count": null,
     "metadata": {},
     "output_type": "execute_result"
    }
   ],
   "source": [
    "1 = 1 2"
   ]
  },
  {
   "cell_type": "code",
   "execution_count": null,
   "id": "d31b5778",
   "metadata": {},
   "outputs": [
    {
     "data": {
      "text/html": [
       "<span style=\"white-space:pre; font-family: monospace\">┌→──┐\n",
       "│1 1│\n",
       "└~──┘\n",
       "</span>"
      ]
     },
     "execution_count": null,
     "metadata": {},
     "output_type": "execute_result"
    }
   ],
   "source": [
    "1 = 1 1"
   ]
  },
  {
   "cell_type": "code",
   "execution_count": null,
   "id": "8d9ff9d7",
   "metadata": {},
   "outputs": [
    {
     "data": {
      "text/html": [
       "<span style=\"white-space:pre; font-family: monospace\">┌→──────────┐\n",
       "│0 1 0 1 0 1│\n",
       "└~──────────┘\n",
       "</span>"
      ]
     },
     "execution_count": null,
     "metadata": {},
     "output_type": "execute_result"
    }
   ],
   "source": [
    "'Banana' = 'aaaaaa'"
   ]
  },
  {
   "cell_type": "code",
   "execution_count": null,
   "id": "0077e614",
   "metadata": {},
   "outputs": [
    {
     "data": {
      "text/html": [
       "<span style=\"white-space:pre; font-family: monospace\">┌→──────────┐\n",
       "│0 1 0 1 0 1│\n",
       "└~──────────┘\n",
       "</span>"
      ]
     },
     "execution_count": null,
     "metadata": {},
     "output_type": "execute_result"
    }
   ],
   "source": [
    "'Banana' = 'a'"
   ]
  },
  {
   "cell_type": "code",
   "execution_count": null,
   "id": "aa551f28",
   "metadata": {},
   "outputs": [
    {
     "data": {
      "text/html": [
       "<span style=\"white-space:pre; font-family: monospace\">┌→──────────────────────────────────────┐\n",
       "│ ┌→──────────┐ ┌→────────┐ ┌→────────┐ │\n",
       "│ │0 1 0 1 0 1│ │0 0 0 0 0│ │0 1 0 0 0│ │\n",
       "│ └~──────────┘ └~────────┘ └~────────┘ │\n",
       "└∊──────────────────────────────────────┘\n",
       "</span>"
      ]
     },
     "execution_count": null,
     "metadata": {},
     "output_type": "execute_result"
    }
   ],
   "source": [
    "'Banana' 'Apple' 'Candy' = 'a'"
   ]
  },
  {
   "cell_type": "markdown",
   "id": "12b33beb",
   "metadata": {},
   "source": [
    "### `≠` (Not equal)"
   ]
  },
  {
   "cell_type": "markdown",
   "id": "3b0b6323",
   "metadata": {},
   "source": [
    "#### monadic `≠` (Unique Mask)"
   ]
  },
  {
   "cell_type": "code",
   "execution_count": null,
   "id": "0d283400",
   "metadata": {},
   "outputs": [
    {
     "data": {
      "text/html": [
       "<span style=\"white-space:pre; font-family: monospace\">┌→──────────────┐\n",
       "│1 1 0 0 1 0 1 0│\n",
       "└~──────────────┘\n",
       "</span>"
      ]
     },
     "execution_count": null,
     "metadata": {},
     "output_type": "execute_result"
    }
   ],
   "source": [
    "≠22 10 22 22 21 10 5 10"
   ]
  },
  {
   "cell_type": "code",
   "execution_count": null,
   "id": "1b52166b",
   "metadata": {},
   "outputs": [
    {
     "data": {
      "text/html": [
       "<span style=\"white-space:pre; font-family: monospace\">┌→──────────┐\n",
       "│1 1 1 0 0 0│\n",
       "└~──────────┘\n",
       "</span>"
      ]
     },
     "execution_count": null,
     "metadata": {},
     "output_type": "execute_result"
    }
   ],
   "source": [
    "≠ 'Banana'"
   ]
  },
  {
   "cell_type": "code",
   "execution_count": null,
   "id": "84ed720d",
   "metadata": {},
   "outputs": [
    {
     "data": {
      "text/html": [
       "<span style=\"white-space:pre; font-family: monospace\">┌→────────────────────┐\n",
       "│1 1 1 0 0 0 0 0 1 0 0│\n",
       "└~────────────────────┘\n",
       "</span>"
      ]
     },
     "execution_count": null,
     "metadata": {},
     "output_type": "execute_result"
    }
   ],
   "source": [
    "≠ 'Mississippi'"
   ]
  },
  {
   "cell_type": "markdown",
   "id": "ec2830de",
   "metadata": {},
   "source": [
    "### dyadic `≠` (Not Equal To)"
   ]
  },
  {
   "cell_type": "code",
   "execution_count": null,
   "id": "21b37853",
   "metadata": {},
   "outputs": [
    {
     "data": {
      "text/html": [
       "<span style=\"white-space:pre; font-family: monospace\">┌→────┐\n",
       "│1 0 1│\n",
       "└~────┘\n",
       "</span>"
      ]
     },
     "execution_count": null,
     "metadata": {},
     "output_type": "execute_result"
    }
   ],
   "source": [
    "1 2 3 ≠ 4 2 ¯1"
   ]
  },
  {
   "cell_type": "code",
   "execution_count": null,
   "id": "7b1f2164",
   "metadata": {},
   "outputs": [
    {
     "data": {
      "text/html": [
       "<span style=\"white-space:pre; font-family: monospace\"> \n",
       "1\n",
       " \n",
       "</span>"
      ]
     },
     "execution_count": null,
     "metadata": {},
     "output_type": "execute_result"
    }
   ],
   "source": [
    "7 ≠ '7'"
   ]
  },
  {
   "cell_type": "markdown",
   "id": "2d5dfcd5",
   "metadata": {},
   "source": [
    "### `<` (Less than sign)"
   ]
  },
  {
   "cell_type": "markdown",
   "id": "4277bc63",
   "metadata": {},
   "source": [
    "#### dyadic `<` (Less than)"
   ]
  },
  {
   "cell_type": "code",
   "execution_count": null,
   "id": "b3c6be5e",
   "metadata": {},
   "outputs": [
    {
     "data": {
      "text/html": [
       "<span style=\"white-space:pre; font-family: monospace\">┌→────┐\n",
       "│1 0 0│\n",
       "└~────┘\n",
       "</span>"
      ]
     },
     "execution_count": null,
     "metadata": {},
     "output_type": "execute_result"
    }
   ],
   "source": [
    "1 2 3 < 4 2 ¯1"
   ]
  },
  {
   "cell_type": "code",
   "execution_count": null,
   "id": "61f6c499",
   "metadata": {},
   "outputs": [
    {
     "data": {
      "text/html": [
       "<span style=\"white-space:pre; font-family: monospace\">┌→────┐\n",
       "│1 0 0│\n",
       "└~────┘\n",
       "</span>"
      ]
     },
     "execution_count": null,
     "metadata": {},
     "output_type": "execute_result"
    }
   ],
   "source": [
    "1 2 3 < 2"
   ]
  },
  {
   "cell_type": "markdown",
   "id": "3bd3a0ea",
   "metadata": {},
   "source": [
    "### `>` (Greater than sign)"
   ]
  },
  {
   "cell_type": "markdown",
   "id": "b487022a",
   "metadata": {},
   "source": [
    "#### dyadic `>` (Greater than)"
   ]
  },
  {
   "cell_type": "code",
   "execution_count": null,
   "id": "ed7bc01e",
   "metadata": {},
   "outputs": [
    {
     "data": {
      "text/html": [
       "<span style=\"white-space:pre; font-family: monospace\">┌→────┐\n",
       "│0 0 1│\n",
       "└~────┘\n",
       "</span>"
      ]
     },
     "execution_count": null,
     "metadata": {},
     "output_type": "execute_result"
    }
   ],
   "source": [
    "1 2 3 > 4 2 ¯1"
   ]
  },
  {
   "cell_type": "code",
   "execution_count": null,
   "id": "b68ae705",
   "metadata": {},
   "outputs": [
    {
     "data": {
      "text/html": [
       "<span style=\"white-space:pre; font-family: monospace\">┌→────┐\n",
       "│0 0 1│\n",
       "└~────┘\n",
       "</span>"
      ]
     },
     "execution_count": null,
     "metadata": {},
     "output_type": "execute_result"
    }
   ],
   "source": [
    "1 2 3 > 2"
   ]
  },
  {
   "cell_type": "markdown",
   "id": "903c506f",
   "metadata": {},
   "source": [
    "### `≤` (Less than or equal to sign)"
   ]
  },
  {
   "cell_type": "markdown",
   "id": "21b33cbf",
   "metadata": {},
   "source": [
    "#### dyadic `≤` (Less than or equal to)"
   ]
  },
  {
   "cell_type": "code",
   "execution_count": null,
   "id": "985c9324",
   "metadata": {},
   "outputs": [
    {
     "data": {
      "text/html": [
       "<span style=\"white-space:pre; font-family: monospace\">┌→────┐\n",
       "│1 1 0│\n",
       "└~────┘\n",
       "</span>"
      ]
     },
     "execution_count": null,
     "metadata": {},
     "output_type": "execute_result"
    }
   ],
   "source": [
    "1 2 3 ≤ 4 2 ¯1"
   ]
  },
  {
   "cell_type": "code",
   "execution_count": null,
   "id": "ebb03a6a",
   "metadata": {},
   "outputs": [
    {
     "data": {
      "text/html": [
       "<span style=\"white-space:pre; font-family: monospace\">┌→────┐\n",
       "│1 1 0│\n",
       "└~────┘\n",
       "</span>"
      ]
     },
     "execution_count": null,
     "metadata": {},
     "output_type": "execute_result"
    }
   ],
   "source": [
    "1 2 3 ≤ 2"
   ]
  },
  {
   "cell_type": "markdown",
   "id": "b9409575",
   "metadata": {},
   "source": [
    "### `≥` (Greater than or equal to sign)"
   ]
  },
  {
   "cell_type": "markdown",
   "id": "8dbc6595",
   "metadata": {},
   "source": [
    "#### dyadic `≥` (Greater than or equal to)"
   ]
  },
  {
   "cell_type": "code",
   "execution_count": null,
   "id": "c2db65ca",
   "metadata": {},
   "outputs": [
    {
     "data": {
      "text/html": [
       "<span style=\"white-space:pre; font-family: monospace\">┌→────┐\n",
       "│0 1 1│\n",
       "└~────┘\n",
       "</span>"
      ]
     },
     "execution_count": null,
     "metadata": {},
     "output_type": "execute_result"
    }
   ],
   "source": [
    "1 2 3 ≥ 4 2 ¯1"
   ]
  },
  {
   "cell_type": "code",
   "execution_count": null,
   "id": "3c4673b1",
   "metadata": {},
   "outputs": [
    {
     "data": {
      "text/html": [
       "<span style=\"white-space:pre; font-family: monospace\">┌→────┐\n",
       "│0 1 1│\n",
       "└~────┘\n",
       "</span>"
      ]
     },
     "execution_count": null,
     "metadata": {},
     "output_type": "execute_result"
    }
   ],
   "source": [
    "1 2 3 ≥ 2"
   ]
  },
  {
   "cell_type": "markdown",
   "id": "af629c33",
   "metadata": {},
   "source": [
    "### `≡` (Equal underbar)"
   ]
  },
  {
   "cell_type": "markdown",
   "id": "04409fab",
   "metadata": {},
   "source": [
    "#### monadic `≡` (Depth)"
   ]
  },
  {
   "cell_type": "markdown",
   "id": "d5e95d1d",
   "metadata": {},
   "source": [
    "#### dyadic `≡` (Match)"
   ]
  },
  {
   "cell_type": "markdown",
   "id": "95f0d135",
   "metadata": {},
   "source": [
    "## Min and max"
   ]
  },
  {
   "cell_type": "markdown",
   "id": "ff47ce3d",
   "metadata": {},
   "source": [
    "### `⌈` (Upstile)"
   ]
  },
  {
   "cell_type": "markdown",
   "id": "83c96f72",
   "metadata": {},
   "source": [
    "#### monadic `⌈` (Ceiling)"
   ]
  },
  {
   "cell_type": "code",
   "execution_count": null,
   "id": "6a528186",
   "metadata": {},
   "outputs": [
    {
     "data": {
      "text/html": [
       "<span style=\"white-space:pre; font-family: monospace\">4 ¯3 3 0\n",
       "</span>"
      ]
     },
     "execution_count": null,
     "metadata": {},
     "output_type": "execute_result"
    }
   ],
   "source": [
    "⌈ 3.4 ¯3.4 3 0"
   ]
  },
  {
   "cell_type": "markdown",
   "id": "67344bbc",
   "metadata": {},
   "source": [
    "#### dyadic `⌈` (Maximum)"
   ]
  },
  {
   "cell_type": "code",
   "execution_count": null,
   "id": "594a39be",
   "metadata": {},
   "outputs": [
    {
     "data": {
      "text/html": [
       "<span style=\"white-space:pre; font-family: monospace\">3\n",
       "</span>"
      ]
     },
     "execution_count": null,
     "metadata": {},
     "output_type": "execute_result"
    }
   ],
   "source": [
    "3⌈2"
   ]
  },
  {
   "cell_type": "code",
   "execution_count": null,
   "id": "780a76c4",
   "metadata": {},
   "outputs": [
    {
     "data": {
      "text/html": [
       "<span style=\"white-space:pre; font-family: monospace\">3 3\n",
       "</span>"
      ]
     },
     "execution_count": null,
     "metadata": {},
     "output_type": "execute_result"
    }
   ],
   "source": [
    "3 2⌈2 3"
   ]
  },
  {
   "cell_type": "code",
   "execution_count": null,
   "id": "a1634687",
   "metadata": {},
   "outputs": [
    {
     "data": {
      "text/html": [
       "<span style=\"white-space:pre; font-family: monospace\">6\n",
       "</span>"
      ]
     },
     "execution_count": null,
     "metadata": {},
     "output_type": "execute_result"
    }
   ],
   "source": [
    "4 ⌈ 6 ⌈ 2"
   ]
  },
  {
   "cell_type": "code",
   "execution_count": null,
   "id": "cfdb9c65",
   "metadata": {},
   "outputs": [
    {
     "data": {
      "text/html": [
       "<span style=\"white-space:pre; font-family: monospace\">0 6 2\n",
       "</span>"
      ]
     },
     "execution_count": null,
     "metadata": {},
     "output_type": "execute_result"
    }
   ],
   "source": [
    "a ← ¯4 6 2\n",
    "0 ⌈ a"
   ]
  },
  {
   "cell_type": "markdown",
   "id": "72e59548",
   "metadata": {},
   "source": [
    "### `⌊` (Downstile)"
   ]
  },
  {
   "cell_type": "markdown",
   "id": "90898a35",
   "metadata": {},
   "source": [
    "#### monadic `⌊` (Floor)"
   ]
  },
  {
   "cell_type": "code",
   "execution_count": null,
   "id": "bd481628",
   "metadata": {},
   "outputs": [
    {
     "data": {
      "text/html": [
       "<span style=\"white-space:pre; font-family: monospace\">3 ¯4 3 0\n",
       "</span>"
      ]
     },
     "execution_count": null,
     "metadata": {},
     "output_type": "execute_result"
    }
   ],
   "source": [
    "⌊ 3.4 ¯3.4 3 0"
   ]
  },
  {
   "cell_type": "markdown",
   "id": "92155e59",
   "metadata": {},
   "source": [
    "#### dyadic `⌊` (Minimum)"
   ]
  },
  {
   "cell_type": "code",
   "execution_count": null,
   "id": "c2d4d576",
   "metadata": {},
   "outputs": [
    {
     "data": {
      "text/html": [
       "<span style=\"white-space:pre; font-family: monospace\">2\n",
       "</span>"
      ]
     },
     "execution_count": null,
     "metadata": {},
     "output_type": "execute_result"
    }
   ],
   "source": [
    "4 ⌊ 6 ⌊ 2"
   ]
  },
  {
   "cell_type": "markdown",
   "id": "aff32832",
   "metadata": {},
   "source": [
    "## Operators"
   ]
  },
  {
   "cell_type": "markdown",
   "id": "4a5637bb",
   "metadata": {},
   "source": [
    "### `/` (Slash)"
   ]
  },
  {
   "cell_type": "markdown",
   "id": "2280a745",
   "metadata": {},
   "source": [
    "#### monadic `/` (Reduce)"
   ]
  },
  {
   "cell_type": "code",
   "execution_count": null,
   "id": "fe10c50b",
   "metadata": {},
   "outputs": [
    {
     "data": {
      "text/html": [
       "<span style=\"white-space:pre; font-family: monospace\">1 2 3 4 5\n",
       "</span>"
      ]
     },
     "execution_count": null,
     "metadata": {},
     "output_type": "execute_result"
    },
    {
     "data": {
      "text/html": [
       "<span style=\"white-space:pre; font-family: monospace\">15\n",
       "</span>"
      ]
     },
     "execution_count": null,
     "metadata": {},
     "output_type": "execute_result"
    }
   ],
   "source": [
    "⎕ ← a ← ⍳5\n",
    "+/a"
   ]
  },
  {
   "cell_type": "code",
   "execution_count": null,
   "id": "bdefcfd6",
   "metadata": {},
   "outputs": [
    {
     "data": {
      "text/html": [
       "<span style=\"white-space:pre; font-family: monospace\">120\n",
       "</span>"
      ]
     },
     "execution_count": null,
     "metadata": {},
     "output_type": "execute_result"
    }
   ],
   "source": [
    "a ← ⍳5\n",
    "×/a"
   ]
  },
  {
   "cell_type": "code",
   "execution_count": null,
   "id": "cd0a05f3",
   "metadata": {},
   "outputs": [
    {
     "data": {
      "text/html": [
       "<span style=\"white-space:pre; font-family: monospace\">1.5\n",
       "</span>"
      ]
     },
     "execution_count": null,
     "metadata": {},
     "output_type": "execute_result"
    }
   ],
   "source": [
    "a ← ⍳3\n",
    "÷/a"
   ]
  },
  {
   "cell_type": "code",
   "execution_count": null,
   "id": "55830e33",
   "metadata": {},
   "outputs": [
    {
     "data": {
      "text/html": [
       "<span style=\"white-space:pre; font-family: monospace\">6\n",
       "</span>"
      ]
     },
     "execution_count": null,
     "metadata": {},
     "output_type": "execute_result"
    }
   ],
   "source": [
    "a ← 4 6 2\n",
    "⌈/ a"
   ]
  },
  {
   "cell_type": "code",
   "execution_count": null,
   "id": "9bc76d4b",
   "metadata": {},
   "outputs": [
    {
     "data": {
      "text/html": [
       "<span style=\"white-space:pre; font-family: monospace\">2\n",
       "</span>"
      ]
     },
     "execution_count": null,
     "metadata": {},
     "output_type": "execute_result"
    }
   ],
   "source": [
    "a ← 4 6 2\n",
    "⌊/ a"
   ]
  },
  {
   "cell_type": "markdown",
   "id": "773b883b",
   "metadata": {},
   "source": [
    "### `\\` (Slash)"
   ]
  },
  {
   "cell_type": "markdown",
   "id": "89401d1e",
   "metadata": {},
   "source": [
    "#### monadic `\\` (Reduce)"
   ]
  },
  {
   "cell_type": "code",
   "execution_count": null,
   "id": "cad6c863",
   "metadata": {},
   "outputs": [
    {
     "data": {
      "text/html": [
       "<span style=\"white-space:pre; font-family: monospace\">1 3 6 10 15\n",
       "</span>"
      ]
     },
     "execution_count": null,
     "metadata": {},
     "output_type": "execute_result"
    }
   ],
   "source": [
    "a ← ⍳5\n",
    "+\\a"
   ]
  },
  {
   "cell_type": "code",
   "execution_count": null,
   "id": "3e093072",
   "metadata": {},
   "outputs": [
    {
     "data": {
      "text/html": [
       "<span style=\"white-space:pre; font-family: monospace\">1 2 6 24 120\n",
       "</span>"
      ]
     },
     "execution_count": null,
     "metadata": {},
     "output_type": "execute_result"
    }
   ],
   "source": [
    "a ← ⍳5\n",
    "×\\a"
   ]
  },
  {
   "cell_type": "code",
   "execution_count": null,
   "id": "5ea8bd1b",
   "metadata": {},
   "outputs": [
    {
     "data": {
      "text/html": [
       "<span style=\"white-space:pre; font-family: monospace\">1 2 3\n",
       "</span>"
      ]
     },
     "execution_count": null,
     "metadata": {},
     "output_type": "execute_result"
    },
    {
     "data": {
      "text/html": [
       "<span style=\"white-space:pre; font-family: monospace\">1 0.5 1.5\n",
       "</span>"
      ]
     },
     "execution_count": null,
     "metadata": {},
     "output_type": "execute_result"
    }
   ],
   "source": [
    "⎕ ← a ← ⍳3\n",
    "÷\\a"
   ]
  },
  {
   "cell_type": "markdown",
   "id": "618ab13f",
   "metadata": {},
   "source": [
    "### `∘` (Jot)"
   ]
  },
  {
   "cell_type": "markdown",
   "id": "75b436ce",
   "metadata": {},
   "source": [
    "#### dyadic `∘` (Bind)"
   ]
  },
  {
   "cell_type": "code",
   "execution_count": null,
   "id": "c231621a",
   "metadata": {},
   "outputs": [],
   "source": [
    "sqr ← *∘2"
   ]
  },
  {
   "cell_type": "code",
   "execution_count": null,
   "id": "b7cbacfb",
   "metadata": {},
   "outputs": [
    {
     "data": {
      "text/html": [
       "<span style=\"white-space:pre; font-family: monospace\">9\n",
       "</span>"
      ]
     },
     "execution_count": null,
     "metadata": {},
     "output_type": "execute_result"
    }
   ],
   "source": [
    "sqr 3"
   ]
  },
  {
   "cell_type": "code",
   "execution_count": null,
   "id": "d0b9f0b1",
   "metadata": {},
   "outputs": [],
   "source": [
    "pow2 ← 2∘*"
   ]
  },
  {
   "cell_type": "code",
   "execution_count": null,
   "id": "2d432fe5",
   "metadata": {},
   "outputs": [
    {
     "data": {
      "text/html": [
       "<span style=\"white-space:pre; font-family: monospace\">8\n",
       "</span>"
      ]
     },
     "execution_count": null,
     "metadata": {},
     "output_type": "execute_result"
    }
   ],
   "source": [
    "pow2 3"
   ]
  },
  {
   "cell_type": "markdown",
   "id": "e6c3fd06",
   "metadata": {},
   "source": [
    "#### dyadic `∘` (Beside)"
   ]
  },
  {
   "cell_type": "code",
   "execution_count": null,
   "id": "514cfaf5",
   "metadata": {},
   "outputs": [],
   "source": [
    "f ← *∘÷"
   ]
  },
  {
   "cell_type": "code",
   "execution_count": null,
   "id": "547aa92a",
   "metadata": {},
   "outputs": [
    {
     "data": {
      "text/html": [
       "<span style=\"white-space:pre; font-family: monospace\">1.39561\n",
       "</span>"
      ]
     },
     "execution_count": null,
     "metadata": {},
     "output_type": "execute_result"
    }
   ],
   "source": [
    "*(÷3)"
   ]
  },
  {
   "cell_type": "code",
   "execution_count": null,
   "id": "6c9ab7db",
   "metadata": {},
   "outputs": [
    {
     "data": {
      "text/html": [
       "<span style=\"white-space:pre; font-family: monospace\">1.39561\n",
       "</span>"
      ]
     },
     "execution_count": null,
     "metadata": {},
     "output_type": "execute_result"
    }
   ],
   "source": [
    "f 3"
   ]
  },
  {
   "cell_type": "code",
   "execution_count": null,
   "id": "1c92fcab",
   "metadata": {},
   "outputs": [
    {
     "data": {
      "text/html": [
       "<span style=\"white-space:pre; font-family: monospace\">1.25992\n",
       "</span>"
      ]
     },
     "execution_count": null,
     "metadata": {},
     "output_type": "execute_result"
    }
   ],
   "source": [
    "2 f 3"
   ]
  },
  {
   "cell_type": "code",
   "execution_count": null,
   "id": "88b61671",
   "metadata": {},
   "outputs": [
    {
     "data": {
      "text/html": [
       "<span style=\"white-space:pre; font-family: monospace\">1.25992\n",
       "</span>"
      ]
     },
     "execution_count": null,
     "metadata": {},
     "output_type": "execute_result"
    }
   ],
   "source": [
    "2 * (÷3)"
   ]
  },
  {
   "cell_type": "code",
   "execution_count": null,
   "id": "be94480f",
   "metadata": {},
   "outputs": [
    {
     "data": {
      "text/html": [
       "<span style=\"white-space:pre; font-family: monospace\">1.25992\n",
       "</span>"
      ]
     },
     "execution_count": null,
     "metadata": {},
     "output_type": "execute_result"
    }
   ],
   "source": [
    "2*÷3"
   ]
  },
  {
   "cell_type": "markdown",
   "id": "13f6bdc4",
   "metadata": {},
   "source": [
    "### `⍣` (Star Diaeresis)"
   ]
  },
  {
   "cell_type": "markdown",
   "id": "06e52bcd",
   "metadata": {},
   "source": [
    "#### dyadic `Star Diaeresis` (Power operator)"
   ]
  },
  {
   "cell_type": "code",
   "execution_count": null,
   "id": "e5aeb826",
   "metadata": {},
   "outputs": [],
   "source": [
    "S ← +∘1"
   ]
  },
  {
   "cell_type": "code",
   "execution_count": null,
   "id": "94a44e68",
   "metadata": {},
   "outputs": [
    {
     "data": {
      "text/html": [
       "<span style=\"white-space:pre; font-family: monospace\">1\n",
       "</span>"
      ]
     },
     "execution_count": null,
     "metadata": {},
     "output_type": "execute_result"
    }
   ],
   "source": [
    "S 0"
   ]
  },
  {
   "cell_type": "code",
   "execution_count": null,
   "id": "0f8dd750",
   "metadata": {},
   "outputs": [
    {
     "data": {
      "text/html": [
       "<span style=\"white-space:pre; font-family: monospace\">3\n",
       "</span>"
      ]
     },
     "execution_count": null,
     "metadata": {},
     "output_type": "execute_result"
    }
   ],
   "source": [
    "(S⍣3) 0"
   ]
  },
  {
   "cell_type": "code",
   "execution_count": null,
   "id": "9f9daf8a",
   "metadata": {},
   "outputs": [],
   "source": [
    "add ← {(S⍣⍺) ⍵}"
   ]
  },
  {
   "cell_type": "code",
   "execution_count": null,
   "id": "b9e9a45c",
   "metadata": {},
   "outputs": [
    {
     "data": {
      "text/html": [
       "<span style=\"white-space:pre; font-family: monospace\">5\n",
       "</span>"
      ]
     },
     "execution_count": null,
     "metadata": {},
     "output_type": "execute_result"
    }
   ],
   "source": [
    "2 add 3"
   ]
  },
  {
   "cell_type": "code",
   "execution_count": null,
   "id": "96858617",
   "metadata": {},
   "outputs": [],
   "source": [
    "mult ← {⍺ (add⍣⍵) 0}"
   ]
  },
  {
   "cell_type": "code",
   "execution_count": null,
   "id": "fcefb1db",
   "metadata": {},
   "outputs": [
    {
     "data": {
      "text/html": [
       "<span style=\"white-space:pre; font-family: monospace\">12\n",
       "</span>"
      ]
     },
     "execution_count": null,
     "metadata": {},
     "output_type": "execute_result"
    }
   ],
   "source": [
    "3 mult 4"
   ]
  },
  {
   "cell_type": "code",
   "execution_count": null,
   "id": "8fc3dc3e",
   "metadata": {},
   "outputs": [],
   "source": [
    "pow ← {⍺ (mult⍣⍵) 1}"
   ]
  },
  {
   "cell_type": "code",
   "execution_count": null,
   "id": "64d80892",
   "metadata": {},
   "outputs": [
    {
     "data": {
      "text/html": [
       "<span style=\"white-space:pre; font-family: monospace\">8\n",
       "</span>"
      ]
     },
     "execution_count": null,
     "metadata": {},
     "output_type": "execute_result"
    }
   ],
   "source": [
    "2 pow 3"
   ]
  },
  {
   "cell_type": "code",
   "execution_count": null,
   "id": "b929e29d",
   "metadata": {},
   "outputs": [
    {
     "data": {
      "text/html": [
       "<span style=\"white-space:pre; font-family: monospace\">1.61803\n",
       "</span>"
      ]
     },
     "execution_count": null,
     "metadata": {},
     "output_type": "execute_result"
    }
   ],
   "source": [
    "1 +∘÷⍣= 1"
   ]
  },
  {
   "cell_type": "code",
   "execution_count": null,
   "id": "c008024b",
   "metadata": {},
   "outputs": [],
   "source": [
    "f ← +∘÷"
   ]
  },
  {
   "cell_type": "code",
   "execution_count": null,
   "id": "0fef609d",
   "metadata": {},
   "outputs": [
    {
     "data": {
      "text/html": [
       "<span style=\"white-space:pre; font-family: monospace\">2\n",
       "</span>"
      ]
     },
     "execution_count": null,
     "metadata": {},
     "output_type": "execute_result"
    }
   ],
   "source": [
    "1 f 1"
   ]
  },
  {
   "cell_type": "code",
   "execution_count": null,
   "id": "26420a6e",
   "metadata": {},
   "outputs": [
    {
     "data": {
      "text/html": [
       "<span style=\"white-space:pre; font-family: monospace\">1.5\n",
       "</span>"
      ]
     },
     "execution_count": null,
     "metadata": {},
     "output_type": "execute_result"
    }
   ],
   "source": [
    "1 f 2"
   ]
  },
  {
   "cell_type": "code",
   "execution_count": null,
   "id": "abbd9af4",
   "metadata": {},
   "outputs": [
    {
     "data": {
      "text/html": [
       "<span style=\"white-space:pre; font-family: monospace\">1.66667\n",
       "</span>"
      ]
     },
     "execution_count": null,
     "metadata": {},
     "output_type": "execute_result"
    }
   ],
   "source": [
    "1 f 1.5"
   ]
  },
  {
   "cell_type": "code",
   "execution_count": null,
   "id": "61e500d3",
   "metadata": {},
   "outputs": [
    {
     "data": {
      "text/html": [
       "<span style=\"white-space:pre; font-family: monospace\">1.61803\n",
       "</span>"
      ]
     },
     "execution_count": null,
     "metadata": {},
     "output_type": "execute_result"
    }
   ],
   "source": [
    "1 (f⍣15) 1"
   ]
  },
  {
   "cell_type": "code",
   "execution_count": null,
   "id": "ed3ccfd6",
   "metadata": {},
   "outputs": [
    {
     "data": {
      "text/html": [
       "<span style=\"white-space:pre; font-family: monospace\">1.61803\n",
       "</span>"
      ]
     },
     "execution_count": null,
     "metadata": {},
     "output_type": "execute_result"
    }
   ],
   "source": [
    "1 (f⍣=) 1"
   ]
  },
  {
   "cell_type": "code",
   "execution_count": null,
   "id": "f41bdf34",
   "metadata": {},
   "outputs": [],
   "source": []
  },
  {
   "cell_type": "markdown",
   "id": "88dc2b77",
   "metadata": {},
   "source": [
    "## Custom operators"
   ]
  },
  {
   "cell_type": "code",
   "execution_count": null,
   "id": "034e07cf",
   "metadata": {},
   "outputs": [],
   "source": [
    "f ← *∘2"
   ]
  },
  {
   "cell_type": "code",
   "execution_count": null,
   "id": "12b4ae31",
   "metadata": {},
   "outputs": [
    {
     "data": {
      "text/html": [
       "<span style=\"white-space:pre; font-family: monospace\">6.01\n",
       "</span>"
      ]
     },
     "execution_count": null,
     "metadata": {},
     "output_type": "execute_result"
    }
   ],
   "source": [
    "d ← 0.01\n",
    "x ← 3\n",
    "((f (x+d)) - f x) ÷ d"
   ]
  },
  {
   "cell_type": "code",
   "execution_count": null,
   "id": "a03eb5d9",
   "metadata": {},
   "outputs": [
    {
     "data": {
      "text/html": [
       "<span style=\"white-space:pre; font-family: monospace\">6.0001\n",
       "</span>"
      ]
     },
     "execution_count": null,
     "metadata": {},
     "output_type": "execute_result"
    }
   ],
   "source": [
    "d ← 0.0001\n",
    "((f (x+d)) - f x) ÷ d"
   ]
  },
  {
   "cell_type": "markdown",
   "id": "115221bf",
   "metadata": {},
   "source": [
    "## `` ()"
   ]
  },
  {
   "cell_type": "markdown",
   "id": "62fefc60",
   "metadata": {},
   "source": [
    "### monadic `` ()"
   ]
  },
  {
   "cell_type": "markdown",
   "id": "3ae3f98e",
   "metadata": {},
   "source": [
    "### dyadic `` ()"
   ]
  },
  {
   "cell_type": "code",
   "execution_count": null,
   "id": "2ddcb1ea",
   "metadata": {},
   "outputs": [],
   "source": []
  },
  {
   "cell_type": "markdown",
   "id": "6f0054c9",
   "metadata": {},
   "source": [
    "## Stuff we haven't done yet..."
   ]
  },
  {
   "cell_type": "code",
   "execution_count": null,
   "id": "dec65a5d",
   "metadata": {},
   "outputs": [
    {
     "data": {
      "text/html": [
       "<span style=\"white-space:pre; font-family: monospace\"> \n",
       "5\n",
       " \n",
       "</span>"
      ]
     },
     "execution_count": null,
     "metadata": {},
     "output_type": "execute_result"
    }
   ],
   "source": [
    "|3j4"
   ]
  },
  {
   "cell_type": "code",
   "execution_count": null,
   "id": "98aef0d9",
   "metadata": {},
   "outputs": [
    {
     "data": {
      "text/html": [
       "<span style=\"white-space:pre; font-family: monospace\">                 \n",
       "0.707107J0.707107\n",
       "                 \n",
       "</span>"
      ]
     },
     "execution_count": null,
     "metadata": {},
     "output_type": "execute_result"
    }
   ],
   "source": [
    "2j2÷(|2j2)"
   ]
  },
  {
   "cell_type": "code",
   "execution_count": null,
   "id": "d0fbba5a",
   "metadata": {},
   "outputs": [
    {
     "data": {
      "text/html": [
       "<span style=\"white-space:pre; font-family: monospace\">                 \n",
       "0.707107J0.707107\n",
       "                 \n",
       "</span>"
      ]
     },
     "execution_count": null,
     "metadata": {},
     "output_type": "execute_result"
    }
   ],
   "source": [
    "×2j2"
   ]
  },
  {
   "cell_type": "code",
   "execution_count": null,
   "id": "e9be995d",
   "metadata": {},
   "outputs": [],
   "source": []
  }
 ],
 "metadata": {
  "kernelspec": {
   "display_name": "Dyalog APL",
   "language": "apl",
   "name": "dyalog-kernel"
  }
 },
 "nbformat": 4,
 "nbformat_minor": 5
}
