{
 "cells": [
  {
   "cell_type": "raw",
   "id": "2990f581",
   "metadata": {},
   "source": [
    "---\n",
    "title: \"Basics\"\n",
    "author: \"Jeremy Howard\"\n",
    "date: \"2022-07-05\"\n",
    "categories: [Dyalog, APL, Glyphs]\n",
    "---"
   ]
  },
  {
   "cell_type": "markdown",
   "id": "5d6af942",
   "metadata": {},
   "source": [
    "This series will explore all the different glyphs in Dyalog APL.  Wherever possible examples of a glyph will exist for each glyph that do not use other glyphs.  The purpose of this post is to create documentation for glyphs that are helpful for beginners getting started.\n",
    "\n",
    "To get help on a glpyh, such as `≠`, type:\n",
    "\n",
    "    ]Help ≠\n",
    "\n",
    "To get more detailed \"pictures\" of arrays and tacit functions type:"
   ]
  },
  {
   "cell_type": "code",
   "execution_count": null,
   "id": "84e8fa35",
   "metadata": {},
   "outputs": [
    {
     "data": {
      "text/html": [
       "<pre class=\"language-APL\">┌→─────────────────────────────────────┐\n",
       "│Was ON -style=max -trains=tree -fns=on│\n",
       "└──────────────────────────────────────┘\n",
       "</pre>"
      ]
     },
     "execution_count": null,
     "metadata": {},
     "output_type": "execute_result"
    }
   ],
   "source": [
    "]box on -style=max -trains=tree -fns=on"
   ]
  },
  {
   "cell_type": "markdown",
   "id": "91395120",
   "metadata": {},
   "source": [
    "This first notebook in the series covers the basic objects and functions."
   ]
  },
  {
   "cell_type": "markdown",
   "id": "90f48eea",
   "metadata": {},
   "source": [
    "## Some objects"
   ]
  },
  {
   "cell_type": "markdown",
   "id": "853229ce",
   "metadata": {},
   "source": [
    "### Real"
   ]
  },
  {
   "cell_type": "code",
   "execution_count": null,
   "id": "39913487",
   "metadata": {},
   "outputs": [
    {
     "data": {
      "text/html": [
       "<pre class=\"language-APL\"> \n",
       "1\n",
       " \n",
       "</pre>"
      ]
     },
     "execution_count": null,
     "metadata": {},
     "output_type": "execute_result"
    }
   ],
   "source": [
    "1"
   ]
  },
  {
   "cell_type": "code",
   "execution_count": null,
   "id": "8981783e",
   "metadata": {},
   "outputs": [
    {
     "data": {
      "text/html": [
       "<pre class=\"language-APL\">  \n",
       "¯1\n",
       "  \n",
       "</pre>"
      ]
     },
     "execution_count": null,
     "metadata": {},
     "output_type": "execute_result"
    }
   ],
   "source": [
    "¯1"
   ]
  },
  {
   "cell_type": "code",
   "execution_count": null,
   "id": "243fe69d",
   "metadata": {},
   "outputs": [
    {
     "data": {
      "text/html": [
       "<pre class=\"language-APL\">   \n",
       "1.5\n",
       "   \n",
       "</pre>"
      ]
     },
     "execution_count": null,
     "metadata": {},
     "output_type": "execute_result"
    }
   ],
   "source": [
    "1.5"
   ]
  },
  {
   "cell_type": "markdown",
   "id": "53f2150f",
   "metadata": {},
   "source": [
    "### Complex"
   ]
  },
  {
   "cell_type": "code",
   "execution_count": null,
   "id": "fdb3c285",
   "metadata": {},
   "outputs": [
    {
     "data": {
      "text/html": [
       "<pre class=\"language-APL\">   \n",
       "0J4\n",
       "   \n",
       "</pre>"
      ]
     },
     "execution_count": null,
     "metadata": {},
     "output_type": "execute_result"
    }
   ],
   "source": [
    "0j4"
   ]
  },
  {
   "cell_type": "code",
   "execution_count": null,
   "id": "bc2be51d",
   "metadata": {},
   "outputs": [
    {
     "data": {
      "text/html": [
       "<pre class=\"language-APL\">   \n",
       "3J4\n",
       "   \n",
       "</pre>"
      ]
     },
     "execution_count": null,
     "metadata": {},
     "output_type": "execute_result"
    }
   ],
   "source": [
    "3j4"
   ]
  },
  {
   "cell_type": "markdown",
   "id": "92281d33",
   "metadata": {},
   "source": [
    "`3j4` means `3+4i`."
   ]
  },
  {
   "cell_type": "code",
   "execution_count": null,
   "id": "94bae213",
   "metadata": {},
   "outputs": [
    {
     "data": {
      "text/html": [
       "<pre class=\"language-APL\"> \n",
       "4\n",
       " \n",
       "</pre>"
      ]
     },
     "execution_count": null,
     "metadata": {},
     "output_type": "execute_result"
    }
   ],
   "source": [
    "4j0"
   ]
  },
  {
   "cell_type": "code",
   "execution_count": null,
   "id": "fcf31efe",
   "metadata": {},
   "outputs": [
    {
     "data": {
      "text/html": [
       "<pre class=\"language-APL\">     \n",
       "¯5J¯6\n",
       "     \n",
       "</pre>"
      ]
     },
     "execution_count": null,
     "metadata": {},
     "output_type": "execute_result"
    }
   ],
   "source": [
    "¯5j¯6"
   ]
  },
  {
   "cell_type": "markdown",
   "id": "c453d9f0",
   "metadata": {},
   "source": [
    "### Rank-1 arrays"
   ]
  },
  {
   "cell_type": "code",
   "execution_count": null,
   "id": "0ff63a92",
   "metadata": {},
   "outputs": [
    {
     "data": {
      "text/html": [
       "<pre class=\"language-APL\">┌→────┐\n",
       "│2 3 1│\n",
       "└~────┘\n",
       "</pre>"
      ]
     },
     "execution_count": null,
     "metadata": {},
     "output_type": "execute_result"
    }
   ],
   "source": [
    "2 3 1"
   ]
  },
  {
   "cell_type": "code",
   "execution_count": null,
   "id": "22d550cf",
   "metadata": {},
   "outputs": [
    {
     "data": {
      "text/html": [
       "<pre class=\"language-APL\">┌→─────┐\n",
       "│2 ¯3 1│\n",
       "└~─────┘\n",
       "</pre>"
      ]
     },
     "execution_count": null,
     "metadata": {},
     "output_type": "execute_result"
    }
   ],
   "source": [
    "2 ¯3 1"
   ]
  },
  {
   "cell_type": "code",
   "execution_count": null,
   "id": "65ad3d13",
   "metadata": {},
   "outputs": [
    {
     "data": {
      "text/html": [
       "<pre class=\"language-APL\">┌→────────┐\n",
       "│0J4 ¯5J¯6│\n",
       "└~────────┘\n",
       "</pre>"
      ]
     },
     "execution_count": null,
     "metadata": {},
     "output_type": "execute_result"
    }
   ],
   "source": [
    "0j4 ¯5j¯6"
   ]
  },
  {
   "cell_type": "markdown",
   "id": "c63d1a1a",
   "metadata": {},
   "source": [
    "### Arrays in arrays"
   ]
  },
  {
   "cell_type": "code",
   "execution_count": null,
   "id": "addcad3a",
   "metadata": {},
   "outputs": [
    {
     "data": {
      "text/html": [
       "<pre class=\"language-APL\">┌→──────────────┐\n",
       "│         ┌→──┐ │\n",
       "│ 1 2 3 4 │1 2│ │\n",
       "│         └~──┘ │\n",
       "└∊──────────────┘\n",
       "</pre>"
      ]
     },
     "execution_count": null,
     "metadata": {},
     "output_type": "execute_result"
    }
   ],
   "source": [
    "1 2 3 4 (1 2)"
   ]
  },
  {
   "cell_type": "code",
   "execution_count": null,
   "id": "532355d3",
   "metadata": {},
   "outputs": [
    {
     "data": {
      "text/html": [
       "<pre class=\"language-APL\">┌→────────────┐\n",
       "│ ┌→──┐ ┌→──┐ │\n",
       "│ │1 2│ │3 4│ │\n",
       "│ └~──┘ └~──┘ │\n",
       "└∊────────────┘\n",
       "</pre>"
      ]
     },
     "execution_count": null,
     "metadata": {},
     "output_type": "execute_result"
    }
   ],
   "source": [
    "(1 2)(3 4)"
   ]
  },
  {
   "cell_type": "code",
   "execution_count": null,
   "id": "6581cfd3",
   "metadata": {},
   "outputs": [
    {
     "data": {
      "text/html": [
       "<pre class=\"language-APL\">┌→──────────────┐\n",
       "│ ┌→──┐ ┌→──┐   │\n",
       "│ │1 2│ │3 4│ 5 │\n",
       "│ └~──┘ └~──┘   │\n",
       "└∊──────────────┘\n",
       "</pre>"
      ]
     },
     "execution_count": null,
     "metadata": {},
     "output_type": "execute_result"
    }
   ],
   "source": [
    "(1 2)(3 4)5"
   ]
  },
  {
   "cell_type": "markdown",
   "id": "0cda0ea5",
   "metadata": {},
   "source": [
    "### ⍝ (Comment)"
   ]
  },
  {
   "cell_type": "code",
   "execution_count": null,
   "id": "acc283d0",
   "metadata": {},
   "outputs": [
    {
     "data": {
      "text/html": [
       "<pre class=\"language-APL\">┌→────┐\n",
       "│1 2 3│\n",
       "└~────┘\n",
       "</pre>"
      ]
     },
     "execution_count": null,
     "metadata": {},
     "output_type": "execute_result"
    }
   ],
   "source": [
    "⍝ This is a comment and doesn't do anything\n",
    "1 2 3 ⍝ This is a comment after some code"
   ]
  },
  {
   "cell_type": "markdown",
   "id": "05b7c9cb",
   "metadata": {},
   "source": [
    "## Basic math operators"
   ]
  },
  {
   "cell_type": "markdown",
   "id": "9e38b917",
   "metadata": {},
   "source": [
    "### `-` (Minus sign; Bar)"
   ]
  },
  {
   "cell_type": "markdown",
   "id": "c0f50569",
   "metadata": {},
   "source": [
    "#### Monadic `-` (Negate)"
   ]
  },
  {
   "cell_type": "code",
   "execution_count": null,
   "id": "0b5b5779",
   "metadata": {},
   "outputs": [
    {
     "data": {
      "text/html": [
       "<pre class=\"language-APL\">  \n",
       "¯4\n",
       "  \n",
       "</pre>"
      ]
     },
     "execution_count": null,
     "metadata": {},
     "output_type": "execute_result"
    }
   ],
   "source": [
    "- 4"
   ]
  },
  {
   "cell_type": "code",
   "execution_count": null,
   "id": "1cd8f993",
   "metadata": {},
   "outputs": [
    {
     "data": {
      "text/html": [
       "<pre class=\"language-APL\"> \n",
       "4\n",
       " \n",
       "</pre>"
      ]
     },
     "execution_count": null,
     "metadata": {},
     "output_type": "execute_result"
    }
   ],
   "source": [
    "- ¯4"
   ]
  },
  {
   "cell_type": "code",
   "execution_count": null,
   "id": "9f1dab97",
   "metadata": {},
   "outputs": [
    {
     "data": {
      "text/html": [
       "<pre class=\"language-APL\">┌→──────────┐\n",
       "│¯4 ¯2 0 3 5│\n",
       "└~──────────┘\n",
       "</pre>"
      ]
     },
     "execution_count": null,
     "metadata": {},
     "output_type": "execute_result"
    }
   ],
   "source": [
    "- 4 2 0 ¯3 ¯5"
   ]
  },
  {
   "cell_type": "code",
   "execution_count": null,
   "id": "5ef33f8c",
   "metadata": {},
   "outputs": [
    {
     "data": {
      "text/html": [
       "<pre class=\"language-APL\">┌→───────────┐\n",
       "│¯4 2 0 ¯3 ¯5│\n",
       "└~───────────┘\n",
       "</pre>"
      ]
     },
     "execution_count": null,
     "metadata": {},
     "output_type": "execute_result"
    }
   ],
   "source": [
    "¯4 2 0 ¯3 ¯5"
   ]
  },
  {
   "cell_type": "markdown",
   "id": "e98a12b7",
   "metadata": {},
   "source": [
    "#### Dyadic `-` (Minus; subtract)"
   ]
  },
  {
   "cell_type": "code",
   "execution_count": null,
   "id": "4368d52a",
   "metadata": {},
   "outputs": [
    {
     "data": {
      "text/html": [
       "<pre class=\"language-APL\"> \n",
       "1\n",
       " \n",
       "</pre>"
      ]
     },
     "execution_count": null,
     "metadata": {},
     "output_type": "execute_result"
    }
   ],
   "source": [
    "3-2"
   ]
  },
  {
   "cell_type": "code",
   "execution_count": null,
   "id": "cebdbfa3",
   "metadata": {},
   "outputs": [
    {
     "data": {
      "text/html": [
       "<pre class=\"language-APL\">┌→──────┐\n",
       "│¯1 ¯3 0│\n",
       "└~──────┘\n",
       "</pre>"
      ]
     },
     "execution_count": null,
     "metadata": {},
     "output_type": "execute_result"
    }
   ],
   "source": [
    "3 2 1 - 4 5 1"
   ]
  },
  {
   "cell_type": "code",
   "execution_count": null,
   "id": "e34464bc",
   "metadata": {},
   "outputs": [
    {
     "data": {
      "text/html": [
       "<pre class=\"language-APL\">┌→────┐\n",
       "│2 1 0│\n",
       "└~────┘\n",
       "</pre>"
      ]
     },
     "execution_count": null,
     "metadata": {},
     "output_type": "execute_result"
    }
   ],
   "source": [
    "3 2 1 - 1"
   ]
  },
  {
   "cell_type": "code",
   "execution_count": null,
   "id": "e1eb8e2c",
   "metadata": {},
   "outputs": [
    {
     "data": {
      "text/html": [
       "<pre class=\"language-APL\">┌→──────┐\n",
       "│¯2 ¯1 0│\n",
       "└~──────┘\n",
       "</pre>"
      ]
     },
     "execution_count": null,
     "metadata": {},
     "output_type": "execute_result"
    }
   ],
   "source": [
    "1 - 3 2 1"
   ]
  },
  {
   "cell_type": "markdown",
   "id": "bbc0d769",
   "metadata": {},
   "source": [
    "### `+` (Plus sign)"
   ]
  },
  {
   "cell_type": "markdown",
   "id": "b436ecba",
   "metadata": {},
   "source": [
    "#### Monadic `+` (Conjugate)"
   ]
  },
  {
   "cell_type": "code",
   "execution_count": null,
   "id": "d2070eee",
   "metadata": {},
   "outputs": [
    {
     "data": {
      "text/html": [
       "<pre class=\"language-APL\">   \n",
       "1.2\n",
       "   \n",
       "</pre>"
      ]
     },
     "execution_count": null,
     "metadata": {},
     "output_type": "execute_result"
    }
   ],
   "source": [
    "+ 1.2"
   ]
  },
  {
   "cell_type": "code",
   "execution_count": null,
   "id": "2fac9bf6",
   "metadata": {},
   "outputs": [
    {
     "data": {
      "text/html": [
       "<pre class=\"language-APL\">    \n",
       "¯5J6\n",
       "    \n",
       "</pre>"
      ]
     },
     "execution_count": null,
     "metadata": {},
     "output_type": "execute_result"
    }
   ],
   "source": [
    "+ ¯5j¯6"
   ]
  },
  {
   "cell_type": "code",
   "execution_count": null,
   "id": "35f8a381",
   "metadata": {},
   "outputs": [
    {
     "data": {
      "text/html": [
       "<pre class=\"language-APL\">┌→────────────┐\n",
       "│1.2 0J¯4 ¯5J6│\n",
       "└~────────────┘\n",
       "</pre>"
      ]
     },
     "execution_count": null,
     "metadata": {},
     "output_type": "execute_result"
    }
   ],
   "source": [
    "+ 1.2 0j4 ¯5j¯6"
   ]
  },
  {
   "cell_type": "markdown",
   "id": "8b5267d6",
   "metadata": {},
   "source": [
    "#### Dyadic `+` (Plus)"
   ]
  },
  {
   "cell_type": "code",
   "execution_count": null,
   "id": "5ca270d2",
   "metadata": {},
   "outputs": [
    {
     "data": {
      "text/html": [
       "<pre class=\"language-APL\"> \n",
       "5\n",
       " \n",
       "</pre>"
      ]
     },
     "execution_count": null,
     "metadata": {},
     "output_type": "execute_result"
    }
   ],
   "source": [
    "3+2"
   ]
  },
  {
   "cell_type": "code",
   "execution_count": null,
   "id": "8ef69a3e",
   "metadata": {},
   "outputs": [
    {
     "data": {
      "text/html": [
       "<pre class=\"language-APL\">┌→────┐\n",
       "│7 7 2│\n",
       "└~────┘\n",
       "</pre>"
      ]
     },
     "execution_count": null,
     "metadata": {},
     "output_type": "execute_result"
    }
   ],
   "source": [
    "3 2 1 + 4 5 1"
   ]
  },
  {
   "cell_type": "code",
   "execution_count": null,
   "id": "a9f35af3",
   "metadata": {},
   "outputs": [
    {
     "data": {
      "text/html": [
       "<pre class=\"language-APL\">┌→────┐\n",
       "│4 3 2│\n",
       "└~────┘\n",
       "</pre>"
      ]
     },
     "execution_count": null,
     "metadata": {},
     "output_type": "execute_result"
    }
   ],
   "source": [
    "3 2 1 + 1"
   ]
  },
  {
   "cell_type": "code",
   "execution_count": null,
   "id": "2114d041",
   "metadata": {},
   "outputs": [
    {
     "data": {
      "text/html": [
       "<pre class=\"language-APL\">┌→────┐\n",
       "│4 3 2│\n",
       "└~────┘\n",
       "</pre>"
      ]
     },
     "execution_count": null,
     "metadata": {},
     "output_type": "execute_result"
    }
   ],
   "source": [
    "1 + 3 2 1"
   ]
  },
  {
   "cell_type": "markdown",
   "id": "f54a4ddc",
   "metadata": {},
   "source": [
    "### `|` (Stile;Vertical Bar)"
   ]
  },
  {
   "cell_type": "markdown",
   "id": "10a354a2",
   "metadata": {},
   "source": [
    "#### Monadic `|` (Magnitude)"
   ]
  },
  {
   "cell_type": "code",
   "execution_count": null,
   "id": "66a4b9d7",
   "metadata": {},
   "outputs": [
    {
     "data": {
      "text/html": [
       "<pre class=\"language-APL\">┌→────┐\n",
       "│3 3 5│\n",
       "└~────┘\n",
       "</pre>"
      ]
     },
     "execution_count": null,
     "metadata": {},
     "output_type": "execute_result"
    }
   ],
   "source": [
    "|3 ¯3 3j4"
   ]
  },
  {
   "cell_type": "markdown",
   "id": "94262b58",
   "metadata": {},
   "source": [
    "`3j4` means `3+4i`, which has a magnitude of 5 (because (3×3)+(4×4)=(5×5))."
   ]
  },
  {
   "cell_type": "markdown",
   "id": "095f9ec8",
   "metadata": {},
   "source": [
    "#### Dyadic `|` (Residue;Modulus)"
   ]
  },
  {
   "cell_type": "code",
   "execution_count": null,
   "id": "615c2c47",
   "metadata": {},
   "outputs": [
    {
     "data": {
      "text/html": [
       "<pre class=\"language-APL\">┌→────┐\n",
       "│1 3 0│\n",
       "└~────┘\n",
       "</pre>"
      ]
     },
     "execution_count": null,
     "metadata": {},
     "output_type": "execute_result"
    }
   ],
   "source": [
    "2 10 2 | 7 13 8"
   ]
  },
  {
   "cell_type": "code",
   "execution_count": null,
   "id": "f278545a",
   "metadata": {},
   "outputs": [
    {
     "data": {
      "text/html": [
       "<pre class=\"language-APL\">┌→─────┐\n",
       "│1 7 ¯2│\n",
       "└~─────┘\n",
       "</pre>"
      ]
     },
     "execution_count": null,
     "metadata": {},
     "output_type": "execute_result"
    }
   ],
   "source": [
    "2 10 ¯2.5 | 7 ¯13 8"
   ]
  },
  {
   "cell_type": "markdown",
   "id": "e269c8df",
   "metadata": {},
   "source": [
    "### `÷` (Divide sign)"
   ]
  },
  {
   "cell_type": "markdown",
   "id": "a0256ca9",
   "metadata": {},
   "source": [
    "#### Monadic `÷` (Reciprocol)"
   ]
  },
  {
   "cell_type": "code",
   "execution_count": null,
   "id": "59c278e2",
   "metadata": {},
   "outputs": [
    {
     "data": {
      "text/html": [
       "<pre class=\"language-APL\">┌→───────────────────────────┐\n",
       "│0.3333333333 ¯0.5 0.12J¯0.16│\n",
       "└~───────────────────────────┘\n",
       "</pre>"
      ]
     },
     "execution_count": null,
     "metadata": {},
     "output_type": "execute_result"
    }
   ],
   "source": [
    "÷ 3 ¯2 3j4"
   ]
  },
  {
   "cell_type": "markdown",
   "id": "0a6dab3a",
   "metadata": {},
   "source": [
    "#### Dyadic `÷` (Divided by)"
   ]
  },
  {
   "cell_type": "code",
   "execution_count": null,
   "id": "c75a236c",
   "metadata": {},
   "outputs": [
    {
     "data": {
      "text/html": [
       "<pre class=\"language-APL\">   \n",
       "1.5\n",
       "   \n",
       "</pre>"
      ]
     },
     "execution_count": null,
     "metadata": {},
     "output_type": "execute_result"
    }
   ],
   "source": [
    "3÷2"
   ]
  },
  {
   "cell_type": "code",
   "execution_count": null,
   "id": "4e47f28d",
   "metadata": {},
   "outputs": [
    {
     "data": {
      "text/html": [
       "<pre class=\"language-APL\">┌→─────────┐\n",
       "│1.5 1.2 ¯3│\n",
       "└~─────────┘\n",
       "</pre>"
      ]
     },
     "execution_count": null,
     "metadata": {},
     "output_type": "execute_result"
    }
   ],
   "source": [
    "3÷2 2.5 ¯1"
   ]
  },
  {
   "cell_type": "code",
   "execution_count": null,
   "id": "bf954b9e",
   "metadata": {},
   "outputs": [
    {
     "data": {
      "text/html": [
       "<pre class=\"language-APL\">┌→─────────┐\n",
       "│1.5 0.8 ¯1│\n",
       "└~─────────┘\n",
       "</pre>"
      ]
     },
     "execution_count": null,
     "metadata": {},
     "output_type": "execute_result"
    }
   ],
   "source": [
    "3 2 1÷2 2.5 ¯1"
   ]
  },
  {
   "cell_type": "markdown",
   "id": "abc6bcc4",
   "metadata": {},
   "source": [
    "### `×` (Times sign)"
   ]
  },
  {
   "cell_type": "markdown",
   "id": "73b588d8",
   "metadata": {},
   "source": [
    "#### Monadic `×` (Direction)"
   ]
  },
  {
   "cell_type": "code",
   "execution_count": null,
   "id": "d43e1b27",
   "metadata": {},
   "outputs": [
    {
     "data": {
      "text/html": [
       "<pre class=\"language-APL\">┌→─────────────┐\n",
       "│1 ¯1 0 0.6J0.8│\n",
       "└~─────────────┘\n",
       "</pre>"
      ]
     },
     "execution_count": null,
     "metadata": {},
     "output_type": "execute_result"
    }
   ],
   "source": [
    "× 3.1 ¯2 0 3j4"
   ]
  },
  {
   "cell_type": "code",
   "execution_count": null,
   "id": "2149f046",
   "metadata": {},
   "outputs": [
    {
     "data": {
      "text/html": [
       "<pre class=\"language-APL\">       \n",
       "0.6J0.8\n",
       "       \n",
       "</pre>"
      ]
     },
     "execution_count": null,
     "metadata": {},
     "output_type": "execute_result"
    }
   ],
   "source": [
    "3j4÷(|3j4)"
   ]
  },
  {
   "cell_type": "code",
   "execution_count": null,
   "id": "c8bc455d",
   "metadata": {},
   "outputs": [
    {
     "data": {
      "text/html": [
       "<pre class=\"language-APL\">       \n",
       "0.6J0.8\n",
       "       \n",
       "</pre>"
      ]
     },
     "execution_count": null,
     "metadata": {},
     "output_type": "execute_result"
    }
   ],
   "source": [
    "÷∘|⍨3j4"
   ]
  },
  {
   "cell_type": "code",
   "execution_count": null,
   "id": "11efc6a8",
   "metadata": {},
   "outputs": [
    {
     "data": {
      "text/html": [
       "<pre class=\"language-APL\">   ⍨\n",
       " ┌─┘\n",
       " ∘\n",
       "┌┴┐\n",
       "÷ |\n",
       "</pre>"
      ]
     },
     "execution_count": null,
     "metadata": {},
     "output_type": "execute_result"
    }
   ],
   "source": [
    "÷∘|⍨"
   ]
  },
  {
   "cell_type": "code",
   "execution_count": null,
   "id": "e89dfee9",
   "metadata": {},
   "outputs": [
    {
     "name": "stderr",
     "output_type": "stream",
     "text": [
      "VALUE ERROR: Undefined name: mean\n",
      "      mean 3 4 5 1 7\n",
      "      ∧\n"
     ]
    }
   ],
   "source": [
    "mean 3 4 5 1 7"
   ]
  },
  {
   "cell_type": "markdown",
   "id": "82f87398",
   "metadata": {},
   "source": [
    "`0.6j0.8` represents a vector in the same direction as `3j4`, but with a magnitude of 5, since it's `3j4÷5`."
   ]
  },
  {
   "cell_type": "markdown",
   "id": "c42af4dd",
   "metadata": {},
   "source": [
    "#### Dyadic `×` (Times)"
   ]
  },
  {
   "cell_type": "code",
   "execution_count": null,
   "id": "ccec4680",
   "metadata": {},
   "outputs": [
    {
     "data": {
      "text/html": [
       "<pre class=\"language-APL\"> \n",
       "6\n",
       " \n",
       "</pre>"
      ]
     },
     "execution_count": null,
     "metadata": {},
     "output_type": "execute_result"
    }
   ],
   "source": [
    "3×2"
   ]
  },
  {
   "cell_type": "code",
   "execution_count": null,
   "id": "ffabf33e",
   "metadata": {},
   "outputs": [
    {
     "data": {
      "text/html": [
       "<pre class=\"language-APL\">┌→───────┐\n",
       "│6 7.5 ¯3│\n",
       "└~───────┘\n",
       "</pre>"
      ]
     },
     "execution_count": null,
     "metadata": {},
     "output_type": "execute_result"
    }
   ],
   "source": [
    "3×2 2.5 ¯1"
   ]
  },
  {
   "cell_type": "code",
   "execution_count": null,
   "id": "34a53827",
   "metadata": {},
   "outputs": [
    {
     "data": {
      "text/html": [
       "<pre class=\"language-APL\">┌→─────┐\n",
       "│6 5 ¯1│\n",
       "└~─────┘\n",
       "</pre>"
      ]
     },
     "execution_count": null,
     "metadata": {},
     "output_type": "execute_result"
    }
   ],
   "source": [
    "3 2 1×2 2.5 ¯1"
   ]
  },
  {
   "cell_type": "markdown",
   "id": "d86eccdc",
   "metadata": {},
   "source": [
    "### `*` (Star)"
   ]
  },
  {
   "cell_type": "markdown",
   "id": "db6edb53",
   "metadata": {},
   "source": [
    "#### Monadic `*` (Exponential)"
   ]
  },
  {
   "cell_type": "code",
   "execution_count": null,
   "id": "36fec05d",
   "metadata": {},
   "outputs": [
    {
     "data": {
      "text/html": [
       "<pre class=\"language-APL\">┌→────────────────────────┐\n",
       "│1 2.718281828 7.389056099│\n",
       "└~────────────────────────┘\n",
       "</pre>"
      ]
     },
     "execution_count": null,
     "metadata": {},
     "output_type": "execute_result"
    }
   ],
   "source": [
    "* 0 1 2"
   ]
  },
  {
   "cell_type": "markdown",
   "id": "71e3e0ff",
   "metadata": {},
   "source": [
    "#### Dyadic `*` (Power)"
   ]
  },
  {
   "cell_type": "code",
   "execution_count": null,
   "id": "c182968b",
   "metadata": {},
   "outputs": [
    {
     "data": {
      "text/html": [
       "<pre class=\"language-APL\">┌→───────┐\n",
       "│7 25 0J2│\n",
       "└~───────┘\n",
       "</pre>"
      ]
     },
     "execution_count": null,
     "metadata": {},
     "output_type": "execute_result"
    }
   ],
   "source": [
    "49 5 ¯4 * 0.5 2 0.5"
   ]
  },
  {
   "cell_type": "markdown",
   "id": "9b3e3ffc",
   "metadata": {},
   "source": [
    "## Expressions"
   ]
  },
  {
   "cell_type": "markdown",
   "id": "3a516a0a",
   "metadata": {},
   "source": [
    "### Precedence"
   ]
  },
  {
   "cell_type": "code",
   "execution_count": null,
   "id": "415a629e",
   "metadata": {},
   "outputs": [
    {
     "data": {
      "text/html": [
       "<pre class=\"language-APL\"> \n",
       "9\n",
       " \n",
       "</pre>"
      ]
     },
     "execution_count": null,
     "metadata": {},
     "output_type": "execute_result"
    }
   ],
   "source": [
    "3×2+1"
   ]
  },
  {
   "cell_type": "code",
   "execution_count": null,
   "id": "333812a2",
   "metadata": {},
   "outputs": [
    {
     "data": {
      "text/html": [
       "<pre class=\"language-APL\">┌→────┐\n",
       "│3 6 9│\n",
       "└~────┘\n",
       "</pre>"
      ]
     },
     "execution_count": null,
     "metadata": {},
     "output_type": "execute_result"
    }
   ],
   "source": [
    "1 2 3×2+1"
   ]
  },
  {
   "cell_type": "code",
   "execution_count": null,
   "id": "fecc4aa4",
   "metadata": {},
   "outputs": [
    {
     "data": {
      "text/html": [
       "<pre class=\"language-APL\">┌→──────┐\n",
       "│4 12 24│\n",
       "└~──────┘\n",
       "</pre>"
      ]
     },
     "execution_count": null,
     "metadata": {},
     "output_type": "execute_result"
    }
   ],
   "source": [
    "1 2 3×2+2 4 6"
   ]
  },
  {
   "cell_type": "code",
   "execution_count": null,
   "id": "bb8463b5",
   "metadata": {},
   "outputs": [
    {
     "data": {
      "text/html": [
       "<pre class=\"language-APL\">┌→───┐\n",
       "│7 ¯1│\n",
       "└~───┘\n",
       "</pre>"
      ]
     },
     "execution_count": null,
     "metadata": {},
     "output_type": "execute_result"
    }
   ],
   "source": [
    "3 ¯5 + 4"
   ]
  },
  {
   "cell_type": "code",
   "execution_count": null,
   "id": "51986f3d",
   "metadata": {},
   "outputs": [
    {
     "data": {
      "text/html": [
       "<pre class=\"language-APL\"> \n",
       "2\n",
       " \n",
       "</pre>"
      ]
     },
     "execution_count": null,
     "metadata": {},
     "output_type": "execute_result"
    }
   ],
   "source": [
    "8*÷3"
   ]
  },
  {
   "cell_type": "markdown",
   "id": "c145bfe5",
   "metadata": {},
   "source": [
    "### Assignment"
   ]
  },
  {
   "cell_type": "code",
   "execution_count": null,
   "id": "0012af8b",
   "metadata": {},
   "outputs": [
    {
     "data": {
      "text/html": [
       "<pre class=\"language-APL\"> \n",
       "3\n",
       " \n",
       "</pre>"
      ]
     },
     "execution_count": null,
     "metadata": {},
     "output_type": "execute_result"
    }
   ],
   "source": [
    "a←3\n",
    "a"
   ]
  },
  {
   "cell_type": "code",
   "execution_count": null,
   "id": "7630f424",
   "metadata": {},
   "outputs": [
    {
     "data": {
      "text/html": [
       "<pre class=\"language-APL\"> \n",
       "3\n",
       " \n",
       "</pre>"
      ]
     },
     "execution_count": null,
     "metadata": {},
     "output_type": "execute_result"
    }
   ],
   "source": [
    "⎕←a←3"
   ]
  },
  {
   "cell_type": "code",
   "execution_count": null,
   "id": "f676beae",
   "metadata": {},
   "outputs": [
    {
     "data": {
      "text/html": [
       "<pre class=\"language-APL\">┌→──┐\n",
       "│3 4│\n",
       "└~──┘\n",
       "</pre>"
      ]
     },
     "execution_count": null,
     "metadata": {},
     "output_type": "execute_result"
    }
   ],
   "source": [
    "b←3 4\n",
    "b"
   ]
  },
  {
   "cell_type": "markdown",
   "id": "be1a4d2c",
   "metadata": {},
   "source": [
    "### Functions"
   ]
  },
  {
   "cell_type": "code",
   "execution_count": null,
   "id": "015e629e",
   "metadata": {},
   "outputs": [
    {
     "data": {
      "text/html": [
       "<pre class=\"language-APL\"> \n",
       "8\n",
       " \n",
       "</pre>"
      ]
     },
     "execution_count": null,
     "metadata": {},
     "output_type": "execute_result"
    }
   ],
   "source": [
    "{⍵×2} 4"
   ]
  },
  {
   "cell_type": "code",
   "execution_count": null,
   "id": "7b821d34",
   "metadata": {},
   "outputs": [
    {
     "data": {
      "text/html": [
       "<pre class=\"language-APL\"> \n",
       "8\n",
       " \n",
       "</pre>"
      ]
     },
     "execution_count": null,
     "metadata": {},
     "output_type": "execute_result"
    }
   ],
   "source": [
    "f ← {⍵×2}\n",
    "f 4"
   ]
  },
  {
   "cell_type": "code",
   "execution_count": null,
   "id": "26f11c52",
   "metadata": {},
   "outputs": [
    {
     "data": {
      "text/html": [
       "<pre class=\"language-APL\">  \n",
       "20\n",
       "  \n",
       "</pre>"
      ]
     },
     "execution_count": null,
     "metadata": {},
     "output_type": "execute_result"
    }
   ],
   "source": [
    "g ← {⍵×2+⍺}\n",
    "3 g 4"
   ]
  },
  {
   "cell_type": "code",
   "execution_count": null,
   "id": "baf748c8",
   "metadata": {},
   "outputs": [
    {
     "data": {
      "text/html": [
       "<pre class=\"language-APL\">  \n",
       "10\n",
       "  \n",
       "</pre>"
      ]
     },
     "execution_count": null,
     "metadata": {},
     "output_type": "execute_result"
    }
   ],
   "source": [
    "f ← {⍵×2}\n",
    "h ← {2 + f ⍵}\n",
    "h 4"
   ]
  },
  {
   "cell_type": "markdown",
   "id": "1513585f",
   "metadata": {},
   "source": [
    "### Destructuring assignment"
   ]
  },
  {
   "cell_type": "code",
   "execution_count": null,
   "id": "d05d0c59",
   "metadata": {},
   "outputs": [
    {
     "data": {
      "text/html": [
       "<pre class=\"language-APL\"> \n",
       "3\n",
       " \n",
       "</pre>"
      ]
     },
     "execution_count": null,
     "metadata": {},
     "output_type": "execute_result"
    }
   ],
   "source": [
    "a b ← 3 4\n",
    "a"
   ]
  },
  {
   "cell_type": "markdown",
   "id": "4dddc7fa",
   "metadata": {},
   "source": [
    "## Array rank"
   ]
  },
  {
   "cell_type": "markdown",
   "id": "1fd3e439",
   "metadata": {},
   "source": [
    "### `⍴` (rho)"
   ]
  },
  {
   "cell_type": "markdown",
   "id": "33002d4a",
   "metadata": {},
   "source": [
    "#### Dyadic `⍴` (reshape)"
   ]
  },
  {
   "cell_type": "code",
   "execution_count": null,
   "id": "80b4d271",
   "metadata": {},
   "outputs": [
    {
     "data": {
      "text/html": [
       "<pre class=\"language-APL\">┌→──────────┐\n",
       "│1 2 3 4 5 6│\n",
       "└~──────────┘\n",
       "</pre>"
      ]
     },
     "execution_count": null,
     "metadata": {},
     "output_type": "execute_result"
    }
   ],
   "source": [
    "⎕ ← 1 2 3 4 5 6"
   ]
  },
  {
   "cell_type": "code",
   "execution_count": null,
   "id": "73dbf073",
   "metadata": {},
   "outputs": [
    {
     "data": {
      "text/html": [
       "<pre class=\"language-APL\">┌→────┐\n",
       "↓1 2 3│\n",
       "│4 5 6│\n",
       "└~────┘\n",
       "</pre>"
      ]
     },
     "execution_count": null,
     "metadata": {},
     "output_type": "execute_result"
    }
   ],
   "source": [
    "a ← 1 2 3 4 5 6\n",
    "⎕←mat←2 3 ⍴ a"
   ]
  },
  {
   "cell_type": "code",
   "execution_count": null,
   "id": "c3a455fe",
   "metadata": {},
   "outputs": [
    {
     "data": {
      "text/html": [
       "<pre class=\"language-APL\">┌→──┐\n",
       "↓1 2│\n",
       "│3 4│\n",
       "│5 6│\n",
       "└~──┘\n",
       "</pre>"
      ]
     },
     "execution_count": null,
     "metadata": {},
     "output_type": "execute_result"
    }
   ],
   "source": [
    "a ← 1 2 3 4 5 6\n",
    "3 2 ⍴ a"
   ]
  },
  {
   "cell_type": "code",
   "execution_count": null,
   "id": "62c4c60a",
   "metadata": {},
   "outputs": [
    {
     "data": {
      "text/html": [
       "<pre class=\"language-APL\">┌→──────────┐\n",
       "↓1 2 3 4 5 6│\n",
       "└~──────────┘\n",
       "</pre>"
      ]
     },
     "execution_count": null,
     "metadata": {},
     "output_type": "execute_result"
    }
   ],
   "source": [
    "a ← 1 2 3 4 5 6\n",
    "1 6 ⍴ a"
   ]
  },
  {
   "cell_type": "code",
   "execution_count": null,
   "id": "459c8924",
   "metadata": {},
   "outputs": [
    {
     "data": {
      "text/html": [
       "<pre class=\"language-APL\">┌┌→────┐\n",
       "↓↓1 2 3│\n",
       "││4 5 6│\n",
       "││     │\n",
       "││1 2 3│\n",
       "││4 5 6│\n",
       "└└~────┘\n",
       "</pre>"
      ]
     },
     "execution_count": null,
     "metadata": {},
     "output_type": "execute_result"
    }
   ],
   "source": [
    "a ← 1 2 3 4 5 6\n",
    "⎕←c←2 2 3 ⍴ a"
   ]
  },
  {
   "cell_type": "code",
   "execution_count": null,
   "id": "7651f6ef",
   "metadata": {},
   "outputs": [
    {
     "data": {
      "text/html": [
       "<pre class=\"language-APL\">┌→────┐\n",
       "↓1 1 1│\n",
       "│1 1 1│\n",
       "└~────┘\n",
       "</pre>"
      ]
     },
     "execution_count": null,
     "metadata": {},
     "output_type": "execute_result"
    }
   ],
   "source": [
    "2 3 ⍴ 1"
   ]
  },
  {
   "cell_type": "markdown",
   "id": "95b6c2f5",
   "metadata": {},
   "source": [
    "#### Monadic `⍴` (shape of)"
   ]
  },
  {
   "cell_type": "code",
   "execution_count": null,
   "id": "4ff2def4",
   "metadata": {},
   "outputs": [
    {
     "data": {
      "text/html": [
       "<pre class=\"language-APL\">┌→┐\n",
       "│6│\n",
       "└~┘\n",
       "</pre>"
      ]
     },
     "execution_count": null,
     "metadata": {},
     "output_type": "execute_result"
    }
   ],
   "source": [
    "a ← 1 2 3 4 5 6\n",
    "⍴a"
   ]
  },
  {
   "cell_type": "code",
   "execution_count": null,
   "id": "0313a50e",
   "metadata": {},
   "outputs": [
    {
     "data": {
      "text/html": [
       "<pre class=\"language-APL\">┌→──┐\n",
       "│2 3│\n",
       "└~──┘\n",
       "</pre>"
      ]
     },
     "execution_count": null,
     "metadata": {},
     "output_type": "execute_result"
    }
   ],
   "source": [
    "mat←2 3 ⍴ a\n",
    "⍴mat"
   ]
  },
  {
   "cell_type": "code",
   "execution_count": null,
   "id": "49027e1b",
   "metadata": {},
   "outputs": [
    {
     "data": {
      "text/html": [
       "<pre class=\"language-APL\">┌⊖┐\n",
       "│0│\n",
       "└~┘\n",
       "</pre>"
      ]
     },
     "execution_count": null,
     "metadata": {},
     "output_type": "execute_result"
    }
   ],
   "source": [
    "⍴3"
   ]
  },
  {
   "cell_type": "code",
   "execution_count": null,
   "id": "4e7acf5b",
   "metadata": {},
   "outputs": [
    {
     "data": {
      "text/html": [
       "<pre class=\"language-APL\">┌⊖┐\n",
       "│0│\n",
       "└~┘\n",
       "</pre>"
      ]
     },
     "execution_count": null,
     "metadata": {},
     "output_type": "execute_result"
    }
   ],
   "source": [
    "⍬"
   ]
  },
  {
   "cell_type": "code",
   "execution_count": null,
   "id": "a99c3656",
   "metadata": {},
   "outputs": [
    {
     "data": {
      "text/html": [
       "<pre class=\"language-APL\">┌→┐\n",
       "│0│\n",
       "└~┘\n",
       "</pre>"
      ]
     },
     "execution_count": null,
     "metadata": {},
     "output_type": "execute_result"
    }
   ],
   "source": [
    "⍴⍬"
   ]
  },
  {
   "cell_type": "code",
   "execution_count": null,
   "id": "58eaa324",
   "metadata": {},
   "outputs": [
    {
     "data": {
      "text/html": [
       "<pre class=\"language-APL\">┌→┐\n",
       "│2│\n",
       "└~┘\n",
       "</pre>"
      ]
     },
     "execution_count": null,
     "metadata": {},
     "output_type": "execute_result"
    }
   ],
   "source": [
    "mat←2 3 ⍴ a\n",
    "⍴⍴mat"
   ]
  },
  {
   "cell_type": "code",
   "execution_count": null,
   "id": "46d5a389",
   "metadata": {},
   "outputs": [
    {
     "data": {
      "text/html": [
       "<pre class=\"language-APL\">┌→┐\n",
       "│1│\n",
       "└~┘\n",
       "</pre>"
      ]
     },
     "execution_count": null,
     "metadata": {},
     "output_type": "execute_result"
    }
   ],
   "source": [
    "mat←2 3 ⍴ a\n",
    "⍴⍴⍴mat"
   ]
  },
  {
   "cell_type": "code",
   "execution_count": null,
   "id": "edebb07a",
   "metadata": {},
   "outputs": [
    {
     "data": {
      "text/html": [
       "<pre class=\"language-APL\">┌→────┐\n",
       "│2 2 3│\n",
       "└~────┘\n",
       "</pre>"
      ]
     },
     "execution_count": null,
     "metadata": {},
     "output_type": "execute_result"
    }
   ],
   "source": [
    "c←2 2 3 ⍴ a\n",
    "⍴c"
   ]
  },
  {
   "cell_type": "code",
   "execution_count": null,
   "id": "d34adc21",
   "metadata": {},
   "outputs": [
    {
     "data": {
      "text/html": [
       "<pre class=\"language-APL\">┌→┐\n",
       "│1│\n",
       "└~┘\n",
       "</pre>"
      ]
     },
     "execution_count": null,
     "metadata": {},
     "output_type": "execute_result"
    }
   ],
   "source": [
    "c←2 2 3 ⍴ a\n",
    "⍴⍴⍴c"
   ]
  },
  {
   "cell_type": "markdown",
   "id": "1ca2af7b",
   "metadata": {},
   "source": [
    "## Strings (characters and character vectors)"
   ]
  },
  {
   "cell_type": "code",
   "execution_count": null,
   "id": "e2b8eae9",
   "metadata": {},
   "outputs": [
    {
     "data": {
      "text/html": [
       "<pre class=\"language-APL\">┌→──┐\n",
       "│ACF│\n",
       "└───┘\n",
       "</pre>"
      ]
     },
     "execution_count": null,
     "metadata": {},
     "output_type": "execute_result"
    }
   ],
   "source": [
    "'ACF'"
   ]
  },
  {
   "cell_type": "code",
   "execution_count": null,
   "id": "3d924a62",
   "metadata": {},
   "outputs": [
    {
     "data": {
      "text/html": [
       "<pre class=\"language-APL\">┌→──┐\n",
       "│ACF│\n",
       "└───┘\n",
       "</pre>"
      ]
     },
     "execution_count": null,
     "metadata": {},
     "output_type": "execute_result"
    }
   ],
   "source": [
    "'A' 'C' 'F'"
   ]
  },
  {
   "cell_type": "code",
   "execution_count": null,
   "id": "fecb4641",
   "metadata": {},
   "outputs": [
    {
     "data": {
      "text/html": [
       "<pre class=\"language-APL\">┌⊖┐\n",
       "│0│\n",
       "└~┘\n",
       "</pre>"
      ]
     },
     "execution_count": null,
     "metadata": {},
     "output_type": "execute_result"
    }
   ],
   "source": [
    "⍴'y'"
   ]
  },
  {
   "cell_type": "code",
   "execution_count": null,
   "id": "1d591cc4",
   "metadata": {},
   "outputs": [
    {
     "data": {
      "text/html": [
       "<pre class=\"language-APL\">┌→┐\n",
       "│9│\n",
       "└~┘\n",
       "</pre>"
      ]
     },
     "execution_count": null,
     "metadata": {},
     "output_type": "execute_result"
    }
   ],
   "source": [
    "⍴'your boat'"
   ]
  },
  {
   "cell_type": "code",
   "execution_count": null,
   "id": "91a3fd9a",
   "metadata": {},
   "outputs": [
    {
     "data": {
      "text/html": [
       "<pre class=\"language-APL\">┌→────────┐\n",
       "│1 2 3 4 a│\n",
       "└+────────┘\n",
       "</pre>"
      ]
     },
     "execution_count": null,
     "metadata": {},
     "output_type": "execute_result"
    }
   ],
   "source": [
    "1 2 3 4 'a'"
   ]
  },
  {
   "cell_type": "code",
   "execution_count": null,
   "id": "2304a301",
   "metadata": {},
   "outputs": [
    {
     "data": {
      "text/html": [
       "<pre class=\"language-APL\">┌→─────────────┐\n",
       "│         ┌→─┐ │\n",
       "│ 1 2 3 4 │ab│ │\n",
       "│         └──┘ │\n",
       "└∊─────────────┘\n",
       "</pre>"
      ]
     },
     "execution_count": null,
     "metadata": {},
     "output_type": "execute_result"
    }
   ],
   "source": [
    "1 2 3 4 'ab'"
   ]
  },
  {
   "cell_type": "code",
   "execution_count": null,
   "id": "c4207e87",
   "metadata": {},
   "outputs": [
    {
     "data": {
      "text/html": [
       "<pre class=\"language-APL\">┌→─────────────────┐\n",
       "│ ┌→──┐ ┌→──┐ ┌→─┐ │\n",
       "│ │1 2│ │3 4│ │ab│ │\n",
       "│ └~──┘ └~──┘ └──┘ │\n",
       "└∊─────────────────┘\n",
       "</pre>"
      ]
     },
     "execution_count": null,
     "metadata": {},
     "output_type": "execute_result"
    }
   ],
   "source": [
    "(1 2)(3 4)'ab'"
   ]
  },
  {
   "cell_type": "code",
   "execution_count": null,
   "id": "35b5a8ed",
   "metadata": {},
   "outputs": [
    {
     "data": {
      "text/html": [
       "<pre class=\"language-APL\">┌→─────────────────────────┐\n",
       "│ABCDEFGHIJKLMNOPQRSTUVWXYZ│\n",
       "└──────────────────────────┘\n",
       "</pre>"
      ]
     },
     "execution_count": null,
     "metadata": {},
     "output_type": "execute_result"
    }
   ],
   "source": [
    "⎕A"
   ]
  },
  {
   "cell_type": "markdown",
   "id": "2dbbce67",
   "metadata": {},
   "source": [
    "## Boolean"
   ]
  },
  {
   "cell_type": "markdown",
   "id": "71f403e7",
   "metadata": {},
   "source": [
    "### `=` (Equal sign)"
   ]
  },
  {
   "cell_type": "markdown",
   "id": "2df02fe7",
   "metadata": {},
   "source": [
    "#### dyadic `=` (Equal to)"
   ]
  },
  {
   "cell_type": "code",
   "execution_count": null,
   "id": "f9a1f4c0",
   "metadata": {},
   "outputs": [
    {
     "data": {
      "text/html": [
       "<pre class=\"language-APL\"> \n",
       "1\n",
       " \n",
       "</pre>"
      ]
     },
     "execution_count": null,
     "metadata": {},
     "output_type": "execute_result"
    }
   ],
   "source": [
    "1 = 1"
   ]
  },
  {
   "cell_type": "code",
   "execution_count": null,
   "id": "e494be50",
   "metadata": {},
   "outputs": [
    {
     "data": {
      "text/html": [
       "<pre class=\"language-APL\">┌→──┐\n",
       "│1 0│\n",
       "└~──┘\n",
       "</pre>"
      ]
     },
     "execution_count": null,
     "metadata": {},
     "output_type": "execute_result"
    }
   ],
   "source": [
    "1 = 1 2"
   ]
  },
  {
   "cell_type": "code",
   "execution_count": null,
   "id": "d31b5778",
   "metadata": {},
   "outputs": [
    {
     "data": {
      "text/html": [
       "<pre class=\"language-APL\">┌→──┐\n",
       "│1 1│\n",
       "└~──┘\n",
       "</pre>"
      ]
     },
     "execution_count": null,
     "metadata": {},
     "output_type": "execute_result"
    }
   ],
   "source": [
    "1 = 1 1"
   ]
  },
  {
   "cell_type": "code",
   "execution_count": null,
   "id": "8d9ff9d7",
   "metadata": {},
   "outputs": [
    {
     "data": {
      "text/html": [
       "<pre class=\"language-APL\">┌→──────────┐\n",
       "│0 1 0 1 0 1│\n",
       "└~──────────┘\n",
       "</pre>"
      ]
     },
     "execution_count": null,
     "metadata": {},
     "output_type": "execute_result"
    }
   ],
   "source": [
    "'Banana' = 'aaaaaa'"
   ]
  },
  {
   "cell_type": "code",
   "execution_count": null,
   "id": "0077e614",
   "metadata": {},
   "outputs": [
    {
     "data": {
      "text/html": [
       "<pre class=\"language-APL\">┌→──────────┐\n",
       "│0 1 0 1 0 1│\n",
       "└~──────────┘\n",
       "</pre>"
      ]
     },
     "execution_count": null,
     "metadata": {},
     "output_type": "execute_result"
    }
   ],
   "source": [
    "'Banana' = 'a'"
   ]
  },
  {
   "cell_type": "code",
   "execution_count": null,
   "id": "aa551f28",
   "metadata": {},
   "outputs": [
    {
     "data": {
      "text/html": [
       "<pre class=\"language-APL\">┌→──────────────────────────────────────┐\n",
       "│ ┌→──────────┐ ┌→────────┐ ┌→────────┐ │\n",
       "│ │0 1 0 1 0 1│ │0 0 0 0 0│ │0 1 0 0 0│ │\n",
       "│ └~──────────┘ └~────────┘ └~────────┘ │\n",
       "└∊──────────────────────────────────────┘\n",
       "</pre>"
      ]
     },
     "execution_count": null,
     "metadata": {},
     "output_type": "execute_result"
    }
   ],
   "source": [
    "'Banana' 'Apple' 'Candy' = 'a'"
   ]
  },
  {
   "cell_type": "markdown",
   "id": "12b33beb",
   "metadata": {},
   "source": [
    "### `≠` (Not equal)"
   ]
  },
  {
   "cell_type": "markdown",
   "id": "3b0b6323",
   "metadata": {},
   "source": [
    "#### monadic `≠` (Unique Mask)"
   ]
  },
  {
   "cell_type": "code",
   "execution_count": null,
   "id": "0d283400",
   "metadata": {},
   "outputs": [
    {
     "data": {
      "text/html": [
       "<pre class=\"language-APL\">┌→──────────────┐\n",
       "│1 1 0 0 1 0 1 0│\n",
       "└~──────────────┘\n",
       "</pre>"
      ]
     },
     "execution_count": null,
     "metadata": {},
     "output_type": "execute_result"
    }
   ],
   "source": [
    "≠22 10 22 22 21 10 5 10"
   ]
  },
  {
   "cell_type": "code",
   "execution_count": null,
   "id": "1b52166b",
   "metadata": {},
   "outputs": [
    {
     "data": {
      "text/html": [
       "<pre class=\"language-APL\">┌→──────────┐\n",
       "│1 1 1 0 0 0│\n",
       "└~──────────┘\n",
       "</pre>"
      ]
     },
     "execution_count": null,
     "metadata": {},
     "output_type": "execute_result"
    }
   ],
   "source": [
    "≠ 'Banana'"
   ]
  },
  {
   "cell_type": "code",
   "execution_count": null,
   "id": "84ed720d",
   "metadata": {},
   "outputs": [
    {
     "data": {
      "text/html": [
       "<pre class=\"language-APL\">┌→────────────────────┐\n",
       "│1 1 1 0 0 0 0 0 1 0 0│\n",
       "└~────────────────────┘\n",
       "</pre>"
      ]
     },
     "execution_count": null,
     "metadata": {},
     "output_type": "execute_result"
    }
   ],
   "source": [
    "≠ 'Mississippi'"
   ]
  },
  {
   "cell_type": "markdown",
   "id": "ec2830de",
   "metadata": {},
   "source": [
    "#### dyadic `≠` (Not Equal To)"
   ]
  },
  {
   "cell_type": "code",
   "execution_count": null,
   "id": "21b37853",
   "metadata": {},
   "outputs": [
    {
     "data": {
      "text/html": [
       "<pre class=\"language-APL\">┌→────┐\n",
       "│1 0 1│\n",
       "└~────┘\n",
       "</pre>"
      ]
     },
     "execution_count": null,
     "metadata": {},
     "output_type": "execute_result"
    }
   ],
   "source": [
    "1 2 3 ≠ 4 2 ¯1"
   ]
  },
  {
   "cell_type": "code",
   "execution_count": null,
   "id": "7b1f2164",
   "metadata": {},
   "outputs": [
    {
     "data": {
      "text/html": [
       "<pre class=\"language-APL\"> \n",
       "1\n",
       " \n",
       "</pre>"
      ]
     },
     "execution_count": null,
     "metadata": {},
     "output_type": "execute_result"
    }
   ],
   "source": [
    "7 ≠ '7'"
   ]
  },
  {
   "cell_type": "markdown",
   "id": "2d5dfcd5",
   "metadata": {},
   "source": [
    "### `<` (Less than sign)"
   ]
  },
  {
   "cell_type": "markdown",
   "id": "4277bc63",
   "metadata": {},
   "source": [
    "#### dyadic `<` (Less than)"
   ]
  },
  {
   "cell_type": "code",
   "execution_count": null,
   "id": "b3c6be5e",
   "metadata": {},
   "outputs": [
    {
     "data": {
      "text/html": [
       "<pre class=\"language-APL\">┌→────┐\n",
       "│1 0 0│\n",
       "└~────┘\n",
       "</pre>"
      ]
     },
     "execution_count": null,
     "metadata": {},
     "output_type": "execute_result"
    }
   ],
   "source": [
    "1 2 3 < 4 2 ¯1"
   ]
  },
  {
   "cell_type": "code",
   "execution_count": null,
   "id": "61f6c499",
   "metadata": {},
   "outputs": [
    {
     "data": {
      "text/html": [
       "<pre class=\"language-APL\">┌→────┐\n",
       "│1 0 0│\n",
       "└~────┘\n",
       "</pre>"
      ]
     },
     "execution_count": null,
     "metadata": {},
     "output_type": "execute_result"
    }
   ],
   "source": [
    "1 2 3 < 2"
   ]
  },
  {
   "cell_type": "markdown",
   "id": "3bd3a0ea",
   "metadata": {},
   "source": [
    "### `>` (Greater than sign)"
   ]
  },
  {
   "cell_type": "markdown",
   "id": "b487022a",
   "metadata": {},
   "source": [
    "#### dyadic `>` (Greater than)"
   ]
  },
  {
   "cell_type": "code",
   "execution_count": null,
   "id": "ed7bc01e",
   "metadata": {},
   "outputs": [
    {
     "data": {
      "text/html": [
       "<pre class=\"language-APL\">┌→────┐\n",
       "│0 0 1│\n",
       "└~────┘\n",
       "</pre>"
      ]
     },
     "execution_count": null,
     "metadata": {},
     "output_type": "execute_result"
    }
   ],
   "source": [
    "1 2 3 > 4 2 ¯1"
   ]
  },
  {
   "cell_type": "code",
   "execution_count": null,
   "id": "b68ae705",
   "metadata": {},
   "outputs": [
    {
     "data": {
      "text/html": [
       "<pre class=\"language-APL\">┌→────┐\n",
       "│0 0 1│\n",
       "└~────┘\n",
       "</pre>"
      ]
     },
     "execution_count": null,
     "metadata": {},
     "output_type": "execute_result"
    }
   ],
   "source": [
    "1 2 3 > 2"
   ]
  },
  {
   "cell_type": "markdown",
   "id": "903c506f",
   "metadata": {},
   "source": [
    "### `≤` (Less than or equal to sign)"
   ]
  },
  {
   "cell_type": "markdown",
   "id": "21b33cbf",
   "metadata": {},
   "source": [
    "#### dyadic `≤` (Less than or equal to)"
   ]
  },
  {
   "cell_type": "code",
   "execution_count": null,
   "id": "985c9324",
   "metadata": {},
   "outputs": [
    {
     "data": {
      "text/html": [
       "<pre class=\"language-APL\">┌→────┐\n",
       "│1 1 0│\n",
       "└~────┘\n",
       "</pre>"
      ]
     },
     "execution_count": null,
     "metadata": {},
     "output_type": "execute_result"
    }
   ],
   "source": [
    "1 2 3 ≤ 4 2 ¯1"
   ]
  },
  {
   "cell_type": "code",
   "execution_count": null,
   "id": "ebb03a6a",
   "metadata": {},
   "outputs": [
    {
     "data": {
      "text/html": [
       "<pre class=\"language-APL\">┌→────┐\n",
       "│1 1 0│\n",
       "└~────┘\n",
       "</pre>"
      ]
     },
     "execution_count": null,
     "metadata": {},
     "output_type": "execute_result"
    }
   ],
   "source": [
    "1 2 3 ≤ 2"
   ]
  },
  {
   "cell_type": "markdown",
   "id": "b9409575",
   "metadata": {},
   "source": [
    "### `≥` (Greater than or equal to sign)"
   ]
  },
  {
   "cell_type": "markdown",
   "id": "8dbc6595",
   "metadata": {},
   "source": [
    "#### dyadic `≥` (Greater than or equal to)"
   ]
  },
  {
   "cell_type": "code",
   "execution_count": null,
   "id": "c2db65ca",
   "metadata": {},
   "outputs": [
    {
     "data": {
      "text/html": [
       "<pre class=\"language-APL\">┌→────┐\n",
       "│0 1 1│\n",
       "└~────┘\n",
       "</pre>"
      ]
     },
     "execution_count": null,
     "metadata": {},
     "output_type": "execute_result"
    }
   ],
   "source": [
    "1 2 3 ≥ 4 2 ¯1"
   ]
  },
  {
   "cell_type": "code",
   "execution_count": null,
   "id": "3c4673b1",
   "metadata": {},
   "outputs": [
    {
     "data": {
      "text/html": [
       "<pre class=\"language-APL\">┌→────┐\n",
       "│0 1 1│\n",
       "└~────┘\n",
       "</pre>"
      ]
     },
     "execution_count": null,
     "metadata": {},
     "output_type": "execute_result"
    }
   ],
   "source": [
    "1 2 3 ≥ 2"
   ]
  },
  {
   "cell_type": "markdown",
   "id": "af629c33",
   "metadata": {},
   "source": [
    "### `≡` (Equal underbar)"
   ]
  },
  {
   "cell_type": "markdown",
   "id": "04409fab",
   "metadata": {},
   "source": [
    "#### monadic `≡` (Depth)"
   ]
  },
  {
   "cell_type": "code",
   "execution_count": null,
   "id": "fcb156fe",
   "metadata": {},
   "outputs": [
    {
     "data": {
      "text/html": [
       "<pre class=\"language-APL\"> \n",
       "0\n",
       " \n",
       "</pre>"
      ]
     },
     "execution_count": null,
     "metadata": {},
     "output_type": "execute_result"
    }
   ],
   "source": [
    "≡ 7"
   ]
  },
  {
   "cell_type": "code",
   "execution_count": null,
   "id": "53200fb6",
   "metadata": {},
   "outputs": [
    {
     "data": {
      "text/html": [
       "<pre class=\"language-APL\"> \n",
       "1\n",
       " \n",
       "</pre>"
      ]
     },
     "execution_count": null,
     "metadata": {},
     "output_type": "execute_result"
    }
   ],
   "source": [
    "≡ 'abc'"
   ]
  },
  {
   "cell_type": "code",
   "execution_count": null,
   "id": "35407dd6",
   "metadata": {},
   "outputs": [
    {
     "data": {
      "text/html": [
       "<pre class=\"language-APL\">┌→────────────┐\n",
       "│ ┌→──┐ ┌→──┐ │\n",
       "│ │1 2│ │3 4│ │\n",
       "│ └~──┘ └~──┘ │\n",
       "└∊────────────┘\n",
       "</pre>"
      ]
     },
     "execution_count": null,
     "metadata": {},
     "output_type": "execute_result"
    }
   ],
   "source": [
    "(1 2)(3 4)"
   ]
  },
  {
   "cell_type": "code",
   "execution_count": null,
   "id": "f64d2e8e",
   "metadata": {},
   "outputs": [
    {
     "data": {
      "text/html": [
       "<pre class=\"language-APL\"> \n",
       "2\n",
       " \n",
       "</pre>"
      ]
     },
     "execution_count": null,
     "metadata": {},
     "output_type": "execute_result"
    }
   ],
   "source": [
    "≡ (1 2)(3 4)"
   ]
  },
  {
   "cell_type": "code",
   "execution_count": null,
   "id": "0650e6e6",
   "metadata": {},
   "outputs": [
    {
     "data": {
      "text/html": [
       "<pre class=\"language-APL\">┌→──────────────┐\n",
       "│ ┌→──┐ ┌→──┐   │\n",
       "│ │1 2│ │3 4│ 5 │\n",
       "│ └~──┘ └~──┘   │\n",
       "└∊──────────────┘\n",
       "</pre>"
      ]
     },
     "execution_count": null,
     "metadata": {},
     "output_type": "execute_result"
    }
   ],
   "source": [
    "(1 2)(3 4)5"
   ]
  },
  {
   "cell_type": "code",
   "execution_count": null,
   "id": "ede6ebf7",
   "metadata": {},
   "outputs": [
    {
     "data": {
      "text/html": [
       "<pre class=\"language-APL\">  \n",
       "¯2\n",
       "  \n",
       "</pre>"
      ]
     },
     "execution_count": null,
     "metadata": {},
     "output_type": "execute_result"
    }
   ],
   "source": [
    "≡ (1 2)(3 4)5"
   ]
  },
  {
   "cell_type": "markdown",
   "id": "d5e95d1d",
   "metadata": {},
   "source": [
    "#### dyadic `≡` (Match)"
   ]
  },
  {
   "cell_type": "code",
   "execution_count": null,
   "id": "8f55c331",
   "metadata": {},
   "outputs": [
    {
     "data": {
      "text/html": [
       "<pre class=\"language-APL\"> \n",
       "1\n",
       " \n",
       "</pre>"
      ]
     },
     "execution_count": null,
     "metadata": {},
     "output_type": "execute_result"
    }
   ],
   "source": [
    "1 ≡ 1"
   ]
  },
  {
   "cell_type": "code",
   "execution_count": null,
   "id": "ee929e76",
   "metadata": {},
   "outputs": [
    {
     "data": {
      "text/html": [
       "<pre class=\"language-APL\"> \n",
       "0\n",
       " \n",
       "</pre>"
      ]
     },
     "execution_count": null,
     "metadata": {},
     "output_type": "execute_result"
    }
   ],
   "source": [
    "1 ≡ 0"
   ]
  },
  {
   "cell_type": "code",
   "execution_count": null,
   "id": "1419197c",
   "metadata": {},
   "outputs": [
    {
     "data": {
      "text/html": [
       "<pre class=\"language-APL\"> \n",
       "0\n",
       " \n",
       "</pre>"
      ]
     },
     "execution_count": null,
     "metadata": {},
     "output_type": "execute_result"
    }
   ],
   "source": [
    "1 ≡ 1 1"
   ]
  },
  {
   "cell_type": "markdown",
   "id": "284ae899",
   "metadata": {},
   "source": [
    "### `≢` (Equal Underbar Slash)"
   ]
  },
  {
   "cell_type": "markdown",
   "id": "f6f859db",
   "metadata": {},
   "source": [
    "#### monadic `≢` (Tally)"
   ]
  },
  {
   "cell_type": "code",
   "execution_count": null,
   "id": "10011239",
   "metadata": {},
   "outputs": [
    {
     "data": {
      "text/html": [
       "<pre class=\"language-APL\"> \n",
       "3\n",
       " \n",
       "</pre>"
      ]
     },
     "execution_count": null,
     "metadata": {},
     "output_type": "execute_result"
    }
   ],
   "source": [
    "≢ 1 2 3"
   ]
  },
  {
   "cell_type": "code",
   "execution_count": null,
   "id": "6f6449ea",
   "metadata": {},
   "outputs": [
    {
     "data": {
      "text/html": [
       "<pre class=\"language-APL\">┌→┐\n",
       "│3│\n",
       "└~┘\n",
       "</pre>"
      ]
     },
     "execution_count": null,
     "metadata": {},
     "output_type": "execute_result"
    }
   ],
   "source": [
    "⍴ 1 2 3"
   ]
  },
  {
   "cell_type": "code",
   "execution_count": null,
   "id": "7d2d2315",
   "metadata": {},
   "outputs": [
    {
     "data": {
      "text/html": [
       "<pre class=\"language-APL\"> \n",
       "2\n",
       " \n",
       "</pre>"
      ]
     },
     "execution_count": null,
     "metadata": {},
     "output_type": "execute_result"
    }
   ],
   "source": [
    "≢ 2 3 ⍴ ⍳6"
   ]
  },
  {
   "cell_type": "markdown",
   "id": "63bf5a7c",
   "metadata": {},
   "source": [
    "#### dyadic `≢` (Not match)"
   ]
  },
  {
   "cell_type": "code",
   "execution_count": null,
   "id": "762603e0",
   "metadata": {},
   "outputs": [
    {
     "data": {
      "text/html": [
       "<pre class=\"language-APL\"> \n",
       "0\n",
       " \n",
       "</pre>"
      ]
     },
     "execution_count": null,
     "metadata": {},
     "output_type": "execute_result"
    }
   ],
   "source": [
    "1 ≢ 1"
   ]
  },
  {
   "cell_type": "code",
   "execution_count": null,
   "id": "87ebb14d",
   "metadata": {},
   "outputs": [
    {
     "data": {
      "text/html": [
       "<pre class=\"language-APL\"> \n",
       "1\n",
       " \n",
       "</pre>"
      ]
     },
     "execution_count": null,
     "metadata": {},
     "output_type": "execute_result"
    }
   ],
   "source": [
    "1 ≢ 0"
   ]
  },
  {
   "cell_type": "code",
   "execution_count": null,
   "id": "9f3fb7c0",
   "metadata": {},
   "outputs": [
    {
     "data": {
      "text/html": [
       "<pre class=\"language-APL\"> \n",
       "1\n",
       " \n",
       "</pre>"
      ]
     },
     "execution_count": null,
     "metadata": {},
     "output_type": "execute_result"
    }
   ],
   "source": [
    "1 ≢ 1 1"
   ]
  },
  {
   "cell_type": "code",
   "execution_count": null,
   "id": "616c7542",
   "metadata": {},
   "outputs": [
    {
     "data": {
      "text/html": [
       "<pre class=\"language-APL\">┌→──┐\n",
       "│1 1│\n",
       "└~──┘\n",
       "</pre>"
      ]
     },
     "execution_count": null,
     "metadata": {},
     "output_type": "execute_result"
    }
   ],
   "source": [
    "1 (=⍤0 1) 1 1"
   ]
  },
  {
   "cell_type": "markdown",
   "id": "ebf0e3e4",
   "metadata": {},
   "source": [
    "### `/` (Slash)"
   ]
  },
  {
   "cell_type": "markdown",
   "id": "81223d6f",
   "metadata": {},
   "source": [
    "#### monadic `/` (Replicate)"
   ]
  },
  {
   "cell_type": "code",
   "execution_count": null,
   "id": "1e6ccb42",
   "metadata": {},
   "outputs": [
    {
     "data": {
      "text/html": [
       "<pre class=\"language-APL\">┌→──────────────┐\n",
       "│1 1 0 0 1 0 1 0│\n",
       "└~──────────────┘\n",
       "</pre>"
      ]
     },
     "execution_count": null,
     "metadata": {},
     "output_type": "execute_result"
    }
   ],
   "source": [
    "v←22 10 22 22 21 10 5 10\n",
    "≠v"
   ]
  },
  {
   "cell_type": "code",
   "execution_count": null,
   "id": "ed0370b6",
   "metadata": {},
   "outputs": [
    {
     "data": {
      "text/html": [
       "<pre class=\"language-APL\">┌→─────────┐\n",
       "│22 10 21 5│\n",
       "└~─────────┘\n",
       "</pre>"
      ]
     },
     "execution_count": null,
     "metadata": {},
     "output_type": "execute_result"
    }
   ],
   "source": [
    "(≠v)/v"
   ]
  },
  {
   "cell_type": "code",
   "execution_count": null,
   "id": "4a7aa794",
   "metadata": {},
   "outputs": [
    {
     "data": {
      "text/html": [
       "<pre class=\"language-APL\">┌→───────────┐\n",
       "│BBBannnannna│\n",
       "└────────────┘\n",
       "</pre>"
      ]
     },
     "execution_count": null,
     "metadata": {},
     "output_type": "execute_result"
    }
   ],
   "source": [
    "3 1 3 1 3 1 / 'Banana'"
   ]
  },
  {
   "cell_type": "markdown",
   "id": "95f0d135",
   "metadata": {},
   "source": [
    "## Min, max, index, concat"
   ]
  },
  {
   "cell_type": "markdown",
   "id": "c184a076",
   "metadata": {},
   "source": [
    "### `⍳` (iota)"
   ]
  },
  {
   "cell_type": "markdown",
   "id": "8485edff",
   "metadata": {},
   "source": [
    "#### monadic `⍳` (index generator)"
   ]
  },
  {
   "cell_type": "code",
   "execution_count": null,
   "id": "69cc99e0",
   "metadata": {},
   "outputs": [
    {
     "data": {
      "text/html": [
       "<pre class=\"language-APL\">┌→──────┐\n",
       "│1 2 3 4│\n",
       "└~──────┘\n",
       "</pre>"
      ]
     },
     "execution_count": null,
     "metadata": {},
     "output_type": "execute_result"
    }
   ],
   "source": [
    "⍳4"
   ]
  },
  {
   "cell_type": "code",
   "execution_count": null,
   "id": "155302ac",
   "metadata": {},
   "outputs": [
    {
     "data": {
      "text/html": [
       "<pre class=\"language-APL\">┌→──────────────────┐\n",
       "↓ ┌→──┐ ┌→──┐ ┌→──┐ │\n",
       "│ │1 1│ │1 2│ │1 3│ │\n",
       "│ └~──┘ └~──┘ └~──┘ │\n",
       "│ ┌→──┐ ┌→──┐ ┌→──┐ │\n",
       "│ │2 1│ │2 2│ │2 3│ │\n",
       "│ └~──┘ └~──┘ └~──┘ │\n",
       "└∊──────────────────┘\n",
       "</pre>"
      ]
     },
     "execution_count": null,
     "metadata": {},
     "output_type": "execute_result"
    }
   ],
   "source": [
    "⍳2 3"
   ]
  },
  {
   "cell_type": "code",
   "execution_count": null,
   "id": "73e93a04",
   "metadata": {},
   "outputs": [
    {
     "data": {
      "text/html": [
       "<pre class=\"language-APL\">┌→────┐\n",
       "↓1 2 3│\n",
       "│4 5 6│\n",
       "└~────┘\n",
       "</pre>"
      ]
     },
     "execution_count": null,
     "metadata": {},
     "output_type": "execute_result"
    }
   ],
   "source": [
    "2 3 ⍴ ⍳6"
   ]
  },
  {
   "cell_type": "code",
   "execution_count": null,
   "id": "1744f807",
   "metadata": {},
   "outputs": [
    {
     "data": {
      "text/html": [
       "<pre class=\"language-APL\">┌→────────────┐\n",
       "│3 5 7 9 11 13│\n",
       "└~────────────┘\n",
       "</pre>"
      ]
     },
     "execution_count": null,
     "metadata": {},
     "output_type": "execute_result"
    }
   ],
   "source": [
    "1+2×⍳6"
   ]
  },
  {
   "cell_type": "code",
   "execution_count": null,
   "id": "3fd77f85",
   "metadata": {},
   "outputs": [
    {
     "data": {
      "text/html": [
       "<pre class=\"language-APL\">┌⊖┐\n",
       "│0│\n",
       "└~┘\n",
       "</pre>"
      ]
     },
     "execution_count": null,
     "metadata": {},
     "output_type": "execute_result"
    }
   ],
   "source": [
    "⍳0"
   ]
  },
  {
   "cell_type": "markdown",
   "id": "51f01e92",
   "metadata": {},
   "source": [
    "#### dyadic `⍳` (index of)"
   ]
  },
  {
   "cell_type": "code",
   "execution_count": null,
   "id": "db34fc0c",
   "metadata": {},
   "outputs": [
    {
     "data": {
      "text/html": [
       "<pre class=\"language-APL\"> \n",
       "2\n",
       " \n",
       "</pre>"
      ]
     },
     "execution_count": null,
     "metadata": {},
     "output_type": "execute_result"
    }
   ],
   "source": [
    "1 3 6 5 4 ⍳ 3"
   ]
  },
  {
   "cell_type": "code",
   "execution_count": null,
   "id": "1604dc20",
   "metadata": {},
   "outputs": [
    {
     "data": {
      "text/html": [
       "<pre class=\"language-APL\">┌→────────┐\n",
       "│1 3 10 11│\n",
       "└~────────┘\n",
       "</pre>"
      ]
     },
     "execution_count": null,
     "metadata": {},
     "output_type": "execute_result"
    }
   ],
   "source": [
    "'ABCDABCDEF' ⍳ 'ACFG'"
   ]
  },
  {
   "cell_type": "code",
   "execution_count": null,
   "id": "e6a697da",
   "metadata": {},
   "outputs": [
    {
     "data": {
      "text/html": [
       "<pre class=\"language-APL\">┌→──┐\n",
       "↓1 2│\n",
       "│3 4│\n",
       "│5 6│\n",
       "└~──┘\n",
       "</pre>"
      ]
     },
     "execution_count": null,
     "metadata": {},
     "output_type": "execute_result"
    }
   ],
   "source": [
    "⎕←mat←3 2 ⍴ ⍳6"
   ]
  },
  {
   "cell_type": "code",
   "execution_count": null,
   "id": "e7e56d92",
   "metadata": {},
   "outputs": [
    {
     "data": {
      "text/html": [
       "<pre class=\"language-APL\"> \n",
       "3\n",
       " \n",
       "</pre>"
      ]
     },
     "execution_count": null,
     "metadata": {},
     "output_type": "execute_result"
    }
   ],
   "source": [
    "mat←3 2 ⍴ ⍳6\n",
    "mat ⍳ 5 6"
   ]
  },
  {
   "cell_type": "markdown",
   "id": "ad28d0b2",
   "metadata": {},
   "source": [
    "### `⌈` (Upstile)"
   ]
  },
  {
   "cell_type": "markdown",
   "id": "3db6d6cb",
   "metadata": {},
   "source": [
    "#### monadic `⌈` (Ceiling)"
   ]
  },
  {
   "cell_type": "code",
   "execution_count": null,
   "id": "7223b897",
   "metadata": {},
   "outputs": [
    {
     "data": {
      "text/html": [
       "<pre class=\"language-APL\">┌→───────┐\n",
       "│4 ¯3 3 0│\n",
       "└~───────┘\n",
       "</pre>"
      ]
     },
     "execution_count": null,
     "metadata": {},
     "output_type": "execute_result"
    }
   ],
   "source": [
    "⌈ 3.4 ¯3.4 3 0"
   ]
  },
  {
   "cell_type": "markdown",
   "id": "0717d224",
   "metadata": {},
   "source": [
    "#### dyadic `⌈` (Maximum)"
   ]
  },
  {
   "cell_type": "code",
   "execution_count": null,
   "id": "785a5a38",
   "metadata": {},
   "outputs": [
    {
     "data": {
      "text/html": [
       "<pre class=\"language-APL\"> \n",
       "3\n",
       " \n",
       "</pre>"
      ]
     },
     "execution_count": null,
     "metadata": {},
     "output_type": "execute_result"
    }
   ],
   "source": [
    "3⌈2"
   ]
  },
  {
   "cell_type": "code",
   "execution_count": null,
   "id": "7a410ee3",
   "metadata": {},
   "outputs": [
    {
     "data": {
      "text/html": [
       "<pre class=\"language-APL\">┌→──┐\n",
       "│3 3│\n",
       "└~──┘\n",
       "</pre>"
      ]
     },
     "execution_count": null,
     "metadata": {},
     "output_type": "execute_result"
    }
   ],
   "source": [
    "3 2⌈2 3"
   ]
  },
  {
   "cell_type": "code",
   "execution_count": null,
   "id": "f9f78ce3",
   "metadata": {},
   "outputs": [
    {
     "data": {
      "text/html": [
       "<pre class=\"language-APL\"> \n",
       "6\n",
       " \n",
       "</pre>"
      ]
     },
     "execution_count": null,
     "metadata": {},
     "output_type": "execute_result"
    }
   ],
   "source": [
    "4 ⌈ 6 ⌈ 2"
   ]
  },
  {
   "cell_type": "code",
   "execution_count": null,
   "id": "04ed6871",
   "metadata": {},
   "outputs": [
    {
     "data": {
      "text/html": [
       "<pre class=\"language-APL\">┌→────┐\n",
       "│0 6 2│\n",
       "└~────┘\n",
       "</pre>"
      ]
     },
     "execution_count": null,
     "metadata": {},
     "output_type": "execute_result"
    }
   ],
   "source": [
    "a ← ¯4 6 2\n",
    "0 ⌈ a"
   ]
  },
  {
   "cell_type": "markdown",
   "id": "c9a8d1b5",
   "metadata": {},
   "source": [
    "### `⌊` (Downstile)"
   ]
  },
  {
   "cell_type": "markdown",
   "id": "c054a3e9",
   "metadata": {},
   "source": [
    "#### monadic `⌊` (Floor)"
   ]
  },
  {
   "cell_type": "code",
   "execution_count": null,
   "id": "aa41f28e",
   "metadata": {},
   "outputs": [
    {
     "data": {
      "text/html": [
       "<pre class=\"language-APL\">┌→───────┐\n",
       "│3 ¯4 3 0│\n",
       "└~───────┘\n",
       "</pre>"
      ]
     },
     "execution_count": null,
     "metadata": {},
     "output_type": "execute_result"
    }
   ],
   "source": [
    "⌊ 3.4 ¯3.4 3 0"
   ]
  },
  {
   "cell_type": "markdown",
   "id": "a40dd397",
   "metadata": {},
   "source": [
    "#### dyadic `⌊` (Minimum)"
   ]
  },
  {
   "cell_type": "code",
   "execution_count": null,
   "id": "d9a0b9a6",
   "metadata": {},
   "outputs": [
    {
     "data": {
      "text/html": [
       "<pre class=\"language-APL\"> \n",
       "2\n",
       " \n",
       "</pre>"
      ]
     },
     "execution_count": null,
     "metadata": {},
     "output_type": "execute_result"
    }
   ],
   "source": [
    "4 ⌊ 6 ⌊ 2"
   ]
  },
  {
   "cell_type": "code",
   "execution_count": null,
   "id": "7c8db425",
   "metadata": {},
   "outputs": [],
   "source": []
  }
 ],
 "metadata": {
  "kernelspec": {
   "display_name": "Dyalog APL",
   "language": "apl",
   "name": "dyalog-kernel"
  }
 },
 "nbformat": 4,
 "nbformat_minor": 5
}
