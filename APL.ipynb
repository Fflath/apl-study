{
 "cells": [
  {
   "cell_type": "raw",
   "id": "2990f581",
   "metadata": {},
   "source": [
    "---\n",
    "title: \"Glyphs\"\n",
    "author: \"Jeremy Howard\"\n",
    "date: \"2022-07-05\"\n",
    "categories: [Dyalog, APL, Glyphs]\n",
    "image: \"image.jpg\"\n",
    "---"
   ]
  },
  {
   "cell_type": "markdown",
   "id": "5d6af942",
   "metadata": {},
   "source": [
    "This post will explore all the different glyphs in Dyalog APL.  Wherever possible examples of a glyph will exist for each glyph that do not use other glyphs.  The purpose of this post is to create documentation for glyphs that are helpful for beginners getting started.\n",
    "\n",
    "To get help on a glpyh, such as `≠`, type:\n",
    "\n",
    "    ]Help ≠\n",
    "\n",
    "To get more detailed \"pictures\" of arrays and tacit functions type:"
   ]
  },
  {
   "cell_type": "code",
   "execution_count": null,
   "id": "84e8fa35",
   "metadata": {},
   "outputs": [
    {
     "data": {
      "text/html": [
       "<pre class=\"language-APL\">Was ON -style=min -trains=tree -fns=on\n",
       "</pre>"
      ]
     },
     "execution_count": null,
     "metadata": {},
     "output_type": "execute_result"
    }
   ],
   "source": [
    "]box on -style=min -trains=tree -fns=on"
   ]
  },
  {
   "cell_type": "markdown",
   "id": "90f48eea",
   "metadata": {},
   "source": [
    "## Some objects"
   ]
  },
  {
   "cell_type": "markdown",
   "id": "853229ce",
   "metadata": {},
   "source": [
    "### Real"
   ]
  },
  {
   "cell_type": "code",
   "execution_count": null,
   "id": "39913487",
   "metadata": {},
   "outputs": [
    {
     "data": {
      "text/html": [
       "<pre class=\"language-APL\">1\n",
       "</pre>"
      ]
     },
     "execution_count": null,
     "metadata": {},
     "output_type": "execute_result"
    }
   ],
   "source": [
    "1"
   ]
  },
  {
   "cell_type": "code",
   "execution_count": null,
   "id": "8981783e",
   "metadata": {},
   "outputs": [
    {
     "data": {
      "text/html": [
       "<pre class=\"language-APL\">¯1\n",
       "</pre>"
      ]
     },
     "execution_count": null,
     "metadata": {},
     "output_type": "execute_result"
    }
   ],
   "source": [
    "¯1"
   ]
  },
  {
   "cell_type": "code",
   "execution_count": null,
   "id": "243fe69d",
   "metadata": {},
   "outputs": [
    {
     "data": {
      "text/html": [
       "<pre class=\"language-APL\">1.5\n",
       "</pre>"
      ]
     },
     "execution_count": null,
     "metadata": {},
     "output_type": "execute_result"
    }
   ],
   "source": [
    "1.5"
   ]
  },
  {
   "cell_type": "markdown",
   "id": "53f2150f",
   "metadata": {},
   "source": [
    "### Complex"
   ]
  },
  {
   "cell_type": "code",
   "execution_count": null,
   "id": "fdb3c285",
   "metadata": {},
   "outputs": [
    {
     "data": {
      "text/html": [
       "<pre class=\"language-APL\">0J4\n",
       "</pre>"
      ]
     },
     "execution_count": null,
     "metadata": {},
     "output_type": "execute_result"
    }
   ],
   "source": [
    "0j4"
   ]
  },
  {
   "cell_type": "code",
   "execution_count": null,
   "id": "bc2be51d",
   "metadata": {},
   "outputs": [
    {
     "data": {
      "text/html": [
       "<pre class=\"language-APL\">3J4\n",
       "</pre>"
      ]
     },
     "execution_count": null,
     "metadata": {},
     "output_type": "execute_result"
    }
   ],
   "source": [
    "3j4"
   ]
  },
  {
   "cell_type": "markdown",
   "id": "92281d33",
   "metadata": {},
   "source": [
    "`3j4` means `3+4i`."
   ]
  },
  {
   "cell_type": "code",
   "execution_count": null,
   "id": "94bae213",
   "metadata": {},
   "outputs": [
    {
     "data": {
      "text/html": [
       "<pre class=\"language-APL\">4\n",
       "</pre>"
      ]
     },
     "execution_count": null,
     "metadata": {},
     "output_type": "execute_result"
    }
   ],
   "source": [
    "4j0"
   ]
  },
  {
   "cell_type": "code",
   "execution_count": null,
   "id": "fcf31efe",
   "metadata": {},
   "outputs": [
    {
     "data": {
      "text/html": [
       "<pre class=\"language-APL\">¯5J¯6\n",
       "</pre>"
      ]
     },
     "execution_count": null,
     "metadata": {},
     "output_type": "execute_result"
    }
   ],
   "source": [
    "¯5j¯6"
   ]
  },
  {
   "cell_type": "markdown",
   "id": "c453d9f0",
   "metadata": {},
   "source": [
    "### Rank-1 arrays"
   ]
  },
  {
   "cell_type": "code",
   "execution_count": null,
   "id": "0ff63a92",
   "metadata": {},
   "outputs": [
    {
     "data": {
      "text/html": [
       "<span style=\"white-space:pre; font-family: monospace\">┌→────┐\n",
       "│2 3 1│\n",
       "└~────┘\n",
       "</span>"
      ]
     },
     "execution_count": null,
     "metadata": {},
     "output_type": "execute_result"
    }
   ],
   "source": [
    "2 3 1"
   ]
  },
  {
   "cell_type": "code",
   "execution_count": null,
   "id": "22d550cf",
   "metadata": {},
   "outputs": [
    {
     "data": {
      "text/html": [
       "<span style=\"white-space:pre; font-family: monospace\">┌→─────┐\n",
       "│2 ¯3 1│\n",
       "└~─────┘\n",
       "</span>"
      ]
     },
     "execution_count": null,
     "metadata": {},
     "output_type": "execute_result"
    }
   ],
   "source": [
    "2 ¯3 1"
   ]
  },
  {
   "cell_type": "code",
   "execution_count": null,
   "id": "65ad3d13",
   "metadata": {},
   "outputs": [
    {
     "data": {
      "text/html": [
       "<span style=\"white-space:pre; font-family: monospace\">┌→────────┐\n",
       "│0J4 ¯5J¯6│\n",
       "└~────────┘\n",
       "</span>"
      ]
     },
     "execution_count": null,
     "metadata": {},
     "output_type": "execute_result"
    }
   ],
   "source": [
    "0j4 ¯5j¯6"
   ]
  },
  {
   "cell_type": "markdown",
   "id": "c63d1a1a",
   "metadata": {},
   "source": [
    "### Arrays in arrays"
   ]
  },
  {
   "cell_type": "code",
   "execution_count": null,
   "id": "addcad3a",
   "metadata": {},
   "outputs": [
    {
     "data": {
      "text/html": [
       "<span style=\"white-space:pre; font-family: monospace\">┌→──────────────┐\n",
       "│         ┌→──┐ │\n",
       "│ 1 2 3 4 │1 2│ │\n",
       "│         └~──┘ │\n",
       "└∊──────────────┘\n",
       "</span>"
      ]
     },
     "execution_count": null,
     "metadata": {},
     "output_type": "execute_result"
    }
   ],
   "source": [
    "1 2 3 4 (1 2)"
   ]
  },
  {
   "cell_type": "code",
   "execution_count": null,
   "id": "532355d3",
   "metadata": {},
   "outputs": [
    {
     "data": {
      "text/html": [
       "<span style=\"white-space:pre; font-family: monospace\">┌→────────────┐\n",
       "│ ┌→──┐ ┌→──┐ │\n",
       "│ │1 2│ │3 4│ │\n",
       "│ └~──┘ └~──┘ │\n",
       "└∊────────────┘\n",
       "</span>"
      ]
     },
     "execution_count": null,
     "metadata": {},
     "output_type": "execute_result"
    }
   ],
   "source": [
    "(1 2)(3 4)"
   ]
  },
  {
   "cell_type": "code",
   "execution_count": null,
   "id": "6581cfd3",
   "metadata": {},
   "outputs": [
    {
     "data": {
      "text/html": [
       "<span style=\"white-space:pre; font-family: monospace\">┌→──────────────┐\n",
       "│ ┌→──┐ ┌→──┐   │\n",
       "│ │1 2│ │3 4│ 5 │\n",
       "│ └~──┘ └~──┘   │\n",
       "└∊──────────────┘\n",
       "</span>"
      ]
     },
     "execution_count": null,
     "metadata": {},
     "output_type": "execute_result"
    }
   ],
   "source": [
    "(1 2)(3 4)5"
   ]
  },
  {
   "cell_type": "markdown",
   "id": "0cda0ea5",
   "metadata": {},
   "source": [
    "### ⍝ (Comment)"
   ]
  },
  {
   "cell_type": "code",
   "execution_count": null,
   "id": "acc283d0",
   "metadata": {},
   "outputs": [
    {
     "data": {
      "text/html": [
       "<span style=\"white-space:pre; font-family: monospace\">┌→────┐\n",
       "│1 2 3│\n",
       "└~────┘\n",
       "</span>"
      ]
     },
     "execution_count": null,
     "metadata": {},
     "output_type": "execute_result"
    }
   ],
   "source": [
    "⍝ This is a comment and doesn't do anything\n",
    "1 2 3 ⍝ This is a comment after some code"
   ]
  },
  {
   "cell_type": "markdown",
   "id": "05b7c9cb",
   "metadata": {},
   "source": [
    "## Basic math operators"
   ]
  },
  {
   "cell_type": "markdown",
   "id": "9e38b917",
   "metadata": {},
   "source": [
    "### `-` (Minus sign; Bar)"
   ]
  },
  {
   "cell_type": "markdown",
   "id": "c0f50569",
   "metadata": {},
   "source": [
    "#### Monadic `-` (Negate)"
   ]
  },
  {
   "cell_type": "code",
   "execution_count": null,
   "id": "0b5b5779",
   "metadata": {},
   "outputs": [
    {
     "data": {
      "text/html": [
       "<span style=\"white-space:pre; font-family: monospace\">  \n",
       "¯4\n",
       "  \n",
       "</span>"
      ]
     },
     "execution_count": null,
     "metadata": {},
     "output_type": "execute_result"
    }
   ],
   "source": [
    "- 4"
   ]
  },
  {
   "cell_type": "code",
   "execution_count": null,
   "id": "1cd8f993",
   "metadata": {},
   "outputs": [
    {
     "data": {
      "text/html": [
       "<span style=\"white-space:pre; font-family: monospace\"> \n",
       "4\n",
       " \n",
       "</span>"
      ]
     },
     "execution_count": null,
     "metadata": {},
     "output_type": "execute_result"
    }
   ],
   "source": [
    "- ¯4"
   ]
  },
  {
   "cell_type": "code",
   "execution_count": null,
   "id": "9f1dab97",
   "metadata": {},
   "outputs": [
    {
     "data": {
      "text/html": [
       "<span style=\"white-space:pre; font-family: monospace\">┌→──────────┐\n",
       "│¯4 ¯2 0 3 5│\n",
       "└~──────────┘\n",
       "</span>"
      ]
     },
     "execution_count": null,
     "metadata": {},
     "output_type": "execute_result"
    }
   ],
   "source": [
    "- 4 2 0 ¯3 ¯5"
   ]
  },
  {
   "cell_type": "code",
   "execution_count": null,
   "id": "5ef33f8c",
   "metadata": {},
   "outputs": [
    {
     "data": {
      "text/html": [
       "<span style=\"white-space:pre; font-family: monospace\">┌→───────────┐\n",
       "│¯4 2 0 ¯3 ¯5│\n",
       "└~───────────┘\n",
       "</span>"
      ]
     },
     "execution_count": null,
     "metadata": {},
     "output_type": "execute_result"
    }
   ],
   "source": [
    "¯4 2 0 ¯3 ¯5"
   ]
  },
  {
   "cell_type": "markdown",
   "id": "e98a12b7",
   "metadata": {},
   "source": [
    "#### Dyadic `-` (Minus; subtract)"
   ]
  },
  {
   "cell_type": "code",
   "execution_count": null,
   "id": "4368d52a",
   "metadata": {},
   "outputs": [
    {
     "data": {
      "text/html": [
       "<span style=\"white-space:pre; font-family: monospace\"> \n",
       "1\n",
       " \n",
       "</span>"
      ]
     },
     "execution_count": null,
     "metadata": {},
     "output_type": "execute_result"
    }
   ],
   "source": [
    "3-2"
   ]
  },
  {
   "cell_type": "code",
   "execution_count": null,
   "id": "cebdbfa3",
   "metadata": {},
   "outputs": [
    {
     "data": {
      "text/html": [
       "<span style=\"white-space:pre; font-family: monospace\">┌→──────┐\n",
       "│¯1 ¯3 0│\n",
       "└~──────┘\n",
       "</span>"
      ]
     },
     "execution_count": null,
     "metadata": {},
     "output_type": "execute_result"
    }
   ],
   "source": [
    "3 2 1 - 4 5 1"
   ]
  },
  {
   "cell_type": "code",
   "execution_count": null,
   "id": "e34464bc",
   "metadata": {},
   "outputs": [
    {
     "data": {
      "text/html": [
       "<span style=\"white-space:pre; font-family: monospace\">┌→────┐\n",
       "│2 1 0│\n",
       "└~────┘\n",
       "</span>"
      ]
     },
     "execution_count": null,
     "metadata": {},
     "output_type": "execute_result"
    }
   ],
   "source": [
    "3 2 1 - 1"
   ]
  },
  {
   "cell_type": "code",
   "execution_count": null,
   "id": "e1eb8e2c",
   "metadata": {},
   "outputs": [
    {
     "data": {
      "text/html": [
       "<span style=\"white-space:pre; font-family: monospace\">┌→──────┐\n",
       "│¯2 ¯1 0│\n",
       "└~──────┘\n",
       "</span>"
      ]
     },
     "execution_count": null,
     "metadata": {},
     "output_type": "execute_result"
    }
   ],
   "source": [
    "1 - 3 2 1"
   ]
  },
  {
   "cell_type": "markdown",
   "id": "bbc0d769",
   "metadata": {},
   "source": [
    "### `+` (Plus sign)"
   ]
  },
  {
   "cell_type": "markdown",
   "id": "b436ecba",
   "metadata": {},
   "source": [
    "#### Monadic `+` (Conjugate)"
   ]
  },
  {
   "cell_type": "code",
   "execution_count": null,
   "id": "d2070eee",
   "metadata": {},
   "outputs": [
    {
     "data": {
      "text/html": [
       "<span style=\"white-space:pre; font-family: monospace\">   \n",
       "1.2\n",
       "   \n",
       "</span>"
      ]
     },
     "execution_count": null,
     "metadata": {},
     "output_type": "execute_result"
    }
   ],
   "source": [
    "+ 1.2"
   ]
  },
  {
   "cell_type": "code",
   "execution_count": null,
   "id": "2fac9bf6",
   "metadata": {},
   "outputs": [
    {
     "data": {
      "text/html": [
       "<span style=\"white-space:pre; font-family: monospace\">    \n",
       "¯5J6\n",
       "    \n",
       "</span>"
      ]
     },
     "execution_count": null,
     "metadata": {},
     "output_type": "execute_result"
    }
   ],
   "source": [
    "+ ¯5j¯6"
   ]
  },
  {
   "cell_type": "code",
   "execution_count": null,
   "id": "35f8a381",
   "metadata": {},
   "outputs": [
    {
     "data": {
      "text/html": [
       "<span style=\"white-space:pre; font-family: monospace\">┌→────────────┐\n",
       "│1.2 0J¯4 ¯5J6│\n",
       "└~────────────┘\n",
       "</span>"
      ]
     },
     "execution_count": null,
     "metadata": {},
     "output_type": "execute_result"
    }
   ],
   "source": [
    "+ 1.2 0j4 ¯5j¯6"
   ]
  },
  {
   "cell_type": "markdown",
   "id": "8b5267d6",
   "metadata": {},
   "source": [
    "#### Dyadic `+` (Plus)"
   ]
  },
  {
   "cell_type": "code",
   "execution_count": null,
   "id": "5ca270d2",
   "metadata": {},
   "outputs": [
    {
     "data": {
      "text/html": [
       "<span style=\"white-space:pre; font-family: monospace\"> \n",
       "5\n",
       " \n",
       "</span>"
      ]
     },
     "execution_count": null,
     "metadata": {},
     "output_type": "execute_result"
    }
   ],
   "source": [
    "3+2"
   ]
  },
  {
   "cell_type": "code",
   "execution_count": null,
   "id": "8ef69a3e",
   "metadata": {},
   "outputs": [
    {
     "data": {
      "text/html": [
       "<span style=\"white-space:pre; font-family: monospace\">┌→────┐\n",
       "│7 7 2│\n",
       "└~────┘\n",
       "</span>"
      ]
     },
     "execution_count": null,
     "metadata": {},
     "output_type": "execute_result"
    }
   ],
   "source": [
    "3 2 1 + 4 5 1"
   ]
  },
  {
   "cell_type": "code",
   "execution_count": null,
   "id": "a9f35af3",
   "metadata": {},
   "outputs": [
    {
     "data": {
      "text/html": [
       "<span style=\"white-space:pre; font-family: monospace\">┌→────┐\n",
       "│4 3 2│\n",
       "└~────┘\n",
       "</span>"
      ]
     },
     "execution_count": null,
     "metadata": {},
     "output_type": "execute_result"
    }
   ],
   "source": [
    "3 2 1 + 1"
   ]
  },
  {
   "cell_type": "code",
   "execution_count": null,
   "id": "2114d041",
   "metadata": {},
   "outputs": [
    {
     "data": {
      "text/html": [
       "<span style=\"white-space:pre; font-family: monospace\">┌→────┐\n",
       "│4 3 2│\n",
       "└~────┘\n",
       "</span>"
      ]
     },
     "execution_count": null,
     "metadata": {},
     "output_type": "execute_result"
    }
   ],
   "source": [
    "1 + 3 2 1"
   ]
  },
  {
   "cell_type": "markdown",
   "id": "f54a4ddc",
   "metadata": {},
   "source": [
    "### `|` (Stile;Vertical Bar)"
   ]
  },
  {
   "cell_type": "markdown",
   "id": "10a354a2",
   "metadata": {},
   "source": [
    "#### Monadic `|` (Magnitude)"
   ]
  },
  {
   "cell_type": "code",
   "execution_count": null,
   "id": "66a4b9d7",
   "metadata": {},
   "outputs": [
    {
     "data": {
      "text/html": [
       "<pre class=\"language-APL\">┌→────┐\n",
       "│3 3 5│\n",
       "└~────┘\n",
       "</pre>"
      ]
     },
     "execution_count": null,
     "metadata": {},
     "output_type": "execute_result"
    }
   ],
   "source": [
    "|3 ¯3 3j4"
   ]
  },
  {
   "cell_type": "markdown",
   "id": "94262b58",
   "metadata": {},
   "source": [
    "`3j4` means `3+4i`, which has a magnitude of 5 (because (3×3)+(4×4)=(5×5))."
   ]
  },
  {
   "cell_type": "markdown",
   "id": "095f9ec8",
   "metadata": {},
   "source": [
    "#### Dyadic `|` (Residue;Modulus)"
   ]
  },
  {
   "cell_type": "code",
   "execution_count": null,
   "id": "615c2c47",
   "metadata": {},
   "outputs": [
    {
     "data": {
      "text/html": [
       "<pre class=\"language-APL\">┌→────┐\n",
       "│1 3 0│\n",
       "└~────┘\n",
       "</pre>"
      ]
     },
     "execution_count": null,
     "metadata": {},
     "output_type": "execute_result"
    }
   ],
   "source": [
    "2 10 2 | 7 13 8"
   ]
  },
  {
   "cell_type": "code",
   "execution_count": null,
   "id": "f278545a",
   "metadata": {},
   "outputs": [
    {
     "data": {
      "text/html": [
       "<pre class=\"language-APL\">┌→─────┐\n",
       "│1 7 ¯2│\n",
       "└~─────┘\n",
       "</pre>"
      ]
     },
     "execution_count": null,
     "metadata": {},
     "output_type": "execute_result"
    }
   ],
   "source": [
    "2 10 ¯2.5 | 7 ¯13 8"
   ]
  },
  {
   "cell_type": "markdown",
   "id": "e269c8df",
   "metadata": {},
   "source": [
    "### `÷` (Divide sign)"
   ]
  },
  {
   "cell_type": "markdown",
   "id": "a0256ca9",
   "metadata": {},
   "source": [
    "#### Monadic `÷` (Reciprocol)"
   ]
  },
  {
   "cell_type": "code",
   "execution_count": null,
   "id": "59c278e2",
   "metadata": {},
   "outputs": [
    {
     "data": {
      "text/html": [
       "<span style=\"white-space:pre; font-family: monospace\">┌→───────────────────────────┐\n",
       "│0.3333333333 ¯0.5 0.12J¯0.16│\n",
       "└~───────────────────────────┘\n",
       "</span>"
      ]
     },
     "execution_count": null,
     "metadata": {},
     "output_type": "execute_result"
    }
   ],
   "source": [
    "÷ 3 ¯2 3j4"
   ]
  },
  {
   "cell_type": "markdown",
   "id": "0a6dab3a",
   "metadata": {},
   "source": [
    "#### Dyadic `÷` (Divided by)"
   ]
  },
  {
   "cell_type": "code",
   "execution_count": null,
   "id": "c75a236c",
   "metadata": {},
   "outputs": [
    {
     "data": {
      "text/html": [
       "<span style=\"white-space:pre; font-family: monospace\">   \n",
       "1.5\n",
       "   \n",
       "</span>"
      ]
     },
     "execution_count": null,
     "metadata": {},
     "output_type": "execute_result"
    }
   ],
   "source": [
    "3÷2"
   ]
  },
  {
   "cell_type": "code",
   "execution_count": null,
   "id": "4e47f28d",
   "metadata": {},
   "outputs": [
    {
     "data": {
      "text/html": [
       "<span style=\"white-space:pre; font-family: monospace\">┌→─────────┐\n",
       "│1.5 1.2 ¯3│\n",
       "└~─────────┘\n",
       "</span>"
      ]
     },
     "execution_count": null,
     "metadata": {},
     "output_type": "execute_result"
    }
   ],
   "source": [
    "3÷2 2.5 ¯1"
   ]
  },
  {
   "cell_type": "code",
   "execution_count": null,
   "id": "bf954b9e",
   "metadata": {},
   "outputs": [
    {
     "data": {
      "text/html": [
       "<span style=\"white-space:pre; font-family: monospace\">┌→─────────┐\n",
       "│1.5 0.8 ¯1│\n",
       "└~─────────┘\n",
       "</span>"
      ]
     },
     "execution_count": null,
     "metadata": {},
     "output_type": "execute_result"
    }
   ],
   "source": [
    "3 2 1÷2 2.5 ¯1"
   ]
  },
  {
   "cell_type": "markdown",
   "id": "abc6bcc4",
   "metadata": {},
   "source": [
    "### `×` (Times sign)"
   ]
  },
  {
   "cell_type": "markdown",
   "id": "73b588d8",
   "metadata": {},
   "source": [
    "#### Monadic `×` (Direction)"
   ]
  },
  {
   "cell_type": "code",
   "execution_count": null,
   "id": "d43e1b27",
   "metadata": {},
   "outputs": [
    {
     "data": {
      "text/html": [
       "<span style=\"white-space:pre; font-family: monospace\">┌→─────────────┐\n",
       "│1 ¯1 0 0.6J0.8│\n",
       "└~─────────────┘\n",
       "</span>"
      ]
     },
     "execution_count": null,
     "metadata": {},
     "output_type": "execute_result"
    }
   ],
   "source": [
    "× 3.1 ¯2 0 3j4"
   ]
  },
  {
   "cell_type": "code",
   "execution_count": null,
   "id": "2149f046",
   "metadata": {},
   "outputs": [
    {
     "data": {
      "text/html": [
       "<pre class=\"language-APL\">       \n",
       "0.6J0.8\n",
       "       \n",
       "</pre>"
      ]
     },
     "execution_count": null,
     "metadata": {},
     "output_type": "execute_result"
    }
   ],
   "source": [
    "3j4÷(|3j4)"
   ]
  },
  {
   "cell_type": "code",
   "execution_count": null,
   "id": "c8bc455d",
   "metadata": {},
   "outputs": [
    {
     "data": {
      "text/html": [
       "<pre class=\"language-APL\">0.6J0.8\n",
       "</pre>"
      ]
     },
     "execution_count": null,
     "metadata": {},
     "output_type": "execute_result"
    }
   ],
   "source": [
    "÷∘|⍨3j4"
   ]
  },
  {
   "cell_type": "code",
   "execution_count": null,
   "id": "11efc6a8",
   "metadata": {},
   "outputs": [
    {
     "data": {
      "text/html": [
       "<pre class=\"language-APL\">   ⍨\n",
       " ┌─┘\n",
       " ∘\n",
       "┌┴┐\n",
       "÷ |\n",
       "</pre>"
      ]
     },
     "execution_count": null,
     "metadata": {},
     "output_type": "execute_result"
    }
   ],
   "source": [
    "÷∘|⍨"
   ]
  },
  {
   "cell_type": "code",
   "execution_count": null,
   "id": "e89dfee9",
   "metadata": {},
   "outputs": [
    {
     "data": {
      "text/html": [
       "<pre class=\"language-APL\"> \n",
       "4\n",
       " \n",
       "</pre>"
      ]
     },
     "execution_count": null,
     "metadata": {},
     "output_type": "execute_result"
    }
   ],
   "source": [
    "mean 3 4 5 1 7"
   ]
  },
  {
   "cell_type": "markdown",
   "id": "82f87398",
   "metadata": {},
   "source": [
    "`0.6j0.8` represents a vector in the same direction as `3j4`, but with a magnitude of 5, since it's `3j4÷5`."
   ]
  },
  {
   "cell_type": "markdown",
   "id": "c42af4dd",
   "metadata": {},
   "source": [
    "#### Dyadic `×` (Times)"
   ]
  },
  {
   "cell_type": "code",
   "execution_count": null,
   "id": "ccec4680",
   "metadata": {},
   "outputs": [
    {
     "data": {
      "text/html": [
       "<span style=\"white-space:pre; font-family: monospace\"> \n",
       "6\n",
       " \n",
       "</span>"
      ]
     },
     "execution_count": null,
     "metadata": {},
     "output_type": "execute_result"
    }
   ],
   "source": [
    "3×2"
   ]
  },
  {
   "cell_type": "code",
   "execution_count": null,
   "id": "ffabf33e",
   "metadata": {},
   "outputs": [
    {
     "data": {
      "text/html": [
       "<span style=\"white-space:pre; font-family: monospace\">┌→───────┐\n",
       "│6 7.5 ¯3│\n",
       "└~───────┘\n",
       "</span>"
      ]
     },
     "execution_count": null,
     "metadata": {},
     "output_type": "execute_result"
    }
   ],
   "source": [
    "3×2 2.5 ¯1"
   ]
  },
  {
   "cell_type": "code",
   "execution_count": null,
   "id": "34a53827",
   "metadata": {},
   "outputs": [
    {
     "data": {
      "text/html": [
       "<span style=\"white-space:pre; font-family: monospace\">┌→─────┐\n",
       "│6 5 ¯1│\n",
       "└~─────┘\n",
       "</span>"
      ]
     },
     "execution_count": null,
     "metadata": {},
     "output_type": "execute_result"
    }
   ],
   "source": [
    "3 2 1×2 2.5 ¯1"
   ]
  },
  {
   "cell_type": "markdown",
   "id": "d86eccdc",
   "metadata": {},
   "source": [
    "### `*` (Star)"
   ]
  },
  {
   "cell_type": "markdown",
   "id": "db6edb53",
   "metadata": {},
   "source": [
    "#### Monadic `*` (Exponential)"
   ]
  },
  {
   "cell_type": "code",
   "execution_count": null,
   "id": "36fec05d",
   "metadata": {},
   "outputs": [
    {
     "data": {
      "text/html": [
       "<span style=\"white-space:pre; font-family: monospace\">┌→────────────────────────┐\n",
       "│1 2.718281828 7.389056099│\n",
       "└~────────────────────────┘\n",
       "</span>"
      ]
     },
     "execution_count": null,
     "metadata": {},
     "output_type": "execute_result"
    }
   ],
   "source": [
    "* 0 1 2"
   ]
  },
  {
   "cell_type": "markdown",
   "id": "71e3e0ff",
   "metadata": {},
   "source": [
    "#### Dyadic `*` (Power)"
   ]
  },
  {
   "cell_type": "code",
   "execution_count": null,
   "id": "c182968b",
   "metadata": {},
   "outputs": [
    {
     "data": {
      "text/html": [
       "<span style=\"white-space:pre; font-family: monospace\">┌→───────┐\n",
       "│7 25 0J2│\n",
       "└~───────┘\n",
       "</span>"
      ]
     },
     "execution_count": null,
     "metadata": {},
     "output_type": "execute_result"
    }
   ],
   "source": [
    "49 5 ¯4 * 0.5 2 0.5"
   ]
  },
  {
   "cell_type": "markdown",
   "id": "9b3e3ffc",
   "metadata": {},
   "source": [
    "## Expressions"
   ]
  },
  {
   "cell_type": "markdown",
   "id": "3a516a0a",
   "metadata": {},
   "source": [
    "### Precedence"
   ]
  },
  {
   "cell_type": "code",
   "execution_count": null,
   "id": "415a629e",
   "metadata": {},
   "outputs": [
    {
     "data": {
      "text/html": [
       "<span style=\"white-space:pre; font-family: monospace\"> \n",
       "9\n",
       " \n",
       "</span>"
      ]
     },
     "execution_count": null,
     "metadata": {},
     "output_type": "execute_result"
    }
   ],
   "source": [
    "3×2+1"
   ]
  },
  {
   "cell_type": "code",
   "execution_count": null,
   "id": "333812a2",
   "metadata": {},
   "outputs": [
    {
     "data": {
      "text/html": [
       "<span style=\"white-space:pre; font-family: monospace\">┌→────┐\n",
       "│3 6 9│\n",
       "└~────┘\n",
       "</span>"
      ]
     },
     "execution_count": null,
     "metadata": {},
     "output_type": "execute_result"
    }
   ],
   "source": [
    "1 2 3×2+1"
   ]
  },
  {
   "cell_type": "code",
   "execution_count": null,
   "id": "fecc4aa4",
   "metadata": {},
   "outputs": [
    {
     "data": {
      "text/html": [
       "<span style=\"white-space:pre; font-family: monospace\">┌→──────┐\n",
       "│4 12 24│\n",
       "└~──────┘\n",
       "</span>"
      ]
     },
     "execution_count": null,
     "metadata": {},
     "output_type": "execute_result"
    }
   ],
   "source": [
    "1 2 3×2+2 4 6"
   ]
  },
  {
   "cell_type": "code",
   "execution_count": null,
   "id": "bb8463b5",
   "metadata": {},
   "outputs": [
    {
     "data": {
      "text/html": [
       "<span style=\"white-space:pre; font-family: monospace\">┌→───┐\n",
       "│7 ¯1│\n",
       "└~───┘\n",
       "</span>"
      ]
     },
     "execution_count": null,
     "metadata": {},
     "output_type": "execute_result"
    }
   ],
   "source": [
    "3 ¯5 + 4"
   ]
  },
  {
   "cell_type": "code",
   "execution_count": null,
   "id": "51986f3d",
   "metadata": {},
   "outputs": [
    {
     "data": {
      "text/html": [
       "<span style=\"white-space:pre; font-family: monospace\"> \n",
       "2\n",
       " \n",
       "</span>"
      ]
     },
     "execution_count": null,
     "metadata": {},
     "output_type": "execute_result"
    }
   ],
   "source": [
    "8*÷3"
   ]
  },
  {
   "cell_type": "markdown",
   "id": "c145bfe5",
   "metadata": {},
   "source": [
    "### Assignment"
   ]
  },
  {
   "cell_type": "code",
   "execution_count": null,
   "id": "0012af8b",
   "metadata": {},
   "outputs": [
    {
     "data": {
      "text/html": [
       "<span style=\"white-space:pre; font-family: monospace\"> \n",
       "3\n",
       " \n",
       "</span>"
      ]
     },
     "execution_count": null,
     "metadata": {},
     "output_type": "execute_result"
    }
   ],
   "source": [
    "a←3\n",
    "a"
   ]
  },
  {
   "cell_type": "code",
   "execution_count": null,
   "id": "7630f424",
   "metadata": {},
   "outputs": [
    {
     "data": {
      "text/html": [
       "<span style=\"white-space:pre; font-family: monospace\"> \n",
       "3\n",
       " \n",
       "</span>"
      ]
     },
     "execution_count": null,
     "metadata": {},
     "output_type": "execute_result"
    }
   ],
   "source": [
    "⎕←a←3"
   ]
  },
  {
   "cell_type": "code",
   "execution_count": null,
   "id": "f676beae",
   "metadata": {},
   "outputs": [
    {
     "data": {
      "text/html": [
       "<span style=\"white-space:pre; font-family: monospace\">┌→──┐\n",
       "│3 4│\n",
       "└~──┘\n",
       "</span>"
      ]
     },
     "execution_count": null,
     "metadata": {},
     "output_type": "execute_result"
    }
   ],
   "source": [
    "b←3 4\n",
    "b"
   ]
  },
  {
   "cell_type": "markdown",
   "id": "be1a4d2c",
   "metadata": {},
   "source": [
    "### Functions"
   ]
  },
  {
   "cell_type": "code",
   "execution_count": null,
   "id": "015e629e",
   "metadata": {},
   "outputs": [
    {
     "data": {
      "text/html": [
       "<span style=\"white-space:pre; font-family: monospace\"> \n",
       "8\n",
       " \n",
       "</span>"
      ]
     },
     "execution_count": null,
     "metadata": {},
     "output_type": "execute_result"
    }
   ],
   "source": [
    "{⍵×2} 4"
   ]
  },
  {
   "cell_type": "code",
   "execution_count": null,
   "id": "7b821d34",
   "metadata": {},
   "outputs": [
    {
     "data": {
      "text/html": [
       "<span style=\"white-space:pre; font-family: monospace\"> \n",
       "8\n",
       " \n",
       "</span>"
      ]
     },
     "execution_count": null,
     "metadata": {},
     "output_type": "execute_result"
    }
   ],
   "source": [
    "f ← {⍵×2}\n",
    "f 4"
   ]
  },
  {
   "cell_type": "code",
   "execution_count": null,
   "id": "26f11c52",
   "metadata": {},
   "outputs": [
    {
     "data": {
      "text/html": [
       "<span style=\"white-space:pre; font-family: monospace\">  \n",
       "20\n",
       "  \n",
       "</span>"
      ]
     },
     "execution_count": null,
     "metadata": {},
     "output_type": "execute_result"
    }
   ],
   "source": [
    "g ← {⍵×2+⍺}\n",
    "3 g 4"
   ]
  },
  {
   "cell_type": "code",
   "execution_count": null,
   "id": "baf748c8",
   "metadata": {},
   "outputs": [
    {
     "data": {
      "text/html": [
       "<span style=\"white-space:pre; font-family: monospace\">  \n",
       "10\n",
       "  \n",
       "</span>"
      ]
     },
     "execution_count": null,
     "metadata": {},
     "output_type": "execute_result"
    }
   ],
   "source": [
    "f ← {⍵×2}\n",
    "h ← {2 + f ⍵}\n",
    "h 4"
   ]
  },
  {
   "cell_type": "markdown",
   "id": "1513585f",
   "metadata": {},
   "source": [
    "### Destructuring assignment"
   ]
  },
  {
   "cell_type": "code",
   "execution_count": null,
   "id": "d05d0c59",
   "metadata": {},
   "outputs": [
    {
     "data": {
      "text/html": [
       "<span style=\"white-space:pre; font-family: monospace\"> \n",
       "3\n",
       " \n",
       "</span>"
      ]
     },
     "execution_count": null,
     "metadata": {},
     "output_type": "execute_result"
    }
   ],
   "source": [
    "a b ← 3 4\n",
    "a"
   ]
  },
  {
   "cell_type": "markdown",
   "id": "4dddc7fa",
   "metadata": {},
   "source": [
    "## Array rank"
   ]
  },
  {
   "cell_type": "markdown",
   "id": "1fd3e439",
   "metadata": {},
   "source": [
    "### `⍴` (rho)"
   ]
  },
  {
   "cell_type": "markdown",
   "id": "33002d4a",
   "metadata": {},
   "source": [
    "#### Dyadic `⍴` (reshape)"
   ]
  },
  {
   "cell_type": "code",
   "execution_count": null,
   "id": "80b4d271",
   "metadata": {},
   "outputs": [
    {
     "data": {
      "text/html": [
       "<span style=\"white-space:pre; font-family: monospace\">┌→──────────┐\n",
       "│1 2 3 4 5 6│\n",
       "└~──────────┘\n",
       "</span>"
      ]
     },
     "execution_count": null,
     "metadata": {},
     "output_type": "execute_result"
    }
   ],
   "source": [
    "⎕ ← 1 2 3 4 5 6"
   ]
  },
  {
   "cell_type": "code",
   "execution_count": null,
   "id": "73dbf073",
   "metadata": {},
   "outputs": [
    {
     "data": {
      "text/html": [
       "<span style=\"white-space:pre; font-family: monospace\">┌→────┐\n",
       "↓1 2 3│\n",
       "│4 5 6│\n",
       "└~────┘\n",
       "</span>"
      ]
     },
     "execution_count": null,
     "metadata": {},
     "output_type": "execute_result"
    }
   ],
   "source": [
    "a ← 1 2 3 4 5 6\n",
    "⎕←mat←2 3 ⍴ a"
   ]
  },
  {
   "cell_type": "code",
   "execution_count": null,
   "id": "c3a455fe",
   "metadata": {},
   "outputs": [
    {
     "data": {
      "text/html": [
       "<span style=\"white-space:pre; font-family: monospace\">┌→──┐\n",
       "↓1 2│\n",
       "│3 4│\n",
       "│5 6│\n",
       "└~──┘\n",
       "</span>"
      ]
     },
     "execution_count": null,
     "metadata": {},
     "output_type": "execute_result"
    }
   ],
   "source": [
    "a ← 1 2 3 4 5 6\n",
    "3 2 ⍴ a"
   ]
  },
  {
   "cell_type": "code",
   "execution_count": null,
   "id": "62c4c60a",
   "metadata": {},
   "outputs": [
    {
     "data": {
      "text/html": [
       "<span style=\"white-space:pre; font-family: monospace\">┌→──────────┐\n",
       "↓1 2 3 4 5 6│\n",
       "└~──────────┘\n",
       "</span>"
      ]
     },
     "execution_count": null,
     "metadata": {},
     "output_type": "execute_result"
    }
   ],
   "source": [
    "a ← 1 2 3 4 5 6\n",
    "1 6 ⍴ a"
   ]
  },
  {
   "cell_type": "code",
   "execution_count": null,
   "id": "459c8924",
   "metadata": {},
   "outputs": [
    {
     "data": {
      "text/html": [
       "<span style=\"white-space:pre; font-family: monospace\">┌┌→────┐\n",
       "↓↓1 2 3│\n",
       "││4 5 6│\n",
       "││     │\n",
       "││1 2 3│\n",
       "││4 5 6│\n",
       "└└~────┘\n",
       "</span>"
      ]
     },
     "execution_count": null,
     "metadata": {},
     "output_type": "execute_result"
    }
   ],
   "source": [
    "a ← 1 2 3 4 5 6\n",
    "⎕←c←2 2 3 ⍴ a"
   ]
  },
  {
   "cell_type": "code",
   "execution_count": null,
   "id": "7651f6ef",
   "metadata": {},
   "outputs": [
    {
     "data": {
      "text/html": [
       "<span style=\"white-space:pre; font-family: monospace\">┌→────┐\n",
       "↓1 1 1│\n",
       "│1 1 1│\n",
       "└~────┘\n",
       "</span>"
      ]
     },
     "execution_count": null,
     "metadata": {},
     "output_type": "execute_result"
    }
   ],
   "source": [
    "2 3 ⍴ 1"
   ]
  },
  {
   "cell_type": "markdown",
   "id": "95b6c2f5",
   "metadata": {},
   "source": [
    "#### Monadic `⍴` (shape of)"
   ]
  },
  {
   "cell_type": "code",
   "execution_count": null,
   "id": "4ff2def4",
   "metadata": {},
   "outputs": [
    {
     "data": {
      "text/html": [
       "<span style=\"white-space:pre; font-family: monospace\">┌→┐\n",
       "│6│\n",
       "└~┘\n",
       "</span>"
      ]
     },
     "execution_count": null,
     "metadata": {},
     "output_type": "execute_result"
    }
   ],
   "source": [
    "a ← 1 2 3 4 5 6\n",
    "⍴a"
   ]
  },
  {
   "cell_type": "code",
   "execution_count": null,
   "id": "0313a50e",
   "metadata": {},
   "outputs": [
    {
     "data": {
      "text/html": [
       "<span style=\"white-space:pre; font-family: monospace\">┌→──┐\n",
       "│2 3│\n",
       "└~──┘\n",
       "</span>"
      ]
     },
     "execution_count": null,
     "metadata": {},
     "output_type": "execute_result"
    }
   ],
   "source": [
    "mat←2 3 ⍴ a\n",
    "⍴mat"
   ]
  },
  {
   "cell_type": "code",
   "execution_count": null,
   "id": "49027e1b",
   "metadata": {},
   "outputs": [
    {
     "data": {
      "text/html": [
       "<span style=\"white-space:pre; font-family: monospace\">┌⊖┐\n",
       "│0│\n",
       "└~┘\n",
       "</span>"
      ]
     },
     "execution_count": null,
     "metadata": {},
     "output_type": "execute_result"
    }
   ],
   "source": [
    "⍴3"
   ]
  },
  {
   "cell_type": "code",
   "execution_count": null,
   "id": "4e7acf5b",
   "metadata": {},
   "outputs": [
    {
     "data": {
      "text/html": [
       "<span style=\"white-space:pre; font-family: monospace\">┌⊖┐\n",
       "│0│\n",
       "└~┘\n",
       "</span>"
      ]
     },
     "execution_count": null,
     "metadata": {},
     "output_type": "execute_result"
    }
   ],
   "source": [
    "⍬"
   ]
  },
  {
   "cell_type": "code",
   "execution_count": null,
   "id": "a99c3656",
   "metadata": {},
   "outputs": [
    {
     "data": {
      "text/html": [
       "<span style=\"white-space:pre; font-family: monospace\">┌→┐\n",
       "│0│\n",
       "└~┘\n",
       "</span>"
      ]
     },
     "execution_count": null,
     "metadata": {},
     "output_type": "execute_result"
    }
   ],
   "source": [
    "⍴⍬"
   ]
  },
  {
   "cell_type": "code",
   "execution_count": null,
   "id": "58eaa324",
   "metadata": {},
   "outputs": [
    {
     "data": {
      "text/html": [
       "<span style=\"white-space:pre; font-family: monospace\">┌→┐\n",
       "│2│\n",
       "└~┘\n",
       "</span>"
      ]
     },
     "execution_count": null,
     "metadata": {},
     "output_type": "execute_result"
    }
   ],
   "source": [
    "mat←2 3 ⍴ a\n",
    "⍴⍴mat"
   ]
  },
  {
   "cell_type": "code",
   "execution_count": null,
   "id": "46d5a389",
   "metadata": {},
   "outputs": [
    {
     "data": {
      "text/html": [
       "<span style=\"white-space:pre; font-family: monospace\">┌→┐\n",
       "│1│\n",
       "└~┘\n",
       "</span>"
      ]
     },
     "execution_count": null,
     "metadata": {},
     "output_type": "execute_result"
    }
   ],
   "source": [
    "mat←2 3 ⍴ a\n",
    "⍴⍴⍴mat"
   ]
  },
  {
   "cell_type": "code",
   "execution_count": null,
   "id": "edebb07a",
   "metadata": {},
   "outputs": [
    {
     "data": {
      "text/html": [
       "<span style=\"white-space:pre; font-family: monospace\">┌→────┐\n",
       "│2 2 3│\n",
       "└~────┘\n",
       "</span>"
      ]
     },
     "execution_count": null,
     "metadata": {},
     "output_type": "execute_result"
    }
   ],
   "source": [
    "c←2 2 3 ⍴ a\n",
    "⍴c"
   ]
  },
  {
   "cell_type": "code",
   "execution_count": null,
   "id": "d34adc21",
   "metadata": {},
   "outputs": [
    {
     "data": {
      "text/html": [
       "<span style=\"white-space:pre; font-family: monospace\">┌→┐\n",
       "│1│\n",
       "└~┘\n",
       "</span>"
      ]
     },
     "execution_count": null,
     "metadata": {},
     "output_type": "execute_result"
    }
   ],
   "source": [
    "c←2 2 3 ⍴ a\n",
    "⍴⍴⍴c"
   ]
  },
  {
   "cell_type": "markdown",
   "id": "1ca2af7b",
   "metadata": {},
   "source": [
    "## Strings (characters and character vectors)"
   ]
  },
  {
   "cell_type": "code",
   "execution_count": null,
   "id": "e2b8eae9",
   "metadata": {},
   "outputs": [
    {
     "data": {
      "text/html": [
       "<span style=\"white-space:pre; font-family: monospace\">┌→──┐\n",
       "│ACF│\n",
       "└───┘\n",
       "</span>"
      ]
     },
     "execution_count": null,
     "metadata": {},
     "output_type": "execute_result"
    }
   ],
   "source": [
    "'ACF'"
   ]
  },
  {
   "cell_type": "code",
   "execution_count": null,
   "id": "3d924a62",
   "metadata": {},
   "outputs": [
    {
     "data": {
      "text/html": [
       "<span style=\"white-space:pre; font-family: monospace\">┌→──┐\n",
       "│ACF│\n",
       "└───┘\n",
       "</span>"
      ]
     },
     "execution_count": null,
     "metadata": {},
     "output_type": "execute_result"
    }
   ],
   "source": [
    "'A' 'C' 'F'"
   ]
  },
  {
   "cell_type": "code",
   "execution_count": null,
   "id": "fecb4641",
   "metadata": {},
   "outputs": [
    {
     "data": {
      "text/html": [
       "<span style=\"white-space:pre; font-family: monospace\">┌⊖┐\n",
       "│0│\n",
       "└~┘\n",
       "</span>"
      ]
     },
     "execution_count": null,
     "metadata": {},
     "output_type": "execute_result"
    }
   ],
   "source": [
    "⍴'y'"
   ]
  },
  {
   "cell_type": "code",
   "execution_count": null,
   "id": "1d591cc4",
   "metadata": {},
   "outputs": [
    {
     "data": {
      "text/html": [
       "<span style=\"white-space:pre; font-family: monospace\">┌→┐\n",
       "│9│\n",
       "└~┘\n",
       "</span>"
      ]
     },
     "execution_count": null,
     "metadata": {},
     "output_type": "execute_result"
    }
   ],
   "source": [
    "⍴'your boat'"
   ]
  },
  {
   "cell_type": "code",
   "execution_count": null,
   "id": "91a3fd9a",
   "metadata": {},
   "outputs": [
    {
     "data": {
      "text/html": [
       "<span style=\"white-space:pre; font-family: monospace\">┌→────────┐\n",
       "│1 2 3 4 a│\n",
       "└+────────┘\n",
       "</span>"
      ]
     },
     "execution_count": null,
     "metadata": {},
     "output_type": "execute_result"
    }
   ],
   "source": [
    "1 2 3 4 'a'"
   ]
  },
  {
   "cell_type": "code",
   "execution_count": null,
   "id": "2304a301",
   "metadata": {},
   "outputs": [
    {
     "data": {
      "text/html": [
       "<span style=\"white-space:pre; font-family: monospace\">┌→─────────────┐\n",
       "│         ┌→─┐ │\n",
       "│ 1 2 3 4 │ab│ │\n",
       "│         └──┘ │\n",
       "└∊─────────────┘\n",
       "</span>"
      ]
     },
     "execution_count": null,
     "metadata": {},
     "output_type": "execute_result"
    }
   ],
   "source": [
    "1 2 3 4 'ab'"
   ]
  },
  {
   "cell_type": "code",
   "execution_count": null,
   "id": "c4207e87",
   "metadata": {},
   "outputs": [
    {
     "data": {
      "text/html": [
       "<span style=\"white-space:pre; font-family: monospace\">┌→─────────────────┐\n",
       "│ ┌→──┐ ┌→──┐ ┌→─┐ │\n",
       "│ │1 2│ │3 4│ │ab│ │\n",
       "│ └~──┘ └~──┘ └──┘ │\n",
       "└∊─────────────────┘\n",
       "</span>"
      ]
     },
     "execution_count": null,
     "metadata": {},
     "output_type": "execute_result"
    }
   ],
   "source": [
    "(1 2)(3 4)'ab'"
   ]
  },
  {
   "cell_type": "code",
   "execution_count": null,
   "id": "35b5a8ed",
   "metadata": {},
   "outputs": [
    {
     "data": {
      "text/html": [
       "<span style=\"white-space:pre; font-family: monospace\">┌→─────────────────────────┐\n",
       "│ABCDEFGHIJKLMNOPQRSTUVWXYZ│\n",
       "└──────────────────────────┘\n",
       "</span>"
      ]
     },
     "execution_count": null,
     "metadata": {},
     "output_type": "execute_result"
    }
   ],
   "source": [
    "⎕A"
   ]
  },
  {
   "cell_type": "markdown",
   "id": "2dbbce67",
   "metadata": {},
   "source": [
    "## Boolean"
   ]
  },
  {
   "cell_type": "markdown",
   "id": "71f403e7",
   "metadata": {},
   "source": [
    "### `=` (Equal sign)"
   ]
  },
  {
   "cell_type": "markdown",
   "id": "2df02fe7",
   "metadata": {},
   "source": [
    "#### dyadic `=` (Equal to)"
   ]
  },
  {
   "cell_type": "code",
   "execution_count": null,
   "id": "f9a1f4c0",
   "metadata": {},
   "outputs": [
    {
     "data": {
      "text/html": [
       "<span style=\"white-space:pre; font-family: monospace\"> \n",
       "1\n",
       " \n",
       "</span>"
      ]
     },
     "execution_count": null,
     "metadata": {},
     "output_type": "execute_result"
    }
   ],
   "source": [
    "1 = 1"
   ]
  },
  {
   "cell_type": "code",
   "execution_count": null,
   "id": "e494be50",
   "metadata": {},
   "outputs": [
    {
     "data": {
      "text/html": [
       "<span style=\"white-space:pre; font-family: monospace\">┌→──┐\n",
       "│1 0│\n",
       "└~──┘\n",
       "</span>"
      ]
     },
     "execution_count": null,
     "metadata": {},
     "output_type": "execute_result"
    }
   ],
   "source": [
    "1 = 1 2"
   ]
  },
  {
   "cell_type": "code",
   "execution_count": null,
   "id": "d31b5778",
   "metadata": {},
   "outputs": [
    {
     "data": {
      "text/html": [
       "<span style=\"white-space:pre; font-family: monospace\">┌→──┐\n",
       "│1 1│\n",
       "└~──┘\n",
       "</span>"
      ]
     },
     "execution_count": null,
     "metadata": {},
     "output_type": "execute_result"
    }
   ],
   "source": [
    "1 = 1 1"
   ]
  },
  {
   "cell_type": "code",
   "execution_count": null,
   "id": "8d9ff9d7",
   "metadata": {},
   "outputs": [
    {
     "data": {
      "text/html": [
       "<span style=\"white-space:pre; font-family: monospace\">┌→──────────┐\n",
       "│0 1 0 1 0 1│\n",
       "└~──────────┘\n",
       "</span>"
      ]
     },
     "execution_count": null,
     "metadata": {},
     "output_type": "execute_result"
    }
   ],
   "source": [
    "'Banana' = 'aaaaaa'"
   ]
  },
  {
   "cell_type": "code",
   "execution_count": null,
   "id": "0077e614",
   "metadata": {},
   "outputs": [
    {
     "data": {
      "text/html": [
       "<span style=\"white-space:pre; font-family: monospace\">┌→──────────┐\n",
       "│0 1 0 1 0 1│\n",
       "└~──────────┘\n",
       "</span>"
      ]
     },
     "execution_count": null,
     "metadata": {},
     "output_type": "execute_result"
    }
   ],
   "source": [
    "'Banana' = 'a'"
   ]
  },
  {
   "cell_type": "code",
   "execution_count": null,
   "id": "aa551f28",
   "metadata": {},
   "outputs": [
    {
     "data": {
      "text/html": [
       "<span style=\"white-space:pre; font-family: monospace\">┌→──────────────────────────────────────┐\n",
       "│ ┌→──────────┐ ┌→────────┐ ┌→────────┐ │\n",
       "│ │0 1 0 1 0 1│ │0 0 0 0 0│ │0 1 0 0 0│ │\n",
       "│ └~──────────┘ └~────────┘ └~────────┘ │\n",
       "└∊──────────────────────────────────────┘\n",
       "</span>"
      ]
     },
     "execution_count": null,
     "metadata": {},
     "output_type": "execute_result"
    }
   ],
   "source": [
    "'Banana' 'Apple' 'Candy' = 'a'"
   ]
  },
  {
   "cell_type": "markdown",
   "id": "12b33beb",
   "metadata": {},
   "source": [
    "### `≠` (Not equal)"
   ]
  },
  {
   "cell_type": "markdown",
   "id": "3b0b6323",
   "metadata": {},
   "source": [
    "#### monadic `≠` (Unique Mask)"
   ]
  },
  {
   "cell_type": "code",
   "execution_count": null,
   "id": "0d283400",
   "metadata": {},
   "outputs": [
    {
     "data": {
      "text/html": [
       "<span style=\"white-space:pre; font-family: monospace\">┌→──────────────┐\n",
       "│1 1 0 0 1 0 1 0│\n",
       "└~──────────────┘\n",
       "</span>"
      ]
     },
     "execution_count": null,
     "metadata": {},
     "output_type": "execute_result"
    }
   ],
   "source": [
    "≠22 10 22 22 21 10 5 10"
   ]
  },
  {
   "cell_type": "code",
   "execution_count": null,
   "id": "1b52166b",
   "metadata": {},
   "outputs": [
    {
     "data": {
      "text/html": [
       "<span style=\"white-space:pre; font-family: monospace\">┌→──────────┐\n",
       "│1 1 1 0 0 0│\n",
       "└~──────────┘\n",
       "</span>"
      ]
     },
     "execution_count": null,
     "metadata": {},
     "output_type": "execute_result"
    }
   ],
   "source": [
    "≠ 'Banana'"
   ]
  },
  {
   "cell_type": "code",
   "execution_count": null,
   "id": "84ed720d",
   "metadata": {},
   "outputs": [
    {
     "data": {
      "text/html": [
       "<span style=\"white-space:pre; font-family: monospace\">┌→────────────────────┐\n",
       "│1 1 1 0 0 0 0 0 1 0 0│\n",
       "└~────────────────────┘\n",
       "</span>"
      ]
     },
     "execution_count": null,
     "metadata": {},
     "output_type": "execute_result"
    }
   ],
   "source": [
    "≠ 'Mississippi'"
   ]
  },
  {
   "cell_type": "markdown",
   "id": "ec2830de",
   "metadata": {},
   "source": [
    "#### dyadic `≠` (Not Equal To)"
   ]
  },
  {
   "cell_type": "code",
   "execution_count": null,
   "id": "21b37853",
   "metadata": {},
   "outputs": [
    {
     "data": {
      "text/html": [
       "<span style=\"white-space:pre; font-family: monospace\">┌→────┐\n",
       "│1 0 1│\n",
       "└~────┘\n",
       "</span>"
      ]
     },
     "execution_count": null,
     "metadata": {},
     "output_type": "execute_result"
    }
   ],
   "source": [
    "1 2 3 ≠ 4 2 ¯1"
   ]
  },
  {
   "cell_type": "code",
   "execution_count": null,
   "id": "7b1f2164",
   "metadata": {},
   "outputs": [
    {
     "data": {
      "text/html": [
       "<span style=\"white-space:pre; font-family: monospace\"> \n",
       "1\n",
       " \n",
       "</span>"
      ]
     },
     "execution_count": null,
     "metadata": {},
     "output_type": "execute_result"
    }
   ],
   "source": [
    "7 ≠ '7'"
   ]
  },
  {
   "cell_type": "markdown",
   "id": "2d5dfcd5",
   "metadata": {},
   "source": [
    "### `<` (Less than sign)"
   ]
  },
  {
   "cell_type": "markdown",
   "id": "4277bc63",
   "metadata": {},
   "source": [
    "#### dyadic `<` (Less than)"
   ]
  },
  {
   "cell_type": "code",
   "execution_count": null,
   "id": "b3c6be5e",
   "metadata": {},
   "outputs": [
    {
     "data": {
      "text/html": [
       "<span style=\"white-space:pre; font-family: monospace\">┌→────┐\n",
       "│1 0 0│\n",
       "└~────┘\n",
       "</span>"
      ]
     },
     "execution_count": null,
     "metadata": {},
     "output_type": "execute_result"
    }
   ],
   "source": [
    "1 2 3 < 4 2 ¯1"
   ]
  },
  {
   "cell_type": "code",
   "execution_count": null,
   "id": "61f6c499",
   "metadata": {},
   "outputs": [
    {
     "data": {
      "text/html": [
       "<span style=\"white-space:pre; font-family: monospace\">┌→────┐\n",
       "│1 0 0│\n",
       "└~────┘\n",
       "</span>"
      ]
     },
     "execution_count": null,
     "metadata": {},
     "output_type": "execute_result"
    }
   ],
   "source": [
    "1 2 3 < 2"
   ]
  },
  {
   "cell_type": "markdown",
   "id": "3bd3a0ea",
   "metadata": {},
   "source": [
    "### `>` (Greater than sign)"
   ]
  },
  {
   "cell_type": "markdown",
   "id": "b487022a",
   "metadata": {},
   "source": [
    "#### dyadic `>` (Greater than)"
   ]
  },
  {
   "cell_type": "code",
   "execution_count": null,
   "id": "ed7bc01e",
   "metadata": {},
   "outputs": [
    {
     "data": {
      "text/html": [
       "<span style=\"white-space:pre; font-family: monospace\">┌→────┐\n",
       "│0 0 1│\n",
       "└~────┘\n",
       "</span>"
      ]
     },
     "execution_count": null,
     "metadata": {},
     "output_type": "execute_result"
    }
   ],
   "source": [
    "1 2 3 > 4 2 ¯1"
   ]
  },
  {
   "cell_type": "code",
   "execution_count": null,
   "id": "b68ae705",
   "metadata": {},
   "outputs": [
    {
     "data": {
      "text/html": [
       "<span style=\"white-space:pre; font-family: monospace\">┌→────┐\n",
       "│0 0 1│\n",
       "└~────┘\n",
       "</span>"
      ]
     },
     "execution_count": null,
     "metadata": {},
     "output_type": "execute_result"
    }
   ],
   "source": [
    "1 2 3 > 2"
   ]
  },
  {
   "cell_type": "markdown",
   "id": "903c506f",
   "metadata": {},
   "source": [
    "### `≤` (Less than or equal to sign)"
   ]
  },
  {
   "cell_type": "markdown",
   "id": "21b33cbf",
   "metadata": {},
   "source": [
    "#### dyadic `≤` (Less than or equal to)"
   ]
  },
  {
   "cell_type": "code",
   "execution_count": null,
   "id": "985c9324",
   "metadata": {},
   "outputs": [
    {
     "data": {
      "text/html": [
       "<span style=\"white-space:pre; font-family: monospace\">┌→────┐\n",
       "│1 1 0│\n",
       "└~────┘\n",
       "</span>"
      ]
     },
     "execution_count": null,
     "metadata": {},
     "output_type": "execute_result"
    }
   ],
   "source": [
    "1 2 3 ≤ 4 2 ¯1"
   ]
  },
  {
   "cell_type": "code",
   "execution_count": null,
   "id": "ebb03a6a",
   "metadata": {},
   "outputs": [
    {
     "data": {
      "text/html": [
       "<span style=\"white-space:pre; font-family: monospace\">┌→────┐\n",
       "│1 1 0│\n",
       "└~────┘\n",
       "</span>"
      ]
     },
     "execution_count": null,
     "metadata": {},
     "output_type": "execute_result"
    }
   ],
   "source": [
    "1 2 3 ≤ 2"
   ]
  },
  {
   "cell_type": "markdown",
   "id": "b9409575",
   "metadata": {},
   "source": [
    "### `≥` (Greater than or equal to sign)"
   ]
  },
  {
   "cell_type": "markdown",
   "id": "8dbc6595",
   "metadata": {},
   "source": [
    "#### dyadic `≥` (Greater than or equal to)"
   ]
  },
  {
   "cell_type": "code",
   "execution_count": null,
   "id": "c2db65ca",
   "metadata": {},
   "outputs": [
    {
     "data": {
      "text/html": [
       "<span style=\"white-space:pre; font-family: monospace\">┌→────┐\n",
       "│0 1 1│\n",
       "└~────┘\n",
       "</span>"
      ]
     },
     "execution_count": null,
     "metadata": {},
     "output_type": "execute_result"
    }
   ],
   "source": [
    "1 2 3 ≥ 4 2 ¯1"
   ]
  },
  {
   "cell_type": "code",
   "execution_count": null,
   "id": "3c4673b1",
   "metadata": {},
   "outputs": [
    {
     "data": {
      "text/html": [
       "<span style=\"white-space:pre; font-family: monospace\">┌→────┐\n",
       "│0 1 1│\n",
       "└~────┘\n",
       "</span>"
      ]
     },
     "execution_count": null,
     "metadata": {},
     "output_type": "execute_result"
    }
   ],
   "source": [
    "1 2 3 ≥ 2"
   ]
  },
  {
   "cell_type": "markdown",
   "id": "af629c33",
   "metadata": {},
   "source": [
    "### `≡` (Equal underbar)"
   ]
  },
  {
   "cell_type": "markdown",
   "id": "04409fab",
   "metadata": {},
   "source": [
    "#### monadic `≡` (Depth)"
   ]
  },
  {
   "cell_type": "code",
   "execution_count": null,
   "id": "fcb156fe",
   "metadata": {},
   "outputs": [
    {
     "data": {
      "text/html": [
       "<span style=\"white-space:pre; font-family: monospace\"> \n",
       "0\n",
       " \n",
       "</span>"
      ]
     },
     "execution_count": null,
     "metadata": {},
     "output_type": "execute_result"
    }
   ],
   "source": [
    "≡ 7"
   ]
  },
  {
   "cell_type": "code",
   "execution_count": null,
   "id": "53200fb6",
   "metadata": {},
   "outputs": [
    {
     "data": {
      "text/html": [
       "<span style=\"white-space:pre; font-family: monospace\"> \n",
       "1\n",
       " \n",
       "</span>"
      ]
     },
     "execution_count": null,
     "metadata": {},
     "output_type": "execute_result"
    }
   ],
   "source": [
    "≡ 'abc'"
   ]
  },
  {
   "cell_type": "code",
   "execution_count": null,
   "id": "35407dd6",
   "metadata": {},
   "outputs": [
    {
     "data": {
      "text/html": [
       "<span style=\"white-space:pre; font-family: monospace\">┌→────────────┐\n",
       "│ ┌→──┐ ┌→──┐ │\n",
       "│ │1 2│ │3 4│ │\n",
       "│ └~──┘ └~──┘ │\n",
       "└∊────────────┘\n",
       "</span>"
      ]
     },
     "execution_count": null,
     "metadata": {},
     "output_type": "execute_result"
    }
   ],
   "source": [
    "(1 2)(3 4)"
   ]
  },
  {
   "cell_type": "code",
   "execution_count": null,
   "id": "f64d2e8e",
   "metadata": {},
   "outputs": [
    {
     "data": {
      "text/html": [
       "<span style=\"white-space:pre; font-family: monospace\"> \n",
       "2\n",
       " \n",
       "</span>"
      ]
     },
     "execution_count": null,
     "metadata": {},
     "output_type": "execute_result"
    }
   ],
   "source": [
    "≡ (1 2)(3 4)"
   ]
  },
  {
   "cell_type": "code",
   "execution_count": null,
   "id": "0650e6e6",
   "metadata": {},
   "outputs": [
    {
     "data": {
      "text/html": [
       "<span style=\"white-space:pre; font-family: monospace\">┌→──────────────┐\n",
       "│ ┌→──┐ ┌→──┐   │\n",
       "│ │1 2│ │3 4│ 5 │\n",
       "│ └~──┘ └~──┘   │\n",
       "└∊──────────────┘\n",
       "</span>"
      ]
     },
     "execution_count": null,
     "metadata": {},
     "output_type": "execute_result"
    }
   ],
   "source": [
    "(1 2)(3 4)5"
   ]
  },
  {
   "cell_type": "code",
   "execution_count": null,
   "id": "ede6ebf7",
   "metadata": {},
   "outputs": [
    {
     "data": {
      "text/html": [
       "<span style=\"white-space:pre; font-family: monospace\">  \n",
       "¯2\n",
       "  \n",
       "</span>"
      ]
     },
     "execution_count": null,
     "metadata": {},
     "output_type": "execute_result"
    }
   ],
   "source": [
    "≡ (1 2)(3 4)5"
   ]
  },
  {
   "cell_type": "markdown",
   "id": "d5e95d1d",
   "metadata": {},
   "source": [
    "#### dyadic `≡` (Match)"
   ]
  },
  {
   "cell_type": "code",
   "execution_count": null,
   "id": "8f55c331",
   "metadata": {},
   "outputs": [
    {
     "data": {
      "text/html": [
       "<span style=\"white-space:pre; font-family: monospace\"> \n",
       "1\n",
       " \n",
       "</span>"
      ]
     },
     "execution_count": null,
     "metadata": {},
     "output_type": "execute_result"
    }
   ],
   "source": [
    "1 ≡ 1"
   ]
  },
  {
   "cell_type": "code",
   "execution_count": null,
   "id": "ee929e76",
   "metadata": {},
   "outputs": [
    {
     "data": {
      "text/html": [
       "<span style=\"white-space:pre; font-family: monospace\"> \n",
       "0\n",
       " \n",
       "</span>"
      ]
     },
     "execution_count": null,
     "metadata": {},
     "output_type": "execute_result"
    }
   ],
   "source": [
    "1 ≡ 0"
   ]
  },
  {
   "cell_type": "code",
   "execution_count": null,
   "id": "1419197c",
   "metadata": {},
   "outputs": [
    {
     "data": {
      "text/html": [
       "<span style=\"white-space:pre; font-family: monospace\"> \n",
       "0\n",
       " \n",
       "</span>"
      ]
     },
     "execution_count": null,
     "metadata": {},
     "output_type": "execute_result"
    }
   ],
   "source": [
    "1 ≡ 1 1"
   ]
  },
  {
   "cell_type": "markdown",
   "id": "284ae899",
   "metadata": {},
   "source": [
    "### `≢` (Equal Underbar Slash)"
   ]
  },
  {
   "cell_type": "markdown",
   "id": "f6f859db",
   "metadata": {},
   "source": [
    "#### monadic `≢` (Tally)"
   ]
  },
  {
   "cell_type": "code",
   "execution_count": null,
   "id": "10011239",
   "metadata": {},
   "outputs": [
    {
     "data": {
      "text/html": [
       "<span style=\"white-space:pre; font-family: monospace\"> \n",
       "3\n",
       " \n",
       "</span>"
      ]
     },
     "execution_count": null,
     "metadata": {},
     "output_type": "execute_result"
    }
   ],
   "source": [
    "≢ 1 2 3"
   ]
  },
  {
   "cell_type": "code",
   "execution_count": null,
   "id": "6f6449ea",
   "metadata": {},
   "outputs": [
    {
     "data": {
      "text/html": [
       "<span style=\"white-space:pre; font-family: monospace\">┌→┐\n",
       "│3│\n",
       "└~┘\n",
       "</span>"
      ]
     },
     "execution_count": null,
     "metadata": {},
     "output_type": "execute_result"
    }
   ],
   "source": [
    "⍴ 1 2 3"
   ]
  },
  {
   "cell_type": "code",
   "execution_count": null,
   "id": "7d2d2315",
   "metadata": {},
   "outputs": [
    {
     "data": {
      "text/html": [
       "<span style=\"white-space:pre; font-family: monospace\"> \n",
       "2\n",
       " \n",
       "</span>"
      ]
     },
     "execution_count": null,
     "metadata": {},
     "output_type": "execute_result"
    }
   ],
   "source": [
    "≢ 2 3 ⍴ ⍳6"
   ]
  },
  {
   "cell_type": "markdown",
   "id": "63bf5a7c",
   "metadata": {},
   "source": [
    "#### dyadic `≢` (Not match)"
   ]
  },
  {
   "cell_type": "code",
   "execution_count": null,
   "id": "762603e0",
   "metadata": {},
   "outputs": [
    {
     "data": {
      "text/html": [
       "<span style=\"white-space:pre; font-family: monospace\"> \n",
       "0\n",
       " \n",
       "</span>"
      ]
     },
     "execution_count": null,
     "metadata": {},
     "output_type": "execute_result"
    }
   ],
   "source": [
    "1 ≢ 1"
   ]
  },
  {
   "cell_type": "code",
   "execution_count": null,
   "id": "87ebb14d",
   "metadata": {},
   "outputs": [
    {
     "data": {
      "text/html": [
       "<span style=\"white-space:pre; font-family: monospace\"> \n",
       "1\n",
       " \n",
       "</span>"
      ]
     },
     "execution_count": null,
     "metadata": {},
     "output_type": "execute_result"
    }
   ],
   "source": [
    "1 ≢ 0"
   ]
  },
  {
   "cell_type": "code",
   "execution_count": null,
   "id": "9f3fb7c0",
   "metadata": {},
   "outputs": [
    {
     "data": {
      "text/html": [
       "<span style=\"white-space:pre; font-family: monospace\"> \n",
       "1\n",
       " \n",
       "</span>"
      ]
     },
     "execution_count": null,
     "metadata": {},
     "output_type": "execute_result"
    }
   ],
   "source": [
    "1 ≢ 1 1"
   ]
  },
  {
   "cell_type": "code",
   "execution_count": null,
   "id": "616c7542",
   "metadata": {},
   "outputs": [
    {
     "data": {
      "text/html": [
       "<span style=\"white-space:pre; font-family: monospace\">┌→──┐\n",
       "│1 1│\n",
       "└~──┘\n",
       "</span>"
      ]
     },
     "execution_count": null,
     "metadata": {},
     "output_type": "execute_result"
    }
   ],
   "source": [
    "1 (=⍤0 1) 1 1"
   ]
  },
  {
   "cell_type": "markdown",
   "id": "ebf0e3e4",
   "metadata": {},
   "source": [
    "### `/` (Slash)"
   ]
  },
  {
   "cell_type": "markdown",
   "id": "81223d6f",
   "metadata": {},
   "source": [
    "#### monadic `/` (Replicate)"
   ]
  },
  {
   "cell_type": "code",
   "execution_count": null,
   "id": "1e6ccb42",
   "metadata": {},
   "outputs": [
    {
     "data": {
      "text/html": [
       "<span style=\"white-space:pre; font-family: monospace\">┌→──────────────┐\n",
       "│1 1 0 0 1 0 1 0│\n",
       "└~──────────────┘\n",
       "</span>"
      ]
     },
     "execution_count": null,
     "metadata": {},
     "output_type": "execute_result"
    }
   ],
   "source": [
    "v←22 10 22 22 21 10 5 10\n",
    "≠v"
   ]
  },
  {
   "cell_type": "code",
   "execution_count": null,
   "id": "ed0370b6",
   "metadata": {},
   "outputs": [
    {
     "data": {
      "text/html": [
       "<span style=\"white-space:pre; font-family: monospace\">┌→─────────┐\n",
       "│22 10 21 5│\n",
       "└~─────────┘\n",
       "</span>"
      ]
     },
     "execution_count": null,
     "metadata": {},
     "output_type": "execute_result"
    }
   ],
   "source": [
    "(≠v)/v"
   ]
  },
  {
   "cell_type": "code",
   "execution_count": null,
   "id": "4a7aa794",
   "metadata": {},
   "outputs": [
    {
     "data": {
      "text/html": [
       "<span style=\"white-space:pre; font-family: monospace\">┌→───────────┐\n",
       "│BBBannnannna│\n",
       "└────────────┘\n",
       "</span>"
      ]
     },
     "execution_count": null,
     "metadata": {},
     "output_type": "execute_result"
    }
   ],
   "source": [
    "3 1 3 1 3 1 / 'Banana'"
   ]
  },
  {
   "cell_type": "markdown",
   "id": "95f0d135",
   "metadata": {},
   "source": [
    "## Min, max, index, concat"
   ]
  },
  {
   "cell_type": "markdown",
   "id": "c184a076",
   "metadata": {},
   "source": [
    "### `⍳` (iota)"
   ]
  },
  {
   "cell_type": "markdown",
   "id": "8485edff",
   "metadata": {},
   "source": [
    "#### monadic `⍳` (index generator)"
   ]
  },
  {
   "cell_type": "code",
   "execution_count": null,
   "id": "69cc99e0",
   "metadata": {},
   "outputs": [
    {
     "data": {
      "text/html": [
       "<span style=\"white-space:pre; font-family: monospace\">┌→──────┐\n",
       "│1 2 3 4│\n",
       "└~──────┘\n",
       "</span>"
      ]
     },
     "execution_count": null,
     "metadata": {},
     "output_type": "execute_result"
    }
   ],
   "source": [
    "⍳4"
   ]
  },
  {
   "cell_type": "code",
   "execution_count": null,
   "id": "155302ac",
   "metadata": {},
   "outputs": [
    {
     "data": {
      "text/html": [
       "<span style=\"white-space:pre; font-family: monospace\">┌→──────────────────┐\n",
       "↓ ┌→──┐ ┌→──┐ ┌→──┐ │\n",
       "│ │1 1│ │1 2│ │1 3│ │\n",
       "│ └~──┘ └~──┘ └~──┘ │\n",
       "│ ┌→──┐ ┌→──┐ ┌→──┐ │\n",
       "│ │2 1│ │2 2│ │2 3│ │\n",
       "│ └~──┘ └~──┘ └~──┘ │\n",
       "└∊──────────────────┘\n",
       "</span>"
      ]
     },
     "execution_count": null,
     "metadata": {},
     "output_type": "execute_result"
    }
   ],
   "source": [
    "⍳2 3"
   ]
  },
  {
   "cell_type": "code",
   "execution_count": null,
   "id": "73e93a04",
   "metadata": {},
   "outputs": [
    {
     "data": {
      "text/html": [
       "<span style=\"white-space:pre; font-family: monospace\">┌→────┐\n",
       "↓1 2 3│\n",
       "│4 5 6│\n",
       "└~────┘\n",
       "</span>"
      ]
     },
     "execution_count": null,
     "metadata": {},
     "output_type": "execute_result"
    }
   ],
   "source": [
    "2 3 ⍴ ⍳6"
   ]
  },
  {
   "cell_type": "code",
   "execution_count": null,
   "id": "1744f807",
   "metadata": {},
   "outputs": [
    {
     "data": {
      "text/html": [
       "<span style=\"white-space:pre; font-family: monospace\">┌→────────────┐\n",
       "│3 5 7 9 11 13│\n",
       "└~────────────┘\n",
       "</span>"
      ]
     },
     "execution_count": null,
     "metadata": {},
     "output_type": "execute_result"
    }
   ],
   "source": [
    "1+2×⍳6"
   ]
  },
  {
   "cell_type": "code",
   "execution_count": null,
   "id": "3fd77f85",
   "metadata": {},
   "outputs": [
    {
     "data": {
      "text/html": [
       "<span style=\"white-space:pre; font-family: monospace\">┌⊖┐\n",
       "│0│\n",
       "└~┘\n",
       "</span>"
      ]
     },
     "execution_count": null,
     "metadata": {},
     "output_type": "execute_result"
    }
   ],
   "source": [
    "⍳0"
   ]
  },
  {
   "cell_type": "markdown",
   "id": "51f01e92",
   "metadata": {},
   "source": [
    "#### dyadic `⍳` (index of)"
   ]
  },
  {
   "cell_type": "code",
   "execution_count": null,
   "id": "db34fc0c",
   "metadata": {},
   "outputs": [
    {
     "data": {
      "text/html": [
       "<span style=\"white-space:pre; font-family: monospace\"> \n",
       "2\n",
       " \n",
       "</span>"
      ]
     },
     "execution_count": null,
     "metadata": {},
     "output_type": "execute_result"
    }
   ],
   "source": [
    "1 3 6 5 4 ⍳ 3"
   ]
  },
  {
   "cell_type": "code",
   "execution_count": null,
   "id": "1604dc20",
   "metadata": {},
   "outputs": [
    {
     "data": {
      "text/html": [
       "<span style=\"white-space:pre; font-family: monospace\">┌→────────┐\n",
       "│1 3 10 11│\n",
       "└~────────┘\n",
       "</span>"
      ]
     },
     "execution_count": null,
     "metadata": {},
     "output_type": "execute_result"
    }
   ],
   "source": [
    "'ABCDABCDEF' ⍳ 'ACFG'"
   ]
  },
  {
   "cell_type": "code",
   "execution_count": null,
   "id": "e6a697da",
   "metadata": {},
   "outputs": [
    {
     "data": {
      "text/html": [
       "<span style=\"white-space:pre; font-family: monospace\">┌→──┐\n",
       "↓1 2│\n",
       "│3 4│\n",
       "│5 6│\n",
       "└~──┘\n",
       "</span>"
      ]
     },
     "execution_count": null,
     "metadata": {},
     "output_type": "execute_result"
    }
   ],
   "source": [
    "⎕←mat←3 2 ⍴ ⍳6"
   ]
  },
  {
   "cell_type": "code",
   "execution_count": null,
   "id": "e7e56d92",
   "metadata": {},
   "outputs": [
    {
     "data": {
      "text/html": [
       "<span style=\"white-space:pre; font-family: monospace\"> \n",
       "3\n",
       " \n",
       "</span>"
      ]
     },
     "execution_count": null,
     "metadata": {},
     "output_type": "execute_result"
    }
   ],
   "source": [
    "mat←3 2 ⍴ ⍳6\n",
    "mat ⍳ 5 6"
   ]
  },
  {
   "cell_type": "markdown",
   "id": "ad28d0b2",
   "metadata": {},
   "source": [
    "### `⌈` (Upstile)"
   ]
  },
  {
   "cell_type": "markdown",
   "id": "3db6d6cb",
   "metadata": {},
   "source": [
    "#### monadic `⌈` (Ceiling)"
   ]
  },
  {
   "cell_type": "code",
   "execution_count": null,
   "id": "7223b897",
   "metadata": {},
   "outputs": [
    {
     "data": {
      "text/html": [
       "<span style=\"white-space:pre; font-family: monospace\">┌→───────┐\n",
       "│4 ¯3 3 0│\n",
       "└~───────┘\n",
       "</span>"
      ]
     },
     "execution_count": null,
     "metadata": {},
     "output_type": "execute_result"
    }
   ],
   "source": [
    "⌈ 3.4 ¯3.4 3 0"
   ]
  },
  {
   "cell_type": "markdown",
   "id": "0717d224",
   "metadata": {},
   "source": [
    "#### dyadic `⌈` (Maximum)"
   ]
  },
  {
   "cell_type": "code",
   "execution_count": null,
   "id": "785a5a38",
   "metadata": {},
   "outputs": [
    {
     "data": {
      "text/html": [
       "<span style=\"white-space:pre; font-family: monospace\"> \n",
       "3\n",
       " \n",
       "</span>"
      ]
     },
     "execution_count": null,
     "metadata": {},
     "output_type": "execute_result"
    }
   ],
   "source": [
    "3⌈2"
   ]
  },
  {
   "cell_type": "code",
   "execution_count": null,
   "id": "7a410ee3",
   "metadata": {},
   "outputs": [
    {
     "data": {
      "text/html": [
       "<span style=\"white-space:pre; font-family: monospace\">┌→──┐\n",
       "│3 3│\n",
       "└~──┘\n",
       "</span>"
      ]
     },
     "execution_count": null,
     "metadata": {},
     "output_type": "execute_result"
    }
   ],
   "source": [
    "3 2⌈2 3"
   ]
  },
  {
   "cell_type": "code",
   "execution_count": null,
   "id": "f9f78ce3",
   "metadata": {},
   "outputs": [
    {
     "data": {
      "text/html": [
       "<span style=\"white-space:pre; font-family: monospace\"> \n",
       "6\n",
       " \n",
       "</span>"
      ]
     },
     "execution_count": null,
     "metadata": {},
     "output_type": "execute_result"
    }
   ],
   "source": [
    "4 ⌈ 6 ⌈ 2"
   ]
  },
  {
   "cell_type": "code",
   "execution_count": null,
   "id": "04ed6871",
   "metadata": {},
   "outputs": [
    {
     "data": {
      "text/html": [
       "<span style=\"white-space:pre; font-family: monospace\">┌→────┐\n",
       "│0 6 2│\n",
       "└~────┘\n",
       "</span>"
      ]
     },
     "execution_count": null,
     "metadata": {},
     "output_type": "execute_result"
    }
   ],
   "source": [
    "a ← ¯4 6 2\n",
    "0 ⌈ a"
   ]
  },
  {
   "cell_type": "markdown",
   "id": "c9a8d1b5",
   "metadata": {},
   "source": [
    "### `⌊` (Downstile)"
   ]
  },
  {
   "cell_type": "markdown",
   "id": "c054a3e9",
   "metadata": {},
   "source": [
    "#### monadic `⌊` (Floor)"
   ]
  },
  {
   "cell_type": "code",
   "execution_count": null,
   "id": "aa41f28e",
   "metadata": {},
   "outputs": [
    {
     "data": {
      "text/html": [
       "<span style=\"white-space:pre; font-family: monospace\">┌→───────┐\n",
       "│3 ¯4 3 0│\n",
       "└~───────┘\n",
       "</span>"
      ]
     },
     "execution_count": null,
     "metadata": {},
     "output_type": "execute_result"
    }
   ],
   "source": [
    "⌊ 3.4 ¯3.4 3 0"
   ]
  },
  {
   "cell_type": "markdown",
   "id": "a40dd397",
   "metadata": {},
   "source": [
    "#### dyadic `⌊` (Minimum)"
   ]
  },
  {
   "cell_type": "code",
   "execution_count": null,
   "id": "d9a0b9a6",
   "metadata": {},
   "outputs": [
    {
     "data": {
      "text/html": [
       "<span style=\"white-space:pre; font-family: monospace\"> \n",
       "2\n",
       " \n",
       "</span>"
      ]
     },
     "execution_count": null,
     "metadata": {},
     "output_type": "execute_result"
    }
   ],
   "source": [
    "4 ⌊ 6 ⌊ 2"
   ]
  },
  {
   "cell_type": "markdown",
   "id": "a627597a",
   "metadata": {},
   "source": [
    "## Axis"
   ]
  },
  {
   "cell_type": "markdown",
   "id": "0c032f67",
   "metadata": {},
   "source": [
    "### `[0]` (Axis)"
   ]
  },
  {
   "cell_type": "code",
   "execution_count": null,
   "id": "987a8fd9",
   "metadata": {},
   "outputs": [
    {
     "data": {
      "text/html": [
       "<span style=\"white-space:pre; font-family: monospace\">┌→──┐\n",
       "↓1 2│\n",
       "│3 4│\n",
       "│5 6│\n",
       "└~──┘\n",
       "</span>"
      ]
     },
     "execution_count": null,
     "metadata": {},
     "output_type": "execute_result"
    }
   ],
   "source": [
    "3 2⍴⍳6"
   ]
  },
  {
   "cell_type": "code",
   "execution_count": null,
   "id": "b883b3f9",
   "metadata": {},
   "outputs": [
    {
     "data": {
      "text/html": [
       "<span style=\"white-space:pre; font-family: monospace\">┌→──┐\n",
       "↓1 0│\n",
       "│0 1│\n",
       "│1 0│\n",
       "└~──┘\n",
       "</span>"
      ]
     },
     "execution_count": null,
     "metadata": {},
     "output_type": "execute_result"
    }
   ],
   "source": [
    "1 4 5 =[1] 3 2⍴⍳6"
   ]
  },
  {
   "cell_type": "code",
   "execution_count": null,
   "id": "5161cb08",
   "metadata": {},
   "outputs": [
    {
     "data": {
      "text/html": [
       "<span style=\"white-space:pre; font-family: monospace\">┌→───────┐\n",
       "↓10 20 30│\n",
       "│40 50 60│\n",
       "└~───────┘\n",
       "</span>"
      ]
     },
     "execution_count": null,
     "metadata": {},
     "output_type": "execute_result"
    }
   ],
   "source": [
    "⎕←mat ← 2 3 ⍴ 10 20 30 40 50 60 "
   ]
  },
  {
   "cell_type": "code",
   "execution_count": null,
   "id": "8845a1fe",
   "metadata": {},
   "outputs": [
    {
     "data": {
      "text/html": [
       "<span style=\"white-space:pre; font-family: monospace\">┌→───────┐\n",
       "↓11 21 31│\n",
       "│42 52 62│\n",
       "└~───────┘\n",
       "</span>"
      ]
     },
     "execution_count": null,
     "metadata": {},
     "output_type": "execute_result"
    }
   ],
   "source": [
    "mat+[1]1 2    ⍝ add along first axis"
   ]
  },
  {
   "cell_type": "markdown",
   "id": "a445ebe1",
   "metadata": {},
   "source": [
    "### `,` (Comma)"
   ]
  },
  {
   "cell_type": "markdown",
   "id": "738a9d5e",
   "metadata": {},
   "source": [
    "#### monadic `,` (Ravel)"
   ]
  },
  {
   "cell_type": "code",
   "execution_count": null,
   "id": "459d3868",
   "metadata": {},
   "outputs": [
    {
     "data": {
      "text/html": [
       "<span style=\"white-space:pre; font-family: monospace\">┌┌→──┐\n",
       "↓↓1 2│\n",
       "││3 4│\n",
       "││   │\n",
       "││5 6│\n",
       "││7 8│\n",
       "└└~──┘\n",
       "</span>"
      ]
     },
     "execution_count": null,
     "metadata": {},
     "output_type": "execute_result"
    }
   ],
   "source": [
    "⎕ ← cube ← 2 2 2 ⍴ ⍳8"
   ]
  },
  {
   "cell_type": "code",
   "execution_count": null,
   "id": "04f7bdd0",
   "metadata": {},
   "outputs": [
    {
     "data": {
      "text/html": [
       "<span style=\"white-space:pre; font-family: monospace\">┌→──────────────┐\n",
       "│1 2 3 4 5 6 7 8│\n",
       "└~──────────────┘\n",
       "</span>"
      ]
     },
     "execution_count": null,
     "metadata": {},
     "output_type": "execute_result"
    }
   ],
   "source": [
    ", cube"
   ]
  },
  {
   "cell_type": "code",
   "execution_count": null,
   "id": "1cea85bb",
   "metadata": {},
   "outputs": [
    {
     "data": {
      "text/html": [
       "<span style=\"white-space:pre; font-family: monospace\">┌→────────────┐\n",
       "│ ┌→──┐ ┌→──┐ │\n",
       "│ │1 2│ │1 2│ │\n",
       "│ └~──┘ └~──┘ │\n",
       "└∊────────────┘\n",
       "</span>"
      ]
     },
     "execution_count": null,
     "metadata": {},
     "output_type": "execute_result"
    }
   ],
   "source": [
    ", (1 2)(1 2)"
   ]
  },
  {
   "cell_type": "markdown",
   "id": "f89344a6",
   "metadata": {},
   "source": [
    "#### monadic `,` (Ravel) with axis"
   ]
  },
  {
   "cell_type": "code",
   "execution_count": null,
   "id": "4abc4506",
   "metadata": {},
   "outputs": [
    {
     "data": {
      "text/html": [
       "<span style=\"white-space:pre; font-family: monospace\">┌→──┐\n",
       "│ABC│\n",
       "└───┘\n",
       "</span>"
      ]
     },
     "execution_count": null,
     "metadata": {},
     "output_type": "execute_result"
    }
   ],
   "source": [
    "'ABC'"
   ]
  },
  {
   "cell_type": "code",
   "execution_count": null,
   "id": "dbb8811f",
   "metadata": {},
   "outputs": [
    {
     "data": {
      "text/html": [
       "<span style=\"white-space:pre; font-family: monospace\">┌→──┐\n",
       "↓ABC│\n",
       "└───┘\n",
       "</span>"
      ]
     },
     "execution_count": null,
     "metadata": {},
     "output_type": "execute_result"
    }
   ],
   "source": [
    ",[0.5]'ABC'"
   ]
  },
  {
   "cell_type": "code",
   "execution_count": null,
   "id": "4439fe42",
   "metadata": {},
   "outputs": [
    {
     "data": {
      "text/html": [
       "<span style=\"white-space:pre; font-family: monospace\">┌→──┐\n",
       "│1 3│\n",
       "└~──┘\n",
       "</span>"
      ]
     },
     "execution_count": null,
     "metadata": {},
     "output_type": "execute_result"
    }
   ],
   "source": [
    "⍴,[0.5]'ABC'"
   ]
  },
  {
   "cell_type": "code",
   "execution_count": null,
   "id": "d347d249",
   "metadata": {},
   "outputs": [
    {
     "data": {
      "text/html": [
       "<span style=\"white-space:pre; font-family: monospace\">┌┌→──────────┐\n",
       "↓↓ 1  2  3  4│\n",
       "││ 5  6  7  8│\n",
       "││ 9 10 11 12│\n",
       "││           │\n",
       "││13 14 15 16│\n",
       "││17 18 19 20│\n",
       "││21 22 23 24│\n",
       "└└~──────────┘\n",
       "</span>"
      ]
     },
     "execution_count": null,
     "metadata": {},
     "output_type": "execute_result"
    }
   ],
   "source": [
    "⎕←M ← 2 3 4 ⍴ ⍳24"
   ]
  },
  {
   "cell_type": "code",
   "execution_count": null,
   "id": "dbe8d81d",
   "metadata": {},
   "outputs": [
    {
     "data": {
      "text/html": [
       "<span style=\"white-space:pre; font-family: monospace\">┌→──────────┐\n",
       "↓ 1  2  3  4│\n",
       "│ 5  6  7  8│\n",
       "│ 9 10 11 12│\n",
       "│13 14 15 16│\n",
       "│17 18 19 20│\n",
       "│21 22 23 24│\n",
       "└~──────────┘\n",
       "</span>"
      ]
     },
     "execution_count": null,
     "metadata": {},
     "output_type": "execute_result"
    }
   ],
   "source": [
    ",[1 2]M"
   ]
  },
  {
   "cell_type": "code",
   "execution_count": null,
   "id": "17fb1de1",
   "metadata": {},
   "outputs": [
    {
     "data": {
      "text/html": [
       "<span style=\"white-space:pre; font-family: monospace\">┌→──┐\n",
       "│6 4│\n",
       "└~──┘\n",
       "</span>"
      ]
     },
     "execution_count": null,
     "metadata": {},
     "output_type": "execute_result"
    }
   ],
   "source": [
    "⍴,[1 2]M"
   ]
  },
  {
   "cell_type": "code",
   "execution_count": null,
   "id": "1ef4b061",
   "metadata": {},
   "outputs": [
    {
     "data": {
      "text/html": [
       "<span style=\"white-space:pre; font-family: monospace\">┌→──────────────────────────────────┐\n",
       "↓ 1  2  3  4  5  6  7  8  9 10 11 12│\n",
       "│13 14 15 16 17 18 19 20 21 22 23 24│\n",
       "└~──────────────────────────────────┘\n",
       "</span>"
      ]
     },
     "execution_count": null,
     "metadata": {},
     "output_type": "execute_result"
    }
   ],
   "source": [
    ",[2 3]M"
   ]
  },
  {
   "cell_type": "code",
   "execution_count": null,
   "id": "0d19a8dd",
   "metadata": {},
   "outputs": [
    {
     "data": {
      "text/html": [
       "<span style=\"white-space:pre; font-family: monospace\">┌→───┐\n",
       "│2 12│\n",
       "└~───┘\n",
       "</span>"
      ]
     },
     "execution_count": null,
     "metadata": {},
     "output_type": "execute_result"
    }
   ],
   "source": [
    "⍴,[2 3]M"
   ]
  },
  {
   "cell_type": "markdown",
   "id": "69c3dff5",
   "metadata": {},
   "source": [
    "#### dyadic `,` (Catenate/Laminate (Join))"
   ]
  },
  {
   "cell_type": "code",
   "execution_count": null,
   "id": "da1548a8",
   "metadata": {},
   "outputs": [
    {
     "data": {
      "text/html": [
       "<span style=\"white-space:pre; font-family: monospace\">┌→──────────┐\n",
       "│1 2 3 4 5 6│\n",
       "└~──────────┘\n",
       "</span>"
      ]
     },
     "execution_count": null,
     "metadata": {},
     "output_type": "execute_result"
    }
   ],
   "source": [
    "1 2 3 , 4 5 6"
   ]
  },
  {
   "cell_type": "code",
   "execution_count": null,
   "id": "1ef39154",
   "metadata": {},
   "outputs": [
    {
     "data": {
      "text/html": [
       "<span style=\"white-space:pre; font-family: monospace\">┌┌→─────┐\n",
       "↓↓1 2 99│\n",
       "││3 4 99│\n",
       "││      │\n",
       "││5 6 99│\n",
       "││7 8 99│\n",
       "└└~─────┘\n",
       "</span>"
      ]
     },
     "execution_count": null,
     "metadata": {},
     "output_type": "execute_result"
    }
   ],
   "source": [
    "cube ← 2 2 2 ⍴ ⍳8\n",
    "cube , 99"
   ]
  },
  {
   "cell_type": "code",
   "execution_count": null,
   "id": "7ffc9c0b",
   "metadata": {},
   "outputs": [
    {
     "data": {
      "text/html": [
       "<span style=\"white-space:pre; font-family: monospace\">┌→──────┐\n",
       "↓HEADING│\n",
       "│-------│\n",
       "└───────┘\n",
       "</span>"
      ]
     },
     "execution_count": null,
     "metadata": {},
     "output_type": "execute_result"
    }
   ],
   "source": [
    "'HEADING',[0.5]'-'"
   ]
  },
  {
   "cell_type": "markdown",
   "id": "393ff183",
   "metadata": {},
   "source": [
    "### `⍪` (Comma bar)"
   ]
  },
  {
   "cell_type": "markdown",
   "id": "e39ced39",
   "metadata": {},
   "source": [
    "#### monadic `⍪` (Table / Ravel items)"
   ]
  },
  {
   "cell_type": "code",
   "execution_count": null,
   "id": "a7fff912",
   "metadata": {},
   "outputs": [
    {
     "data": {
      "text/html": [
       "<span style=\"white-space:pre; font-family: monospace\">┌→┐\n",
       "↓1│\n",
       "└~┘\n",
       "</span>"
      ]
     },
     "execution_count": null,
     "metadata": {},
     "output_type": "execute_result"
    }
   ],
   "source": [
    "⍪1"
   ]
  },
  {
   "cell_type": "code",
   "execution_count": null,
   "id": "98de0b8e",
   "metadata": {},
   "outputs": [
    {
     "data": {
      "text/html": [
       "<span style=\"white-space:pre; font-family: monospace\">┌→┐\n",
       "↓A│\n",
       "│B│\n",
       "│C│\n",
       "│D│\n",
       "│E│\n",
       "└─┘\n",
       "</span>"
      ]
     },
     "execution_count": null,
     "metadata": {},
     "output_type": "execute_result"
    }
   ],
   "source": [
    "⍪5⍴⎕A"
   ]
  },
  {
   "cell_type": "code",
   "execution_count": null,
   "id": "4b35b1a5",
   "metadata": {},
   "outputs": [
    {
     "data": {
      "text/html": [
       "<span style=\"white-space:pre; font-family: monospace\">┌┌→───┐\n",
       "↓↓ABCD│\n",
       "││EFGH│\n",
       "││IJKL│\n",
       "││    │\n",
       "││MNOP│\n",
       "││QRST│\n",
       "││UVWX│\n",
       "└└────┘\n",
       "</span>"
      ]
     },
     "execution_count": null,
     "metadata": {},
     "output_type": "execute_result"
    }
   ],
   "source": [
    "2 3 4⍴⎕A"
   ]
  },
  {
   "cell_type": "code",
   "execution_count": null,
   "id": "037190ca",
   "metadata": {},
   "outputs": [
    {
     "data": {
      "text/html": [
       "<span style=\"white-space:pre; font-family: monospace\">┌→───────────┐\n",
       "↓ABCDEFGHIJKL│\n",
       "│MNOPQRSTUVWX│\n",
       "└────────────┘\n",
       "</span>"
      ]
     },
     "execution_count": null,
     "metadata": {},
     "output_type": "execute_result"
    }
   ],
   "source": [
    "⍪2 3 4⍴⎕A"
   ]
  },
  {
   "cell_type": "markdown",
   "id": "6d2fc7fb",
   "metadata": {},
   "source": [
    "#### dyadic `,` (Catenate first)"
   ]
  },
  {
   "cell_type": "code",
   "execution_count": null,
   "id": "9a7ff5ba",
   "metadata": {},
   "outputs": [
    {
     "data": {
      "text/html": [
       "<span style=\"white-space:pre; font-family: monospace\">┌→──────────┐\n",
       "│1 2 3 4 5 6│\n",
       "└~──────────┘\n",
       "</span>"
      ]
     },
     "execution_count": null,
     "metadata": {},
     "output_type": "execute_result"
    }
   ],
   "source": [
    "1 2 3 ⍪ 4 5 6"
   ]
  },
  {
   "cell_type": "code",
   "execution_count": null,
   "id": "ece4e465",
   "metadata": {},
   "outputs": [
    {
     "data": {
      "text/html": [
       "<span style=\"white-space:pre; font-family: monospace\">┌┌→────┐\n",
       "↓↓ 1  2│\n",
       "││ 3  4│\n",
       "││     │\n",
       "││ 5  6│\n",
       "││ 7  8│\n",
       "││     │\n",
       "││99 99│\n",
       "││99 99│\n",
       "└└~────┘\n",
       "</span>"
      ]
     },
     "execution_count": null,
     "metadata": {},
     "output_type": "execute_result"
    }
   ],
   "source": [
    "cube ← 2 2 2 ⍴ ⍳8\n",
    "cube ⍪ 99"
   ]
  },
  {
   "cell_type": "markdown",
   "id": "aff32832",
   "metadata": {},
   "source": [
    "## Operators"
   ]
  },
  {
   "cell_type": "markdown",
   "id": "4a5637bb",
   "metadata": {},
   "source": [
    "### `/` (Slash)"
   ]
  },
  {
   "cell_type": "markdown",
   "id": "2280a745",
   "metadata": {},
   "source": [
    "#### monadic `/` (Reduce / N-wise Reduce)"
   ]
  },
  {
   "cell_type": "markdown",
   "id": "81deb293",
   "metadata": {},
   "source": [
    "##### monadic function (Reduce)"
   ]
  },
  {
   "cell_type": "code",
   "execution_count": null,
   "id": "fe10c50b",
   "metadata": {},
   "outputs": [
    {
     "data": {
      "text/html": [
       "<span style=\"white-space:pre; font-family: monospace\">┌→────────┐\n",
       "│1 2 3 4 5│\n",
       "└~────────┘\n",
       "</span>"
      ]
     },
     "execution_count": null,
     "metadata": {},
     "output_type": "execute_result"
    },
    {
     "data": {
      "text/html": [
       "<span style=\"white-space:pre; font-family: monospace\">  \n",
       "15\n",
       "  \n",
       "</span>"
      ]
     },
     "execution_count": null,
     "metadata": {},
     "output_type": "execute_result"
    }
   ],
   "source": [
    "⎕ ← a ← ⍳5\n",
    "+/a"
   ]
  },
  {
   "cell_type": "code",
   "execution_count": null,
   "id": "bdefcfd6",
   "metadata": {},
   "outputs": [
    {
     "data": {
      "text/html": [
       "<span style=\"white-space:pre; font-family: monospace\">   \n",
       "120\n",
       "   \n",
       "</span>"
      ]
     },
     "execution_count": null,
     "metadata": {},
     "output_type": "execute_result"
    }
   ],
   "source": [
    "a ← ⍳5\n",
    "×/a"
   ]
  },
  {
   "cell_type": "code",
   "execution_count": null,
   "id": "cd0a05f3",
   "metadata": {},
   "outputs": [
    {
     "data": {
      "text/html": [
       "<span style=\"white-space:pre; font-family: monospace\">   \n",
       "1.5\n",
       "   \n",
       "</span>"
      ]
     },
     "execution_count": null,
     "metadata": {},
     "output_type": "execute_result"
    }
   ],
   "source": [
    "a ← ⍳3\n",
    "÷/a"
   ]
  },
  {
   "cell_type": "code",
   "execution_count": null,
   "id": "55830e33",
   "metadata": {},
   "outputs": [
    {
     "data": {
      "text/html": [
       "<span style=\"white-space:pre; font-family: monospace\"> \n",
       "6\n",
       " \n",
       "</span>"
      ]
     },
     "execution_count": null,
     "metadata": {},
     "output_type": "execute_result"
    }
   ],
   "source": [
    "a ← 4 6 2\n",
    "⌈/ a"
   ]
  },
  {
   "cell_type": "code",
   "execution_count": null,
   "id": "9bc76d4b",
   "metadata": {},
   "outputs": [
    {
     "data": {
      "text/html": [
       "<span style=\"white-space:pre; font-family: monospace\"> \n",
       "2\n",
       " \n",
       "</span>"
      ]
     },
     "execution_count": null,
     "metadata": {},
     "output_type": "execute_result"
    }
   ],
   "source": [
    "a ← 4 6 2\n",
    "⌊/ a"
   ]
  },
  {
   "cell_type": "markdown",
   "id": "d75ce5c5",
   "metadata": {},
   "source": [
    "##### dyadic function (N-wise Reduce)"
   ]
  },
  {
   "cell_type": "markdown",
   "id": "8d680e4f",
   "metadata": {},
   "source": [
    "Windowed sum with window of `3`:"
   ]
  },
  {
   "cell_type": "code",
   "execution_count": null,
   "id": "a4886242",
   "metadata": {},
   "outputs": [
    {
     "data": {
      "text/html": [
       "<span style=\"white-space:pre; font-family: monospace\">┌→──┐\n",
       "│6 9│\n",
       "└~──┘\n",
       "</span>"
      ]
     },
     "execution_count": null,
     "metadata": {},
     "output_type": "execute_result"
    }
   ],
   "source": [
    "3+/⍳4  ⍝ (1+2+3) (2+3+4)"
   ]
  },
  {
   "cell_type": "markdown",
   "id": "d9925a15",
   "metadata": {},
   "source": [
    "Windowed sum with window of `2`:"
   ]
  },
  {
   "cell_type": "code",
   "execution_count": null,
   "id": "ccb02a6d",
   "metadata": {},
   "outputs": [
    {
     "data": {
      "text/html": [
       "<span style=\"white-space:pre; font-family: monospace\">┌→────┐\n",
       "│3 5 7│\n",
       "└~────┘\n",
       "</span>"
      ]
     },
     "execution_count": null,
     "metadata": {},
     "output_type": "execute_result"
    }
   ],
   "source": [
    "2+/⍳4  ⍝ (1+2) (2+3) (3+4)"
   ]
  },
  {
   "cell_type": "markdown",
   "id": "4a08d2a9",
   "metadata": {},
   "source": [
    "Moving average"
   ]
  },
  {
   "cell_type": "code",
   "execution_count": null,
   "id": "f38bbd1e",
   "metadata": {},
   "outputs": [
    {
     "data": {
      "text/html": [
       "<span style=\"white-space:pre; font-family: monospace\">┌→──┐\n",
       "│2 3│\n",
       "└~──┘\n",
       "</span>"
      ]
     },
     "execution_count": null,
     "metadata": {},
     "output_type": "execute_result"
    }
   ],
   "source": [
    "3÷⍨3+/⍳4"
   ]
  },
  {
   "cell_type": "code",
   "execution_count": null,
   "id": "daf6d8d7",
   "metadata": {},
   "outputs": [
    {
     "data": {
      "text/html": [
       "<span style=\"white-space:pre; font-family: monospace\">┌→────────┐\n",
       "│0 0 0 0 0│\n",
       "└~────────┘\n",
       "</span>"
      ]
     },
     "execution_count": null,
     "metadata": {},
     "output_type": "execute_result"
    }
   ],
   "source": [
    "0+/⍳4  ⍝ Identity element for +"
   ]
  },
  {
   "cell_type": "code",
   "execution_count": null,
   "id": "f7f84184",
   "metadata": {},
   "outputs": [
    {
     "data": {
      "text/html": [
       "<span style=\"white-space:pre; font-family: monospace\">┌→────────┐\n",
       "│1 1 1 1 1│\n",
       "└~────────┘\n",
       "</span>"
      ]
     },
     "execution_count": null,
     "metadata": {},
     "output_type": "execute_result"
    }
   ],
   "source": [
    "0×/⍳4  ⍝ Identity element for ×"
   ]
  },
  {
   "cell_type": "code",
   "execution_count": null,
   "id": "a38d586d",
   "metadata": {},
   "outputs": [
    {
     "data": {
      "text/html": [
       "<span style=\"white-space:pre; font-family: monospace\">┌→──────────────────┐\n",
       "│ ┌→──┐ ┌→──┐ ┌→──┐ │\n",
       "│ │2 1│ │3 2│ │4 3│ │\n",
       "│ └~──┘ └~──┘ └~──┘ │\n",
       "└∊──────────────────┘\n",
       "</span>"
      ]
     },
     "execution_count": null,
     "metadata": {},
     "output_type": "execute_result"
    }
   ],
   "source": [
    "¯2,/⍳4⍝ (2,1) (3,2) (4,3)"
   ]
  },
  {
   "cell_type": "markdown",
   "id": "773b883b",
   "metadata": {},
   "source": [
    "### `\\` (Slope)"
   ]
  },
  {
   "cell_type": "markdown",
   "id": "89401d1e",
   "metadata": {},
   "source": [
    "#### monadic `\\` (Reduce)"
   ]
  },
  {
   "cell_type": "code",
   "execution_count": null,
   "id": "cad6c863",
   "metadata": {},
   "outputs": [
    {
     "data": {
      "text/html": [
       "<span style=\"white-space:pre; font-family: monospace\">┌→──────────┐\n",
       "│1 3 6 10 15│\n",
       "└~──────────┘\n",
       "</span>"
      ]
     },
     "execution_count": null,
     "metadata": {},
     "output_type": "execute_result"
    }
   ],
   "source": [
    "a ← ⍳5\n",
    "+\\a"
   ]
  },
  {
   "cell_type": "code",
   "execution_count": null,
   "id": "3e093072",
   "metadata": {},
   "outputs": [
    {
     "data": {
      "text/html": [
       "<span style=\"white-space:pre; font-family: monospace\">┌→───────────┐\n",
       "│1 2 6 24 120│\n",
       "└~───────────┘\n",
       "</span>"
      ]
     },
     "execution_count": null,
     "metadata": {},
     "output_type": "execute_result"
    }
   ],
   "source": [
    "a ← ⍳5\n",
    "×\\a"
   ]
  },
  {
   "cell_type": "code",
   "execution_count": null,
   "id": "5ea8bd1b",
   "metadata": {},
   "outputs": [
    {
     "data": {
      "text/html": [
       "<span style=\"white-space:pre; font-family: monospace\">┌→────┐\n",
       "│1 2 3│\n",
       "└~────┘\n",
       "</span>"
      ]
     },
     "execution_count": null,
     "metadata": {},
     "output_type": "execute_result"
    },
    {
     "data": {
      "text/html": [
       "<span style=\"white-space:pre; font-family: monospace\">┌→────────┐\n",
       "│1 0.5 1.5│\n",
       "└~────────┘\n",
       "</span>"
      ]
     },
     "execution_count": null,
     "metadata": {},
     "output_type": "execute_result"
    }
   ],
   "source": [
    "⎕ ← a ← ⍳3\n",
    "÷\\a"
   ]
  },
  {
   "cell_type": "markdown",
   "id": "dfe0f9da",
   "metadata": {},
   "source": [
    "### Axis (with Monadic Operand)"
   ]
  },
  {
   "cell_type": "code",
   "execution_count": null,
   "id": "94f1cade",
   "metadata": {},
   "outputs": [
    {
     "data": {
      "text/html": [
       "<span style=\"white-space:pre; font-family: monospace\">┌→────┐\n",
       "│5 7 9│\n",
       "└~────┘\n",
       "</span>"
      ]
     },
     "execution_count": null,
     "metadata": {},
     "output_type": "execute_result"
    }
   ],
   "source": [
    "mat←2 3⍴⍳6\n",
    "+/[1]mat"
   ]
  },
  {
   "cell_type": "code",
   "execution_count": null,
   "id": "2a604f2b",
   "metadata": {},
   "outputs": [
    {
     "data": {
      "text/html": [
       "<span style=\"white-space:pre; font-family: monospace\">┌→───┐\n",
       "│6 15│\n",
       "└~───┘\n",
       "</span>"
      ]
     },
     "execution_count": null,
     "metadata": {},
     "output_type": "execute_result"
    }
   ],
   "source": [
    "mat←2 3⍴⍳6\n",
    "+/[2]mat"
   ]
  },
  {
   "cell_type": "code",
   "execution_count": null,
   "id": "a1c70659",
   "metadata": {},
   "outputs": [
    {
     "data": {
      "text/html": [
       "<span style=\"white-space:pre; font-family: monospace\">┌→───┐\n",
       "│6 15│\n",
       "└~───┘\n",
       "</span>"
      ]
     },
     "execution_count": null,
     "metadata": {},
     "output_type": "execute_result"
    }
   ],
   "source": [
    "mat←2 3⍴⍳6\n",
    "+/mat"
   ]
  },
  {
   "cell_type": "markdown",
   "id": "fc3c7818",
   "metadata": {},
   "source": [
    "### `⌿` (Slash Bar)"
   ]
  },
  {
   "cell_type": "markdown",
   "id": "aeb4f2da",
   "metadata": {},
   "source": [
    "#### monadic `⌿` (Reduce First)"
   ]
  },
  {
   "cell_type": "code",
   "execution_count": null,
   "id": "152dad7d",
   "metadata": {},
   "outputs": [
    {
     "data": {
      "text/html": [
       "<span style=\"white-space:pre; font-family: monospace\">┌→───┐\n",
       "│6 15│\n",
       "└~───┘\n",
       "</span>"
      ]
     },
     "execution_count": null,
     "metadata": {},
     "output_type": "execute_result"
    }
   ],
   "source": [
    "mat ← 2 3 ⍴ ⍳6\n",
    "+/mat"
   ]
  },
  {
   "cell_type": "code",
   "execution_count": null,
   "id": "d65f9e59",
   "metadata": {},
   "outputs": [
    {
     "data": {
      "text/html": [
       "<span style=\"white-space:pre; font-family: monospace\">┌→────┐\n",
       "│5 7 9│\n",
       "└~────┘\n",
       "</span>"
      ]
     },
     "execution_count": null,
     "metadata": {},
     "output_type": "execute_result"
    }
   ],
   "source": [
    "mat ← 2 3 ⍴ ⍳6\n",
    "+/[1]mat"
   ]
  },
  {
   "cell_type": "code",
   "execution_count": null,
   "id": "5129c061",
   "metadata": {},
   "outputs": [
    {
     "data": {
      "text/html": [
       "<span style=\"white-space:pre; font-family: monospace\">┌→────┐\n",
       "│5 7 9│\n",
       "└~────┘\n",
       "</span>"
      ]
     },
     "execution_count": null,
     "metadata": {},
     "output_type": "execute_result"
    }
   ],
   "source": [
    "+⌿mat"
   ]
  },
  {
   "cell_type": "markdown",
   "id": "8437a76a",
   "metadata": {},
   "source": [
    "### `⌿` (Slope Bar)"
   ]
  },
  {
   "cell_type": "markdown",
   "id": "dbfdb8bc",
   "metadata": {},
   "source": [
    "#### monadic `⍀` ()"
   ]
  },
  {
   "cell_type": "code",
   "execution_count": null,
   "id": "0d0d0e4b",
   "metadata": {},
   "outputs": [
    {
     "data": {
      "text/html": [
       "<span style=\"white-space:pre; font-family: monospace\">┌→───┐\n",
       "│6 15│\n",
       "└~───┘\n",
       "</span>"
      ]
     },
     "execution_count": null,
     "metadata": {},
     "output_type": "execute_result"
    }
   ],
   "source": [
    "mat ← 2 3 ⍴ ⍳6\n",
    "+/mat"
   ]
  },
  {
   "cell_type": "code",
   "execution_count": null,
   "id": "fdd7ab54",
   "metadata": {},
   "outputs": [
    {
     "data": {
      "text/html": [
       "<span style=\"white-space:pre; font-family: monospace\">┌→────┐\n",
       "│5 7 9│\n",
       "└~────┘\n",
       "</span>"
      ]
     },
     "execution_count": null,
     "metadata": {},
     "output_type": "execute_result"
    }
   ],
   "source": [
    "+⌿mat"
   ]
  },
  {
   "cell_type": "markdown",
   "id": "c683f047",
   "metadata": {},
   "source": [
    "### `⍤` (Jot Diaresis)"
   ]
  },
  {
   "cell_type": "markdown",
   "id": "5bc89ad4",
   "metadata": {},
   "source": [
    "#### dyadic `⍤` (Rank)"
   ]
  },
  {
   "cell_type": "code",
   "execution_count": null,
   "id": "8101e7f2",
   "metadata": {},
   "outputs": [
    {
     "data": {
      "text/html": [
       "<span style=\"white-space:pre; font-family: monospace\">┌┌→──────────┐\n",
       "↓↓ 1  2  3  4│\n",
       "││ 5  6  7  8│\n",
       "││ 9 10 11 12│\n",
       "││           │\n",
       "││13 14 15 16│\n",
       "││17 18 19 20│\n",
       "││21 22 23 24│\n",
       "└└~──────────┘\n",
       "</span>"
      ]
     },
     "execution_count": null,
     "metadata": {},
     "output_type": "execute_result"
    },
    {
     "data": {
      "text/html": [
       "<span style=\"white-space:pre; font-family: monospace\">┌→───────┐\n",
       "↓10 26 42│\n",
       "│58 74 90│\n",
       "└~───────┘\n",
       "</span>"
      ]
     },
     "execution_count": null,
     "metadata": {},
     "output_type": "execute_result"
    }
   ],
   "source": [
    "⎕←cube ← 2 3 4 ⍴ ⍳24\n",
    "(+⌿⍤1)cube"
   ]
  },
  {
   "cell_type": "code",
   "execution_count": null,
   "id": "abfe1dad",
   "metadata": {},
   "outputs": [
    {
     "data": {
      "text/html": [
       "<span style=\"white-space:pre; font-family: monospace\">┌→─────────┐\n",
       "↓1  2  3  4│\n",
       "│5  6  7  8│\n",
       "│9 10 11 12│\n",
       "└~─────────┘\n",
       "</span>"
      ]
     },
     "execution_count": null,
     "metadata": {},
     "output_type": "execute_result"
    },
    {
     "data": {
      "text/html": [
       "<span style=\"white-space:pre; font-family: monospace\">┌→──────────┐\n",
       "│15 18 21 24│\n",
       "└~──────────┘\n",
       "</span>"
      ]
     },
     "execution_count": null,
     "metadata": {},
     "output_type": "execute_result"
    }
   ],
   "source": [
    "⎕←mat ← 3 4 ⍴ ⍳12\n",
    "+⌿mat"
   ]
  },
  {
   "cell_type": "code",
   "execution_count": null,
   "id": "3caf9370",
   "metadata": {},
   "outputs": [
    {
     "data": {
      "text/html": [
       "<span style=\"white-space:pre; font-family: monospace\">┌→──────────┐\n",
       "↓15 18 21 24│\n",
       "│51 54 57 60│\n",
       "└~──────────┘\n",
       "</span>"
      ]
     },
     "execution_count": null,
     "metadata": {},
     "output_type": "execute_result"
    }
   ],
   "source": [
    "(+⌿⍤2)cube"
   ]
  },
  {
   "cell_type": "code",
   "execution_count": null,
   "id": "63cefbe6",
   "metadata": {},
   "outputs": [
    {
     "data": {
      "text/html": [
       "<span style=\"white-space:pre; font-family: monospace\">┌→──────────┐\n",
       "↓ 2  3  4  5│\n",
       "│ 7  8  9 10│\n",
       "│12 13 14 15│\n",
       "└~──────────┘\n",
       "</span>"
      ]
     },
     "execution_count": null,
     "metadata": {},
     "output_type": "execute_result"
    }
   ],
   "source": [
    "1 2 3 (+⍤0 1) mat"
   ]
  },
  {
   "cell_type": "markdown",
   "id": "10d5153b",
   "metadata": {},
   "source": [
    "#### dyadic `⍤` (Atop)"
   ]
  },
  {
   "cell_type": "code",
   "execution_count": null,
   "id": "96480209",
   "metadata": {},
   "outputs": [],
   "source": [
    "f ← *⍤÷"
   ]
  },
  {
   "cell_type": "code",
   "execution_count": null,
   "id": "f9aff0df",
   "metadata": {},
   "outputs": [
    {
     "data": {
      "text/html": [
       "<span style=\"white-space:pre; font-family: monospace\">       \n",
       "1.39561\n",
       "       \n",
       "</span>"
      ]
     },
     "execution_count": null,
     "metadata": {},
     "output_type": "execute_result"
    }
   ],
   "source": [
    "*(÷3)"
   ]
  },
  {
   "cell_type": "code",
   "execution_count": null,
   "id": "07dfbebb",
   "metadata": {},
   "outputs": [
    {
     "data": {
      "text/html": [
       "<span style=\"white-space:pre; font-family: monospace\">       \n",
       "1.39561\n",
       "       \n",
       "</span>"
      ]
     },
     "execution_count": null,
     "metadata": {},
     "output_type": "execute_result"
    }
   ],
   "source": [
    "f 3"
   ]
  },
  {
   "cell_type": "code",
   "execution_count": null,
   "id": "3ee64690",
   "metadata": {},
   "outputs": [
    {
     "data": {
      "text/html": [
       "<span style=\"white-space:pre; font-family: monospace\">       \n",
       "1.94773\n",
       "       \n",
       "</span>"
      ]
     },
     "execution_count": null,
     "metadata": {},
     "output_type": "execute_result"
    }
   ],
   "source": [
    "2 f 3"
   ]
  },
  {
   "cell_type": "code",
   "execution_count": null,
   "id": "35d3df26",
   "metadata": {},
   "outputs": [
    {
     "data": {
      "text/html": [
       "<span style=\"white-space:pre; font-family: monospace\">       \n",
       "1.94773\n",
       "       \n",
       "</span>"
      ]
     },
     "execution_count": null,
     "metadata": {},
     "output_type": "execute_result"
    }
   ],
   "source": [
    "*2÷3"
   ]
  },
  {
   "cell_type": "markdown",
   "id": "618ab13f",
   "metadata": {},
   "source": [
    "### `∘` (Jot)"
   ]
  },
  {
   "cell_type": "markdown",
   "id": "75b436ce",
   "metadata": {},
   "source": [
    "#### dyadic `∘` (Bind)"
   ]
  },
  {
   "cell_type": "code",
   "execution_count": null,
   "id": "c231621a",
   "metadata": {},
   "outputs": [],
   "source": [
    "sqr ← *∘2"
   ]
  },
  {
   "cell_type": "code",
   "execution_count": null,
   "id": "b7cbacfb",
   "metadata": {},
   "outputs": [
    {
     "data": {
      "text/html": [
       "<pre class=\"language-APL\"> \n",
       "9\n",
       " \n",
       "</pre>"
      ]
     },
     "execution_count": null,
     "metadata": {},
     "output_type": "execute_result"
    }
   ],
   "source": [
    "sqr 3"
   ]
  },
  {
   "cell_type": "code",
   "execution_count": null,
   "id": "d0b9f0b1",
   "metadata": {},
   "outputs": [],
   "source": [
    "pow2 ← 2∘*"
   ]
  },
  {
   "cell_type": "code",
   "execution_count": null,
   "id": "2d432fe5",
   "metadata": {},
   "outputs": [
    {
     "data": {
      "text/html": [
       "<pre class=\"language-APL\"> \n",
       "8\n",
       " \n",
       "</pre>"
      ]
     },
     "execution_count": null,
     "metadata": {},
     "output_type": "execute_result"
    }
   ],
   "source": [
    "pow2 3"
   ]
  },
  {
   "cell_type": "markdown",
   "id": "e6c3fd06",
   "metadata": {},
   "source": [
    "#### dyadic `∘` (Beside)"
   ]
  },
  {
   "cell_type": "code",
   "execution_count": null,
   "id": "514cfaf5",
   "metadata": {},
   "outputs": [],
   "source": [
    "f ← *∘÷"
   ]
  },
  {
   "cell_type": "code",
   "execution_count": null,
   "id": "547aa92a",
   "metadata": {},
   "outputs": [
    {
     "data": {
      "text/html": [
       "<pre class=\"language-APL\">           \n",
       "1.395612425\n",
       "           \n",
       "</pre>"
      ]
     },
     "execution_count": null,
     "metadata": {},
     "output_type": "execute_result"
    }
   ],
   "source": [
    "*(÷3)"
   ]
  },
  {
   "cell_type": "code",
   "execution_count": null,
   "id": "6c9ab7db",
   "metadata": {},
   "outputs": [
    {
     "data": {
      "text/html": [
       "<pre class=\"language-APL\">           \n",
       "1.395612425\n",
       "           \n",
       "</pre>"
      ]
     },
     "execution_count": null,
     "metadata": {},
     "output_type": "execute_result"
    }
   ],
   "source": [
    "f 3"
   ]
  },
  {
   "cell_type": "code",
   "execution_count": null,
   "id": "1c92fcab",
   "metadata": {},
   "outputs": [
    {
     "data": {
      "text/html": [
       "<pre class=\"language-APL\">          \n",
       "1.25992105\n",
       "          \n",
       "</pre>"
      ]
     },
     "execution_count": null,
     "metadata": {},
     "output_type": "execute_result"
    }
   ],
   "source": [
    "2 f 3"
   ]
  },
  {
   "cell_type": "code",
   "execution_count": null,
   "id": "88b61671",
   "metadata": {},
   "outputs": [
    {
     "data": {
      "text/html": [
       "<pre class=\"language-APL\">          \n",
       "1.25992105\n",
       "          \n",
       "</pre>"
      ]
     },
     "execution_count": null,
     "metadata": {},
     "output_type": "execute_result"
    }
   ],
   "source": [
    "2 * (÷3)"
   ]
  },
  {
   "cell_type": "code",
   "execution_count": null,
   "id": "be94480f",
   "metadata": {},
   "outputs": [
    {
     "data": {
      "text/html": [
       "<pre class=\"language-APL\">          \n",
       "1.25992105\n",
       "          \n",
       "</pre>"
      ]
     },
     "execution_count": null,
     "metadata": {},
     "output_type": "execute_result"
    }
   ],
   "source": [
    "2*÷3"
   ]
  },
  {
   "cell_type": "markdown",
   "id": "cd58ec37",
   "metadata": {},
   "source": [
    "### `⍥` (Circle diaresis)"
   ]
  },
  {
   "cell_type": "markdown",
   "id": "3397ffbc",
   "metadata": {},
   "source": [
    "#### dyadic `⍥` (Over)"
   ]
  },
  {
   "cell_type": "code",
   "execution_count": null,
   "id": "15503ed8",
   "metadata": {},
   "outputs": [],
   "source": [
    "f ← *⍥÷"
   ]
  },
  {
   "cell_type": "code",
   "execution_count": null,
   "id": "39400248",
   "metadata": {},
   "outputs": [
    {
     "data": {
      "text/html": [
       "<span style=\"white-space:pre; font-family: monospace\">       \n",
       "1.39561\n",
       "       \n",
       "</span>"
      ]
     },
     "execution_count": null,
     "metadata": {},
     "output_type": "execute_result"
    }
   ],
   "source": [
    "*(÷3)"
   ]
  },
  {
   "cell_type": "code",
   "execution_count": null,
   "id": "4b9b1a63",
   "metadata": {},
   "outputs": [
    {
     "data": {
      "text/html": [
       "<span style=\"white-space:pre; font-family: monospace\">       \n",
       "1.39561\n",
       "       \n",
       "</span>"
      ]
     },
     "execution_count": null,
     "metadata": {},
     "output_type": "execute_result"
    }
   ],
   "source": [
    "f 3"
   ]
  },
  {
   "cell_type": "code",
   "execution_count": null,
   "id": "ebb9611d",
   "metadata": {},
   "outputs": [
    {
     "data": {
      "text/html": [
       "<span style=\"white-space:pre; font-family: monospace\">        \n",
       "0.793701\n",
       "        \n",
       "</span>"
      ]
     },
     "execution_count": null,
     "metadata": {},
     "output_type": "execute_result"
    }
   ],
   "source": [
    "2 f 3"
   ]
  },
  {
   "cell_type": "code",
   "execution_count": null,
   "id": "e9005d9d",
   "metadata": {},
   "outputs": [
    {
     "data": {
      "text/html": [
       "<span style=\"white-space:pre; font-family: monospace\">        \n",
       "0.793701\n",
       "        \n",
       "</span>"
      ]
     },
     "execution_count": null,
     "metadata": {},
     "output_type": "execute_result"
    }
   ],
   "source": [
    "(÷2)*÷3"
   ]
  },
  {
   "cell_type": "markdown",
   "id": "13f6bdc4",
   "metadata": {},
   "source": [
    "### `⍣` (Star Diaeresis)"
   ]
  },
  {
   "cell_type": "markdown",
   "id": "06e52bcd",
   "metadata": {},
   "source": [
    "#### dyadic `⍣` (Power operator)"
   ]
  },
  {
   "cell_type": "code",
   "execution_count": null,
   "id": "e5aeb826",
   "metadata": {},
   "outputs": [],
   "source": [
    "S ← +∘1"
   ]
  },
  {
   "cell_type": "code",
   "execution_count": null,
   "id": "94a44e68",
   "metadata": {},
   "outputs": [
    {
     "data": {
      "text/html": [
       "<span style=\"white-space:pre; font-family: monospace\"> \n",
       "1\n",
       " \n",
       "</span>"
      ]
     },
     "execution_count": null,
     "metadata": {},
     "output_type": "execute_result"
    }
   ],
   "source": [
    "S 0"
   ]
  },
  {
   "cell_type": "code",
   "execution_count": null,
   "id": "0f8dd750",
   "metadata": {},
   "outputs": [
    {
     "data": {
      "text/html": [
       "<span style=\"white-space:pre; font-family: monospace\"> \n",
       "3\n",
       " \n",
       "</span>"
      ]
     },
     "execution_count": null,
     "metadata": {},
     "output_type": "execute_result"
    }
   ],
   "source": [
    "(S⍣3) 0"
   ]
  },
  {
   "cell_type": "code",
   "execution_count": null,
   "id": "9f9daf8a",
   "metadata": {},
   "outputs": [],
   "source": [
    "add ← {(S⍣⍺) ⍵}"
   ]
  },
  {
   "cell_type": "code",
   "execution_count": null,
   "id": "b9e9a45c",
   "metadata": {},
   "outputs": [
    {
     "data": {
      "text/html": [
       "<pre class=\"language-APL\"> \n",
       "5\n",
       " \n",
       "</pre>"
      ]
     },
     "execution_count": null,
     "metadata": {},
     "output_type": "execute_result"
    }
   ],
   "source": [
    "2 add 3"
   ]
  },
  {
   "cell_type": "code",
   "execution_count": null,
   "id": "96858617",
   "metadata": {},
   "outputs": [],
   "source": [
    "mult ← {⍺ (add⍣⍵) 0}"
   ]
  },
  {
   "cell_type": "code",
   "execution_count": null,
   "id": "fcefb1db",
   "metadata": {},
   "outputs": [
    {
     "data": {
      "text/html": [
       "<pre class=\"language-APL\">  \n",
       "12\n",
       "  \n",
       "</pre>"
      ]
     },
     "execution_count": null,
     "metadata": {},
     "output_type": "execute_result"
    }
   ],
   "source": [
    "3 mult 4"
   ]
  },
  {
   "cell_type": "code",
   "execution_count": null,
   "id": "804d9c16",
   "metadata": {},
   "outputs": [],
   "source": [
    "P ← S⍣¯1"
   ]
  },
  {
   "cell_type": "code",
   "execution_count": null,
   "id": "faa5c23e",
   "metadata": {},
   "outputs": [
    {
     "data": {
      "text/html": [
       "<span style=\"white-space:pre; font-family: monospace\"> \n",
       "2\n",
       " \n",
       "</span>"
      ]
     },
     "execution_count": null,
     "metadata": {},
     "output_type": "execute_result"
    }
   ],
   "source": [
    "P 3"
   ]
  },
  {
   "cell_type": "code",
   "execution_count": null,
   "id": "bb4c25cf",
   "metadata": {},
   "outputs": [
    {
     "data": {
      "text/html": [
       "<span style=\"white-space:pre; font-family: monospace\"> \n",
       "2\n",
       " \n",
       "</span>"
      ]
     },
     "execution_count": null,
     "metadata": {},
     "output_type": "execute_result"
    }
   ],
   "source": [
    "(S⍣¯3) 5"
   ]
  },
  {
   "cell_type": "code",
   "execution_count": null,
   "id": "d66c5206",
   "metadata": {},
   "outputs": [],
   "source": [
    "sqr ← *∘2"
   ]
  },
  {
   "cell_type": "code",
   "execution_count": null,
   "id": "f2e08283",
   "metadata": {},
   "outputs": [
    {
     "data": {
      "text/html": [
       "<span style=\"white-space:pre; font-family: monospace\"> \n",
       "3\n",
       " \n",
       "</span>"
      ]
     },
     "execution_count": null,
     "metadata": {},
     "output_type": "execute_result"
    }
   ],
   "source": [
    "(sqr⍣¯1)9"
   ]
  },
  {
   "cell_type": "code",
   "execution_count": null,
   "id": "8fc3dc3e",
   "metadata": {},
   "outputs": [],
   "source": [
    "pow ← {⍺ (mult⍣⍵) 1}"
   ]
  },
  {
   "cell_type": "code",
   "execution_count": null,
   "id": "64d80892",
   "metadata": {},
   "outputs": [
    {
     "data": {
      "text/html": [
       "<pre class=\"language-APL\"> \n",
       "8\n",
       " \n",
       "</pre>"
      ]
     },
     "execution_count": null,
     "metadata": {},
     "output_type": "execute_result"
    }
   ],
   "source": [
    "2 pow 3"
   ]
  },
  {
   "cell_type": "code",
   "execution_count": null,
   "id": "b929e29d",
   "metadata": {},
   "outputs": [
    {
     "data": {
      "text/html": [
       "<pre class=\"language-APL\">           \n",
       "1.618033989\n",
       "           \n",
       "</pre>"
      ]
     },
     "execution_count": null,
     "metadata": {},
     "output_type": "execute_result"
    }
   ],
   "source": [
    "1 +∘÷⍣= 1"
   ]
  },
  {
   "cell_type": "code",
   "execution_count": null,
   "id": "c008024b",
   "metadata": {},
   "outputs": [],
   "source": [
    "f ← +∘÷"
   ]
  },
  {
   "cell_type": "code",
   "execution_count": null,
   "id": "0fef609d",
   "metadata": {},
   "outputs": [
    {
     "data": {
      "text/html": [
       "<pre class=\"language-APL\"> \n",
       "2\n",
       " \n",
       "</pre>"
      ]
     },
     "execution_count": null,
     "metadata": {},
     "output_type": "execute_result"
    }
   ],
   "source": [
    "1 f 1"
   ]
  },
  {
   "cell_type": "code",
   "execution_count": null,
   "id": "26420a6e",
   "metadata": {},
   "outputs": [
    {
     "data": {
      "text/html": [
       "<pre class=\"language-APL\">   \n",
       "1.5\n",
       "   \n",
       "</pre>"
      ]
     },
     "execution_count": null,
     "metadata": {},
     "output_type": "execute_result"
    }
   ],
   "source": [
    "1 f 2"
   ]
  },
  {
   "cell_type": "code",
   "execution_count": null,
   "id": "abbd9af4",
   "metadata": {},
   "outputs": [
    {
     "data": {
      "text/html": [
       "<pre class=\"language-APL\">           \n",
       "1.666666667\n",
       "           \n",
       "</pre>"
      ]
     },
     "execution_count": null,
     "metadata": {},
     "output_type": "execute_result"
    }
   ],
   "source": [
    "1 f 1.5"
   ]
  },
  {
   "cell_type": "code",
   "execution_count": null,
   "id": "61e500d3",
   "metadata": {},
   "outputs": [
    {
     "data": {
      "text/html": [
       "<pre class=\"language-APL\">           \n",
       "1.618034448\n",
       "           \n",
       "</pre>"
      ]
     },
     "execution_count": null,
     "metadata": {},
     "output_type": "execute_result"
    }
   ],
   "source": [
    "1 (f⍣15) 1"
   ]
  },
  {
   "cell_type": "code",
   "execution_count": null,
   "id": "ed3ccfd6",
   "metadata": {},
   "outputs": [
    {
     "data": {
      "text/html": [
       "<pre class=\"language-APL\">           \n",
       "1.618033989\n",
       "           \n",
       "</pre>"
      ]
     },
     "execution_count": null,
     "metadata": {},
     "output_type": "execute_result"
    }
   ],
   "source": [
    "1 (f⍣=) 1"
   ]
  },
  {
   "cell_type": "code",
   "execution_count": null,
   "id": "f41bdf34",
   "metadata": {},
   "outputs": [],
   "source": []
  },
  {
   "cell_type": "markdown",
   "id": "88dc2b77",
   "metadata": {},
   "source": [
    "### Custom operators"
   ]
  },
  {
   "cell_type": "code",
   "execution_count": null,
   "id": "034e07cf",
   "metadata": {},
   "outputs": [],
   "source": [
    "f ← *∘2"
   ]
  },
  {
   "cell_type": "code",
   "execution_count": null,
   "id": "12b4ae31",
   "metadata": {},
   "outputs": [
    {
     "data": {
      "text/html": [
       "<pre class=\"language-APL\">    \n",
       "6.01\n",
       "    \n",
       "</pre>"
      ]
     },
     "execution_count": null,
     "metadata": {},
     "output_type": "execute_result"
    }
   ],
   "source": [
    "d ← 0.01\n",
    "x ← 3\n",
    "((f (x+d)) - f x) ÷ d"
   ]
  },
  {
   "cell_type": "code",
   "execution_count": null,
   "id": "a03eb5d9",
   "metadata": {},
   "outputs": [
    {
     "data": {
      "text/html": [
       "<pre class=\"language-APL\">      \n",
       "6.0001\n",
       "      \n",
       "</pre>"
      ]
     },
     "execution_count": null,
     "metadata": {},
     "output_type": "execute_result"
    }
   ],
   "source": [
    "d ← 0.0001\n",
    "((f (x+d)) - f x) ÷ d"
   ]
  },
  {
   "cell_type": "code",
   "execution_count": null,
   "id": "701f4ec2",
   "metadata": {},
   "outputs": [
    {
     "data": {
      "text/html": [
       "<pre class=\"language-APL\">    \n",
       "6.01\n",
       "    \n",
       "</pre>"
      ]
     },
     "execution_count": null,
     "metadata": {},
     "output_type": "execute_result"
    }
   ],
   "source": [
    "grad ← {((⍺⍺ ⍺+⍵) - ⍺⍺ ⍺) ÷ ⍵}\n",
    "3 f grad 0.01"
   ]
  },
  {
   "cell_type": "markdown",
   "id": "f209adf1",
   "metadata": {},
   "source": [
    "### `⍨` (Tilde Diaeresis)"
   ]
  },
  {
   "cell_type": "markdown",
   "id": "3e097c27",
   "metadata": {},
   "source": [
    "#### dyadic `⍨` (Commute)"
   ]
  },
  {
   "cell_type": "code",
   "execution_count": null,
   "id": "cabed390",
   "metadata": {},
   "outputs": [
    {
     "data": {
      "text/html": [
       "<pre class=\"language-APL\"> \n",
       "1\n",
       " \n",
       "</pre>"
      ]
     },
     "execution_count": null,
     "metadata": {},
     "output_type": "execute_result"
    }
   ],
   "source": [
    "3-2"
   ]
  },
  {
   "cell_type": "code",
   "execution_count": null,
   "id": "c5b94832",
   "metadata": {},
   "outputs": [
    {
     "data": {
      "text/html": [
       "<pre class=\"language-APL\">  \n",
       "¯1\n",
       "  \n",
       "</pre>"
      ]
     },
     "execution_count": null,
     "metadata": {},
     "output_type": "execute_result"
    }
   ],
   "source": [
    "2-3"
   ]
  },
  {
   "cell_type": "code",
   "execution_count": null,
   "id": "da470b37",
   "metadata": {},
   "outputs": [
    {
     "data": {
      "text/html": [
       "<pre class=\"language-APL\">  \n",
       "¯1\n",
       "  \n",
       "</pre>"
      ]
     },
     "execution_count": null,
     "metadata": {},
     "output_type": "execute_result"
    }
   ],
   "source": [
    "3-⍨2"
   ]
  },
  {
   "cell_type": "code",
   "execution_count": null,
   "id": "17cfef7d",
   "metadata": {},
   "outputs": [
    {
     "data": {
      "text/html": [
       "<span style=\"white-space:pre; font-family: monospace\">┌→─────────┐\n",
       "│22 10 21 5│\n",
       "└~─────────┘\n",
       "</span>"
      ]
     },
     "execution_count": null,
     "metadata": {},
     "output_type": "execute_result"
    }
   ],
   "source": [
    "v←22 10 22 22 21 10 5 10\n",
    "v/⍨≠v"
   ]
  },
  {
   "cell_type": "code",
   "execution_count": null,
   "id": "f0bc56b3",
   "metadata": {},
   "outputs": [
    {
     "data": {
      "text/html": [
       "<pre class=\"language-APL\">    \n",
       "6.01\n",
       "    \n",
       "</pre>"
      ]
     },
     "execution_count": null,
     "metadata": {},
     "output_type": "execute_result"
    }
   ],
   "source": [
    "grad ← {⍵ ÷⍨ (⍺⍺ ⍺+⍵) - ⍺⍺ ⍺}\n",
    "3 f grad 0.01"
   ]
  },
  {
   "cell_type": "code",
   "execution_count": null,
   "id": "7569f72e",
   "metadata": {},
   "outputs": [
    {
     "data": {
      "text/html": [
       "<span style=\"white-space:pre; font-family: monospace\"> \n",
       "9\n",
       " \n",
       "</span>"
      ]
     },
     "execution_count": null,
     "metadata": {},
     "output_type": "execute_result"
    }
   ],
   "source": [
    "pow ← ×⍨\n",
    "pow 3"
   ]
  },
  {
   "cell_type": "markdown",
   "id": "de3a07f5",
   "metadata": {},
   "source": [
    "#### dyadic `⍨` (Constant)"
   ]
  },
  {
   "cell_type": "code",
   "execution_count": null,
   "id": "396b95e8",
   "metadata": {},
   "outputs": [
    {
     "data": {
      "text/html": [
       "<pre class=\"language-APL\"> \n",
       "0\n",
       " \n",
       "</pre>"
      ]
     },
     "execution_count": null,
     "metadata": {},
     "output_type": "execute_result"
    }
   ],
   "source": [
    "zero ← 0⍨\n",
    "2 zero 5"
   ]
  },
  {
   "cell_type": "markdown",
   "id": "8eea99a0",
   "metadata": {},
   "source": [
    "### `¨` (Diaresis)"
   ]
  },
  {
   "cell_type": "markdown",
   "id": "35482065",
   "metadata": {},
   "source": [
    "#### monadic `¨` (Each)"
   ]
  },
  {
   "cell_type": "code",
   "execution_count": null,
   "id": "65e7b966",
   "metadata": {},
   "outputs": [
    {
     "data": {
      "text/html": [
       "<pre class=\"language-APL\">┌→──────────────────┐\n",
       "│ ┌→──────┐ ┌→────┐ │\n",
       "│ │1 2 3 4│ │5 6 7│ │\n",
       "│ └~──────┘ └~────┘ │\n",
       "└∊──────────────────┘\n",
       "</pre>"
      ]
     },
     "execution_count": null,
     "metadata": {},
     "output_type": "execute_result"
    }
   ],
   "source": [
    "⎕ ← a ← (1 2 3 4)(5 6 7)"
   ]
  },
  {
   "cell_type": "code",
   "execution_count": null,
   "id": "fee3843a",
   "metadata": {},
   "outputs": [
    {
     "data": {
      "text/html": [
       "<pre class=\"language-APL\">┌→────┐\n",
       "│10 18│\n",
       "└~────┘\n",
       "</pre>"
      ]
     },
     "execution_count": null,
     "metadata": {},
     "output_type": "execute_result"
    }
   ],
   "source": [
    "+/¨a"
   ]
  },
  {
   "cell_type": "code",
   "execution_count": null,
   "id": "c2f8b0be",
   "metadata": {},
   "outputs": [
    {
     "data": {
      "text/html": [
       "<pre class=\"language-APL\">┌→────────────────┐\n",
       "│ ┌→────┐ ┌→────┐ │\n",
       "│ │1 2 3│ │4 5 6│ │\n",
       "│ └~────┘ └~────┘ │\n",
       "└∊────────────────┘\n",
       "</pre>"
      ]
     },
     "execution_count": null,
     "metadata": {},
     "output_type": "execute_result"
    }
   ],
   "source": [
    "⎕ ← b ← (1 2 3)(4 5 6)"
   ]
  },
  {
   "cell_type": "code",
   "execution_count": null,
   "id": "1f256e34",
   "metadata": {},
   "outputs": [
    {
     "data": {
      "text/html": [
       "<pre class=\"language-APL\">┌→────────────────┐\n",
       "│ ┌→────┐ ┌→────┐ │\n",
       "│ │3 4 5│ │7 8 9│ │\n",
       "│ └~────┘ └~────┘ │\n",
       "└∊────────────────┘\n",
       "</pre>"
      ]
     },
     "execution_count": null,
     "metadata": {},
     "output_type": "execute_result"
    }
   ],
   "source": [
    "2 3 +¨ b"
   ]
  },
  {
   "cell_type": "markdown",
   "id": "da2674b7",
   "metadata": {},
   "source": [
    "## Stuff for 2022 APL Competition"
   ]
  },
  {
   "cell_type": "markdown",
   "id": "e3195965",
   "metadata": {},
   "source": [
    "`⌸, ⊆,⊂, ↑,↓`"
   ]
  },
  {
   "cell_type": "markdown",
   "id": "b3a82aff",
   "metadata": {},
   "source": [
    "### `⌸` (Quad equal)"
   ]
  },
  {
   "cell_type": "markdown",
   "id": "08eb109e",
   "metadata": {},
   "source": [
    "#### monadic `⌸` (Key operator)"
   ]
  },
  {
   "cell_type": "code",
   "execution_count": null,
   "id": "2ddcb1ea",
   "metadata": {},
   "outputs": [],
   "source": [
    "a ← 'banana'"
   ]
  },
  {
   "cell_type": "code",
   "execution_count": null,
   "id": "d5b2cb64",
   "metadata": {},
   "outputs": [
    {
     "data": {
      "text/html": [
       "<span style=\"white-space:pre; font-family: monospace\">┌→──────┐\n",
       "↓b 1    │\n",
       "│a 2 4 6│\n",
       "│n 3 5  │\n",
       "└+──────┘\n",
       "</span>"
      ]
     },
     "execution_count": null,
     "metadata": {},
     "output_type": "execute_result"
    }
   ],
   "source": [
    "a ,⌸ ⍳6"
   ]
  },
  {
   "cell_type": "code",
   "execution_count": null,
   "id": "548f40f2",
   "metadata": {},
   "outputs": [
    {
     "data": {
      "text/html": [
       "<span style=\"white-space:pre; font-family: monospace\">┌→──────┐\n",
       "↓b 1    │\n",
       "│a 2 4 6│\n",
       "│n 3 5  │\n",
       "└+──────┘\n",
       "</span>"
      ]
     },
     "execution_count": null,
     "metadata": {},
     "output_type": "execute_result"
    }
   ],
   "source": [
    ",⌸ a"
   ]
  },
  {
   "cell_type": "code",
   "execution_count": null,
   "id": "c4293cfd",
   "metadata": {},
   "outputs": [
    {
     "data": {
      "text/html": [
       "<span style=\"white-space:pre; font-family: monospace\">┌→───┐\n",
       "↓b  1│\n",
       "│a 12│\n",
       "│n  8│\n",
       "└+───┘\n",
       "</span>"
      ]
     },
     "execution_count": null,
     "metadata": {},
     "output_type": "execute_result"
    }
   ],
   "source": [
    "a {⍺,+/⍵}⌸ ⍳6"
   ]
  },
  {
   "cell_type": "markdown",
   "id": "d6e4c907",
   "metadata": {},
   "source": [
    "### `⊂` (Left shoe)"
   ]
  },
  {
   "cell_type": "markdown",
   "id": "7148c091",
   "metadata": {},
   "source": [
    "#### monadic `⊂` (Enclose)"
   ]
  },
  {
   "cell_type": "code",
   "execution_count": null,
   "id": "5973fe9f",
   "metadata": {},
   "outputs": [
    {
     "data": {
      "text/html": [
       "<pre class=\"language-APL\">1 2 3\n",
       "</pre>"
      ]
     },
     "execution_count": null,
     "metadata": {},
     "output_type": "execute_result"
    }
   ],
   "source": [
    "1 2 3"
   ]
  },
  {
   "cell_type": "code",
   "execution_count": null,
   "id": "bd386b4c",
   "metadata": {},
   "outputs": [
    {
     "data": {
      "text/html": [
       "<pre class=\"language-APL\">3\n",
       "</pre>"
      ]
     },
     "execution_count": null,
     "metadata": {},
     "output_type": "execute_result"
    }
   ],
   "source": [
    "⍴1 2 3"
   ]
  },
  {
   "cell_type": "code",
   "execution_count": null,
   "id": "c1bf4da8",
   "metadata": {},
   "outputs": [
    {
     "data": {
      "text/html": [
       "<pre class=\"language-APL\">┌─────┐\n",
       "│1 2 3│\n",
       "└─────┘\n",
       "</pre>"
      ]
     },
     "execution_count": null,
     "metadata": {},
     "output_type": "execute_result"
    }
   ],
   "source": [
    "⊂1 2 3"
   ]
  },
  {
   "cell_type": "code",
   "execution_count": null,
   "id": "ac73f91f",
   "metadata": {},
   "outputs": [
    {
     "data": {
      "text/html": [
       "<pre class=\"language-APL\">\n",
       "</pre>"
      ]
     },
     "execution_count": null,
     "metadata": {},
     "output_type": "execute_result"
    }
   ],
   "source": [
    "⍴⊂1 2 3"
   ]
  },
  {
   "cell_type": "code",
   "execution_count": null,
   "id": "b3a8f422",
   "metadata": {},
   "outputs": [
    {
     "data": {
      "text/html": [
       "<pre class=\"language-APL\">┌─┬───┐\n",
       "│1│2 3│\n",
       "└─┴───┘\n",
       "</pre>"
      ]
     },
     "execution_count": null,
     "metadata": {},
     "output_type": "execute_result"
    }
   ],
   "source": [
    "1(2 3)"
   ]
  },
  {
   "cell_type": "code",
   "execution_count": null,
   "id": "5174b653",
   "metadata": {},
   "outputs": [
    {
     "data": {
      "text/html": [
       "<pre class=\"language-APL\">2\n",
       "</pre>"
      ]
     },
     "execution_count": null,
     "metadata": {},
     "output_type": "execute_result"
    }
   ],
   "source": [
    "⍴ 1(2 3)"
   ]
  },
  {
   "cell_type": "code",
   "execution_count": null,
   "id": "2a417898",
   "metadata": {},
   "outputs": [
    {
     "data": {
      "text/html": [
       "<pre class=\"language-APL\">┌─┬───┐\n",
       "│1│2 3│\n",
       "└─┴───┘\n",
       "</pre>"
      ]
     },
     "execution_count": null,
     "metadata": {},
     "output_type": "execute_result"
    }
   ],
   "source": [
    "1,⊂2 3"
   ]
  },
  {
   "cell_type": "code",
   "execution_count": null,
   "id": "8430caa1",
   "metadata": {},
   "outputs": [
    {
     "data": {
      "text/html": [
       "<pre class=\"language-APL\">┌───────┐\n",
       "│┌─┬───┐│\n",
       "││1│2 3││\n",
       "│└─┴───┘│\n",
       "└───────┘\n",
       "</pre>"
      ]
     },
     "execution_count": null,
     "metadata": {},
     "output_type": "execute_result"
    }
   ],
   "source": [
    "⊂ 1(2 3)"
   ]
  },
  {
   "cell_type": "code",
   "execution_count": null,
   "id": "97f5641a",
   "metadata": {},
   "outputs": [
    {
     "data": {
      "text/html": [
       "<pre class=\"language-APL\">\n",
       "</pre>"
      ]
     },
     "execution_count": null,
     "metadata": {},
     "output_type": "execute_result"
    }
   ],
   "source": [
    "⍴⊂ 1(2 3)"
   ]
  },
  {
   "cell_type": "code",
   "execution_count": null,
   "id": "f271d213",
   "metadata": {},
   "outputs": [
    {
     "data": {
      "text/html": [
       "<pre class=\"language-APL\">┌─────────┐\n",
       "│┌───────┐│\n",
       "││┌─┬───┐││\n",
       "│││1│2 3│││\n",
       "││└─┴───┘││\n",
       "│└───────┘│\n",
       "└─────────┘\n",
       "</pre>"
      ]
     },
     "execution_count": null,
     "metadata": {},
     "output_type": "execute_result"
    }
   ],
   "source": [
    "⊂⊂ 1(2 3)"
   ]
  },
  {
   "cell_type": "code",
   "execution_count": null,
   "id": "e55cbaac",
   "metadata": {},
   "outputs": [
    {
     "data": {
      "text/html": [
       "<pre class=\"language-APL\">1\n",
       "</pre>"
      ]
     },
     "execution_count": null,
     "metadata": {},
     "output_type": "execute_result"
    }
   ],
   "source": [
    "⊂1"
   ]
  },
  {
   "cell_type": "markdown",
   "id": "0510c31d",
   "metadata": {},
   "source": [
    "This adds `4 5 6` to each element of the LHS (1, 2, and 3):"
   ]
  },
  {
   "cell_type": "code",
   "execution_count": null,
   "id": "90e97812",
   "metadata": {},
   "outputs": [
    {
     "data": {
      "text/html": [
       "<pre class=\"language-APL\">┌─────┬─────┬─────┐\n",
       "│5 6 7│6 7 8│7 8 9│\n",
       "└─────┴─────┴─────┘\n",
       "</pre>"
      ]
     },
     "execution_count": null,
     "metadata": {},
     "output_type": "execute_result"
    }
   ],
   "source": [
    "1 2 3+⊂4 5 6"
   ]
  },
  {
   "cell_type": "markdown",
   "id": "31548044",
   "metadata": {},
   "source": [
    "It's basically the same idea as this, since `(⊂ 4 5 6)` and `1` are both scalars:"
   ]
  },
  {
   "cell_type": "code",
   "execution_count": null,
   "id": "fd7c7b48",
   "metadata": {},
   "outputs": [
    {
     "data": {
      "text/html": [
       "<pre class=\"language-APL\">2 3 4\n",
       "</pre>"
      ]
     },
     "execution_count": null,
     "metadata": {},
     "output_type": "execute_result"
    }
   ],
   "source": [
    "1 2 3+1"
   ]
  },
  {
   "cell_type": "markdown",
   "id": "58d72f9c",
   "metadata": {},
   "source": [
    "#### dyadic `⊂` (Partitioned enclose)"
   ]
  },
  {
   "cell_type": "code",
   "execution_count": null,
   "id": "e9be995d",
   "metadata": {},
   "outputs": [],
   "source": []
  }
 ],
 "metadata": {
  "kernelspec": {
   "display_name": "Dyalog APL",
   "language": "apl",
   "name": "dyalog-kernel"
  }
 },
 "nbformat": 4,
 "nbformat_minor": 5
}
