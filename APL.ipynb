{
 "cells": [
  {
   "cell_type": "raw",
   "id": "2990f581",
   "metadata": {},
   "source": [
    "---\n",
    "title: \"Glyphs\"\n",
    "author: \"Jeremy Howard\"\n",
    "date: \"2022-07-05\"\n",
    "categories: [Dyalog, APL, Glyphs]\n",
    "image: \"image.jpg\"\n",
    "---"
   ]
  },
  {
   "cell_type": "markdown",
   "id": "5d6af942",
   "metadata": {},
   "source": [
    "This post will explore all the different glyphs in Dyalog APL.  Wherever possible examples of a glyph will exist for each glyph that do not use other glyphs.  The purpose of this post is to create documentation for glyphs that are helpful for beginners getting started.\n",
    "\n",
    "To get help on a glpyh, such as `≠`, type:\n",
    "\n",
    "    ]Help ≠"
   ]
  },
  {
   "cell_type": "markdown",
   "id": "90f48eea",
   "metadata": {},
   "source": [
    "## Some objects"
   ]
  },
  {
   "cell_type": "markdown",
   "id": "853229ce",
   "metadata": {},
   "source": [
    "### Real"
   ]
  },
  {
   "cell_type": "code",
   "execution_count": 1,
   "id": "39913487",
   "metadata": {},
   "outputs": [
    {
     "data": {
      "text/html": [
       "<span style=\"white-space:pre; font-family: monospace\">1\n",
       "</span>"
      ]
     },
     "execution_count": 1,
     "metadata": {},
     "output_type": "execute_result"
    }
   ],
   "source": [
    "1"
   ]
  },
  {
   "cell_type": "code",
   "execution_count": 2,
   "id": "8981783e",
   "metadata": {},
   "outputs": [
    {
     "data": {
      "text/html": [
       "<span style=\"white-space:pre; font-family: monospace\">¯1\n",
       "</span>"
      ]
     },
     "execution_count": 2,
     "metadata": {},
     "output_type": "execute_result"
    }
   ],
   "source": [
    "¯1"
   ]
  },
  {
   "cell_type": "code",
   "execution_count": 3,
   "id": "243fe69d",
   "metadata": {},
   "outputs": [
    {
     "data": {
      "text/html": [
       "<span style=\"white-space:pre; font-family: monospace\">1.5\n",
       "</span>"
      ]
     },
     "execution_count": 3,
     "metadata": {},
     "output_type": "execute_result"
    }
   ],
   "source": [
    "1.5"
   ]
  },
  {
   "cell_type": "markdown",
   "id": "53f2150f",
   "metadata": {},
   "source": [
    "### Complex"
   ]
  },
  {
   "cell_type": "code",
   "execution_count": 4,
   "id": "93e15ddc",
   "metadata": {},
   "outputs": [
    {
     "data": {
      "text/html": [
       "<span style=\"white-space:pre; font-family: monospace\">0J4\n",
       "</span>"
      ]
     },
     "execution_count": 4,
     "metadata": {},
     "output_type": "execute_result"
    }
   ],
   "source": [
    "0j4"
   ]
  },
  {
   "cell_type": "code",
   "execution_count": 5,
   "id": "bc2be51d",
   "metadata": {},
   "outputs": [
    {
     "data": {
      "text/html": [
       "<span style=\"white-space:pre; font-family: monospace\">¯5J¯6\n",
       "</span>"
      ]
     },
     "execution_count": 5,
     "metadata": {},
     "output_type": "execute_result"
    }
   ],
   "source": [
    "¯5j¯6"
   ]
  },
  {
   "cell_type": "markdown",
   "id": "c453d9f0",
   "metadata": {},
   "source": [
    "### Rank-1 arrays"
   ]
  },
  {
   "cell_type": "code",
   "execution_count": 6,
   "id": "a1faf960",
   "metadata": {},
   "outputs": [
    {
     "data": {
      "text/html": [
       "<span style=\"white-space:pre; font-family: monospace\">┌→────────────────┐\n",
       "│Was ON -style=max│\n",
       "└─────────────────┘\n",
       "</span>"
      ]
     },
     "execution_count": 6,
     "metadata": {},
     "output_type": "execute_result"
    }
   ],
   "source": [
    "]Boxing on -style=max"
   ]
  },
  {
   "cell_type": "code",
   "execution_count": 7,
   "id": "0ff63a92",
   "metadata": {},
   "outputs": [
    {
     "data": {
      "text/html": [
       "<span style=\"white-space:pre; font-family: monospace\">┌→────┐\n",
       "│2 3 1│\n",
       "└~────┘\n",
       "</span>"
      ]
     },
     "execution_count": 7,
     "metadata": {},
     "output_type": "execute_result"
    }
   ],
   "source": [
    "2 3 1"
   ]
  },
  {
   "cell_type": "code",
   "execution_count": 8,
   "id": "22d550cf",
   "metadata": {},
   "outputs": [
    {
     "data": {
      "text/html": [
       "<span style=\"white-space:pre; font-family: monospace\">┌→─────┐\n",
       "│2 ¯3 1│\n",
       "└~─────┘\n",
       "</span>"
      ]
     },
     "execution_count": 8,
     "metadata": {},
     "output_type": "execute_result"
    }
   ],
   "source": [
    "2 ¯3 1"
   ]
  },
  {
   "cell_type": "code",
   "execution_count": 9,
   "id": "65ad3d13",
   "metadata": {},
   "outputs": [
    {
     "data": {
      "text/html": [
       "<span style=\"white-space:pre; font-family: monospace\">┌→────────┐\n",
       "│0J4 ¯5J¯6│\n",
       "└~────────┘\n",
       "</span>"
      ]
     },
     "execution_count": 9,
     "metadata": {},
     "output_type": "execute_result"
    }
   ],
   "source": [
    "0j4 ¯5j¯6"
   ]
  },
  {
   "cell_type": "markdown",
   "id": "c63d1a1a",
   "metadata": {},
   "source": [
    "### Arrays in arrays"
   ]
  },
  {
   "cell_type": "code",
   "execution_count": 10,
   "id": "addcad3a",
   "metadata": {},
   "outputs": [
    {
     "data": {
      "text/html": [
       "<span style=\"white-space:pre; font-family: monospace\">┌→──────────────┐\n",
       "│         ┌→──┐ │\n",
       "│ 1 2 3 4 │1 2│ │\n",
       "│         └~──┘ │\n",
       "└∊──────────────┘\n",
       "</span>"
      ]
     },
     "execution_count": 10,
     "metadata": {},
     "output_type": "execute_result"
    }
   ],
   "source": [
    "1 2 3 4 (1 2)"
   ]
  },
  {
   "cell_type": "code",
   "execution_count": 11,
   "id": "532355d3",
   "metadata": {},
   "outputs": [
    {
     "data": {
      "text/html": [
       "<span style=\"white-space:pre; font-family: monospace\">┌→────────────┐\n",
       "│ ┌→──┐ ┌→──┐ │\n",
       "│ │1 2│ │3 4│ │\n",
       "│ └~──┘ └~──┘ │\n",
       "└∊────────────┘\n",
       "</span>"
      ]
     },
     "execution_count": 11,
     "metadata": {},
     "output_type": "execute_result"
    }
   ],
   "source": [
    "(1 2)(3 4)"
   ]
  },
  {
   "cell_type": "code",
   "execution_count": 12,
   "id": "6581cfd3",
   "metadata": {},
   "outputs": [
    {
     "data": {
      "text/html": [
       "<span style=\"white-space:pre; font-family: monospace\">┌→──────────────┐\n",
       "│ ┌→──┐ ┌→──┐   │\n",
       "│ │1 2│ │3 4│ 5 │\n",
       "│ └~──┘ └~──┘   │\n",
       "└∊──────────────┘\n",
       "</span>"
      ]
     },
     "execution_count": 12,
     "metadata": {},
     "output_type": "execute_result"
    }
   ],
   "source": [
    "(1 2)(3 4)5"
   ]
  },
  {
   "cell_type": "markdown",
   "id": "05b7c9cb",
   "metadata": {},
   "source": [
    "## Basic math operators"
   ]
  },
  {
   "cell_type": "markdown",
   "id": "9e38b917",
   "metadata": {},
   "source": [
    "### `-` (Minus sign; Bar)"
   ]
  },
  {
   "cell_type": "markdown",
   "id": "c0f50569",
   "metadata": {},
   "source": [
    "#### Monadic `-` (Negate)"
   ]
  },
  {
   "cell_type": "code",
   "execution_count": 13,
   "id": "0b5b5779",
   "metadata": {},
   "outputs": [
    {
     "data": {
      "text/html": [
       "<span style=\"white-space:pre; font-family: monospace\">  \n",
       "¯4\n",
       "  \n",
       "</span>"
      ]
     },
     "execution_count": 13,
     "metadata": {},
     "output_type": "execute_result"
    }
   ],
   "source": [
    "- 4"
   ]
  },
  {
   "cell_type": "code",
   "execution_count": 14,
   "id": "1cd8f993",
   "metadata": {},
   "outputs": [
    {
     "data": {
      "text/html": [
       "<span style=\"white-space:pre; font-family: monospace\"> \n",
       "4\n",
       " \n",
       "</span>"
      ]
     },
     "execution_count": 14,
     "metadata": {},
     "output_type": "execute_result"
    }
   ],
   "source": [
    "- ¯4"
   ]
  },
  {
   "cell_type": "code",
   "execution_count": 15,
   "id": "9f1dab97",
   "metadata": {},
   "outputs": [
    {
     "data": {
      "text/html": [
       "<span style=\"white-space:pre; font-family: monospace\">┌→──────────┐\n",
       "│¯4 ¯2 0 3 5│\n",
       "└~──────────┘\n",
       "</span>"
      ]
     },
     "execution_count": 15,
     "metadata": {},
     "output_type": "execute_result"
    }
   ],
   "source": [
    "- 4 2 0 ¯3 ¯5"
   ]
  },
  {
   "cell_type": "code",
   "execution_count": 16,
   "id": "5ef33f8c",
   "metadata": {},
   "outputs": [
    {
     "data": {
      "text/html": [
       "<span style=\"white-space:pre; font-family: monospace\">┌→───────────┐\n",
       "│¯4 2 0 ¯3 ¯5│\n",
       "└~───────────┘\n",
       "</span>"
      ]
     },
     "execution_count": 16,
     "metadata": {},
     "output_type": "execute_result"
    }
   ],
   "source": [
    "¯4 2 0 ¯3 ¯5"
   ]
  },
  {
   "cell_type": "markdown",
   "id": "e98a12b7",
   "metadata": {},
   "source": [
    "#### Dyadic `-` (Minus; subtract)"
   ]
  },
  {
   "cell_type": "code",
   "execution_count": 17,
   "id": "4368d52a",
   "metadata": {},
   "outputs": [
    {
     "data": {
      "text/html": [
       "<span style=\"white-space:pre; font-family: monospace\"> \n",
       "1\n",
       " \n",
       "</span>"
      ]
     },
     "execution_count": 17,
     "metadata": {},
     "output_type": "execute_result"
    }
   ],
   "source": [
    "3-2"
   ]
  },
  {
   "cell_type": "code",
   "execution_count": 18,
   "id": "cebdbfa3",
   "metadata": {},
   "outputs": [
    {
     "data": {
      "text/html": [
       "<span style=\"white-space:pre; font-family: monospace\">┌→──────┐\n",
       "│¯1 ¯3 0│\n",
       "└~──────┘\n",
       "</span>"
      ]
     },
     "execution_count": 18,
     "metadata": {},
     "output_type": "execute_result"
    }
   ],
   "source": [
    "3 2 1 - 4 5 1"
   ]
  },
  {
   "cell_type": "code",
   "execution_count": 19,
   "id": "e34464bc",
   "metadata": {},
   "outputs": [
    {
     "data": {
      "text/html": [
       "<span style=\"white-space:pre; font-family: monospace\">┌→────┐\n",
       "│2 1 0│\n",
       "└~────┘\n",
       "</span>"
      ]
     },
     "execution_count": 19,
     "metadata": {},
     "output_type": "execute_result"
    }
   ],
   "source": [
    "3 2 1 - 1"
   ]
  },
  {
   "cell_type": "code",
   "execution_count": 20,
   "id": "e1eb8e2c",
   "metadata": {},
   "outputs": [
    {
     "data": {
      "text/html": [
       "<span style=\"white-space:pre; font-family: monospace\">┌→──────┐\n",
       "│¯2 ¯1 0│\n",
       "└~──────┘\n",
       "</span>"
      ]
     },
     "execution_count": 20,
     "metadata": {},
     "output_type": "execute_result"
    }
   ],
   "source": [
    "1 - 3 2 1"
   ]
  },
  {
   "cell_type": "markdown",
   "id": "bbc0d769",
   "metadata": {},
   "source": [
    "### `+` (Plus sign)"
   ]
  },
  {
   "cell_type": "markdown",
   "id": "b436ecba",
   "metadata": {},
   "source": [
    "#### Monadic `+` (Conjugate)"
   ]
  },
  {
   "cell_type": "code",
   "execution_count": 21,
   "id": "d2070eee",
   "metadata": {},
   "outputs": [
    {
     "data": {
      "text/html": [
       "<span style=\"white-space:pre; font-family: monospace\">   \n",
       "1.2\n",
       "   \n",
       "</span>"
      ]
     },
     "execution_count": 21,
     "metadata": {},
     "output_type": "execute_result"
    }
   ],
   "source": [
    "+ 1.2"
   ]
  },
  {
   "cell_type": "code",
   "execution_count": 22,
   "id": "2fac9bf6",
   "metadata": {},
   "outputs": [
    {
     "data": {
      "text/html": [
       "<span style=\"white-space:pre; font-family: monospace\">    \n",
       "¯5J6\n",
       "    \n",
       "</span>"
      ]
     },
     "execution_count": 22,
     "metadata": {},
     "output_type": "execute_result"
    }
   ],
   "source": [
    "+ ¯5j¯6"
   ]
  },
  {
   "cell_type": "code",
   "execution_count": 23,
   "id": "35f8a381",
   "metadata": {},
   "outputs": [
    {
     "data": {
      "text/html": [
       "<span style=\"white-space:pre; font-family: monospace\">┌→────────────┐\n",
       "│1.2 0J¯4 ¯5J6│\n",
       "└~────────────┘\n",
       "</span>"
      ]
     },
     "execution_count": 23,
     "metadata": {},
     "output_type": "execute_result"
    }
   ],
   "source": [
    "+ 1.2 0j4 ¯5j¯6"
   ]
  },
  {
   "cell_type": "markdown",
   "id": "8b5267d6",
   "metadata": {},
   "source": [
    "#### Dyadic `+` (Plus)"
   ]
  },
  {
   "cell_type": "code",
   "execution_count": 24,
   "id": "5ca270d2",
   "metadata": {},
   "outputs": [
    {
     "data": {
      "text/html": [
       "<span style=\"white-space:pre; font-family: monospace\"> \n",
       "5\n",
       " \n",
       "</span>"
      ]
     },
     "execution_count": 24,
     "metadata": {},
     "output_type": "execute_result"
    }
   ],
   "source": [
    "3+2"
   ]
  },
  {
   "cell_type": "code",
   "execution_count": 25,
   "id": "8ef69a3e",
   "metadata": {},
   "outputs": [
    {
     "data": {
      "text/html": [
       "<span style=\"white-space:pre; font-family: monospace\">┌→────┐\n",
       "│7 7 2│\n",
       "└~────┘\n",
       "</span>"
      ]
     },
     "execution_count": 25,
     "metadata": {},
     "output_type": "execute_result"
    }
   ],
   "source": [
    "3 2 1 + 4 5 1"
   ]
  },
  {
   "cell_type": "code",
   "execution_count": 26,
   "id": "a9f35af3",
   "metadata": {},
   "outputs": [
    {
     "data": {
      "text/html": [
       "<span style=\"white-space:pre; font-family: monospace\">┌→────┐\n",
       "│4 3 2│\n",
       "└~────┘\n",
       "</span>"
      ]
     },
     "execution_count": 26,
     "metadata": {},
     "output_type": "execute_result"
    }
   ],
   "source": [
    "3 2 1 + 1"
   ]
  },
  {
   "cell_type": "code",
   "execution_count": 27,
   "id": "2114d041",
   "metadata": {},
   "outputs": [
    {
     "data": {
      "text/html": [
       "<span style=\"white-space:pre; font-family: monospace\">┌→────┐\n",
       "│4 3 2│\n",
       "└~────┘\n",
       "</span>"
      ]
     },
     "execution_count": 27,
     "metadata": {},
     "output_type": "execute_result"
    }
   ],
   "source": [
    "1 + 3 2 1"
   ]
  },
  {
   "cell_type": "markdown",
   "id": "e269c8df",
   "metadata": {},
   "source": [
    "### `÷` (Divide sign)"
   ]
  },
  {
   "cell_type": "markdown",
   "id": "a0256ca9",
   "metadata": {},
   "source": [
    "#### Monadic `÷` (Reciprocol)"
   ]
  },
  {
   "cell_type": "code",
   "execution_count": 28,
   "id": "59c278e2",
   "metadata": {},
   "outputs": [
    {
     "data": {
      "text/html": [
       "<span style=\"white-space:pre; font-family: monospace\">┌→───────────────────────────┐\n",
       "│0.3333333333 ¯0.5 0.12J¯0.16│\n",
       "└~───────────────────────────┘\n",
       "</span>"
      ]
     },
     "execution_count": 28,
     "metadata": {},
     "output_type": "execute_result"
    }
   ],
   "source": [
    "÷ 3 ¯2 3j4"
   ]
  },
  {
   "cell_type": "markdown",
   "id": "0a6dab3a",
   "metadata": {},
   "source": [
    "#### Dyadic `÷` (Divided by)"
   ]
  },
  {
   "cell_type": "code",
   "execution_count": 29,
   "id": "c75a236c",
   "metadata": {},
   "outputs": [
    {
     "data": {
      "text/html": [
       "<span style=\"white-space:pre; font-family: monospace\">   \n",
       "1.5\n",
       "   \n",
       "</span>"
      ]
     },
     "execution_count": 29,
     "metadata": {},
     "output_type": "execute_result"
    }
   ],
   "source": [
    "3÷2"
   ]
  },
  {
   "cell_type": "code",
   "execution_count": 30,
   "id": "4e47f28d",
   "metadata": {},
   "outputs": [
    {
     "data": {
      "text/html": [
       "<span style=\"white-space:pre; font-family: monospace\">┌→─────────┐\n",
       "│1.5 1.2 ¯3│\n",
       "└~─────────┘\n",
       "</span>"
      ]
     },
     "execution_count": 30,
     "metadata": {},
     "output_type": "execute_result"
    }
   ],
   "source": [
    "3÷2 2.5 ¯1"
   ]
  },
  {
   "cell_type": "code",
   "execution_count": 31,
   "id": "bf954b9e",
   "metadata": {},
   "outputs": [
    {
     "data": {
      "text/html": [
       "<span style=\"white-space:pre; font-family: monospace\">┌→─────────┐\n",
       "│1.5 0.8 ¯1│\n",
       "└~─────────┘\n",
       "</span>"
      ]
     },
     "execution_count": 31,
     "metadata": {},
     "output_type": "execute_result"
    }
   ],
   "source": [
    "3 2 1÷2 2.5 ¯1"
   ]
  },
  {
   "cell_type": "markdown",
   "id": "abc6bcc4",
   "metadata": {},
   "source": [
    "### `×` (Times sign)"
   ]
  },
  {
   "cell_type": "markdown",
   "id": "73b588d8",
   "metadata": {},
   "source": [
    "#### Monadic `×` (Direction)"
   ]
  },
  {
   "cell_type": "code",
   "execution_count": 32,
   "id": "d43e1b27",
   "metadata": {},
   "outputs": [
    {
     "data": {
      "text/html": [
       "<span style=\"white-space:pre; font-family: monospace\">┌→─────────────┐\n",
       "│1 ¯1 0 0.6J0.8│\n",
       "└~─────────────┘\n",
       "</span>"
      ]
     },
     "execution_count": 32,
     "metadata": {},
     "output_type": "execute_result"
    }
   ],
   "source": [
    "× 3.1 ¯2 0 3j4"
   ]
  },
  {
   "cell_type": "markdown",
   "id": "82f87398",
   "metadata": {},
   "source": [
    "`3j4` means `3+4i`, which has a magnitude of 5 (because (3×3)+(4×4)=(5×5)). `0.6j0.8` represents a vector in the same direction as `3j4`, but with a magnitude of 5, since it's `3j4÷5`."
   ]
  },
  {
   "cell_type": "markdown",
   "id": "c42af4dd",
   "metadata": {},
   "source": [
    "#### Dyadic `×` (Times)"
   ]
  },
  {
   "cell_type": "code",
   "execution_count": 33,
   "id": "ccec4680",
   "metadata": {},
   "outputs": [
    {
     "data": {
      "text/html": [
       "<span style=\"white-space:pre; font-family: monospace\"> \n",
       "6\n",
       " \n",
       "</span>"
      ]
     },
     "execution_count": 33,
     "metadata": {},
     "output_type": "execute_result"
    }
   ],
   "source": [
    "3×2"
   ]
  },
  {
   "cell_type": "code",
   "execution_count": 34,
   "id": "ffabf33e",
   "metadata": {},
   "outputs": [
    {
     "data": {
      "text/html": [
       "<span style=\"white-space:pre; font-family: monospace\">┌→───────┐\n",
       "│6 7.5 ¯3│\n",
       "└~───────┘\n",
       "</span>"
      ]
     },
     "execution_count": 34,
     "metadata": {},
     "output_type": "execute_result"
    }
   ],
   "source": [
    "3×2 2.5 ¯1"
   ]
  },
  {
   "cell_type": "code",
   "execution_count": 35,
   "id": "34a53827",
   "metadata": {},
   "outputs": [
    {
     "data": {
      "text/html": [
       "<span style=\"white-space:pre; font-family: monospace\">┌→─────┐\n",
       "│6 5 ¯1│\n",
       "└~─────┘\n",
       "</span>"
      ]
     },
     "execution_count": 35,
     "metadata": {},
     "output_type": "execute_result"
    }
   ],
   "source": [
    "3 2 1×2 2.5 ¯1"
   ]
  },
  {
   "cell_type": "markdown",
   "id": "d86eccdc",
   "metadata": {},
   "source": [
    "### `*` (Star)"
   ]
  },
  {
   "cell_type": "markdown",
   "id": "db6edb53",
   "metadata": {},
   "source": [
    "#### Monadic `*` (Exponential)"
   ]
  },
  {
   "cell_type": "code",
   "execution_count": 36,
   "id": "36fec05d",
   "metadata": {},
   "outputs": [
    {
     "data": {
      "text/html": [
       "<span style=\"white-space:pre; font-family: monospace\">┌→────────────────────────┐\n",
       "│1 2.718281828 7.389056099│\n",
       "└~────────────────────────┘\n",
       "</span>"
      ]
     },
     "execution_count": 36,
     "metadata": {},
     "output_type": "execute_result"
    }
   ],
   "source": [
    "* 0 1 2"
   ]
  },
  {
   "cell_type": "markdown",
   "id": "71e3e0ff",
   "metadata": {},
   "source": [
    "#### Dyadic `*` (Power)"
   ]
  },
  {
   "cell_type": "code",
   "execution_count": 37,
   "id": "c182968b",
   "metadata": {},
   "outputs": [
    {
     "data": {
      "text/html": [
       "<span style=\"white-space:pre; font-family: monospace\">┌→───────┐\n",
       "│7 25 0J2│\n",
       "└~───────┘\n",
       "</span>"
      ]
     },
     "execution_count": 37,
     "metadata": {},
     "output_type": "execute_result"
    }
   ],
   "source": [
    "49 5 ¯4 * 0.5 2 0.5"
   ]
  },
  {
   "cell_type": "markdown",
   "id": "9b3e3ffc",
   "metadata": {},
   "source": [
    "## Expressions"
   ]
  },
  {
   "cell_type": "markdown",
   "id": "3a516a0a",
   "metadata": {},
   "source": [
    "### Precedence"
   ]
  },
  {
   "cell_type": "code",
   "execution_count": 38,
   "id": "415a629e",
   "metadata": {},
   "outputs": [
    {
     "data": {
      "text/html": [
       "<span style=\"white-space:pre; font-family: monospace\"> \n",
       "9\n",
       " \n",
       "</span>"
      ]
     },
     "execution_count": 38,
     "metadata": {},
     "output_type": "execute_result"
    }
   ],
   "source": [
    "3×2+1"
   ]
  },
  {
   "cell_type": "code",
   "execution_count": 39,
   "id": "333812a2",
   "metadata": {},
   "outputs": [
    {
     "data": {
      "text/html": [
       "<span style=\"white-space:pre; font-family: monospace\">┌→────┐\n",
       "│3 6 9│\n",
       "└~────┘\n",
       "</span>"
      ]
     },
     "execution_count": 39,
     "metadata": {},
     "output_type": "execute_result"
    }
   ],
   "source": [
    "1 2 3×2+1"
   ]
  },
  {
   "cell_type": "code",
   "execution_count": 40,
   "id": "fecc4aa4",
   "metadata": {},
   "outputs": [
    {
     "data": {
      "text/html": [
       "<span style=\"white-space:pre; font-family: monospace\">┌→──────┐\n",
       "│4 12 24│\n",
       "└~──────┘\n",
       "</span>"
      ]
     },
     "execution_count": 40,
     "metadata": {},
     "output_type": "execute_result"
    }
   ],
   "source": [
    "1 2 3×2+2 4 6"
   ]
  },
  {
   "cell_type": "code",
   "execution_count": 41,
   "id": "bb8463b5",
   "metadata": {},
   "outputs": [
    {
     "data": {
      "text/html": [
       "<span style=\"white-space:pre; font-family: monospace\">┌→───┐\n",
       "│7 ¯1│\n",
       "└~───┘\n",
       "</span>"
      ]
     },
     "execution_count": 41,
     "metadata": {},
     "output_type": "execute_result"
    }
   ],
   "source": [
    "3 ¯5 + 4"
   ]
  },
  {
   "cell_type": "code",
   "execution_count": 42,
   "id": "51986f3d",
   "metadata": {},
   "outputs": [
    {
     "data": {
      "text/html": [
       "<span style=\"white-space:pre; font-family: monospace\"> \n",
       "2\n",
       " \n",
       "</span>"
      ]
     },
     "execution_count": 42,
     "metadata": {},
     "output_type": "execute_result"
    }
   ],
   "source": [
    "8*÷3"
   ]
  },
  {
   "cell_type": "markdown",
   "id": "c145bfe5",
   "metadata": {},
   "source": [
    "### Assignment"
   ]
  },
  {
   "cell_type": "code",
   "execution_count": 43,
   "id": "0012af8b",
   "metadata": {},
   "outputs": [
    {
     "data": {
      "text/html": [
       "<span style=\"white-space:pre; font-family: monospace\"> \n",
       "3\n",
       " \n",
       "</span>"
      ]
     },
     "execution_count": 43,
     "metadata": {},
     "output_type": "execute_result"
    }
   ],
   "source": [
    "a←3\n",
    "a"
   ]
  },
  {
   "cell_type": "code",
   "execution_count": 44,
   "id": "7630f424",
   "metadata": {},
   "outputs": [
    {
     "data": {
      "text/html": [
       "<span style=\"white-space:pre; font-family: monospace\"> \n",
       "3\n",
       " \n",
       "</span>"
      ]
     },
     "execution_count": 44,
     "metadata": {},
     "output_type": "execute_result"
    }
   ],
   "source": [
    "⎕←a←3"
   ]
  },
  {
   "cell_type": "code",
   "execution_count": 45,
   "id": "f676beae",
   "metadata": {},
   "outputs": [
    {
     "data": {
      "text/html": [
       "<span style=\"white-space:pre; font-family: monospace\">┌→──┐\n",
       "│3 4│\n",
       "└~──┘\n",
       "</span>"
      ]
     },
     "execution_count": 45,
     "metadata": {},
     "output_type": "execute_result"
    }
   ],
   "source": [
    "b←3 4\n",
    "b"
   ]
  },
  {
   "cell_type": "markdown",
   "id": "be1a4d2c",
   "metadata": {},
   "source": [
    "### Functions"
   ]
  },
  {
   "cell_type": "code",
   "execution_count": 46,
   "id": "015e629e",
   "metadata": {},
   "outputs": [
    {
     "data": {
      "text/html": [
       "<span style=\"white-space:pre; font-family: monospace\"> \n",
       "8\n",
       " \n",
       "</span>"
      ]
     },
     "execution_count": 46,
     "metadata": {},
     "output_type": "execute_result"
    }
   ],
   "source": [
    "{⍵×2} 4"
   ]
  },
  {
   "cell_type": "code",
   "execution_count": 47,
   "id": "7b821d34",
   "metadata": {},
   "outputs": [
    {
     "data": {
      "text/html": [
       "<span style=\"white-space:pre; font-family: monospace\"> \n",
       "8\n",
       " \n",
       "</span>"
      ]
     },
     "execution_count": 47,
     "metadata": {},
     "output_type": "execute_result"
    }
   ],
   "source": [
    "f ← {⍵×2}\n",
    "f 4"
   ]
  },
  {
   "cell_type": "code",
   "execution_count": 48,
   "id": "26f11c52",
   "metadata": {},
   "outputs": [
    {
     "data": {
      "text/html": [
       "<span style=\"white-space:pre; font-family: monospace\">  \n",
       "20\n",
       "  \n",
       "</span>"
      ]
     },
     "execution_count": 48,
     "metadata": {},
     "output_type": "execute_result"
    }
   ],
   "source": [
    "g ← {⍵×2+⍺}\n",
    "3 g 4"
   ]
  },
  {
   "cell_type": "code",
   "execution_count": 49,
   "id": "baf748c8",
   "metadata": {},
   "outputs": [
    {
     "data": {
      "text/html": [
       "<span style=\"white-space:pre; font-family: monospace\">  \n",
       "10\n",
       "  \n",
       "</span>"
      ]
     },
     "execution_count": 49,
     "metadata": {},
     "output_type": "execute_result"
    }
   ],
   "source": [
    "f ← {⍵×2}\n",
    "h ← {2 + f ⍵}\n",
    "h 4"
   ]
  },
  {
   "cell_type": "markdown",
   "id": "1513585f",
   "metadata": {},
   "source": [
    "### Destructuring assignment"
   ]
  },
  {
   "cell_type": "code",
   "execution_count": 50,
   "id": "d05d0c59",
   "metadata": {},
   "outputs": [
    {
     "data": {
      "text/html": [
       "<span style=\"white-space:pre; font-family: monospace\"> \n",
       "3\n",
       " \n",
       "</span>"
      ]
     },
     "execution_count": 50,
     "metadata": {},
     "output_type": "execute_result"
    }
   ],
   "source": [
    "a b ← 3 4\n",
    "a"
   ]
  },
  {
   "cell_type": "markdown",
   "id": "4dddc7fa",
   "metadata": {},
   "source": [
    "## Array rank"
   ]
  },
  {
   "cell_type": "markdown",
   "id": "1fd3e439",
   "metadata": {},
   "source": [
    "### `⍴` (rho)"
   ]
  },
  {
   "cell_type": "markdown",
   "id": "33002d4a",
   "metadata": {},
   "source": [
    "#### Dyadic `⍴` (reshape)"
   ]
  },
  {
   "cell_type": "code",
   "execution_count": 51,
   "id": "80b4d271",
   "metadata": {},
   "outputs": [
    {
     "data": {
      "text/html": [
       "<span style=\"white-space:pre; font-family: monospace\">┌→──────────┐\n",
       "│1 2 3 4 5 6│\n",
       "└~──────────┘\n",
       "</span>"
      ]
     },
     "execution_count": 51,
     "metadata": {},
     "output_type": "execute_result"
    }
   ],
   "source": [
    "⎕ ← 1 2 3 4 5 6"
   ]
  },
  {
   "cell_type": "code",
   "execution_count": 52,
   "id": "73dbf073",
   "metadata": {},
   "outputs": [
    {
     "data": {
      "text/html": [
       "<span style=\"white-space:pre; font-family: monospace\">┌→────┐\n",
       "↓1 2 3│\n",
       "│4 5 6│\n",
       "└~────┘\n",
       "</span>"
      ]
     },
     "execution_count": 52,
     "metadata": {},
     "output_type": "execute_result"
    }
   ],
   "source": [
    "a ← 1 2 3 4 5 6\n",
    "⎕←mat←2 3 ⍴ a"
   ]
  },
  {
   "cell_type": "code",
   "execution_count": 53,
   "id": "c3a455fe",
   "metadata": {},
   "outputs": [
    {
     "data": {
      "text/html": [
       "<span style=\"white-space:pre; font-family: monospace\">┌→──┐\n",
       "↓1 2│\n",
       "│3 4│\n",
       "│5 6│\n",
       "└~──┘\n",
       "</span>"
      ]
     },
     "execution_count": 53,
     "metadata": {},
     "output_type": "execute_result"
    }
   ],
   "source": [
    "a ← 1 2 3 4 5 6\n",
    "3 2 ⍴ a"
   ]
  },
  {
   "cell_type": "code",
   "execution_count": 54,
   "id": "62c4c60a",
   "metadata": {},
   "outputs": [
    {
     "data": {
      "text/html": [
       "<span style=\"white-space:pre; font-family: monospace\">┌→──────────┐\n",
       "↓1 2 3 4 5 6│\n",
       "└~──────────┘\n",
       "</span>"
      ]
     },
     "execution_count": 54,
     "metadata": {},
     "output_type": "execute_result"
    }
   ],
   "source": [
    "a ← 1 2 3 4 5 6\n",
    "1 6 ⍴ a"
   ]
  },
  {
   "cell_type": "code",
   "execution_count": 55,
   "id": "459c8924",
   "metadata": {},
   "outputs": [
    {
     "data": {
      "text/html": [
       "<span style=\"white-space:pre; font-family: monospace\">┌┌→────┐\n",
       "↓↓1 2 3│\n",
       "││4 5 6│\n",
       "││     │\n",
       "││1 2 3│\n",
       "││4 5 6│\n",
       "└└~────┘\n",
       "</span>"
      ]
     },
     "execution_count": 55,
     "metadata": {},
     "output_type": "execute_result"
    }
   ],
   "source": [
    "a ← 1 2 3 4 5 6\n",
    "⎕←c←2 2 3 ⍴ a"
   ]
  },
  {
   "cell_type": "code",
   "execution_count": 56,
   "id": "7651f6ef",
   "metadata": {},
   "outputs": [
    {
     "data": {
      "text/html": [
       "<span style=\"white-space:pre; font-family: monospace\">┌→────┐\n",
       "↓1 1 1│\n",
       "│1 1 1│\n",
       "└~────┘\n",
       "</span>"
      ]
     },
     "execution_count": 56,
     "metadata": {},
     "output_type": "execute_result"
    }
   ],
   "source": [
    "2 3 ⍴ 1"
   ]
  },
  {
   "cell_type": "markdown",
   "id": "95b6c2f5",
   "metadata": {},
   "source": [
    "#### Monadic `⍴` (shape of)"
   ]
  },
  {
   "cell_type": "code",
   "execution_count": 57,
   "id": "4ff2def4",
   "metadata": {},
   "outputs": [
    {
     "data": {
      "text/html": [
       "<span style=\"white-space:pre; font-family: monospace\">┌→┐\n",
       "│6│\n",
       "└~┘\n",
       "</span>"
      ]
     },
     "execution_count": 57,
     "metadata": {},
     "output_type": "execute_result"
    }
   ],
   "source": [
    "a ← 1 2 3 4 5 6\n",
    "⍴a"
   ]
  },
  {
   "cell_type": "code",
   "execution_count": 58,
   "id": "0313a50e",
   "metadata": {},
   "outputs": [
    {
     "data": {
      "text/html": [
       "<span style=\"white-space:pre; font-family: monospace\">┌→──┐\n",
       "│2 3│\n",
       "└~──┘\n",
       "</span>"
      ]
     },
     "execution_count": 58,
     "metadata": {},
     "output_type": "execute_result"
    }
   ],
   "source": [
    "mat←2 3 ⍴ a\n",
    "⍴mat"
   ]
  },
  {
   "cell_type": "code",
   "execution_count": 59,
   "id": "49027e1b",
   "metadata": {},
   "outputs": [
    {
     "data": {
      "text/html": [
       "<span style=\"white-space:pre; font-family: monospace\">┌⊖┐\n",
       "│0│\n",
       "└~┘\n",
       "</span>"
      ]
     },
     "execution_count": 59,
     "metadata": {},
     "output_type": "execute_result"
    }
   ],
   "source": [
    "⍴3"
   ]
  },
  {
   "cell_type": "code",
   "execution_count": 60,
   "id": "4e7acf5b",
   "metadata": {},
   "outputs": [
    {
     "data": {
      "text/html": [
       "<span style=\"white-space:pre; font-family: monospace\">┌⊖┐\n",
       "│0│\n",
       "└~┘\n",
       "</span>"
      ]
     },
     "execution_count": 60,
     "metadata": {},
     "output_type": "execute_result"
    }
   ],
   "source": [
    "⍬"
   ]
  },
  {
   "cell_type": "code",
   "execution_count": 61,
   "id": "a99c3656",
   "metadata": {},
   "outputs": [
    {
     "data": {
      "text/html": [
       "<span style=\"white-space:pre; font-family: monospace\">┌→┐\n",
       "│0│\n",
       "└~┘\n",
       "</span>"
      ]
     },
     "execution_count": 61,
     "metadata": {},
     "output_type": "execute_result"
    }
   ],
   "source": [
    "⍴⍬"
   ]
  },
  {
   "cell_type": "code",
   "execution_count": 62,
   "id": "58eaa324",
   "metadata": {},
   "outputs": [
    {
     "data": {
      "text/html": [
       "<span style=\"white-space:pre; font-family: monospace\">┌→┐\n",
       "│2│\n",
       "└~┘\n",
       "</span>"
      ]
     },
     "execution_count": 62,
     "metadata": {},
     "output_type": "execute_result"
    }
   ],
   "source": [
    "mat←2 3 ⍴ a\n",
    "⍴⍴mat"
   ]
  },
  {
   "cell_type": "code",
   "execution_count": 63,
   "id": "46d5a389",
   "metadata": {},
   "outputs": [
    {
     "data": {
      "text/html": [
       "<span style=\"white-space:pre; font-family: monospace\">┌→┐\n",
       "│1│\n",
       "└~┘\n",
       "</span>"
      ]
     },
     "execution_count": 63,
     "metadata": {},
     "output_type": "execute_result"
    }
   ],
   "source": [
    "mat←2 3 ⍴ a\n",
    "⍴⍴⍴mat"
   ]
  },
  {
   "cell_type": "code",
   "execution_count": 64,
   "id": "edebb07a",
   "metadata": {},
   "outputs": [
    {
     "data": {
      "text/html": [
       "<span style=\"white-space:pre; font-family: monospace\">┌→────┐\n",
       "│2 2 3│\n",
       "└~────┘\n",
       "</span>"
      ]
     },
     "execution_count": 64,
     "metadata": {},
     "output_type": "execute_result"
    }
   ],
   "source": [
    "c←2 2 3 ⍴ a\n",
    "⍴c"
   ]
  },
  {
   "cell_type": "code",
   "execution_count": 65,
   "id": "d34adc21",
   "metadata": {},
   "outputs": [
    {
     "data": {
      "text/html": [
       "<span style=\"white-space:pre; font-family: monospace\">┌→┐\n",
       "│1│\n",
       "└~┘\n",
       "</span>"
      ]
     },
     "execution_count": 65,
     "metadata": {},
     "output_type": "execute_result"
    }
   ],
   "source": [
    "c←2 2 3 ⍴ a\n",
    "⍴⍴⍴c"
   ]
  },
  {
   "cell_type": "markdown",
   "id": "f6725205",
   "metadata": {},
   "source": [
    "## Strings (characters and character vectors)"
   ]
  },
  {
   "cell_type": "code",
   "execution_count": 66,
   "id": "a3e38495",
   "metadata": {},
   "outputs": [
    {
     "data": {
      "text/html": [
       "<span style=\"white-space:pre; font-family: monospace\">┌→──┐\n",
       "│ACF│\n",
       "└───┘\n",
       "</span>"
      ]
     },
     "execution_count": 66,
     "metadata": {},
     "output_type": "execute_result"
    }
   ],
   "source": [
    "'ACF'"
   ]
  },
  {
   "cell_type": "code",
   "execution_count": 67,
   "id": "e57eb50b",
   "metadata": {},
   "outputs": [
    {
     "data": {
      "text/html": [
       "<span style=\"white-space:pre; font-family: monospace\">┌→──┐\n",
       "│ACF│\n",
       "└───┘\n",
       "</span>"
      ]
     },
     "execution_count": 67,
     "metadata": {},
     "output_type": "execute_result"
    }
   ],
   "source": [
    "'A' 'C' 'F'"
   ]
  },
  {
   "cell_type": "code",
   "execution_count": 68,
   "id": "4202cd98",
   "metadata": {},
   "outputs": [
    {
     "data": {
      "text/html": [
       "<span style=\"white-space:pre; font-family: monospace\">┌⊖┐\n",
       "│0│\n",
       "└~┘\n",
       "</span>"
      ]
     },
     "execution_count": 68,
     "metadata": {},
     "output_type": "execute_result"
    }
   ],
   "source": [
    "⍴'y'"
   ]
  },
  {
   "cell_type": "code",
   "execution_count": 69,
   "id": "a1d412f2",
   "metadata": {},
   "outputs": [
    {
     "data": {
      "text/html": [
       "<span style=\"white-space:pre; font-family: monospace\">┌→┐\n",
       "│9│\n",
       "└~┘\n",
       "</span>"
      ]
     },
     "execution_count": 69,
     "metadata": {},
     "output_type": "execute_result"
    }
   ],
   "source": [
    "⍴'your boat'"
   ]
  },
  {
   "cell_type": "code",
   "execution_count": 70,
   "id": "8bfaf67e",
   "metadata": {},
   "outputs": [
    {
     "data": {
      "text/html": [
       "<span style=\"white-space:pre; font-family: monospace\">┌→────────┐\n",
       "│1 2 3 4 a│\n",
       "└+────────┘\n",
       "</span>"
      ]
     },
     "execution_count": 70,
     "metadata": {},
     "output_type": "execute_result"
    }
   ],
   "source": [
    "1 2 3 4 'a'"
   ]
  },
  {
   "cell_type": "code",
   "execution_count": 71,
   "id": "3dfafbb1",
   "metadata": {},
   "outputs": [
    {
     "data": {
      "text/html": [
       "<span style=\"white-space:pre; font-family: monospace\">┌→─────────────┐\n",
       "│         ┌→─┐ │\n",
       "│ 1 2 3 4 │ab│ │\n",
       "│         └──┘ │\n",
       "└∊─────────────┘\n",
       "</span>"
      ]
     },
     "execution_count": 71,
     "metadata": {},
     "output_type": "execute_result"
    }
   ],
   "source": [
    "1 2 3 4 'ab'"
   ]
  },
  {
   "cell_type": "code",
   "execution_count": 72,
   "id": "37686ac6",
   "metadata": {},
   "outputs": [
    {
     "data": {
      "text/html": [
       "<span style=\"white-space:pre; font-family: monospace\">┌→─────────────────┐\n",
       "│ ┌→──┐ ┌→──┐ ┌→─┐ │\n",
       "│ │1 2│ │3 4│ │ab│ │\n",
       "│ └~──┘ └~──┘ └──┘ │\n",
       "└∊─────────────────┘\n",
       "</span>"
      ]
     },
     "execution_count": 72,
     "metadata": {},
     "output_type": "execute_result"
    }
   ],
   "source": [
    "(1 2)(3 4)'ab'"
   ]
  },
  {
   "cell_type": "markdown",
   "id": "19b81e5e",
   "metadata": {},
   "source": [
    "## `⍳` (iota)"
   ]
  },
  {
   "cell_type": "markdown",
   "id": "07641784",
   "metadata": {},
   "source": [
    "### monadic `⍳` (index generator)"
   ]
  },
  {
   "cell_type": "code",
   "execution_count": 73,
   "id": "921308a2",
   "metadata": {},
   "outputs": [
    {
     "data": {
      "text/html": [
       "<span style=\"white-space:pre; font-family: monospace\">┌→──────┐\n",
       "│1 2 3 4│\n",
       "└~──────┘\n",
       "</span>"
      ]
     },
     "execution_count": 73,
     "metadata": {},
     "output_type": "execute_result"
    }
   ],
   "source": [
    "⍳4"
   ]
  },
  {
   "cell_type": "code",
   "execution_count": 74,
   "id": "f7f75fa6",
   "metadata": {},
   "outputs": [
    {
     "data": {
      "text/html": [
       "<span style=\"white-space:pre; font-family: monospace\">┌→──────────────────┐\n",
       "↓ ┌→──┐ ┌→──┐ ┌→──┐ │\n",
       "│ │1 1│ │1 2│ │1 3│ │\n",
       "│ └~──┘ └~──┘ └~──┘ │\n",
       "│ ┌→──┐ ┌→──┐ ┌→──┐ │\n",
       "│ │2 1│ │2 2│ │2 3│ │\n",
       "│ └~──┘ └~──┘ └~──┘ │\n",
       "└∊──────────────────┘\n",
       "</span>"
      ]
     },
     "execution_count": 74,
     "metadata": {},
     "output_type": "execute_result"
    }
   ],
   "source": [
    "⍳2 3"
   ]
  },
  {
   "cell_type": "code",
   "execution_count": 75,
   "id": "602814d2",
   "metadata": {},
   "outputs": [
    {
     "data": {
      "text/html": [
       "<span style=\"white-space:pre; font-family: monospace\">┌→────┐\n",
       "↓1 2 3│\n",
       "│4 5 6│\n",
       "└~────┘\n",
       "</span>"
      ]
     },
     "execution_count": 75,
     "metadata": {},
     "output_type": "execute_result"
    }
   ],
   "source": [
    "2 3 ⍴ ⍳6"
   ]
  },
  {
   "cell_type": "code",
   "execution_count": 76,
   "id": "667af477",
   "metadata": {},
   "outputs": [
    {
     "data": {
      "text/html": [
       "<span style=\"white-space:pre; font-family: monospace\">┌→────────────┐\n",
       "│3 5 7 9 11 13│\n",
       "└~────────────┘\n",
       "</span>"
      ]
     },
     "execution_count": 76,
     "metadata": {},
     "output_type": "execute_result"
    }
   ],
   "source": [
    "1+2×⍳6"
   ]
  },
  {
   "cell_type": "code",
   "execution_count": 77,
   "id": "d4f8c88e",
   "metadata": {},
   "outputs": [
    {
     "data": {
      "text/html": [
       "<span style=\"white-space:pre; font-family: monospace\">┌⊖┐\n",
       "│0│\n",
       "└~┘\n",
       "</span>"
      ]
     },
     "execution_count": 77,
     "metadata": {},
     "output_type": "execute_result"
    }
   ],
   "source": [
    "⍳0"
   ]
  },
  {
   "cell_type": "markdown",
   "id": "6e7c0a8f",
   "metadata": {},
   "source": [
    "### dyadic `⍳` (index of)"
   ]
  },
  {
   "cell_type": "code",
   "execution_count": 78,
   "id": "82148642",
   "metadata": {},
   "outputs": [
    {
     "data": {
      "text/html": [
       "<span style=\"white-space:pre; font-family: monospace\"> \n",
       "2\n",
       " \n",
       "</span>"
      ]
     },
     "execution_count": 78,
     "metadata": {},
     "output_type": "execute_result"
    }
   ],
   "source": [
    "1 3 6 5 4 ⍳ 3"
   ]
  },
  {
   "cell_type": "code",
   "execution_count": 79,
   "id": "86210246",
   "metadata": {},
   "outputs": [
    {
     "data": {
      "text/html": [
       "<span style=\"white-space:pre; font-family: monospace\">┌→────────┐\n",
       "│1 3 10 11│\n",
       "└~────────┘\n",
       "</span>"
      ]
     },
     "execution_count": 79,
     "metadata": {},
     "output_type": "execute_result"
    }
   ],
   "source": [
    "'ABCDABCDEF' ⍳ 'ACFG'"
   ]
  },
  {
   "cell_type": "code",
   "execution_count": 80,
   "id": "05dbe1b6",
   "metadata": {},
   "outputs": [
    {
     "data": {
      "text/html": [
       "<span style=\"white-space:pre; font-family: monospace\">┌→──┐\n",
       "↓1 2│\n",
       "│3 4│\n",
       "│5 6│\n",
       "└~──┘\n",
       "</span>"
      ]
     },
     "execution_count": 80,
     "metadata": {},
     "output_type": "execute_result"
    }
   ],
   "source": [
    "⎕←mat←3 2 ⍴ ⍳6"
   ]
  },
  {
   "cell_type": "code",
   "execution_count": 81,
   "id": "637f9032",
   "metadata": {},
   "outputs": [
    {
     "data": {
      "text/html": [
       "<span style=\"white-space:pre; font-family: monospace\"> \n",
       "3\n",
       " \n",
       "</span>"
      ]
     },
     "execution_count": 81,
     "metadata": {},
     "output_type": "execute_result"
    }
   ],
   "source": [
    "mat←3 2 ⍴ ⍳6\n",
    "mat ⍳ 5 6"
   ]
  },
  {
   "cell_type": "markdown",
   "id": "2dbbce67",
   "metadata": {},
   "source": [
    "## Boolean"
   ]
  },
  {
   "cell_type": "markdown",
   "id": "71f403e7",
   "metadata": {},
   "source": [
    "### `=` (Equal sign)"
   ]
  },
  {
   "cell_type": "markdown",
   "id": "2df02fe7",
   "metadata": {},
   "source": [
    "#### dyadic `=` (Equal to)"
   ]
  },
  {
   "cell_type": "code",
   "execution_count": 82,
   "id": "f9a1f4c0",
   "metadata": {},
   "outputs": [
    {
     "data": {
      "text/html": [
       "<span style=\"white-space:pre; font-family: monospace\"> \n",
       "1\n",
       " \n",
       "</span>"
      ]
     },
     "execution_count": 82,
     "metadata": {},
     "output_type": "execute_result"
    }
   ],
   "source": [
    "1 = 1"
   ]
  },
  {
   "cell_type": "code",
   "execution_count": 83,
   "id": "e494be50",
   "metadata": {},
   "outputs": [
    {
     "data": {
      "text/html": [
       "<span style=\"white-space:pre; font-family: monospace\">┌→──┐\n",
       "│1 0│\n",
       "└~──┘\n",
       "</span>"
      ]
     },
     "execution_count": 83,
     "metadata": {},
     "output_type": "execute_result"
    }
   ],
   "source": [
    "1 = 1 2"
   ]
  },
  {
   "cell_type": "code",
   "execution_count": 84,
   "id": "d31b5778",
   "metadata": {},
   "outputs": [
    {
     "data": {
      "text/html": [
       "<span style=\"white-space:pre; font-family: monospace\">┌→──┐\n",
       "│1 1│\n",
       "└~──┘\n",
       "</span>"
      ]
     },
     "execution_count": 84,
     "metadata": {},
     "output_type": "execute_result"
    }
   ],
   "source": [
    "1 = 1 1"
   ]
  },
  {
   "cell_type": "code",
   "execution_count": 85,
   "id": "8d9ff9d7",
   "metadata": {},
   "outputs": [
    {
     "data": {
      "text/html": [
       "<span style=\"white-space:pre; font-family: monospace\">┌→──────────┐\n",
       "│0 1 0 1 0 1│\n",
       "└~──────────┘\n",
       "</span>"
      ]
     },
     "execution_count": 85,
     "metadata": {},
     "output_type": "execute_result"
    }
   ],
   "source": [
    "'Banana' = 'aaaaaa'"
   ]
  },
  {
   "cell_type": "code",
   "execution_count": 86,
   "id": "0077e614",
   "metadata": {},
   "outputs": [
    {
     "data": {
      "text/html": [
       "<span style=\"white-space:pre; font-family: monospace\">┌→──────────┐\n",
       "│0 1 0 1 0 1│\n",
       "└~──────────┘\n",
       "</span>"
      ]
     },
     "execution_count": 86,
     "metadata": {},
     "output_type": "execute_result"
    }
   ],
   "source": [
    "'Banana' = 'a'"
   ]
  },
  {
   "cell_type": "code",
   "execution_count": 87,
   "id": "aa551f28",
   "metadata": {},
   "outputs": [
    {
     "data": {
      "text/html": [
       "<span style=\"white-space:pre; font-family: monospace\">┌→──────────────────────────────────────┐\n",
       "│ ┌→──────────┐ ┌→────────┐ ┌→────────┐ │\n",
       "│ │0 1 0 1 0 1│ │0 0 0 0 0│ │0 1 0 0 0│ │\n",
       "│ └~──────────┘ └~────────┘ └~────────┘ │\n",
       "└∊──────────────────────────────────────┘\n",
       "</span>"
      ]
     },
     "execution_count": 87,
     "metadata": {},
     "output_type": "execute_result"
    }
   ],
   "source": [
    "'Banana' 'Apple' 'Candy' = 'a'"
   ]
  },
  {
   "cell_type": "markdown",
   "id": "12b33beb",
   "metadata": {},
   "source": [
    "### `≠` (Not equal)"
   ]
  },
  {
   "cell_type": "markdown",
   "id": "3b0b6323",
   "metadata": {},
   "source": [
    "#### monadic `≠` (Unique Mask)"
   ]
  },
  {
   "cell_type": "code",
   "execution_count": 88,
   "id": "0d283400",
   "metadata": {},
   "outputs": [
    {
     "data": {
      "text/html": [
       "<span style=\"white-space:pre; font-family: monospace\">┌→──────────────┐\n",
       "│1 1 0 0 1 0 1 0│\n",
       "└~──────────────┘\n",
       "</span>"
      ]
     },
     "execution_count": 88,
     "metadata": {},
     "output_type": "execute_result"
    }
   ],
   "source": [
    "≠22 10 22 22 21 10 5 10"
   ]
  },
  {
   "cell_type": "code",
   "execution_count": 89,
   "id": "1b52166b",
   "metadata": {},
   "outputs": [
    {
     "data": {
      "text/html": [
       "<span style=\"white-space:pre; font-family: monospace\">┌→──────────┐\n",
       "│1 1 1 0 0 0│\n",
       "└~──────────┘\n",
       "</span>"
      ]
     },
     "execution_count": 89,
     "metadata": {},
     "output_type": "execute_result"
    }
   ],
   "source": [
    "≠ 'Banana'"
   ]
  },
  {
   "cell_type": "code",
   "execution_count": 90,
   "id": "84ed720d",
   "metadata": {},
   "outputs": [
    {
     "data": {
      "text/html": [
       "<span style=\"white-space:pre; font-family: monospace\">┌→────────────────────┐\n",
       "│1 1 1 0 0 0 0 0 1 0 0│\n",
       "└~────────────────────┘\n",
       "</span>"
      ]
     },
     "execution_count": 90,
     "metadata": {},
     "output_type": "execute_result"
    }
   ],
   "source": [
    "≠ 'Mississippi'"
   ]
  },
  {
   "cell_type": "markdown",
   "id": "ec2830de",
   "metadata": {},
   "source": [
    "### dyadic `≠` (Not Equal To)"
   ]
  },
  {
   "cell_type": "code",
   "execution_count": 91,
   "id": "21b37853",
   "metadata": {},
   "outputs": [
    {
     "data": {
      "text/html": [
       "<span style=\"white-space:pre; font-family: monospace\">┌→────┐\n",
       "│1 0 1│\n",
       "└~────┘\n",
       "</span>"
      ]
     },
     "execution_count": 91,
     "metadata": {},
     "output_type": "execute_result"
    }
   ],
   "source": [
    "1 2 3 ≠ 4 2 ¯1"
   ]
  },
  {
   "cell_type": "code",
   "execution_count": 92,
   "id": "7b1f2164",
   "metadata": {},
   "outputs": [
    {
     "data": {
      "text/html": [
       "<span style=\"white-space:pre; font-family: monospace\"> \n",
       "1\n",
       " \n",
       "</span>"
      ]
     },
     "execution_count": 92,
     "metadata": {},
     "output_type": "execute_result"
    }
   ],
   "source": [
    "7 ≠ '7'"
   ]
  },
  {
   "cell_type": "markdown",
   "id": "2d5dfcd5",
   "metadata": {},
   "source": [
    "### `<` (Less than sign)"
   ]
  },
  {
   "cell_type": "markdown",
   "id": "4277bc63",
   "metadata": {},
   "source": [
    "#### dyadic `<` (Less than)"
   ]
  },
  {
   "cell_type": "code",
   "execution_count": 93,
   "id": "b3c6be5e",
   "metadata": {},
   "outputs": [
    {
     "data": {
      "text/html": [
       "<span style=\"white-space:pre; font-family: monospace\">┌→────┐\n",
       "│1 0 0│\n",
       "└~────┘\n",
       "</span>"
      ]
     },
     "execution_count": 93,
     "metadata": {},
     "output_type": "execute_result"
    }
   ],
   "source": [
    "1 2 3 < 4 2 ¯1"
   ]
  },
  {
   "cell_type": "code",
   "execution_count": 94,
   "id": "61f6c499",
   "metadata": {},
   "outputs": [
    {
     "data": {
      "text/html": [
       "<span style=\"white-space:pre; font-family: monospace\">┌→────┐\n",
       "│1 0 0│\n",
       "└~────┘\n",
       "</span>"
      ]
     },
     "execution_count": 94,
     "metadata": {},
     "output_type": "execute_result"
    }
   ],
   "source": [
    "1 2 3 < 2"
   ]
  },
  {
   "cell_type": "markdown",
   "id": "3bd3a0ea",
   "metadata": {},
   "source": [
    "### `>` (Greater than sign)"
   ]
  },
  {
   "cell_type": "markdown",
   "id": "b487022a",
   "metadata": {},
   "source": [
    "#### dyadic `>` (Greater than)"
   ]
  },
  {
   "cell_type": "code",
   "execution_count": 95,
   "id": "ed7bc01e",
   "metadata": {},
   "outputs": [
    {
     "data": {
      "text/html": [
       "<span style=\"white-space:pre; font-family: monospace\">┌→────┐\n",
       "│0 0 1│\n",
       "└~────┘\n",
       "</span>"
      ]
     },
     "execution_count": 95,
     "metadata": {},
     "output_type": "execute_result"
    }
   ],
   "source": [
    "1 2 3 > 4 2 ¯1"
   ]
  },
  {
   "cell_type": "code",
   "execution_count": 96,
   "id": "b68ae705",
   "metadata": {},
   "outputs": [
    {
     "data": {
      "text/html": [
       "<span style=\"white-space:pre; font-family: monospace\">┌→────┐\n",
       "│0 0 1│\n",
       "└~────┘\n",
       "</span>"
      ]
     },
     "execution_count": 96,
     "metadata": {},
     "output_type": "execute_result"
    }
   ],
   "source": [
    "1 2 3 > 2"
   ]
  },
  {
   "cell_type": "markdown",
   "id": "903c506f",
   "metadata": {},
   "source": [
    "### `≤` (Less than or equal to sign)"
   ]
  },
  {
   "cell_type": "markdown",
   "id": "21b33cbf",
   "metadata": {},
   "source": [
    "#### dyadic `≤` (Less than or equal to)"
   ]
  },
  {
   "cell_type": "code",
   "execution_count": 97,
   "id": "985c9324",
   "metadata": {},
   "outputs": [
    {
     "data": {
      "text/html": [
       "<span style=\"white-space:pre; font-family: monospace\">┌→────┐\n",
       "│1 1 0│\n",
       "└~────┘\n",
       "</span>"
      ]
     },
     "execution_count": 97,
     "metadata": {},
     "output_type": "execute_result"
    }
   ],
   "source": [
    "1 2 3 ≤ 4 2 ¯1"
   ]
  },
  {
   "cell_type": "code",
   "execution_count": 98,
   "id": "ebb03a6a",
   "metadata": {},
   "outputs": [
    {
     "data": {
      "text/html": [
       "<span style=\"white-space:pre; font-family: monospace\">┌→────┐\n",
       "│1 1 0│\n",
       "└~────┘\n",
       "</span>"
      ]
     },
     "execution_count": 98,
     "metadata": {},
     "output_type": "execute_result"
    }
   ],
   "source": [
    "1 2 3 ≤ 2"
   ]
  },
  {
   "cell_type": "markdown",
   "id": "b9409575",
   "metadata": {},
   "source": [
    "### `≥` (Greater than or equal to sign)"
   ]
  },
  {
   "cell_type": "markdown",
   "id": "8dbc6595",
   "metadata": {},
   "source": [
    "#### dyadic `≥` (Greater than or equal to)"
   ]
  },
  {
   "cell_type": "code",
   "execution_count": 99,
   "id": "c2db65ca",
   "metadata": {},
   "outputs": [
    {
     "data": {
      "text/html": [
       "<span style=\"white-space:pre; font-family: monospace\">┌→────┐\n",
       "│0 1 1│\n",
       "└~────┘\n",
       "</span>"
      ]
     },
     "execution_count": 99,
     "metadata": {},
     "output_type": "execute_result"
    }
   ],
   "source": [
    "1 2 3 ≥ 4 2 ¯1"
   ]
  },
  {
   "cell_type": "code",
   "execution_count": 100,
   "id": "3c4673b1",
   "metadata": {},
   "outputs": [
    {
     "data": {
      "text/html": [
       "<span style=\"white-space:pre; font-family: monospace\">┌→────┐\n",
       "│0 1 1│\n",
       "└~────┘\n",
       "</span>"
      ]
     },
     "execution_count": 100,
     "metadata": {},
     "output_type": "execute_result"
    }
   ],
   "source": [
    "1 2 3 ≥ 2"
   ]
  },
  {
   "cell_type": "markdown",
   "id": "af629c33",
   "metadata": {},
   "source": [
    "### `≡` (Equal underbar)"
   ]
  },
  {
   "cell_type": "markdown",
   "id": "04409fab",
   "metadata": {},
   "source": [
    "#### monadic `≡` (Depth)"
   ]
  },
  {
   "cell_type": "markdown",
   "id": "d5e95d1d",
   "metadata": {},
   "source": [
    "#### dyadic `≡` (Match)"
   ]
  },
  {
   "cell_type": "markdown",
   "id": "115221bf",
   "metadata": {},
   "source": [
    "## `` ()"
   ]
  },
  {
   "cell_type": "markdown",
   "id": "62fefc60",
   "metadata": {},
   "source": [
    "### monadic `` ()"
   ]
  },
  {
   "cell_type": "markdown",
   "id": "3ae3f98e",
   "metadata": {},
   "source": [
    "### dyadic `` ()"
   ]
  },
  {
   "cell_type": "code",
   "execution_count": null,
   "id": "2ddcb1ea",
   "metadata": {},
   "outputs": [],
   "source": []
  },
  {
   "cell_type": "markdown",
   "id": "6f0054c9",
   "metadata": {},
   "source": [
    "## Stuff we haven't done yet..."
   ]
  },
  {
   "cell_type": "code",
   "execution_count": 101,
   "id": "dec65a5d",
   "metadata": {},
   "outputs": [
    {
     "data": {
      "text/html": [
       "<span style=\"white-space:pre; font-family: monospace\"> \n",
       "5\n",
       " \n",
       "</span>"
      ]
     },
     "execution_count": 101,
     "metadata": {},
     "output_type": "execute_result"
    }
   ],
   "source": [
    "|3j4"
   ]
  },
  {
   "cell_type": "code",
   "execution_count": 102,
   "id": "98aef0d9",
   "metadata": {},
   "outputs": [
    {
     "data": {
      "text/html": [
       "<span style=\"white-space:pre; font-family: monospace\">                 \n",
       "0.707107J0.707107\n",
       "                 \n",
       "</span>"
      ]
     },
     "execution_count": 102,
     "metadata": {},
     "output_type": "execute_result"
    }
   ],
   "source": [
    "2j2÷(|2j2)"
   ]
  },
  {
   "cell_type": "code",
   "execution_count": 103,
   "id": "d0fbba5a",
   "metadata": {},
   "outputs": [
    {
     "data": {
      "text/html": [
       "<span style=\"white-space:pre; font-family: monospace\">                 \n",
       "0.707107J0.707107\n",
       "                 \n",
       "</span>"
      ]
     },
     "execution_count": 103,
     "metadata": {},
     "output_type": "execute_result"
    }
   ],
   "source": [
    "×2j2"
   ]
  },
  {
   "cell_type": "code",
   "execution_count": null,
   "id": "e9be995d",
   "metadata": {},
   "outputs": [],
   "source": []
  }
 ],
 "metadata": {
  "kernelspec": {
   "display_name": "Dyalog APL",
   "language": "apl",
   "name": "dyalog-kernel"
  },
  "language_info": {
   "file_extension": ".apl",
   "mimetype": "text/apl",
   "name": "APL"
  },
  "toc": {
   "base_numbering": 1,
   "nav_menu": {},
   "number_sections": true,
   "sideBar": true,
   "skip_h1_title": false,
   "title_cell": "Table of Contents",
   "title_sidebar": "Contents",
   "toc_cell": false,
   "toc_position": {},
   "toc_section_display": true,
   "toc_window_display": false
  }
 },
 "nbformat": 4,
 "nbformat_minor": 5
}
