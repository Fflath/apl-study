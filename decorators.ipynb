{
 "cells": [
  {
   "cell_type": "markdown",
   "id": "82d44d43",
   "metadata": {},
   "source": [
    "# Decorators"
   ]
  },
  {
   "cell_type": "code",
   "execution_count": 1,
   "id": "8ae42943",
   "metadata": {},
   "outputs": [
    {
     "data": {
      "text/plain": [
       "4"
      ]
     },
     "execution_count": 1,
     "metadata": {},
     "output_type": "execute_result"
    }
   ],
   "source": [
    "def add1(x): return x+1\n",
    "add1(3)"
   ]
  },
  {
   "cell_type": "markdown",
   "id": "1c1cbc34",
   "metadata": {},
   "source": [
    "A function that returns a function:"
   ]
  },
  {
   "cell_type": "code",
   "execution_count": 2,
   "id": "28e83e74",
   "metadata": {},
   "outputs": [],
   "source": [
    "def logargs(f):\n",
    "    \"Print arguments to `f` before calling it\"\n",
    "    def _inner(*args, **kwargs):\n",
    "        print(f\"Received: {args=}; {kwargs=}\")\n",
    "        return f(*args, **kwargs)\n",
    "    return _inner"
   ]
  },
  {
   "cell_type": "markdown",
   "id": "f140baf4",
   "metadata": {},
   "source": [
    "Using `logargs` to modify a function:"
   ]
  },
  {
   "cell_type": "code",
   "execution_count": 3,
   "id": "9fca0a51",
   "metadata": {},
   "outputs": [
    {
     "name": "stdout",
     "output_type": "stream",
     "text": [
      "Received: args=(3,); kwargs={}\n"
     ]
    },
    {
     "data": {
      "text/plain": [
       "6"
      ]
     },
     "execution_count": 3,
     "metadata": {},
     "output_type": "execute_result"
    }
   ],
   "source": [
    "def _mult2(x): return x*2\n",
    "mult2 = logargs(_mult2)\n",
    "mult2(3)"
   ]
  },
  {
   "cell_type": "markdown",
   "id": "74c1368e",
   "metadata": {},
   "source": [
    "Exactly the same thing but using a decorator as syntax sugar:"
   ]
  },
  {
   "cell_type": "code",
   "execution_count": 4,
   "id": "02759326",
   "metadata": {},
   "outputs": [
    {
     "name": "stdout",
     "output_type": "stream",
     "text": [
      "Received: args=(3,); kwargs={}\n"
     ]
    },
    {
     "data": {
      "text/plain": [
       "6"
      ]
     },
     "execution_count": 4,
     "metadata": {},
     "output_type": "execute_result"
    }
   ],
   "source": [
    "@logargs\n",
    "def mult2(x): return x*2\n",
    "mult2(3)"
   ]
  },
  {
   "cell_type": "markdown",
   "id": "72c5a968",
   "metadata": {},
   "source": [
    "A class that takes a function and returns a function:"
   ]
  },
  {
   "cell_type": "code",
   "execution_count": 6,
   "id": "482f917d",
   "metadata": {},
   "outputs": [],
   "source": [
    "class logargs:\n",
    "    def __init__(self, prefix='Received: '): self.prefix=prefix\n",
    "    def __call__(self, f):        \n",
    "        def _inner(*args, **kwargs):\n",
    "            print(f\"{self.prefix}{args=}; {kwargs=}\")\n",
    "            return f(*args, **kwargs)\n",
    "        return _inner"
   ]
  },
  {
   "cell_type": "markdown",
   "id": "c45d150f",
   "metadata": {},
   "source": [
    "Here's how to use it:"
   ]
  },
  {
   "cell_type": "code",
   "execution_count": 7,
   "id": "8013666a",
   "metadata": {},
   "outputs": [
    {
     "name": "stdout",
     "output_type": "stream",
     "text": [
      "Logging: args=(3,); kwargs={}\n"
     ]
    },
    {
     "data": {
      "text/plain": [
       "4"
      ]
     },
     "execution_count": 7,
     "metadata": {},
     "output_type": "execute_result"
    }
   ],
   "source": [
    "def _add1(x): return x+1\n",
    "o = logargs('Logging: ')\n",
    "add1 = o(_add1)\n",
    "add1(3)"
   ]
  },
  {
   "cell_type": "markdown",
   "id": "f52282a2",
   "metadata": {},
   "source": [
    "Exactly the same thing but using a decorator as syntax sugar:"
   ]
  },
  {
   "cell_type": "code",
   "execution_count": 8,
   "id": "22bd8c62",
   "metadata": {},
   "outputs": [
    {
     "name": "stdout",
     "output_type": "stream",
     "text": [
      "Logging: args=(3,); kwargs={}\n"
     ]
    },
    {
     "data": {
      "text/plain": [
       "4"
      ]
     },
     "execution_count": 8,
     "metadata": {},
     "output_type": "execute_result"
    }
   ],
   "source": [
    "@logargs('Logging: ')\n",
    "def add1(x): return x+1\n",
    "add1(3)"
   ]
  },
  {
   "cell_type": "code",
   "execution_count": null,
   "id": "30a6ba64",
   "metadata": {},
   "outputs": [],
   "source": []
  }
 ],
 "metadata": {
  "kernelspec": {
   "display_name": "Python 3 (ipykernel)",
   "language": "python",
   "name": "python3"
  },
  "language_info": {
   "codemirror_mode": {
    "name": "ipython",
    "version": 3
   },
   "file_extension": ".py",
   "mimetype": "text/x-python",
   "name": "python",
   "nbconvert_exporter": "python",
   "pygments_lexer": "ipython3",
   "version": "3.9.13"
  }
 },
 "nbformat": 4,
 "nbformat_minor": 5
}
